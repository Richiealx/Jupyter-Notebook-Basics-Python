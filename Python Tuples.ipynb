{
 "cells": [
  {
   "cell_type": "markdown",
   "id": "50dd8786",
   "metadata": {},
   "source": [
    "# Tuples"
   ]
  },
  {
   "cell_type": "markdown",
   "id": "349e1fe5",
   "metadata": {},
   "source": [
    "### Tuple is a collection of immutable heterogeneous python objects (ie, elements in tuples cannot be changed)"
   ]
  },
  {
   "cell_type": "markdown",
   "id": "4e3462dd",
   "metadata": {},
   "source": [
    "### x=1,89,A,Hey,0,B\n",
    "#1 has a positional index of 0, 89 is 1, A is 2, Hey is 3, 0 is 4, B is 5\n",
    "\n",
    "#Tuples uses round brackets and not square brackets"
   ]
  },
  {
   "cell_type": "markdown",
   "id": "6c7b9b2c",
   "metadata": {},
   "source": [
    "## Creating tuples"
   ]
  },
  {
   "cell_type": "code",
   "execution_count": 1,
   "id": "1d529784",
   "metadata": {},
   "outputs": [
    {
     "data": {
      "text/plain": [
       "tuple"
      ]
     },
     "execution_count": 1,
     "metadata": {},
     "output_type": "execute_result"
    }
   ],
   "source": [
    "#Create an empty tuple()\n",
    "\n",
    "emp=()\n",
    "\n",
    "type(emp)"
   ]
  },
  {
   "cell_type": "code",
   "execution_count": 2,
   "id": "d49bae47",
   "metadata": {},
   "outputs": [
    {
     "name": "stdout",
     "output_type": "stream",
     "text": [
      "<class 'tuple'>\n"
     ]
    }
   ],
   "source": [
    "print(type(emp))"
   ]
  },
  {
   "cell_type": "code",
   "execution_count": 3,
   "id": "65effc57",
   "metadata": {},
   "outputs": [
    {
     "name": "stdout",
     "output_type": "stream",
     "text": [
      "()\n"
     ]
    }
   ],
   "source": [
    "print(emp)"
   ]
  },
  {
   "cell_type": "markdown",
   "id": "22b7f828",
   "metadata": {},
   "source": [
    "### Creating elements in tuples"
   ]
  },
  {
   "cell_type": "code",
   "execution_count": 4,
   "id": "595e3d53",
   "metadata": {},
   "outputs": [
    {
     "data": {
      "text/plain": [
       "tuple"
      ]
     },
     "execution_count": 4,
     "metadata": {},
     "output_type": "execute_result"
    }
   ],
   "source": [
    "city=\"London\",\n",
    "\n",
    "type(city)"
   ]
  },
  {
   "cell_type": "code",
   "execution_count": 5,
   "id": "01d48bd1",
   "metadata": {},
   "outputs": [
    {
     "name": "stdout",
     "output_type": "stream",
     "text": [
      "('London',)\n"
     ]
    }
   ],
   "source": [
    "print(city)"
   ]
  },
  {
   "cell_type": "code",
   "execution_count": 6,
   "id": "03996b52",
   "metadata": {},
   "outputs": [
    {
     "data": {
      "text/plain": [
       "'London'"
      ]
     },
     "execution_count": 6,
     "metadata": {},
     "output_type": "execute_result"
    }
   ],
   "source": [
    "city=\"London\"\n",
    "city"
   ]
  },
  {
   "cell_type": "code",
   "execution_count": 7,
   "id": "fd6ef7bd",
   "metadata": {},
   "outputs": [
    {
     "name": "stdout",
     "output_type": "stream",
     "text": [
      "London\n"
     ]
    }
   ],
   "source": [
    "print(city)"
   ]
  },
  {
   "cell_type": "markdown",
   "id": "b4f5164f",
   "metadata": {},
   "source": [
    "### Adding more elements to city"
   ]
  },
  {
   "cell_type": "code",
   "execution_count": 2,
   "id": "6f9e8e38",
   "metadata": {},
   "outputs": [
    {
     "data": {
      "text/plain": [
       "('London', 'Manchester', 'Leeds', 'Birmingham')"
      ]
     },
     "execution_count": 2,
     "metadata": {},
     "output_type": "execute_result"
    }
   ],
   "source": [
    "city=(\"London\",\"Manchester\",\"Leeds\",\"Birmingham\")\n",
    "\n",
    "city"
   ]
  },
  {
   "cell_type": "code",
   "execution_count": 3,
   "id": "1d420c4a",
   "metadata": {},
   "outputs": [
    {
     "name": "stdout",
     "output_type": "stream",
     "text": [
      "('London', 'Manchester', 'Leeds', 'Birmingham')\n"
     ]
    }
   ],
   "source": [
    "#OR\n",
    "\n",
    "print(city)"
   ]
  },
  {
   "cell_type": "markdown",
   "id": "29a84a73",
   "metadata": {},
   "source": [
    "### Differences between Lists and Tuples\n",
    "#### 1. Lists are mutable(values can be changed), but Tuples are immutable(values cannot be changed)\n",
    "#### 2. Lists uses square brackets[], whiles Tuples uses round brackets()"
   ]
  },
  {
   "cell_type": "code",
   "execution_count": 4,
   "id": "3bc127a1",
   "metadata": {},
   "outputs": [
    {
     "name": "stdout",
     "output_type": "stream",
     "text": [
      "[1, 2, 3, 4]\n"
     ]
    }
   ],
   "source": [
    "#Appending or adding an element to a list example\n",
    "\n",
    "list1=[1,2,3,4]\n",
    "\n",
    "print(list1)"
   ]
  },
  {
   "cell_type": "code",
   "execution_count": 5,
   "id": "b6fd66a1",
   "metadata": {},
   "outputs": [
    {
     "name": "stdout",
     "output_type": "stream",
     "text": [
      "[1, 2, 3, 4, 5]\n"
     ]
    }
   ],
   "source": [
    "#Append or Add 5 to list1\n",
    "\n",
    "list1.append(5)\n",
    "\n",
    "print(list1)"
   ]
  },
  {
   "cell_type": "code",
   "execution_count": 12,
   "id": "4de9da53",
   "metadata": {},
   "outputs": [],
   "source": [
    "#5 has been successfully added to list becuase it is mutable"
   ]
  },
  {
   "cell_type": "code",
   "execution_count": 6,
   "id": "bed4e69f",
   "metadata": {},
   "outputs": [
    {
     "name": "stdout",
     "output_type": "stream",
     "text": [
      "(1, 2, 3, 4)\n"
     ]
    }
   ],
   "source": [
    "#Appending or adding an element to a tuple example\n",
    "\n",
    "tuple1=(1,2,3,4)\n",
    "\n",
    "print(tuple1)"
   ]
  },
  {
   "cell_type": "code",
   "execution_count": 14,
   "id": "48a8e553",
   "metadata": {},
   "outputs": [
    {
     "ename": "AttributeError",
     "evalue": "'tuple' object has no attribute 'append'",
     "output_type": "error",
     "traceback": [
      "\u001b[1;31m---------------------------------------------------------------------------\u001b[0m",
      "\u001b[1;31mAttributeError\u001b[0m                            Traceback (most recent call last)",
      "Cell \u001b[1;32mIn[14], line 3\u001b[0m\n\u001b[0;32m      1\u001b[0m \u001b[38;5;66;03m#Append or Add 5 to tuple\u001b[39;00m\n\u001b[1;32m----> 3\u001b[0m \u001b[43mtuple1\u001b[49m\u001b[38;5;241;43m.\u001b[39;49m\u001b[43mappend\u001b[49m(\u001b[38;5;241m5\u001b[39m)\n\u001b[0;32m      5\u001b[0m \u001b[38;5;28mprint\u001b[39m(tuple1)\n",
      "\u001b[1;31mAttributeError\u001b[0m: 'tuple' object has no attribute 'append'"
     ]
    }
   ],
   "source": [
    "#Append or Add 5 to tuple\n",
    "\n",
    "tuple1.append(5)\n",
    "\n",
    "print(tuple1)"
   ]
  },
  {
   "cell_type": "code",
   "execution_count": null,
   "id": "a490bd7f",
   "metadata": {},
   "outputs": [],
   "source": [
    "#Appending 5 to the tuple has shown an AttributeError because tuples are immutable(its values cannot be altered)"
   ]
  },
  {
   "cell_type": "markdown",
   "id": "3f6f9965",
   "metadata": {},
   "source": [
    "## Accessing Elements in Tuples"
   ]
  },
  {
   "cell_type": "code",
   "execution_count": 7,
   "id": "cac87c75",
   "metadata": {},
   "outputs": [
    {
     "name": "stdout",
     "output_type": "stream",
     "text": [
      "('London', 'Manchester', 'Leeds', 'Birmingham')\n"
     ]
    }
   ],
   "source": [
    "print(city)"
   ]
  },
  {
   "cell_type": "code",
   "execution_count": 8,
   "id": "7c710e8c",
   "metadata": {},
   "outputs": [
    {
     "data": {
      "text/plain": [
       "'Manchester'"
      ]
     },
     "execution_count": 8,
     "metadata": {},
     "output_type": "execute_result"
    }
   ],
   "source": [
    "#Print Manchester\n",
    "\n",
    "city[1]"
   ]
  },
  {
   "cell_type": "code",
   "execution_count": 9,
   "id": "481de831",
   "metadata": {},
   "outputs": [
    {
     "data": {
      "text/plain": [
       "'Leeds'"
      ]
     },
     "execution_count": 9,
     "metadata": {},
     "output_type": "execute_result"
    }
   ],
   "source": [
    "#Print Leeds\n",
    "\n",
    "city[2]"
   ]
  },
  {
   "cell_type": "code",
   "execution_count": 10,
   "id": "1ae70cbf",
   "metadata": {},
   "outputs": [
    {
     "data": {
      "text/plain": [
       "'Birmingham'"
      ]
     },
     "execution_count": 10,
     "metadata": {},
     "output_type": "execute_result"
    }
   ],
   "source": [
    "#Extract the element at the back of the tuple(ie Birmingham)\n",
    "\n",
    "city[-1]"
   ]
  },
  {
   "cell_type": "markdown",
   "id": "4aa4ac86",
   "metadata": {},
   "source": [
    "## Concatenation of Tuples"
   ]
  },
  {
   "cell_type": "code",
   "execution_count": 11,
   "id": "6db203de",
   "metadata": {},
   "outputs": [
    {
     "name": "stdout",
     "output_type": "stream",
     "text": [
      "('London', 'Manchester', 'Leeds', 'Birmingham')\n"
     ]
    }
   ],
   "source": [
    "print(city)"
   ]
  },
  {
   "cell_type": "code",
   "execution_count": 12,
   "id": "ab32a91b",
   "metadata": {},
   "outputs": [
    {
     "name": "stdout",
     "output_type": "stream",
     "text": [
      "(1, 2, 3, 4)\n"
     ]
    }
   ],
   "source": [
    "num=1,2,3,4\n",
    "\n",
    "print(num)"
   ]
  },
  {
   "cell_type": "code",
   "execution_count": 13,
   "id": "e4c8fd77",
   "metadata": {},
   "outputs": [
    {
     "name": "stdout",
     "output_type": "stream",
     "text": [
      "('London', 'Manchester', 'Leeds', 'Birmingham', 1, 2, 3, 4)\n"
     ]
    }
   ],
   "source": [
    "conc=city+num\n",
    "print(conc)"
   ]
  },
  {
   "cell_type": "markdown",
   "id": "b47e6d4e",
   "metadata": {},
   "source": [
    "## Having a tuple within another tuple"
   ]
  },
  {
   "cell_type": "markdown",
   "id": "ee9576ef",
   "metadata": {},
   "source": [
    "### Nesting"
   ]
  },
  {
   "cell_type": "code",
   "execution_count": 14,
   "id": "5c574c8f",
   "metadata": {},
   "outputs": [],
   "source": [
    "#Nest city into num"
   ]
  },
  {
   "cell_type": "code",
   "execution_count": 15,
   "id": "88b874c1",
   "metadata": {},
   "outputs": [
    {
     "name": "stdout",
     "output_type": "stream",
     "text": [
      "('London', 'Manchester', 'Leeds', 'Birmingham')\n"
     ]
    }
   ],
   "source": [
    "print(city)"
   ]
  },
  {
   "cell_type": "code",
   "execution_count": 16,
   "id": "1b17c6d7",
   "metadata": {},
   "outputs": [
    {
     "name": "stdout",
     "output_type": "stream",
     "text": [
      "(1, 2, 3, 4)\n"
     ]
    }
   ],
   "source": [
    "print(num)"
   ]
  },
  {
   "cell_type": "code",
   "execution_count": 17,
   "id": "05973609",
   "metadata": {},
   "outputs": [
    {
     "name": "stdout",
     "output_type": "stream",
     "text": [
      "(('London', 'Manchester', 'Leeds', 'Birmingham'), (1, 2, 3, 4))\n"
     ]
    }
   ],
   "source": [
    "nest=(city,num)\n",
    "\n",
    "print(nest)\n"
   ]
  },
  {
   "cell_type": "markdown",
   "id": "2a9294a8",
   "metadata": {},
   "source": [
    "### Repetition"
   ]
  },
  {
   "cell_type": "code",
   "execution_count": 18,
   "id": "715c43e5",
   "metadata": {},
   "outputs": [
    {
     "name": "stdout",
     "output_type": "stream",
     "text": [
      "('Chelsea', 'Chelsea', 'Chelsea', 'Chelsea', 'Chelsea')\n"
     ]
    }
   ],
   "source": [
    "#Repeat the football club name \"Chelsea\" for 5 times in a tuple\n",
    "\n",
    "club=(\"Chelsea\",)*5\n",
    "\n",
    "print(club)"
   ]
  },
  {
   "cell_type": "code",
   "execution_count": 19,
   "id": "fdd1b80c",
   "metadata": {},
   "outputs": [
    {
     "name": "stdout",
     "output_type": "stream",
     "text": [
      "('Chelsea', 'Chelsea', 'Chelsea', 'Chelsea', 'Chelsea', 'Chelsea', 'Chelsea', 'Chelsea', 'Chelsea', 'Chelsea')\n"
     ]
    }
   ],
   "source": [
    "# Lets say after printing \"Chelsea\" 5 times in club and now want to print \"Chelsea\" 10 times\n",
    "club=(\"Chelsea\",)\n",
    "\n",
    "print(club*10)"
   ]
  },
  {
   "cell_type": "code",
   "execution_count": 20,
   "id": "726199c9",
   "metadata": {},
   "outputs": [
    {
     "name": "stdout",
     "output_type": "stream",
     "text": [
      "('Chelsea', 'Chelsea', 'Chelsea', 'Chelsea', 'Chelsea', 'Chelsea', 'Chelsea', 'Chelsea', 'Chelsea', 'Chelsea')\n"
     ]
    }
   ],
   "source": [
    "#OR\n",
    "\n",
    "club=(\"Chelsea\",)*10\n",
    "\n",
    "print(club)"
   ]
  },
  {
   "cell_type": "markdown",
   "id": "52b1e621",
   "metadata": {},
   "source": [
    "### Slicing"
   ]
  },
  {
   "cell_type": "code",
   "execution_count": 21,
   "id": "f056dc82",
   "metadata": {},
   "outputs": [
    {
     "name": "stdout",
     "output_type": "stream",
     "text": [
      "(1, 2, 3, 4)\n"
     ]
    }
   ],
   "source": [
    "print(num)"
   ]
  },
  {
   "cell_type": "code",
   "execution_count": 22,
   "id": "b34a32d9",
   "metadata": {},
   "outputs": [
    {
     "data": {
      "text/plain": [
       "(2, 3, 4)"
      ]
     },
     "execution_count": 22,
     "metadata": {},
     "output_type": "execute_result"
    }
   ],
   "source": [
    "#Print all elements from 2 to the end of the tuple\n",
    "\n",
    "num[1:]"
   ]
  },
  {
   "cell_type": "code",
   "execution_count": 23,
   "id": "e55a5433",
   "metadata": {},
   "outputs": [
    {
     "data": {
      "text/plain": [
       "(2, 3, 4)"
      ]
     },
     "execution_count": 23,
     "metadata": {},
     "output_type": "execute_result"
    }
   ],
   "source": [
    "#OR\n",
    "\n",
    "num[1:4]"
   ]
  },
  {
   "cell_type": "code",
   "execution_count": 24,
   "id": "3c1e29e4",
   "metadata": {},
   "outputs": [
    {
     "data": {
      "text/plain": [
       "(4, 3, 2, 1)"
      ]
     },
     "execution_count": 24,
     "metadata": {},
     "output_type": "execute_result"
    }
   ],
   "source": [
    "#Print all elements in Reverse\n",
    "\n",
    "num[::-1]"
   ]
  },
  {
   "cell_type": "markdown",
   "id": "2be6f080",
   "metadata": {},
   "source": [
    "### Unpacking"
   ]
  },
  {
   "cell_type": "code",
   "execution_count": 25,
   "id": "99585737",
   "metadata": {},
   "outputs": [
    {
     "data": {
      "text/plain": [
       "('c', 'h', 'e', 'l', 's', 'e', 'a')"
      ]
     },
     "execution_count": 25,
     "metadata": {},
     "output_type": "execute_result"
    }
   ],
   "source": [
    "#\"Chelsea\"\n",
    "# Print every letter of the string \"Chelsea\" to be an element of a tuple\n",
    "\n",
    "tuple(\"chelsea\")"
   ]
  },
  {
   "cell_type": "markdown",
   "id": "cd14277a",
   "metadata": {},
   "source": [
    "### Putting Tuples  into various variables"
   ]
  },
  {
   "cell_type": "code",
   "execution_count": 26,
   "id": "0848362c",
   "metadata": {},
   "outputs": [
    {
     "name": "stdout",
     "output_type": "stream",
     "text": [
      "(1, 2, 3, 4)\n"
     ]
    }
   ],
   "source": [
    "print(num)\n",
    "\n",
    "#Put (1,2,3,4) tuple into varaibles a,b,c,d\n",
    "\n"
   ]
  },
  {
   "cell_type": "code",
   "execution_count": 27,
   "id": "ca0e77ee",
   "metadata": {},
   "outputs": [
    {
     "name": "stdout",
     "output_type": "stream",
     "text": [
      "1 2 3 4\n"
     ]
    }
   ],
   "source": [
    "#Put (1,2,3,4) tuple into varaibles a,b,c,d\n",
    "\n",
    "a,b,c,d=num\n",
    "\n",
    "print(a,b,c,d)"
   ]
  },
  {
   "cell_type": "code",
   "execution_count": 28,
   "id": "432de430",
   "metadata": {},
   "outputs": [
    {
     "name": "stdout",
     "output_type": "stream",
     "text": [
      "1 [2, 3] 4\n"
     ]
    }
   ],
   "source": [
    "#In case you do not have any clue of how many elements are there in num (1,2,3,4)\n",
    "\n",
    "#Assign the first element(1) to the first varaible(a), and assign the 4th element(4) to the third variable(c)\n",
    "\n",
    "a,*b,c=num\n",
    "\n",
    "print(a,b,c)"
   ]
  },
  {
   "cell_type": "code",
   "execution_count": 29,
   "id": "af717c1c",
   "metadata": {},
   "outputs": [],
   "source": [
    "#In this case, element 1 is assigned to variable a, element 4 is assigned to variable c, \n",
    "# and element 2, and 3 are assigned to varaible b"
   ]
  },
  {
   "cell_type": "markdown",
   "id": "11be7cfe",
   "metadata": {},
   "source": [
    "### Deleting a Tuple"
   ]
  },
  {
   "cell_type": "code",
   "execution_count": 30,
   "id": "80e6731d",
   "metadata": {},
   "outputs": [
    {
     "name": "stdout",
     "output_type": "stream",
     "text": [
      "(1, 2, 3, 4)\n"
     ]
    }
   ],
   "source": [
    "tuple1=(1,2,3,4)\n",
    "\n",
    "print(tuple1)"
   ]
  },
  {
   "cell_type": "code",
   "execution_count": 31,
   "id": "b01e7788",
   "metadata": {},
   "outputs": [
    {
     "ename": "NameError",
     "evalue": "name 'tuple1' is not defined",
     "output_type": "error",
     "traceback": [
      "\u001b[1;31m---------------------------------------------------------------------------\u001b[0m",
      "\u001b[1;31mNameError\u001b[0m                                 Traceback (most recent call last)",
      "Cell \u001b[1;32mIn[31], line 5\u001b[0m\n\u001b[0;32m      1\u001b[0m \u001b[38;5;66;03m#Delete tuple1\u001b[39;00m\n\u001b[0;32m      3\u001b[0m \u001b[38;5;28;01mdel\u001b[39;00m tuple1\n\u001b[1;32m----> 5\u001b[0m \u001b[38;5;28mprint\u001b[39m(\u001b[43mtuple1\u001b[49m)\n",
      "\u001b[1;31mNameError\u001b[0m: name 'tuple1' is not defined"
     ]
    }
   ],
   "source": [
    "#Delete tuple1\n",
    "\n",
    "del tuple1\n",
    "\n",
    "print(tuple1)"
   ]
  },
  {
   "cell_type": "code",
   "execution_count": null,
   "id": "8aebd758",
   "metadata": {},
   "outputs": [],
   "source": [
    "#An error has been generated because tuple1 has been deleted and you cannot print it again"
   ]
  },
  {
   "cell_type": "markdown",
   "id": "fb58e3e5",
   "metadata": {},
   "source": [
    "## Build-in Functions in Tuples"
   ]
  },
  {
   "cell_type": "code",
   "execution_count": 32,
   "id": "2cacd1ca",
   "metadata": {},
   "outputs": [
    {
     "name": "stdout",
     "output_type": "stream",
     "text": [
      "(3, 5, 2, 2, 2, 2, 6, 5, 8)\n"
     ]
    }
   ],
   "source": [
    "num1=(3,5,2,2,2,2,6,5,8)\n",
    "\n",
    "print(num1)"
   ]
  },
  {
   "cell_type": "markdown",
   "id": "3388e064",
   "metadata": {},
   "source": [
    "###  Count()"
   ]
  },
  {
   "cell_type": "code",
   "execution_count": 33,
   "id": "7274833b",
   "metadata": {},
   "outputs": [
    {
     "data": {
      "text/plain": [
       "4"
      ]
     },
     "execution_count": 33,
     "metadata": {},
     "output_type": "execute_result"
    }
   ],
   "source": [
    "#Count the total number of 2s in num1\n",
    "\n",
    "num1.count(2)\n"
   ]
  },
  {
   "cell_type": "code",
   "execution_count": 34,
   "id": "170c90b7",
   "metadata": {},
   "outputs": [
    {
     "data": {
      "text/plain": [
       "2"
      ]
     },
     "execution_count": 34,
     "metadata": {},
     "output_type": "execute_result"
    }
   ],
   "source": [
    "#Count the total number of 5s in num1\n",
    "\n",
    "num1.count(5)"
   ]
  },
  {
   "cell_type": "markdown",
   "id": "ec2a5bbc",
   "metadata": {},
   "source": [
    "### Sum()"
   ]
  },
  {
   "cell_type": "code",
   "execution_count": 35,
   "id": "32bbc3fd",
   "metadata": {},
   "outputs": [
    {
     "name": "stdout",
     "output_type": "stream",
     "text": [
      "(3, 5, 2, 2, 2, 2, 6, 5, 8)\n"
     ]
    }
   ],
   "source": [
    "#Finding the total number of all elements in tuple\n",
    "\n",
    "print(num1)"
   ]
  },
  {
   "cell_type": "code",
   "execution_count": 36,
   "id": "245a9e66",
   "metadata": {},
   "outputs": [
    {
     "data": {
      "text/plain": [
       "35"
      ]
     },
     "execution_count": 36,
     "metadata": {},
     "output_type": "execute_result"
    }
   ],
   "source": [
    "#Find the sum total of all elements in tuple\n",
    "\n",
    "sum(num1)"
   ]
  },
  {
   "cell_type": "markdown",
   "id": "282b36b6",
   "metadata": {},
   "source": [
    "### len()"
   ]
  },
  {
   "cell_type": "code",
   "execution_count": 37,
   "id": "58b79e38",
   "metadata": {},
   "outputs": [
    {
     "name": "stdout",
     "output_type": "stream",
     "text": [
      "(3, 5, 2, 2, 2, 2, 6, 5, 8)\n"
     ]
    }
   ],
   "source": [
    "# Finding the number of elements in tuple\n",
    "\n",
    "print(num1)"
   ]
  },
  {
   "cell_type": "code",
   "execution_count": 38,
   "id": "56ea1409",
   "metadata": {},
   "outputs": [
    {
     "data": {
      "text/plain": [
       "9"
      ]
     },
     "execution_count": 38,
     "metadata": {},
     "output_type": "execute_result"
    }
   ],
   "source": [
    "#Find the number of elements in tuple\n",
    "\n",
    "len(num1)"
   ]
  },
  {
   "cell_type": "markdown",
   "id": "d81cf7d3",
   "metadata": {},
   "source": [
    "### max()"
   ]
  },
  {
   "cell_type": "code",
   "execution_count": 39,
   "id": "b5d4f811",
   "metadata": {},
   "outputs": [
    {
     "name": "stdout",
     "output_type": "stream",
     "text": [
      "(3, 5, 2, 2, 2, 2, 6, 5, 8)\n"
     ]
    }
   ],
   "source": [
    "# Finding the maximum(biggest) number in tuples\n",
    "\n",
    "print(num1)"
   ]
  },
  {
   "cell_type": "code",
   "execution_count": 40,
   "id": "14a521a7",
   "metadata": {},
   "outputs": [
    {
     "data": {
      "text/plain": [
       "8"
      ]
     },
     "execution_count": 40,
     "metadata": {},
     "output_type": "execute_result"
    }
   ],
   "source": [
    " #Find the maximum(biggest) number in tuples(num1)\n",
    "\n",
    "max(num1)"
   ]
  },
  {
   "cell_type": "markdown",
   "id": "f69d9998",
   "metadata": {},
   "source": [
    "### min()"
   ]
  },
  {
   "cell_type": "code",
   "execution_count": 41,
   "id": "e8fd6c73",
   "metadata": {},
   "outputs": [
    {
     "name": "stdout",
     "output_type": "stream",
     "text": [
      "(3, 5, 2, 2, 2, 2, 6, 5, 8)\n"
     ]
    }
   ],
   "source": [
    "# Finding the minimum(smallest) number in tuples\n",
    "\n",
    "print(num1)"
   ]
  },
  {
   "cell_type": "code",
   "execution_count": 42,
   "id": "7d7556d0",
   "metadata": {},
   "outputs": [
    {
     "data": {
      "text/plain": [
       "2"
      ]
     },
     "execution_count": 42,
     "metadata": {},
     "output_type": "execute_result"
    }
   ],
   "source": [
    "#Finding the minimum(smallest) number in num1\n",
    "\n",
    "min(num1)"
   ]
  },
  {
   "cell_type": "markdown",
   "id": "a809937f",
   "metadata": {},
   "source": [
    "## Converting list to tuple"
   ]
  },
  {
   "cell_type": "markdown",
   "id": "3d6e82f7",
   "metadata": {},
   "source": [
    "### Note: We can convert list to tuple but we cannot convert tuple to lisr"
   ]
  },
  {
   "cell_type": "code",
   "execution_count": 43,
   "id": "d795a0f0",
   "metadata": {},
   "outputs": [
    {
     "name": "stdout",
     "output_type": "stream",
     "text": [
      "[1, 2, 3, 4]\n"
     ]
    }
   ],
   "source": [
    "list=[1,2,3,4]\n",
    "print(list)"
   ]
  },
  {
   "cell_type": "code",
   "execution_count": 44,
   "id": "f4fe44b5",
   "metadata": {},
   "outputs": [
    {
     "name": "stdout",
     "output_type": "stream",
     "text": [
      "<class 'list'>\n"
     ]
    }
   ],
   "source": [
    "print(type(list))"
   ]
  },
  {
   "cell_type": "code",
   "execution_count": 45,
   "id": "ba7b6a2c",
   "metadata": {},
   "outputs": [
    {
     "name": "stdout",
     "output_type": "stream",
     "text": [
      "(1, 2, 3, 4)\n"
     ]
    }
   ],
   "source": [
    "# Convert list=[1,2,3,4] into a tuple\n",
    "\n",
    "tpl=tuple(list)\n",
    "           \n",
    "print(tpl)           "
   ]
  },
  {
   "cell_type": "code",
   "execution_count": 46,
   "id": "82acf108",
   "metadata": {},
   "outputs": [
    {
     "data": {
      "text/plain": [
       "tuple"
      ]
     },
     "execution_count": 46,
     "metadata": {},
     "output_type": "execute_result"
    }
   ],
   "source": [
    "type(tpl)"
   ]
  },
  {
   "cell_type": "markdown",
   "id": "143c7dbd",
   "metadata": {},
   "source": [
    "### Nesting tuples in a list"
   ]
  },
  {
   "cell_type": "code",
   "execution_count": 47,
   "id": "39e2426c",
   "metadata": {},
   "outputs": [
    {
     "name": "stdout",
     "output_type": "stream",
     "text": [
      "[(1, 2, 3), (4, 5, 6)]\n"
     ]
    }
   ],
   "source": [
    "#We can put tuple in a list\n",
    "\n",
    "list=[(1,2,3),(4,5,6)]\n",
    "\n",
    "print(list)"
   ]
  },
  {
   "cell_type": "markdown",
   "id": "0393cec0",
   "metadata": {},
   "source": [
    "#### Even though tuples are immutable(cannot be changed), it can be changed when nested in a list"
   ]
  },
  {
   "cell_type": "code",
   "execution_count": 48,
   "id": "bc38462b",
   "metadata": {},
   "outputs": [
    {
     "name": "stdout",
     "output_type": "stream",
     "text": [
      "[(1, 2, 3), (4, 5, 6)]\n"
     ]
    }
   ],
   "source": [
    "# For example,lets add \"Tuple\", \"Inside\", \"List\" to the tuple nested inside a list\n",
    "\n",
    "print(list)"
   ]
  },
  {
   "cell_type": "markdown",
   "id": "3569bcdf",
   "metadata": {},
   "source": [
    "### Append(): Adding elements to tuples nested in a list"
   ]
  },
  {
   "cell_type": "code",
   "execution_count": 49,
   "id": "6de29b64",
   "metadata": {},
   "outputs": [
    {
     "name": "stdout",
     "output_type": "stream",
     "text": [
      "[(1, 2, 3), (4, 5, 6), ('Tuple', 'Inside', 'List')]\n"
     ]
    }
   ],
   "source": [
    "#add \"Tuple\", \"Inside\", \"List\" to the tuple nested inside a list\n",
    "\n",
    "list.append((\"Tuple\", \"Inside\", \"List\"))\n",
    "\n",
    "print(list)"
   ]
  },
  {
   "cell_type": "markdown",
   "id": "b83e926c",
   "metadata": {},
   "source": [
    "### Remove(): Removing elements from list"
   ]
  },
  {
   "cell_type": "code",
   "execution_count": 50,
   "id": "def18391",
   "metadata": {},
   "outputs": [
    {
     "name": "stdout",
     "output_type": "stream",
     "text": [
      "[(4, 5, 6), ('Tuple', 'Inside', 'List')]\n"
     ]
    }
   ],
   "source": [
    "#Remove (1,2,3) from the tuples nested in the list\n",
    "\n",
    "list.remove((1,2,3))\n",
    "\n",
    "print(list)"
   ]
  },
  {
   "cell_type": "markdown",
   "id": "7148316b",
   "metadata": {},
   "source": [
    "## Nesting lists in tuples\n",
    "### We cannot add elements into tuples, but we can modify the list within the tuple\n",
    "### We can add elements to the first element(with positional index 0) and the second element( with positional index 1) of the tuple"
   ]
  },
  {
   "cell_type": "code",
   "execution_count": 51,
   "id": "e8a7b1a2",
   "metadata": {},
   "outputs": [],
   "source": [
    "tpl=(['a','b','c'],['d','e','f'])\n",
    "\n",
    "#['a','b','c'] has a positional index of 0(First Element)\n",
    "\n",
    "#['d','e','f'] has a positional index of 1(Second Element)"
   ]
  },
  {
   "cell_type": "code",
   "execution_count": 52,
   "id": "7da3fd59",
   "metadata": {},
   "outputs": [
    {
     "name": "stdout",
     "output_type": "stream",
     "text": [
      "(['a', 'b', 'c'], ['d', 'e', 'f'])\n"
     ]
    }
   ],
   "source": [
    "print(tpl)"
   ]
  },
  {
   "cell_type": "code",
   "execution_count": 53,
   "id": "01743604",
   "metadata": {},
   "outputs": [
    {
     "name": "stdout",
     "output_type": "stream",
     "text": [
      "(['a', 'b', 'c', 'z'], ['d', 'e', 'f'])\n"
     ]
    }
   ],
   "source": [
    "#Add 'z' to the first element\n",
    "\n",
    "tpl[0].append('z')\n",
    "\n",
    "print(tpl)"
   ]
  },
  {
   "cell_type": "code",
   "execution_count": 54,
   "id": "eb1f6f1d",
   "metadata": {},
   "outputs": [
    {
     "name": "stdout",
     "output_type": "stream",
     "text": [
      "(['a', 'b', 'c', 'z'], ['d', 'e', 'f', 'g'])\n"
     ]
    }
   ],
   "source": [
    "#Add 'g' to the second element\n",
    "\n",
    "tpl[1].append('g')\n",
    "\n",
    "print(tpl)"
   ]
  },
  {
   "cell_type": "code",
   "execution_count": 55,
   "id": "05ab35fa",
   "metadata": {},
   "outputs": [
    {
     "name": "stdout",
     "output_type": "stream",
     "text": [
      "(['a', 'b', 'c'], ['d', 'e', 'f', 'g'])\n"
     ]
    }
   ],
   "source": [
    "#Remove 'z' from the first element in list nested in tuple\n",
    "\n",
    "tpl[0].remove('z')\n",
    "\n",
    "print(tpl)"
   ]
  },
  {
   "cell_type": "code",
   "execution_count": 56,
   "id": "1e1147c9",
   "metadata": {},
   "outputs": [
    {
     "name": "stdout",
     "output_type": "stream",
     "text": [
      "(['a', 'b', 'c'], ['d', 'e', 'f'])\n"
     ]
    }
   ],
   "source": [
    "#Remove 'g' from the second element in list nested in tuple\n",
    "\n",
    "tpl[1].remove('g')\n",
    "\n",
    "print(tpl)\n"
   ]
  },
  {
   "cell_type": "code",
   "execution_count": 31,
   "id": "c0be9a55",
   "metadata": {},
   "outputs": [
    {
     "ename": "AttributeError",
     "evalue": "'tuple' object has no attribute 'append'",
     "output_type": "error",
     "traceback": [
      "\u001b[1;31m---------------------------------------------------------------------------\u001b[0m",
      "\u001b[1;31mAttributeError\u001b[0m                            Traceback (most recent call last)",
      "Cell \u001b[1;32mIn[31], line 5\u001b[0m\n\u001b[0;32m      1\u001b[0m \u001b[38;5;66;03m#Lets try to add elements to the entire tuple to see if it works\u001b[39;00m\n\u001b[0;32m      2\u001b[0m \n\u001b[0;32m      3\u001b[0m \u001b[38;5;66;03m#Add (['x','y','z']) to the entire tuple\u001b[39;00m\n\u001b[1;32m----> 5\u001b[0m \u001b[43mtpl\u001b[49m\u001b[38;5;241;43m.\u001b[39;49m\u001b[43mappend\u001b[49m([\u001b[38;5;124m'\u001b[39m\u001b[38;5;124mx\u001b[39m\u001b[38;5;124m'\u001b[39m,\u001b[38;5;124m'\u001b[39m\u001b[38;5;124my\u001b[39m\u001b[38;5;124m'\u001b[39m,\u001b[38;5;124m'\u001b[39m\u001b[38;5;124mz\u001b[39m\u001b[38;5;124m'\u001b[39m])\n\u001b[0;32m      7\u001b[0m \u001b[38;5;28mprint\u001b[39m(tpl)\n",
      "\u001b[1;31mAttributeError\u001b[0m: 'tuple' object has no attribute 'append'"
     ]
    }
   ],
   "source": [
    "#Lets try to add elements to the entire tuple to see if it works\n",
    "\n",
    "#Add (['x','y','z']) to the entire tuple\n",
    "\n",
    "tpl.append(['x','y','z'])\n",
    "\n",
    "print(tpl)"
   ]
  },
  {
   "cell_type": "code",
   "execution_count": 32,
   "id": "15e2c0fc",
   "metadata": {},
   "outputs": [],
   "source": [
    "#The results has displayed an AttributeError, which means that we cannot change or add elements to the entire tuple"
   ]
  },
  {
   "cell_type": "code",
   "execution_count": null,
   "id": "ff5bb2d7",
   "metadata": {},
   "outputs": [],
   "source": []
  }
 ],
 "metadata": {
  "kernelspec": {
   "display_name": "Python 3 (ipykernel)",
   "language": "python",
   "name": "python3"
  },
  "language_info": {
   "codemirror_mode": {
    "name": "ipython",
    "version": 3
   },
   "file_extension": ".py",
   "mimetype": "text/x-python",
   "name": "python",
   "nbconvert_exporter": "python",
   "pygments_lexer": "ipython3",
   "version": "3.10.9"
  }
 },
 "nbformat": 4,
 "nbformat_minor": 5
}
