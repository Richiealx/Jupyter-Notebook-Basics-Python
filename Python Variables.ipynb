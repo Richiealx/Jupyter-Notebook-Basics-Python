{
 "cells": [
  {
   "cell_type": "markdown",
   "id": "1dc18cf1",
   "metadata": {},
   "source": [
    "# Datatypes: Numbers(Integers, Float), String"
   ]
  },
  {
   "cell_type": "markdown",
   "id": "93bb8402",
   "metadata": {},
   "source": [
    "## Integers(int)\n",
    "\n"
   ]
  },
  {
   "cell_type": "code",
   "execution_count": 1,
   "id": "6de7ece7",
   "metadata": {},
   "outputs": [
    {
     "data": {
      "text/plain": [
       "int"
      ]
     },
     "execution_count": 1,
     "metadata": {},
     "output_type": "execute_result"
    }
   ],
   "source": [
    "x=100\n",
    "type(x)"
   ]
  },
  {
   "cell_type": "code",
   "execution_count": 6,
   "id": "38180735",
   "metadata": {},
   "outputs": [
    {
     "data": {
      "text/plain": [
       "int"
      ]
     },
     "execution_count": 6,
     "metadata": {},
     "output_type": "execute_result"
    }
   ],
   "source": [
    "x=654*6734\n",
    "type(x)"
   ]
  },
  {
   "cell_type": "code",
   "execution_count": 7,
   "id": "bb5666c8",
   "metadata": {},
   "outputs": [
    {
     "name": "stdout",
     "output_type": "stream",
     "text": [
      "4404036\n"
     ]
    }
   ],
   "source": [
    "print(x)"
   ]
  },
  {
   "cell_type": "markdown",
   "id": "12e6a61e",
   "metadata": {},
   "source": [
    "## Float"
   ]
  },
  {
   "cell_type": "code",
   "execution_count": 9,
   "id": "77950ef2",
   "metadata": {},
   "outputs": [
    {
     "name": "stdout",
     "output_type": "stream",
     "text": [
      "3.14\n"
     ]
    }
   ],
   "source": [
    "x=3.14\n",
    "print(x)"
   ]
  },
  {
   "cell_type": "code",
   "execution_count": 10,
   "id": "d7692b2c",
   "metadata": {
    "scrolled": true
   },
   "outputs": [
    {
     "data": {
      "text/plain": [
       "float"
      ]
     },
     "execution_count": 10,
     "metadata": {},
     "output_type": "execute_result"
    }
   ],
   "source": [
    "type(x)"
   ]
  },
  {
   "cell_type": "markdown",
   "id": "0e80ec97",
   "metadata": {},
   "source": [
    "# Strings"
   ]
  },
  {
   "cell_type": "code",
   "execution_count": 1,
   "id": "c3f5308f",
   "metadata": {},
   "outputs": [
    {
     "name": "stdout",
     "output_type": "stream",
     "text": [
      "Chelasea Football Club\n"
     ]
    }
   ],
   "source": [
    "x=\"Chelasea Football Club\"\n",
    "print(x)"
   ]
  },
  {
   "cell_type": "code",
   "execution_count": 13,
   "id": "126999d7",
   "metadata": {},
   "outputs": [
    {
     "data": {
      "text/plain": [
       "str"
      ]
     },
     "execution_count": 13,
     "metadata": {},
     "output_type": "execute_result"
    }
   ],
   "source": [
    "type(x)"
   ]
  },
  {
   "cell_type": "markdown",
   "id": "07d1ffb3",
   "metadata": {},
   "source": [
    "# List: Collection of values"
   ]
  },
  {
   "cell_type": "code",
   "execution_count": 14,
   "id": "b4f863e7",
   "metadata": {},
   "outputs": [],
   "source": [
    "x=[14,67,9]"
   ]
  },
  {
   "cell_type": "code",
   "execution_count": 15,
   "id": "e6269432",
   "metadata": {},
   "outputs": [
    {
     "name": "stdout",
     "output_type": "stream",
     "text": [
      "[14, 67, 9]\n"
     ]
    }
   ],
   "source": [
    "print(x)"
   ]
  },
  {
   "cell_type": "code",
   "execution_count": 16,
   "id": "89bbdfa2",
   "metadata": {},
   "outputs": [
    {
     "data": {
      "text/plain": [
       "list"
      ]
     },
     "execution_count": 16,
     "metadata": {},
     "output_type": "execute_result"
    }
   ],
   "source": [
    "type(x)"
   ]
  },
  {
   "cell_type": "markdown",
   "id": "8357047f",
   "metadata": {},
   "source": [
    "### Extracting single values from multiple values in List"
   ]
  },
  {
   "cell_type": "code",
   "execution_count": 17,
   "id": "20551bb5",
   "metadata": {},
   "outputs": [],
   "source": [
    "#[14,67,9] all have positional index. \n",
    "#For instance, 14 has a positional index of 0, 67 has a positional index of 1, and 9 has a positional index of 2. \n",
    "# We are going to extract 14 from all the values"
   ]
  },
  {
   "cell_type": "code",
   "execution_count": 18,
   "id": "6d4585ad",
   "metadata": {},
   "outputs": [
    {
     "name": "stdout",
     "output_type": "stream",
     "text": [
      "14\n"
     ]
    }
   ],
   "source": [
    "print(x[0])"
   ]
  },
  {
   "cell_type": "code",
   "execution_count": 19,
   "id": "517d44c8",
   "metadata": {},
   "outputs": [],
   "source": [
    "# We are going to extract 67 from all the values"
   ]
  },
  {
   "cell_type": "code",
   "execution_count": 20,
   "id": "f997da01",
   "metadata": {},
   "outputs": [
    {
     "name": "stdout",
     "output_type": "stream",
     "text": [
      "67\n"
     ]
    }
   ],
   "source": [
    "print(x[1])"
   ]
  },
  {
   "cell_type": "code",
   "execution_count": 21,
   "id": "b6fe9fa7",
   "metadata": {},
   "outputs": [],
   "source": [
    "# We are going to extract 9 from all the values"
   ]
  },
  {
   "cell_type": "code",
   "execution_count": 22,
   "id": "1bbf1f64",
   "metadata": {},
   "outputs": [
    {
     "name": "stdout",
     "output_type": "stream",
     "text": [
      "9\n"
     ]
    }
   ],
   "source": [
    "print(x[2])"
   ]
  },
  {
   "cell_type": "code",
   "execution_count": 29,
   "id": "0cb1bfde",
   "metadata": {},
   "outputs": [],
   "source": [
    "#Changing values which is stored within the list with a different number"
   ]
  },
  {
   "cell_type": "code",
   "execution_count": 23,
   "id": "81173fb1",
   "metadata": {
    "collapsed": true
   },
   "outputs": [],
   "source": [
    "x[2]=67"
   ]
  },
  {
   "cell_type": "code",
   "execution_count": 24,
   "id": "37738ec9",
   "metadata": {},
   "outputs": [
    {
     "name": "stdout",
     "output_type": "stream",
     "text": [
      "[14, 67, 67]\n"
     ]
    }
   ],
   "source": [
    "print(x)"
   ]
  },
  {
   "cell_type": "code",
   "execution_count": 25,
   "id": "68f5c5df",
   "metadata": {},
   "outputs": [],
   "source": [
    "x[2]=14"
   ]
  },
  {
   "cell_type": "code",
   "execution_count": 26,
   "id": "9e447118",
   "metadata": {},
   "outputs": [
    {
     "name": "stdout",
     "output_type": "stream",
     "text": [
      "[14, 67, 14]\n"
     ]
    }
   ],
   "source": [
    "print(x)"
   ]
  },
  {
   "cell_type": "code",
   "execution_count": 27,
   "id": "caa2d5ed",
   "metadata": {},
   "outputs": [],
   "source": [
    "x[0]=9"
   ]
  },
  {
   "cell_type": "code",
   "execution_count": 28,
   "id": "b6aafa5f",
   "metadata": {},
   "outputs": [
    {
     "name": "stdout",
     "output_type": "stream",
     "text": [
      "[9, 67, 14]\n"
     ]
    }
   ],
   "source": [
    "print(x)"
   ]
  },
  {
   "cell_type": "markdown",
   "id": "6ee3636b",
   "metadata": {},
   "source": [
    "# Tuples"
   ]
  },
  {
   "cell_type": "code",
   "execution_count": null,
   "id": "72fb24a1",
   "metadata": {},
   "outputs": [],
   "source": [
    "#Tuples involves storing multiple values in a single variable\n",
    "#In tuple, we use round brackets() instead of square brackets[]"
   ]
  },
  {
   "cell_type": "code",
   "execution_count": 30,
   "id": "867002ea",
   "metadata": {},
   "outputs": [],
   "source": [
    "x=(4,8,6)"
   ]
  },
  {
   "cell_type": "code",
   "execution_count": 31,
   "id": "990392ab",
   "metadata": {},
   "outputs": [
    {
     "name": "stdout",
     "output_type": "stream",
     "text": [
      "(4, 8, 6)\n"
     ]
    }
   ],
   "source": [
    "print(x)"
   ]
  },
  {
   "cell_type": "code",
   "execution_count": 32,
   "id": "67fd8fb7",
   "metadata": {},
   "outputs": [
    {
     "data": {
      "text/plain": [
       "tuple"
      ]
     },
     "execution_count": 32,
     "metadata": {},
     "output_type": "execute_result"
    }
   ],
   "source": [
    "type(x)"
   ]
  },
  {
   "cell_type": "code",
   "execution_count": 33,
   "id": "e24d8d11",
   "metadata": {},
   "outputs": [],
   "source": [
    "#The main difference between tuple and list is that tuple is immutable. This means you cannot change the values in tuples.\n",
    "#Trying to chang values in tuples"
   ]
  },
  {
   "cell_type": "code",
   "execution_count": 39,
   "id": "ace3c06d",
   "metadata": {},
   "outputs": [
    {
     "ename": "TypeError",
     "evalue": "'tuple' object does not support item assignment",
     "output_type": "error",
     "traceback": [
      "\u001b[1;31m---------------------------------------------------------------------------\u001b[0m",
      "\u001b[1;31mTypeError\u001b[0m                                 Traceback (most recent call last)",
      "Cell \u001b[1;32mIn[39], line 1\u001b[0m\n\u001b[1;32m----> 1\u001b[0m x[\u001b[38;5;241m2\u001b[39m]\u001b[38;5;241m=\u001b[39m\u001b[38;5;241m5\u001b[39m\n",
      "\u001b[1;31mTypeError\u001b[0m: 'tuple' object does not support item assignment"
     ]
    }
   ],
   "source": [
    "x[2]=5"
   ]
  },
  {
   "cell_type": "code",
   "execution_count": 40,
   "id": "eb53136f",
   "metadata": {},
   "outputs": [],
   "source": [
    "#The error displayed above indicate that changing values in tuples is impossible"
   ]
  },
  {
   "cell_type": "markdown",
   "id": "8b493576",
   "metadata": {},
   "source": [
    "### File Pointers"
   ]
  },
  {
   "cell_type": "code",
   "execution_count": 42,
   "id": "f698d65d",
   "metadata": {},
   "outputs": [],
   "source": [
    "#When dealing with files, we need a variable which point to a particular file. These are called 'File Pointers'\n",
    "#Advantage of using file pointers:\n",
    "#When you need to perform various operations on a file, instead of providing a file pathname everytime, can just assign a variable and use that variable."
   ]
  },
  {
   "cell_type": "code",
   "execution_count": 48,
   "id": "3de55b17",
   "metadata": {},
   "outputs": [],
   "source": [
    "x=open('Class_Work_LearnerNotebook.ipynb','r')"
   ]
  },
  {
   "cell_type": "code",
   "execution_count": 46,
   "id": "234b1a84",
   "metadata": {},
   "outputs": [
    {
     "data": {
      "text/plain": [
       "_io.TextIOWrapper"
      ]
     },
     "execution_count": 46,
     "metadata": {},
     "output_type": "execute_result"
    }
   ],
   "source": [
    "type(x)"
   ]
  },
  {
   "cell_type": "code",
   "execution_count": 47,
   "id": "d3793b7c",
   "metadata": {},
   "outputs": [
    {
     "name": "stdout",
     "output_type": "stream",
     "text": [
      "<_io.TextIOWrapper name='Class_Work_LearnerNotebook.ipynb' mode='r' encoding='cp1252'>\n"
     ]
    }
   ],
   "source": [
    "print(x)"
   ]
  },
  {
   "cell_type": "code",
   "execution_count": null,
   "id": "a21cbc4b",
   "metadata": {},
   "outputs": [],
   "source": [
    "#Instead of having variables like;\n",
    "x=5\n",
    "y=10\n",
    "z=7,\n",
    "#We can easily write a simple code to accommodate all the varables\n",
    "(x,y,z)=5,10,7"
   ]
  },
  {
   "cell_type": "code",
   "execution_count": 57,
   "id": "79c78e47",
   "metadata": {},
   "outputs": [],
   "source": [
    "(x,y,z)=5,10,7"
   ]
  },
  {
   "cell_type": "code",
   "execution_count": 58,
   "id": "54f5fb56",
   "metadata": {},
   "outputs": [
    {
     "name": "stdout",
     "output_type": "stream",
     "text": [
      "5 10 7\n"
     ]
    }
   ],
   "source": [
    "print(x,y,z)"
   ]
  },
  {
   "cell_type": "code",
   "execution_count": 59,
   "id": "28c9527f",
   "metadata": {},
   "outputs": [],
   "source": [
    "#If you want the results to display vertically,"
   ]
  },
  {
   "cell_type": "code",
   "execution_count": 60,
   "id": "da2a0c82",
   "metadata": {},
   "outputs": [
    {
     "name": "stdout",
     "output_type": "stream",
     "text": [
      "5\n",
      "10\n",
      "7\n"
     ]
    }
   ],
   "source": [
    "print(x)\n",
    "print(y)\n",
    "print(z)"
   ]
  },
  {
   "cell_type": "markdown",
   "id": "e19c34fd",
   "metadata": {},
   "source": [
    "### Assigning the same number to multiple variables"
   ]
  },
  {
   "cell_type": "code",
   "execution_count": 61,
   "id": "6072c903",
   "metadata": {},
   "outputs": [],
   "source": [
    "#For example, if you want to assign the value 1 to variables x,y, and z\n",
    "ie, x=1\n",
    "    y=1\n",
    "    z=1\n",
    "#We simply write the following code\n",
    "(x,y,z)=1,1,1"
   ]
  },
  {
   "cell_type": "code",
   "execution_count": 64,
   "id": "9ff0895c",
   "metadata": {},
   "outputs": [
    {
     "name": "stdout",
     "output_type": "stream",
     "text": [
      "1 1 1\n"
     ]
    }
   ],
   "source": [
    "(x,y,z)=1,1,1\n",
    "print(x,y,z)"
   ]
  },
  {
   "cell_type": "code",
   "execution_count": 65,
   "id": "c1dbd971",
   "metadata": {},
   "outputs": [],
   "source": [
    "#We can make the code even more simplier by writing the following code\n",
    "x=y=z=1"
   ]
  },
  {
   "cell_type": "code",
   "execution_count": 66,
   "id": "089ef978",
   "metadata": {},
   "outputs": [],
   "source": [
    "x=y=z=1"
   ]
  },
  {
   "cell_type": "code",
   "execution_count": 67,
   "id": "7f040105",
   "metadata": {},
   "outputs": [
    {
     "name": "stdout",
     "output_type": "stream",
     "text": [
      "1 1 1\n"
     ]
    }
   ],
   "source": [
    "print(x,y,z)"
   ]
  },
  {
   "cell_type": "markdown",
   "id": "03be6df6",
   "metadata": {},
   "source": [
    "# Rules for Naming Variables"
   ]
  },
  {
   "cell_type": "markdown",
   "id": "f6c52e94",
   "metadata": {},
   "source": [
    "### Rule 1:Variable name must begin with an alphabet or an underscore(_)\n",
    "### Example, abc, _abc"
   ]
  },
  {
   "cell_type": "code",
   "execution_count": 72,
   "id": "8659711c",
   "metadata": {},
   "outputs": [],
   "source": [
    "abc=100"
   ]
  },
  {
   "cell_type": "code",
   "execution_count": 73,
   "id": "50b6baeb",
   "metadata": {},
   "outputs": [],
   "source": [
    "_abc=100"
   ]
  },
  {
   "cell_type": "markdown",
   "id": "b8fd4e84",
   "metadata": {},
   "source": [
    "### Rule 2: The first character can be followed by alphabets, numbers or underscore(_)\n",
    "### Example, a100=100, _a984_=100"
   ]
  },
  {
   "cell_type": "code",
   "execution_count": 74,
   "id": "4cc2cffc",
   "metadata": {},
   "outputs": [],
   "source": [
    "a100=100"
   ]
  },
  {
   "cell_type": "code",
   "execution_count": 75,
   "id": "36b41d1a",
   "metadata": {},
   "outputs": [],
   "source": [
    "_a984_=100"
   ]
  },
  {
   "cell_type": "code",
   "execution_count": 76,
   "id": "abc7c20a",
   "metadata": {},
   "outputs": [],
   "source": [
    "# However, Adding a special charater to the variable will not work\n",
    "#Example a9874$=100"
   ]
  },
  {
   "cell_type": "code",
   "execution_count": 77,
   "id": "22ff55e8",
   "metadata": {},
   "outputs": [
    {
     "ename": "SyntaxError",
     "evalue": "invalid syntax (197789960.py, line 1)",
     "output_type": "error",
     "traceback": [
      "\u001b[1;36m  Cell \u001b[1;32mIn[77], line 1\u001b[1;36m\u001b[0m\n\u001b[1;33m    a9874$=100\u001b[0m\n\u001b[1;37m         ^\u001b[0m\n\u001b[1;31mSyntaxError\u001b[0m\u001b[1;31m:\u001b[0m invalid syntax\n"
     ]
    }
   ],
   "source": [
    "a9874$=100"
   ]
  },
  {
   "cell_type": "code",
   "execution_count": 78,
   "id": "1d22af3d",
   "metadata": {},
   "outputs": [],
   "source": [
    "#We can see that there is an invalid syntax because the special character($) does not meet the condition for naming variables"
   ]
  },
  {
   "cell_type": "markdown",
   "id": "16ae94c0",
   "metadata": {},
   "source": [
    "### Rule 3: Variable names are case sensitive. \n",
    "### Capital letters and small letters are treated differently\n",
    "### Example, a100 is different from A100\n"
   ]
  },
  {
   "cell_type": "code",
   "execution_count": 80,
   "id": "7912b583",
   "metadata": {},
   "outputs": [],
   "source": [
    "a100=100\n",
    "A100=200"
   ]
  },
  {
   "cell_type": "code",
   "execution_count": 81,
   "id": "e2614264",
   "metadata": {},
   "outputs": [
    {
     "name": "stdout",
     "output_type": "stream",
     "text": [
      "100 200\n"
     ]
    }
   ],
   "source": [
    "print(a100,A100)"
   ]
  },
  {
   "cell_type": "markdown",
   "id": "f73d9f25",
   "metadata": {},
   "source": [
    "### Rule 4: Reserved words cannot be used as a variable names\n",
    "### Example of reserved words include break, class, and try"
   ]
  },
  {
   "cell_type": "code",
   "execution_count": 83,
   "id": "4cb0910d",
   "metadata": {},
   "outputs": [
    {
     "ename": "SyntaxError",
     "evalue": "invalid syntax (1859277663.py, line 1)",
     "output_type": "error",
     "traceback": [
      "\u001b[1;36m  Cell \u001b[1;32mIn[83], line 1\u001b[1;36m\u001b[0m\n\u001b[1;33m    break=100\u001b[0m\n\u001b[1;37m         ^\u001b[0m\n\u001b[1;31mSyntaxError\u001b[0m\u001b[1;31m:\u001b[0m invalid syntax\n"
     ]
    }
   ],
   "source": [
    "break=100"
   ]
  },
  {
   "cell_type": "code",
   "execution_count": 84,
   "id": "c2dda2d0",
   "metadata": {},
   "outputs": [],
   "source": [
    "#As shown above, break has displayed as invalid syntax because it cannot be used as a variable"
   ]
  },
  {
   "cell_type": "code",
   "execution_count": 87,
   "id": "2472a80e",
   "metadata": {},
   "outputs": [
    {
     "ename": "SyntaxError",
     "evalue": "invalid syntax (1940133025.py, line 1)",
     "output_type": "error",
     "traceback": [
      "\u001b[1;36m  Cell \u001b[1;32mIn[87], line 1\u001b[1;36m\u001b[0m\n\u001b[1;33m    class=8\u001b[0m\n\u001b[1;37m         ^\u001b[0m\n\u001b[1;31mSyntaxError\u001b[0m\u001b[1;31m:\u001b[0m invalid syntax\n"
     ]
    }
   ],
   "source": [
    "class=8"
   ]
  },
  {
   "cell_type": "code",
   "execution_count": 86,
   "id": "ce16d17e",
   "metadata": {},
   "outputs": [],
   "source": [
    "#class is shown as invalid syntax because it can be used as a variable in python"
   ]
  },
  {
   "cell_type": "code",
   "execution_count": 88,
   "id": "e2cbd6fb",
   "metadata": {},
   "outputs": [
    {
     "ename": "SyntaxError",
     "evalue": "expected ':' (160854034.py, line 1)",
     "output_type": "error",
     "traceback": [
      "\u001b[1;36m  Cell \u001b[1;32mIn[88], line 1\u001b[1;36m\u001b[0m\n\u001b[1;33m    try=87\u001b[0m\n\u001b[1;37m       ^\u001b[0m\n\u001b[1;31mSyntaxError\u001b[0m\u001b[1;31m:\u001b[0m expected ':'\n"
     ]
    }
   ],
   "source": [
    "try=87"
   ]
  },
  {
   "cell_type": "code",
   "execution_count": 90,
   "id": "e6e2bdf5",
   "metadata": {},
   "outputs": [],
   "source": [
    "# try is shown as invalid because it cannot be used as a variable in python"
   ]
  },
  {
   "cell_type": "markdown",
   "id": "a42fa4cb",
   "metadata": {},
   "source": [
    "# Performing Arithmetic Operations on Variables(Int, Float)"
   ]
  },
  {
   "cell_type": "markdown",
   "id": "0f4ca8ff",
   "metadata": {},
   "source": [
    "### Addition"
   ]
  },
  {
   "cell_type": "code",
   "execution_count": 91,
   "id": "2f705ebb",
   "metadata": {},
   "outputs": [],
   "source": [
    "x=20\n",
    "y=10"
   ]
  },
  {
   "cell_type": "code",
   "execution_count": 92,
   "id": "940f0be7",
   "metadata": {},
   "outputs": [
    {
     "name": "stdout",
     "output_type": "stream",
     "text": [
      "30\n"
     ]
    }
   ],
   "source": [
    "result=x+y\n",
    "print(result)"
   ]
  },
  {
   "cell_type": "markdown",
   "id": "1002e4cd",
   "metadata": {},
   "source": [
    "### Substraction"
   ]
  },
  {
   "cell_type": "code",
   "execution_count": 93,
   "id": "61de88fd",
   "metadata": {},
   "outputs": [],
   "source": [
    "x=20\n",
    "y=10"
   ]
  },
  {
   "cell_type": "code",
   "execution_count": 94,
   "id": "c94f271e",
   "metadata": {},
   "outputs": [
    {
     "name": "stdout",
     "output_type": "stream",
     "text": [
      "10\n"
     ]
    }
   ],
   "source": [
    "result=x-y\n",
    "print(result)"
   ]
  },
  {
   "cell_type": "markdown",
   "id": "61a4ae01",
   "metadata": {},
   "source": [
    "### Multiplication"
   ]
  },
  {
   "cell_type": "code",
   "execution_count": 95,
   "id": "f5177656",
   "metadata": {},
   "outputs": [],
   "source": [
    "x=20\n",
    "y=10"
   ]
  },
  {
   "cell_type": "code",
   "execution_count": 96,
   "id": "b7ed96d2",
   "metadata": {},
   "outputs": [
    {
     "name": "stdout",
     "output_type": "stream",
     "text": [
      "200\n"
     ]
    }
   ],
   "source": [
    "result=x*y\n",
    "print(result)"
   ]
  },
  {
   "cell_type": "markdown",
   "id": "65651c93",
   "metadata": {},
   "source": [
    "### Division"
   ]
  },
  {
   "cell_type": "code",
   "execution_count": 97,
   "id": "e0e56167",
   "metadata": {},
   "outputs": [],
   "source": [
    "x=20\n",
    "y=10"
   ]
  },
  {
   "cell_type": "code",
   "execution_count": 98,
   "id": "c3895f70",
   "metadata": {},
   "outputs": [
    {
     "name": "stdout",
     "output_type": "stream",
     "text": [
      "2.0\n"
     ]
    }
   ],
   "source": [
    "result=x/y\n",
    "print(result)"
   ]
  },
  {
   "cell_type": "code",
   "execution_count": 99,
   "id": "ee95a840",
   "metadata": {},
   "outputs": [],
   "source": [
    "#If you do not want your answer to appear as a float, ie 2.0, use a double slash(//)"
   ]
  },
  {
   "cell_type": "code",
   "execution_count": 100,
   "id": "0beaed21",
   "metadata": {},
   "outputs": [],
   "source": [
    "x=20\n",
    "y=10"
   ]
  },
  {
   "cell_type": "code",
   "execution_count": 101,
   "id": "e2bac536",
   "metadata": {},
   "outputs": [
    {
     "name": "stdout",
     "output_type": "stream",
     "text": [
      "2\n"
     ]
    }
   ],
   "source": [
    "result=x//y\n",
    "print(result)"
   ]
  },
  {
   "cell_type": "code",
   "execution_count": 102,
   "id": "9123af2d",
   "metadata": {},
   "outputs": [],
   "source": [
    "#If your division for numbers that does not divide each other completely\n",
    "#For example, if we have result=2/3"
   ]
  },
  {
   "cell_type": "code",
   "execution_count": 103,
   "id": "a5309734",
   "metadata": {},
   "outputs": [],
   "source": [
    "result=2/3"
   ]
  },
  {
   "cell_type": "code",
   "execution_count": 104,
   "id": "3a7a9020",
   "metadata": {},
   "outputs": [
    {
     "name": "stdout",
     "output_type": "stream",
     "text": [
      "0.6666666666666666\n"
     ]
    }
   ],
   "source": [
    "print(result)"
   ]
  },
  {
   "cell_type": "code",
   "execution_count": 105,
   "id": "8a28194a",
   "metadata": {},
   "outputs": [],
   "source": [
    "#The result is 0.6666666666666. If we do not want the result to show as a float, we use double slash //"
   ]
  },
  {
   "cell_type": "code",
   "execution_count": 106,
   "id": "189761ca",
   "metadata": {},
   "outputs": [
    {
     "name": "stdout",
     "output_type": "stream",
     "text": [
      "0\n"
     ]
    }
   ],
   "source": [
    "result=2//3\n",
    "print(result)"
   ]
  },
  {
   "cell_type": "markdown",
   "id": "214bf94b",
   "metadata": {},
   "source": [
    "### Finding the Remainder of Arithmetic Operation"
   ]
  },
  {
   "cell_type": "code",
   "execution_count": 107,
   "id": "e53abfef",
   "metadata": {},
   "outputs": [],
   "source": [
    "#To find the remainder, we use the percentage(%) sign"
   ]
  },
  {
   "cell_type": "code",
   "execution_count": 108,
   "id": "19ec014f",
   "metadata": {},
   "outputs": [],
   "source": [
    "x=20\n",
    "y=10"
   ]
  },
  {
   "cell_type": "code",
   "execution_count": 109,
   "id": "4d6263f5",
   "metadata": {},
   "outputs": [
    {
     "name": "stdout",
     "output_type": "stream",
     "text": [
      "0\n"
     ]
    }
   ],
   "source": [
    "result=x%y\n",
    "print(result)"
   ]
  },
  {
   "cell_type": "code",
   "execution_count": 110,
   "id": "7944be2d",
   "metadata": {},
   "outputs": [],
   "source": [
    "x=3\n",
    "y=2"
   ]
  },
  {
   "cell_type": "code",
   "execution_count": 111,
   "id": "029cfb94",
   "metadata": {},
   "outputs": [
    {
     "name": "stdout",
     "output_type": "stream",
     "text": [
      "1\n"
     ]
    }
   ],
   "source": [
    "result=x%y\n",
    "print(result)"
   ]
  },
  {
   "cell_type": "markdown",
   "id": "c9d57689",
   "metadata": {},
   "source": [
    "### Performing Arithmetic Operation on Floating point numbers"
   ]
  },
  {
   "cell_type": "code",
   "execution_count": 112,
   "id": "55057482",
   "metadata": {},
   "outputs": [],
   "source": [
    "x=3.14\n",
    "y=5.7"
   ]
  },
  {
   "cell_type": "code",
   "execution_count": 113,
   "id": "96cfc1ed",
   "metadata": {},
   "outputs": [
    {
     "name": "stdout",
     "output_type": "stream",
     "text": [
      "0.5508771929824562\n"
     ]
    }
   ],
   "source": [
    "result=x/y\n",
    "print(result)"
   ]
  },
  {
   "cell_type": "code",
   "execution_count": 114,
   "id": "22630e35",
   "metadata": {},
   "outputs": [],
   "source": [
    "x=3.14\n",
    "y=5.7"
   ]
  },
  {
   "cell_type": "code",
   "execution_count": 115,
   "id": "f1ac789b",
   "metadata": {},
   "outputs": [
    {
     "name": "stdout",
     "output_type": "stream",
     "text": [
      "8.84\n"
     ]
    }
   ],
   "source": [
    "result=x+y\n",
    "print(result)"
   ]
  },
  {
   "cell_type": "code",
   "execution_count": 116,
   "id": "1e9aac40",
   "metadata": {},
   "outputs": [],
   "source": [
    "x=3.14\n",
    "y=5.7"
   ]
  },
  {
   "cell_type": "code",
   "execution_count": 117,
   "id": "76de27c2",
   "metadata": {},
   "outputs": [
    {
     "name": "stdout",
     "output_type": "stream",
     "text": [
      "17.898\n"
     ]
    }
   ],
   "source": [
    "result=x*y\n",
    "print(result)"
   ]
  },
  {
   "cell_type": "code",
   "execution_count": 118,
   "id": "a692ef5f",
   "metadata": {},
   "outputs": [],
   "source": [
    "x=3.14\n",
    "y=5.7"
   ]
  },
  {
   "cell_type": "code",
   "execution_count": 120,
   "id": "6cc09e0d",
   "metadata": {},
   "outputs": [
    {
     "name": "stdout",
     "output_type": "stream",
     "text": [
      "2.56\n"
     ]
    }
   ],
   "source": [
    "result=y-x\n",
    "print(result)"
   ]
  },
  {
   "cell_type": "markdown",
   "id": "e50ec027",
   "metadata": {},
   "source": [
    "# Performing Arithmetic Operations on  String Variables"
   ]
  },
  {
   "cell_type": "markdown",
   "id": "00951662",
   "metadata": {},
   "source": [
    "### Extracting single variable character from a String"
   ]
  },
  {
   "cell_type": "code",
   "execution_count": 121,
   "id": "06ca85ca",
   "metadata": {},
   "outputs": [],
   "source": [
    "#Var=\"Simplilearn\"\n",
    "#In case we want find the positional index of each of the letters\n",
    "#ie S=0, i=1, m=2, p=3, l=4, i=5, l=6, e=7, a=8, r=9, n-10\n",
    "#To print letter S"
   ]
  },
  {
   "cell_type": "code",
   "execution_count": 122,
   "id": "55e9d75a",
   "metadata": {},
   "outputs": [
    {
     "name": "stdout",
     "output_type": "stream",
     "text": [
      "S\n"
     ]
    }
   ],
   "source": [
    "var=\"Simplilearn\"\n",
    "print(var[0])"
   ]
  },
  {
   "cell_type": "code",
   "execution_count": 123,
   "id": "4aa75f28",
   "metadata": {},
   "outputs": [],
   "source": [
    "#Print letter p"
   ]
  },
  {
   "cell_type": "code",
   "execution_count": 124,
   "id": "02eb67ed",
   "metadata": {},
   "outputs": [
    {
     "name": "stdout",
     "output_type": "stream",
     "text": [
      "p\n"
     ]
    }
   ],
   "source": [
    "var=\"Simplilearn\"\n",
    "print(var[3])"
   ]
  },
  {
   "cell_type": "code",
   "execution_count": 125,
   "id": "5b097f21",
   "metadata": {},
   "outputs": [],
   "source": [
    "#Print letter r"
   ]
  },
  {
   "cell_type": "code",
   "execution_count": 126,
   "id": "425e34db",
   "metadata": {},
   "outputs": [
    {
     "name": "stdout",
     "output_type": "stream",
     "text": [
      "r\n"
     ]
    }
   ],
   "source": [
    "var=\"Simplilearn\"\n",
    "print(var[9])"
   ]
  },
  {
   "cell_type": "markdown",
   "id": "4aa48221",
   "metadata": {},
   "source": [
    "### Extracting multiple variable character from a String"
   ]
  },
  {
   "cell_type": "code",
   "execution_count": 127,
   "id": "b2ac8c3a",
   "metadata": {},
   "outputs": [],
   "source": [
    "var=\"Simplilearn\""
   ]
  },
  {
   "cell_type": "code",
   "execution_count": 128,
   "id": "295bf89e",
   "metadata": {},
   "outputs": [],
   "source": [
    "# Extracting the first 3 characters"
   ]
  },
  {
   "cell_type": "code",
   "execution_count": 129,
   "id": "8afa3b97",
   "metadata": {},
   "outputs": [
    {
     "name": "stdout",
     "output_type": "stream",
     "text": [
      "Sim\n"
     ]
    }
   ],
   "source": [
    "print(var[0:3])"
   ]
  },
  {
   "cell_type": "code",
   "execution_count": 130,
   "id": "6afb9641",
   "metadata": {},
   "outputs": [],
   "source": [
    "# Extracting the first 5 characters"
   ]
  },
  {
   "cell_type": "code",
   "execution_count": 132,
   "id": "f5940098",
   "metadata": {},
   "outputs": [
    {
     "name": "stdout",
     "output_type": "stream",
     "text": [
      "Simpli\n"
     ]
    }
   ],
   "source": [
    "print(var[0:6])"
   ]
  },
  {
   "cell_type": "code",
   "execution_count": 133,
   "id": "86447edb",
   "metadata": {},
   "outputs": [],
   "source": [
    "#We can also print the first varaible without entering 0 for [0:6] ie [:6]"
   ]
  },
  {
   "cell_type": "code",
   "execution_count": 134,
   "id": "173aad2d",
   "metadata": {},
   "outputs": [
    {
     "name": "stdout",
     "output_type": "stream",
     "text": [
      "Simpli\n"
     ]
    }
   ],
   "source": [
    "print(var[:6])"
   ]
  },
  {
   "cell_type": "code",
   "execution_count": 135,
   "id": "29961511",
   "metadata": {},
   "outputs": [],
   "source": [
    "#Printing from the 6th character to the end"
   ]
  },
  {
   "cell_type": "code",
   "execution_count": 136,
   "id": "85b95a8d",
   "metadata": {},
   "outputs": [
    {
     "name": "stdout",
     "output_type": "stream",
     "text": [
      "learn\n"
     ]
    }
   ],
   "source": [
    "print(var[6:])"
   ]
  },
  {
   "cell_type": "code",
   "execution_count": 137,
   "id": "68bd4355",
   "metadata": {},
   "outputs": [],
   "source": [
    "#OR without including the end"
   ]
  },
  {
   "cell_type": "code",
   "execution_count": 138,
   "id": "545a9741",
   "metadata": {},
   "outputs": [
    {
     "name": "stdout",
     "output_type": "stream",
     "text": [
      "lear\n"
     ]
    }
   ],
   "source": [
    "print(var[6:10])"
   ]
  },
  {
   "cell_type": "code",
   "execution_count": 139,
   "id": "3bc1fd46",
   "metadata": {},
   "outputs": [],
   "source": [
    "#Assuming we want to print all characters"
   ]
  },
  {
   "cell_type": "code",
   "execution_count": 140,
   "id": "7a69fef3",
   "metadata": {},
   "outputs": [
    {
     "name": "stdout",
     "output_type": "stream",
     "text": [
      "Simplilearn\n"
     ]
    }
   ],
   "source": [
    "print(var[0:])"
   ]
  },
  {
   "cell_type": "code",
   "execution_count": 4,
   "id": "fe730ad7",
   "metadata": {},
   "outputs": [],
   "source": [
    "var=\"Chelsea Football Club\""
   ]
  },
  {
   "cell_type": "code",
   "execution_count": 5,
   "id": "6de9556f",
   "metadata": {},
   "outputs": [],
   "source": [
    "#Extracting character from a string"
   ]
  },
  {
   "cell_type": "code",
   "execution_count": 7,
   "id": "f0ac5d53",
   "metadata": {},
   "outputs": [
    {
     "name": "stdout",
     "output_type": "stream",
     "text": [
      "C\n"
     ]
    }
   ],
   "source": [
    "print(var[0])"
   ]
  },
  {
   "cell_type": "code",
   "execution_count": 9,
   "id": "f3c76a7d",
   "metadata": {},
   "outputs": [],
   "source": [
    "#Print variable F"
   ]
  },
  {
   "cell_type": "code",
   "execution_count": 10,
   "id": "e8a1d057",
   "metadata": {},
   "outputs": [
    {
     "name": "stdout",
     "output_type": "stream",
     "text": [
      "F\n"
     ]
    }
   ],
   "source": [
    "print(var[8])"
   ]
  },
  {
   "cell_type": "code",
   "execution_count": null,
   "id": "4b3be372",
   "metadata": {},
   "outputs": [],
   "source": [
    "#Print variable u"
   ]
  },
  {
   "cell_type": "code",
   "execution_count": 11,
   "id": "93052bb2",
   "metadata": {},
   "outputs": [
    {
     "name": "stdout",
     "output_type": "stream",
     "text": [
      "u\n"
     ]
    }
   ],
   "source": [
    "print(var[19])"
   ]
  },
  {
   "cell_type": "code",
   "execution_count": 13,
   "id": "3ce61a80",
   "metadata": {},
   "outputs": [],
   "source": [
    "#Extracting multiple variables from strings"
   ]
  },
  {
   "cell_type": "code",
   "execution_count": 14,
   "id": "81f37f5b",
   "metadata": {},
   "outputs": [],
   "source": [
    "#Print Chelsea"
   ]
  },
  {
   "cell_type": "code",
   "execution_count": 15,
   "id": "572d48f6",
   "metadata": {},
   "outputs": [
    {
     "name": "stdout",
     "output_type": "stream",
     "text": [
      "Chelsea\n"
     ]
    }
   ],
   "source": [
    "print(var[0:7])"
   ]
  },
  {
   "cell_type": "code",
   "execution_count": 16,
   "id": "24f957f4",
   "metadata": {},
   "outputs": [],
   "source": [
    "#Print Football"
   ]
  },
  {
   "cell_type": "code",
   "execution_count": 18,
   "id": "b9e27db7",
   "metadata": {},
   "outputs": [
    {
     "name": "stdout",
     "output_type": "stream",
     "text": [
      "Football\n"
     ]
    }
   ],
   "source": [
    "print(var[8:16])"
   ]
  },
  {
   "cell_type": "code",
   "execution_count": 19,
   "id": "77c5c919",
   "metadata": {},
   "outputs": [],
   "source": [
    "#Print Club"
   ]
  },
  {
   "cell_type": "code",
   "execution_count": 23,
   "id": "ff4387e8",
   "metadata": {},
   "outputs": [
    {
     "name": "stdout",
     "output_type": "stream",
     "text": [
      "Club\n"
     ]
    }
   ],
   "source": [
    "print(var[17:21])"
   ]
  },
  {
   "cell_type": "code",
   "execution_count": 24,
   "id": "d811d197",
   "metadata": {},
   "outputs": [],
   "source": [
    "#Print Chelsea Fottball Club"
   ]
  },
  {
   "cell_type": "code",
   "execution_count": 25,
   "id": "3897ce43",
   "metadata": {},
   "outputs": [
    {
     "name": "stdout",
     "output_type": "stream",
     "text": [
      "Chelsea Football Club\n"
     ]
    }
   ],
   "source": [
    "print(var[0:])"
   ]
  },
  {
   "cell_type": "markdown",
   "id": "230a84c6",
   "metadata": {},
   "source": [
    "### Finding the Length of the String"
   ]
  },
  {
   "cell_type": "code",
   "execution_count": 28,
   "id": "0daf658e",
   "metadata": {},
   "outputs": [],
   "source": [
    "#Find the length of Chelsea Football Club"
   ]
  },
  {
   "cell_type": "code",
   "execution_count": 26,
   "id": "795b87f1",
   "metadata": {},
   "outputs": [],
   "source": [
    "var=\"Chelsea Football Club\""
   ]
  },
  {
   "cell_type": "code",
   "execution_count": 27,
   "id": "fb996ce2",
   "metadata": {},
   "outputs": [
    {
     "data": {
      "text/plain": [
       "21"
      ]
     },
     "execution_count": 27,
     "metadata": {},
     "output_type": "execute_result"
    }
   ],
   "source": [
    "len(var)"
   ]
  },
  {
   "cell_type": "code",
   "execution_count": 29,
   "id": "fdcd8284",
   "metadata": {},
   "outputs": [],
   "source": [
    "#Find the length of Simplilearn"
   ]
  },
  {
   "cell_type": "code",
   "execution_count": 143,
   "id": "59ee2e98",
   "metadata": {},
   "outputs": [],
   "source": [
    "var=\"Simlpilearn\""
   ]
  },
  {
   "cell_type": "code",
   "execution_count": 144,
   "id": "bf992a2f",
   "metadata": {},
   "outputs": [
    {
     "data": {
      "text/plain": [
       "11"
      ]
     },
     "execution_count": 144,
     "metadata": {},
     "output_type": "execute_result"
    }
   ],
   "source": [
    "len(var)"
   ]
  },
  {
   "cell_type": "code",
   "execution_count": null,
   "id": "17ea491c",
   "metadata": {},
   "outputs": [],
   "source": []
  }
 ],
 "metadata": {
  "kernelspec": {
   "display_name": "Python 3 (ipykernel)",
   "language": "python",
   "name": "python3"
  },
  "language_info": {
   "codemirror_mode": {
    "name": "ipython",
    "version": 3
   },
   "file_extension": ".py",
   "mimetype": "text/x-python",
   "name": "python",
   "nbconvert_exporter": "python",
   "pygments_lexer": "ipython3",
   "version": "3.10.9"
  }
 },
 "nbformat": 4,
 "nbformat_minor": 5
}
