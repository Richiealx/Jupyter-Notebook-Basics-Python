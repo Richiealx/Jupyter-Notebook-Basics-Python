{
 "cells": [
  {
   "cell_type": "markdown",
   "id": "9e6e1a74",
   "metadata": {},
   "source": [
    "# Scikit Learn Library"
   ]
  },
  {
   "cell_type": "code",
   "execution_count": 1,
   "id": "6b837e16",
   "metadata": {},
   "outputs": [],
   "source": [
    "# What is Scikit-Learn?\n",
    "\n",
    "# Scikit-Learn is a simple and efficient tool for data mining and data analysis.\n",
    "\n",
    "# Scikit-Learn is built on Numpy, Scipy, and Matplotlib \n",
    "\n",
    "# Scikit-Learn is an open-source, commercially usable licence."
   ]
  },
  {
   "cell_type": "code",
   "execution_count": 2,
   "id": "20997b4f",
   "metadata": {},
   "outputs": [],
   "source": [
    "# importing the required packages\n",
    "\n",
    "import pandas as pd\n",
    "import seaborn as sns\n",
    "import matplotlib.pyplot as plt\n",
    "from sklearn.ensemble import RandomForestClassifier\n",
    "from sklearn.svm import SVC\n",
    "from sklearn import svm\n",
    "from sklearn.neural_network import MLPClassifier\n",
    "\n",
    "# from sklearn.linear_model import SGDClassifier\n",
    "from sklearn.metrics import confusion_matrix, classification_report\n",
    "from sklearn.preprocessing import StandardScaler, LabelEncoder\n",
    "from sklearn.model_selection import train_test_split\n",
    "%matplotlib inline\n",
    "\n",
    "\n",
    "#Note:The StandardScaler is the most commmonly used preprocessor"
   ]
  },
  {
   "cell_type": "code",
   "execution_count": 3,
   "id": "8de5ccfe",
   "metadata": {},
   "outputs": [],
   "source": [
    "# Now all the imported packages have been saved"
   ]
  },
  {
   "cell_type": "code",
   "execution_count": 4,
   "id": "3bcff0f7",
   "metadata": {},
   "outputs": [
    {
     "name": "stdout",
     "output_type": "stream",
     "text": [
      "C:\\Users\\richa\n"
     ]
    }
   ],
   "source": [
    "# Working Directory: You can check the current working directory to ensure it's the one you expect by using:\n",
    "\n",
    "import os\n",
    "print(os.getcwd())\n"
   ]
  },
  {
   "cell_type": "code",
   "execution_count": 5,
   "id": "ace2861b",
   "metadata": {},
   "outputs": [],
   "source": [
    "# If the directory is not correct, you can change it using:\n",
    "\n",
    "os.chdir('C:\\Learning Python on Simplilearn')\n"
   ]
  },
  {
   "cell_type": "code",
   "execution_count": 6,
   "id": "745fcc09",
   "metadata": {},
   "outputs": [
    {
     "name": "stdout",
     "output_type": "stream",
     "text": [
      "C:\\Learning Python on Simplilearn\n"
     ]
    }
   ],
   "source": [
    "import os\n",
    "print(os.getcwd())"
   ]
  },
  {
   "cell_type": "code",
   "execution_count": 7,
   "id": "feab5cbc",
   "metadata": {},
   "outputs": [],
   "source": [
    "# Loading Dataset\n",
    "\n",
    "wine = pd.read_csv('winequality-red.csv', sep=';')\n"
   ]
  },
  {
   "cell_type": "code",
   "execution_count": 8,
   "id": "5613ad1d",
   "metadata": {},
   "outputs": [
    {
     "data": {
      "text/html": [
       "<div>\n",
       "<style scoped>\n",
       "    .dataframe tbody tr th:only-of-type {\n",
       "        vertical-align: middle;\n",
       "    }\n",
       "\n",
       "    .dataframe tbody tr th {\n",
       "        vertical-align: top;\n",
       "    }\n",
       "\n",
       "    .dataframe thead th {\n",
       "        text-align: right;\n",
       "    }\n",
       "</style>\n",
       "<table border=\"1\" class=\"dataframe\">\n",
       "  <thead>\n",
       "    <tr style=\"text-align: right;\">\n",
       "      <th></th>\n",
       "      <th>fixed acidity</th>\n",
       "      <th>volatile acidity</th>\n",
       "      <th>citric acid</th>\n",
       "      <th>residual sugar</th>\n",
       "      <th>chlorides</th>\n",
       "      <th>free sulfur dioxide</th>\n",
       "      <th>total sulfur dioxide</th>\n",
       "      <th>density</th>\n",
       "      <th>pH</th>\n",
       "      <th>sulphates</th>\n",
       "      <th>alcohol</th>\n",
       "      <th>quality</th>\n",
       "    </tr>\n",
       "  </thead>\n",
       "  <tbody>\n",
       "    <tr>\n",
       "      <th>0</th>\n",
       "      <td>7.4</td>\n",
       "      <td>0.70</td>\n",
       "      <td>0.00</td>\n",
       "      <td>1.9</td>\n",
       "      <td>0.076</td>\n",
       "      <td>11.0</td>\n",
       "      <td>34.0</td>\n",
       "      <td>0.9978</td>\n",
       "      <td>3.51</td>\n",
       "      <td>0.56</td>\n",
       "      <td>9.4</td>\n",
       "      <td>5</td>\n",
       "    </tr>\n",
       "    <tr>\n",
       "      <th>1</th>\n",
       "      <td>7.8</td>\n",
       "      <td>0.88</td>\n",
       "      <td>0.00</td>\n",
       "      <td>2.6</td>\n",
       "      <td>0.098</td>\n",
       "      <td>25.0</td>\n",
       "      <td>67.0</td>\n",
       "      <td>0.9968</td>\n",
       "      <td>3.20</td>\n",
       "      <td>0.68</td>\n",
       "      <td>9.8</td>\n",
       "      <td>5</td>\n",
       "    </tr>\n",
       "    <tr>\n",
       "      <th>2</th>\n",
       "      <td>7.8</td>\n",
       "      <td>0.76</td>\n",
       "      <td>0.04</td>\n",
       "      <td>2.3</td>\n",
       "      <td>0.092</td>\n",
       "      <td>15.0</td>\n",
       "      <td>54.0</td>\n",
       "      <td>0.9970</td>\n",
       "      <td>3.26</td>\n",
       "      <td>0.65</td>\n",
       "      <td>9.8</td>\n",
       "      <td>5</td>\n",
       "    </tr>\n",
       "    <tr>\n",
       "      <th>3</th>\n",
       "      <td>11.2</td>\n",
       "      <td>0.28</td>\n",
       "      <td>0.56</td>\n",
       "      <td>1.9</td>\n",
       "      <td>0.075</td>\n",
       "      <td>17.0</td>\n",
       "      <td>60.0</td>\n",
       "      <td>0.9980</td>\n",
       "      <td>3.16</td>\n",
       "      <td>0.58</td>\n",
       "      <td>9.8</td>\n",
       "      <td>6</td>\n",
       "    </tr>\n",
       "    <tr>\n",
       "      <th>4</th>\n",
       "      <td>7.4</td>\n",
       "      <td>0.70</td>\n",
       "      <td>0.00</td>\n",
       "      <td>1.9</td>\n",
       "      <td>0.076</td>\n",
       "      <td>11.0</td>\n",
       "      <td>34.0</td>\n",
       "      <td>0.9978</td>\n",
       "      <td>3.51</td>\n",
       "      <td>0.56</td>\n",
       "      <td>9.4</td>\n",
       "      <td>5</td>\n",
       "    </tr>\n",
       "  </tbody>\n",
       "</table>\n",
       "</div>"
      ],
      "text/plain": [
       "   fixed acidity  volatile acidity  citric acid  residual sugar  chlorides  \\\n",
       "0            7.4              0.70         0.00             1.9      0.076   \n",
       "1            7.8              0.88         0.00             2.6      0.098   \n",
       "2            7.8              0.76         0.04             2.3      0.092   \n",
       "3           11.2              0.28         0.56             1.9      0.075   \n",
       "4            7.4              0.70         0.00             1.9      0.076   \n",
       "\n",
       "   free sulfur dioxide  total sulfur dioxide  density    pH  sulphates  \\\n",
       "0                 11.0                  34.0   0.9978  3.51       0.56   \n",
       "1                 25.0                  67.0   0.9968  3.20       0.68   \n",
       "2                 15.0                  54.0   0.9970  3.26       0.65   \n",
       "3                 17.0                  60.0   0.9980  3.16       0.58   \n",
       "4                 11.0                  34.0   0.9978  3.51       0.56   \n",
       "\n",
       "   alcohol  quality  \n",
       "0      9.4        5  \n",
       "1      9.8        5  \n",
       "2      9.8        5  \n",
       "3      9.8        6  \n",
       "4      9.4        5  "
      ]
     },
     "execution_count": 8,
     "metadata": {},
     "output_type": "execute_result"
    }
   ],
   "source": [
    "# Print the first 5 rows of the dataset\n",
    "wine.head()"
   ]
  },
  {
   "cell_type": "code",
   "execution_count": 9,
   "id": "f97288e9",
   "metadata": {},
   "outputs": [
    {
     "name": "stdout",
     "output_type": "stream",
     "text": [
      "<class 'pandas.core.frame.DataFrame'>\n",
      "RangeIndex: 1599 entries, 0 to 1598\n",
      "Data columns (total 12 columns):\n",
      " #   Column                Non-Null Count  Dtype  \n",
      "---  ------                --------------  -----  \n",
      " 0   fixed acidity         1599 non-null   float64\n",
      " 1   volatile acidity      1599 non-null   float64\n",
      " 2   citric acid           1599 non-null   float64\n",
      " 3   residual sugar        1599 non-null   float64\n",
      " 4   chlorides             1599 non-null   float64\n",
      " 5   free sulfur dioxide   1599 non-null   float64\n",
      " 6   total sulfur dioxide  1599 non-null   float64\n",
      " 7   density               1599 non-null   float64\n",
      " 8   pH                    1599 non-null   float64\n",
      " 9   sulphates             1599 non-null   float64\n",
      " 10  alcohol               1599 non-null   float64\n",
      " 11  quality               1599 non-null   int64  \n",
      "dtypes: float64(11), int64(1)\n",
      "memory usage: 150.0 KB\n"
     ]
    }
   ],
   "source": [
    "# check for the information of the dataset\n",
    "\n",
    "wine.info()"
   ]
  },
  {
   "cell_type": "code",
   "execution_count": 10,
   "id": "9aeac41c",
   "metadata": {},
   "outputs": [
    {
     "data": {
      "text/plain": [
       "fixed acidity           0\n",
       "volatile acidity        0\n",
       "citric acid             0\n",
       "residual sugar          0\n",
       "chlorides               0\n",
       "free sulfur dioxide     0\n",
       "total sulfur dioxide    0\n",
       "density                 0\n",
       "pH                      0\n",
       "sulphates               0\n",
       "alcohol                 0\n",
       "quality                 0\n",
       "dtype: int64"
      ]
     },
     "execution_count": 10,
     "metadata": {},
     "output_type": "execute_result"
    }
   ],
   "source": [
    "# sum up all null values\n",
    "\n",
    "wine.isnull().sum()"
   ]
  },
  {
   "cell_type": "code",
   "execution_count": 11,
   "id": "c86ef6cc",
   "metadata": {},
   "outputs": [],
   "source": [
    "# The details of the information above shows that there is no null values in dataset"
   ]
  },
  {
   "cell_type": "code",
   "execution_count": 12,
   "id": "4c4edf19",
   "metadata": {},
   "outputs": [
    {
     "data": {
      "text/plain": [
       "['bad', 'good']\n",
       "Categories (2, object): ['bad' < 'good']"
      ]
     },
     "execution_count": 12,
     "metadata": {},
     "output_type": "execute_result"
    }
   ],
   "source": [
    "# Processing Data\n",
    "\n",
    "bins=(2, 6.5, 8)\n",
    "group_names=['bad','good']\n",
    "wine['quality']=pd.cut(wine['quality'],bins=bins,labels=group_names)\n",
    "wine['quality'].unique()"
   ]
  },
  {
   "cell_type": "code",
   "execution_count": 13,
   "id": "40192f8b",
   "metadata": {},
   "outputs": [],
   "source": [
    "# Encoding the data\n",
    "\n",
    "label_quality=LabelEncoder()"
   ]
  },
  {
   "cell_type": "code",
   "execution_count": 14,
   "id": "cbed855a",
   "metadata": {},
   "outputs": [],
   "source": [
    "wine['quality']=label_quality.fit_transform(wine['quality'])"
   ]
  },
  {
   "cell_type": "code",
   "execution_count": 15,
   "id": "ae1c3b69",
   "metadata": {},
   "outputs": [
    {
     "data": {
      "text/html": [
       "<div>\n",
       "<style scoped>\n",
       "    .dataframe tbody tr th:only-of-type {\n",
       "        vertical-align: middle;\n",
       "    }\n",
       "\n",
       "    .dataframe tbody tr th {\n",
       "        vertical-align: top;\n",
       "    }\n",
       "\n",
       "    .dataframe thead th {\n",
       "        text-align: right;\n",
       "    }\n",
       "</style>\n",
       "<table border=\"1\" class=\"dataframe\">\n",
       "  <thead>\n",
       "    <tr style=\"text-align: right;\">\n",
       "      <th></th>\n",
       "      <th>fixed acidity</th>\n",
       "      <th>volatile acidity</th>\n",
       "      <th>citric acid</th>\n",
       "      <th>residual sugar</th>\n",
       "      <th>chlorides</th>\n",
       "      <th>free sulfur dioxide</th>\n",
       "      <th>total sulfur dioxide</th>\n",
       "      <th>density</th>\n",
       "      <th>pH</th>\n",
       "      <th>sulphates</th>\n",
       "      <th>alcohol</th>\n",
       "      <th>quality</th>\n",
       "    </tr>\n",
       "  </thead>\n",
       "  <tbody>\n",
       "    <tr>\n",
       "      <th>0</th>\n",
       "      <td>7.4</td>\n",
       "      <td>0.70</td>\n",
       "      <td>0.00</td>\n",
       "      <td>1.9</td>\n",
       "      <td>0.076</td>\n",
       "      <td>11.0</td>\n",
       "      <td>34.0</td>\n",
       "      <td>0.9978</td>\n",
       "      <td>3.51</td>\n",
       "      <td>0.56</td>\n",
       "      <td>9.4</td>\n",
       "      <td>0</td>\n",
       "    </tr>\n",
       "    <tr>\n",
       "      <th>1</th>\n",
       "      <td>7.8</td>\n",
       "      <td>0.88</td>\n",
       "      <td>0.00</td>\n",
       "      <td>2.6</td>\n",
       "      <td>0.098</td>\n",
       "      <td>25.0</td>\n",
       "      <td>67.0</td>\n",
       "      <td>0.9968</td>\n",
       "      <td>3.20</td>\n",
       "      <td>0.68</td>\n",
       "      <td>9.8</td>\n",
       "      <td>0</td>\n",
       "    </tr>\n",
       "    <tr>\n",
       "      <th>2</th>\n",
       "      <td>7.8</td>\n",
       "      <td>0.76</td>\n",
       "      <td>0.04</td>\n",
       "      <td>2.3</td>\n",
       "      <td>0.092</td>\n",
       "      <td>15.0</td>\n",
       "      <td>54.0</td>\n",
       "      <td>0.9970</td>\n",
       "      <td>3.26</td>\n",
       "      <td>0.65</td>\n",
       "      <td>9.8</td>\n",
       "      <td>0</td>\n",
       "    </tr>\n",
       "    <tr>\n",
       "      <th>3</th>\n",
       "      <td>11.2</td>\n",
       "      <td>0.28</td>\n",
       "      <td>0.56</td>\n",
       "      <td>1.9</td>\n",
       "      <td>0.075</td>\n",
       "      <td>17.0</td>\n",
       "      <td>60.0</td>\n",
       "      <td>0.9980</td>\n",
       "      <td>3.16</td>\n",
       "      <td>0.58</td>\n",
       "      <td>9.8</td>\n",
       "      <td>0</td>\n",
       "    </tr>\n",
       "    <tr>\n",
       "      <th>4</th>\n",
       "      <td>7.4</td>\n",
       "      <td>0.70</td>\n",
       "      <td>0.00</td>\n",
       "      <td>1.9</td>\n",
       "      <td>0.076</td>\n",
       "      <td>11.0</td>\n",
       "      <td>34.0</td>\n",
       "      <td>0.9978</td>\n",
       "      <td>3.51</td>\n",
       "      <td>0.56</td>\n",
       "      <td>9.4</td>\n",
       "      <td>0</td>\n",
       "    </tr>\n",
       "    <tr>\n",
       "      <th>5</th>\n",
       "      <td>7.4</td>\n",
       "      <td>0.66</td>\n",
       "      <td>0.00</td>\n",
       "      <td>1.8</td>\n",
       "      <td>0.075</td>\n",
       "      <td>13.0</td>\n",
       "      <td>40.0</td>\n",
       "      <td>0.9978</td>\n",
       "      <td>3.51</td>\n",
       "      <td>0.56</td>\n",
       "      <td>9.4</td>\n",
       "      <td>0</td>\n",
       "    </tr>\n",
       "    <tr>\n",
       "      <th>6</th>\n",
       "      <td>7.9</td>\n",
       "      <td>0.60</td>\n",
       "      <td>0.06</td>\n",
       "      <td>1.6</td>\n",
       "      <td>0.069</td>\n",
       "      <td>15.0</td>\n",
       "      <td>59.0</td>\n",
       "      <td>0.9964</td>\n",
       "      <td>3.30</td>\n",
       "      <td>0.46</td>\n",
       "      <td>9.4</td>\n",
       "      <td>0</td>\n",
       "    </tr>\n",
       "    <tr>\n",
       "      <th>7</th>\n",
       "      <td>7.3</td>\n",
       "      <td>0.65</td>\n",
       "      <td>0.00</td>\n",
       "      <td>1.2</td>\n",
       "      <td>0.065</td>\n",
       "      <td>15.0</td>\n",
       "      <td>21.0</td>\n",
       "      <td>0.9946</td>\n",
       "      <td>3.39</td>\n",
       "      <td>0.47</td>\n",
       "      <td>10.0</td>\n",
       "      <td>1</td>\n",
       "    </tr>\n",
       "    <tr>\n",
       "      <th>8</th>\n",
       "      <td>7.8</td>\n",
       "      <td>0.58</td>\n",
       "      <td>0.02</td>\n",
       "      <td>2.0</td>\n",
       "      <td>0.073</td>\n",
       "      <td>9.0</td>\n",
       "      <td>18.0</td>\n",
       "      <td>0.9968</td>\n",
       "      <td>3.36</td>\n",
       "      <td>0.57</td>\n",
       "      <td>9.5</td>\n",
       "      <td>1</td>\n",
       "    </tr>\n",
       "    <tr>\n",
       "      <th>9</th>\n",
       "      <td>7.5</td>\n",
       "      <td>0.50</td>\n",
       "      <td>0.36</td>\n",
       "      <td>6.1</td>\n",
       "      <td>0.071</td>\n",
       "      <td>17.0</td>\n",
       "      <td>102.0</td>\n",
       "      <td>0.9978</td>\n",
       "      <td>3.35</td>\n",
       "      <td>0.80</td>\n",
       "      <td>10.5</td>\n",
       "      <td>0</td>\n",
       "    </tr>\n",
       "  </tbody>\n",
       "</table>\n",
       "</div>"
      ],
      "text/plain": [
       "   fixed acidity  volatile acidity  citric acid  residual sugar  chlorides  \\\n",
       "0            7.4              0.70         0.00             1.9      0.076   \n",
       "1            7.8              0.88         0.00             2.6      0.098   \n",
       "2            7.8              0.76         0.04             2.3      0.092   \n",
       "3           11.2              0.28         0.56             1.9      0.075   \n",
       "4            7.4              0.70         0.00             1.9      0.076   \n",
       "5            7.4              0.66         0.00             1.8      0.075   \n",
       "6            7.9              0.60         0.06             1.6      0.069   \n",
       "7            7.3              0.65         0.00             1.2      0.065   \n",
       "8            7.8              0.58         0.02             2.0      0.073   \n",
       "9            7.5              0.50         0.36             6.1      0.071   \n",
       "\n",
       "   free sulfur dioxide  total sulfur dioxide  density    pH  sulphates  \\\n",
       "0                 11.0                  34.0   0.9978  3.51       0.56   \n",
       "1                 25.0                  67.0   0.9968  3.20       0.68   \n",
       "2                 15.0                  54.0   0.9970  3.26       0.65   \n",
       "3                 17.0                  60.0   0.9980  3.16       0.58   \n",
       "4                 11.0                  34.0   0.9978  3.51       0.56   \n",
       "5                 13.0                  40.0   0.9978  3.51       0.56   \n",
       "6                 15.0                  59.0   0.9964  3.30       0.46   \n",
       "7                 15.0                  21.0   0.9946  3.39       0.47   \n",
       "8                  9.0                  18.0   0.9968  3.36       0.57   \n",
       "9                 17.0                 102.0   0.9978  3.35       0.80   \n",
       "\n",
       "   alcohol  quality  \n",
       "0      9.4        0  \n",
       "1      9.8        0  \n",
       "2      9.8        0  \n",
       "3      9.8        0  \n",
       "4      9.4        0  \n",
       "5      9.4        0  \n",
       "6      9.4        0  \n",
       "7     10.0        1  \n",
       "8      9.5        1  \n",
       "9     10.5        0  "
      ]
     },
     "execution_count": 15,
     "metadata": {},
     "output_type": "execute_result"
    }
   ],
   "source": [
    "# Print the first 10 rows of the data\n",
    "wine.head(10)"
   ]
  },
  {
   "cell_type": "code",
   "execution_count": 16,
   "id": "f136eab1",
   "metadata": {},
   "outputs": [],
   "source": [
    "# NOTE: Out of the 10 rows of wine data, only 2 wines are good or high quality\n",
    "#       The remaining 8 of the data are bad wines or poor quality."
   ]
  },
  {
   "cell_type": "code",
   "execution_count": 17,
   "id": "dcdd5041",
   "metadata": {},
   "outputs": [
    {
     "data": {
      "text/plain": [
       "0    1382\n",
       "1     217\n",
       "Name: quality, dtype: int64"
      ]
     },
     "execution_count": 17,
     "metadata": {},
     "output_type": "execute_result"
    }
   ],
   "source": [
    "# Print the count of high and low quality wines\n",
    "\n",
    "wine['quality'].value_counts()"
   ]
  },
  {
   "cell_type": "code",
   "execution_count": 18,
   "id": "0f5c9efc",
   "metadata": {},
   "outputs": [],
   "source": [
    "# According the results displayed, there 217 wines that are of high quality(good wines)\n",
    "#                                  there are 1382 wines that are of low quality(bad wines)"
   ]
  },
  {
   "cell_type": "code",
   "execution_count": 19,
   "id": "5310938d",
   "metadata": {},
   "outputs": [
    {
     "data": {
      "text/plain": [
       "quality\n",
       "0    1382\n",
       "1     217\n",
       "dtype: int64"
      ]
     },
     "execution_count": 19,
     "metadata": {},
     "output_type": "execute_result"
    }
   ],
   "source": [
    "# We can also print the count of high and low quality wines using the groupby method\n",
    "\n",
    "wine.groupby('quality').size()\n"
   ]
  },
  {
   "cell_type": "code",
   "execution_count": 20,
   "id": "87b93382",
   "metadata": {},
   "outputs": [
    {
     "data": {
      "text/plain": [
       "0    1382\n",
       "1     217\n",
       "Name: quality, dtype: int64"
      ]
     },
     "execution_count": 20,
     "metadata": {},
     "output_type": "execute_result"
    }
   ],
   "source": [
    "# Print the count of high and low quality wines\n",
    "\n",
    "wine['quality'].value_counts()"
   ]
  },
  {
   "cell_type": "code",
   "execution_count": 21,
   "id": "311d9208",
   "metadata": {},
   "outputs": [
    {
     "data": {
      "text/plain": [
       "Text(0.5, 1.0, 'Count of Wines by Quality')"
      ]
     },
     "execution_count": 21,
     "metadata": {},
     "output_type": "execute_result"
    },
    {
     "data": {
      "image/png": "[encoded data removed]",
      "text/plain": [
       "<Figure size 640x480 with 1 Axes>"
      ]
     },
     "metadata": {},
     "output_type": "display_data"
    }
   ],
   "source": [
    "# Lets plot this on a graph(bar graph)\n",
    "\n",
    "sns.countplot(wine['quality'])\n",
    "\n",
    "plt.xlabel('Quality')\n",
    "plt.ylabel('Count')\n",
    "plt.title('Count of Wines by Quality')"
   ]
  },
  {
   "cell_type": "code",
   "execution_count": 22,
   "id": "90d6d5c1",
   "metadata": {},
   "outputs": [
    {
     "data": {
      "image/png": "[encoded data removed]",
      "text/plain": [
       "<Figure size 640x480 with 1 Axes>"
      ]
     },
     "metadata": {},
     "output_type": "display_data"
    }
   ],
   "source": [
    "# OR\n",
    "\n",
    "wine['quality'].value_counts().plot(kind='bar')\n",
    "plt.xlabel('Quality')\n",
    "plt.ylabel('Count')\n",
    "plt.title('Count of Wines by Quality')\n",
    "plt.show()\n"
   ]
  },
  {
   "cell_type": "code",
   "execution_count": 23,
   "id": "55a91774",
   "metadata": {},
   "outputs": [],
   "source": [
    "# Now separate the dataset as response variable and feature variables\n",
    "\n",
    "X=wine.drop('quality', axis=1)\n",
    "y=wine['quality']"
   ]
  },
  {
   "cell_type": "code",
   "execution_count": 24,
   "id": "9810d81e",
   "metadata": {},
   "outputs": [],
   "source": [
    "# Now we have dropped the quality for X and added quality for y."
   ]
  },
  {
   "cell_type": "code",
   "execution_count": 25,
   "id": "171f7b3e",
   "metadata": {},
   "outputs": [],
   "source": [
    "# Train and Test Splitting of Data\n",
    "\n",
    "X_train, X_test, y_train, y_test=train_test_split(X,y, test_size=0.2, random_state=42)"
   ]
  },
  {
   "cell_type": "code",
   "execution_count": 26,
   "id": "f4c2a503",
   "metadata": {},
   "outputs": [],
   "source": [
    "# Applying standard scaling to get optimized result\n",
    "\n",
    "sc=StandardScaler()\n",
    "X_train=sc.fit_transform(X_train)    # fit is used to train data\n",
    "X_test=sc.transform(X_test)"
   ]
  },
  {
   "cell_type": "code",
   "execution_count": 27,
   "id": "85aa3a89",
   "metadata": {},
   "outputs": [
    {
     "data": {
      "text/plain": [
       "array([[ 0.21833164,  0.88971201,  0.19209222,  0.30972563, -0.04964208,\n",
       "         0.69100692,  1.04293362,  1.84669643,  1.09349989,  0.45822284,\n",
       "         1.12317723],\n",
       "       [-1.29016623, -1.78878251,  0.65275338, -0.80507963, -0.45521361,\n",
       "         2.38847304,  3.59387025, -3.00449133, -0.40043872, -0.40119696,\n",
       "         1.40827174],\n",
       "       [ 1.49475291, -0.78434707,  1.01104539, -0.52637831,  0.59927236,\n",
       "        -0.95796016, -0.99174203,  0.76865471, -0.07566946,  0.51551749,\n",
       "        -0.58738978],\n",
       "       [ 0.27635078,  0.86181102, -0.06383064, -0.66572897, -0.00908493,\n",
       "         0.01202048, -0.71842739,  0.08948842,  0.05423824, -1.08873281,\n",
       "        -0.96751578],\n",
       "       [ 0.04427419,  2.81487994, -0.62686095,  2.39998549, -0.31326357,\n",
       "        -0.47296984,  0.2229897 ,  1.1998714 ,  0.37900751, -0.9741435 ,\n",
       "        -0.49235828],\n",
       "       [-0.07176411, -0.78434707,  1.11341454, -0.17800167,  0.21397941,\n",
       "         3.01896045,  2.62208486,  0.60694845,  0.44396136,  1.89058918,\n",
       "        -0.58738978],\n",
       "       [-1.17412793,  0.10848444, -0.62686095, -0.52637831, -0.23214927,\n",
       "         0.98200112, -0.35400787, -1.95879086,  0.05423824,  0.91658007,\n",
       "         1.12317723],\n",
       "       [-0.1878024 , -0.17052541,  0.60156881,  0.03102432, -0.13075639,\n",
       "        -0.37597178, -0.01995665,  0.93036097,  0.76873063, -0.229313  ,\n",
       "         0.26789373],\n",
       "       [-0.07176411,  0.61070216, -0.01264607, -0.38702766,  0.13286511,\n",
       "        -1.05495822,  0.92146044,  0.37516948, -1.17988496, -0.229313  ,\n",
       "        -1.25261029],\n",
       "       [ 1.8428678 , -1.95618842,  1.21578369,  1.00647892,  0.31537229,\n",
       "        -1.15195628, -0.71842739,  1.52328391, -0.20557717,  1.77599987,\n",
       "        -0.30229528]])"
      ]
     },
     "execution_count": 27,
     "metadata": {},
     "output_type": "execute_result"
    }
   ],
   "source": [
    "# Now lets print the first 10 of the X_train model\n",
    "\n",
    "X_train[:10]"
   ]
  },
  {
   "cell_type": "markdown",
   "id": "2bcd86b2",
   "metadata": {},
   "source": [
    "## The most commonly used Classifiers\n",
    "### (A) Random Forest Classifier\n",
    "### (B) Support Vector Machine Classifier\n",
    "### (C) Neural Network Classifier"
   ]
  },
  {
   "cell_type": "markdown",
   "id": "df856d4c",
   "metadata": {},
   "source": [
    "### (A) Random Forest Classifier"
   ]
  },
  {
   "cell_type": "code",
   "execution_count": 28,
   "id": "9f52cded",
   "metadata": {},
   "outputs": [],
   "source": [
    "rfc=RandomForestClassifier(n_estimators=200) # n_estimators=200 refers to how many trees/models \n",
    "                                             # we have in the forest or classifier\n",
    "# Train the model\n",
    "rfc.fit(X_train, y_train)\n",
    "\n",
    "# predit the rfc model by testing it\n",
    "pred_rfc=rfc.predict(X_test)"
   ]
  },
  {
   "cell_type": "code",
   "execution_count": 29,
   "id": "67212ef3",
   "metadata": {},
   "outputs": [
    {
     "data": {
      "text/plain": [
       "array([0, 0, 0, 0, 0, 0, 0, 0, 0, 0, 1, 0, 0, 0, 0, 0, 0, 0, 1, 0])"
      ]
     },
     "execution_count": 29,
     "metadata": {},
     "output_type": "execute_result"
    }
   ],
   "source": [
    "# predict the first 20 variables of rfc\n",
    "\n",
    "pred_rfc[:20]"
   ]
  },
  {
   "cell_type": "code",
   "execution_count": 30,
   "id": "bb896631",
   "metadata": {},
   "outputs": [],
   "source": [
    "# The results above shows that the number of high quality tree in the forest is 2\n",
    "# The rest is 18 low quality tress or bad trees"
   ]
  },
  {
   "cell_type": "code",
   "execution_count": 31,
   "id": "305dba38",
   "metadata": {},
   "outputs": [
    {
     "data": {
      "text/plain": [
       "array([[-3.61859850e-01,  1.64286407e-01, -9.85152962e-01,\n",
       "        -3.86510130e-02,  5.18158057e-01, -1.81975648e-01,\n",
       "        -1.99566462e-02,  1.75731759e-01, -4.65392578e-01,\n",
       "        -1.34389336e-04, -7.77452782e-01],\n",
       "       [-3.03840702e-01, -1.70525408e-01, -5.24491803e-01,\n",
       "        -6.65728970e-01, -1.30756387e-01,  4.97010797e-01,\n",
       "         1.68066777e+00, -4.17191190e-01,  5.08915214e-01,\n",
       "        -1.03143815e+00, -8.72484283e-01],\n",
       "       [ 1.37871461e+00,  7.78108067e-01, -2.68568937e-01,\n",
       "         1.00699644e-01,  3.76208022e-01,  1.09018543e-01,\n",
       "        -3.84376165e-01,  1.95450060e+00, -2.05577167e-01,\n",
       "         1.83329452e+00, -4.92358280e-01],\n",
       "       [ 1.02293339e-01, -3.93733284e-01,  1.92092221e-01,\n",
       "        -2.12839335e-01, -2.11870693e-01,  1.56398950e+00,\n",
       "         3.44462872e-01,  6.60850535e-01,  1.19192097e-01,\n",
       "        -6.87670232e-01, -5.87389780e-01],\n",
       "       [-9.42051337e-01, -3.93733284e-01, -1.66199791e-01,\n",
       "        -5.96053642e-01, -2.32149269e-01,  2.06016607e-01,\n",
       "        -3.84376165e-01, -1.06401623e+00,  5.08915214e-01,\n",
       "        -3.43902311e-01,  1.72862226e-01],\n",
       "       [-6.51955593e-01, -6.72743130e-01,  1.40907648e-01,\n",
       "        -3.17352327e-01, -1.10477811e-01,  1.85498369e+00,\n",
       "         7.69618977e-01,  1.21829672e-01,  8.33684478e-01,\n",
       "        -8.02259539e-01, -9.67515783e-01],\n",
       "       [-3.61859850e-01,  5.26824689e-02, -6.38306444e-02,\n",
       "        -4.56702985e-01,  1.11936473e-02,  6.91006925e-01,\n",
       "         3.04724097e+00, -2.23143680e-01, -3.35484872e-01,\n",
       "        -4.01196964e-01, -6.82421281e-01],\n",
       "       [-7.67993891e-01,  1.39192973e+00, -9.85152962e-01,\n",
       "        -3.87027656e-01,  9.23079528e-02, -5.69967902e-01,\n",
       "        -8.39900563e-01, -6.32799535e-01,  5.73869067e-01,\n",
       "        -1.08873281e+00, -3.97326779e-01],\n",
       "       [-7.17641072e-02, -7.84347068e-01,  5.50384234e-01,\n",
       "        -7.35404299e-01, -6.17442220e-01, -5.69967902e-01,\n",
       "        -5.36217631e-01, -3.09387018e-01, -3.35484872e-01,\n",
       "         4.58222839e-01, -5.87389780e-01],\n",
       "       [-1.46422367e+00,  4.43296253e-01, -8.31599242e-01,\n",
       "        -5.26378313e-01, -4.55213609e-01,  2.06016607e-01,\n",
       "        -5.66585924e-01, -1.04784560e+00,  1.54817686e+00,\n",
       "        -1.34389336e-04,  4.57956728e-01],\n",
       "       [ 1.26267631e+00, -1.14723438e-01,  1.88118314e+00,\n",
       "        -1.08326342e-01,  3.76208022e-01, -9.57960157e-01,\n",
       "        -9.61373736e-01,  2.83535931e-01, -1.43970037e+00,\n",
       "        -1.34389336e-04,  1.31324023e+00],\n",
       "       [-9.42051337e-01,  1.28032579e+00, -1.29226040e+00,\n",
       "        -5.26378313e-01, -2.11870693e-01, -9.57960157e-01,\n",
       "        -1.05247862e+00, -4.17191190e-01,  1.54817686e+00,\n",
       "        -1.72018350e-01, -4.44842529e-01],\n",
       "       [-9.42051337e-01, -2.82129346e-01, -9.85152962e-01,\n",
       "        -3.17352327e-01, -4.95770762e-01,  2.06016607e-01,\n",
       "        -3.84376165e-01, -6.75921204e-01,  1.19192097e-01,\n",
       "        -1.14723696e-01, -6.82421281e-01],\n",
       "       [-7.67993891e-01,  1.64286407e-01, -7.29230096e-01,\n",
       "        -6.65728970e-01, -2.32149269e-01,  8.85003052e-01,\n",
       "        -1.41429819e-01, -2.60875140e-01,  1.84145950e-01,\n",
       "        -4.01196964e-01, -1.15757878e+00],\n",
       "       [-3.03840702e-01, -1.06335691e+00,  4.99199661e-01,\n",
       "        -3.87027656e-01, -1.30756387e-01,  7.88004988e-01,\n",
       "         3.44462872e-01, -2.01582845e-01,  1.84145950e-01,\n",
       "        -4.01196964e-01, -9.67515783e-01],\n",
       "       [ 3.34369933e-01, -1.39816873e+00,  9.08676246e-01,\n",
       "        -5.96053642e-01, -4.34935033e-01, -8.60962093e-01,\n",
       "        -1.05247862e+00, -1.74318251e+00, -4.00438725e-01,\n",
       "        -6.30375579e-01,  1.78839774e+00],\n",
       "       [-9.42051337e-01,  8.06009052e-01, -1.03633753e+00,\n",
       "        -1.08326342e-01,  1.11936473e-02,  1.09018543e-01,\n",
       "         1.07330191e+00, -5.24995363e-01,  2.49099803e-01,\n",
       "        -6.87670232e-01, -3.02295278e-01],\n",
       "       [ 1.03059972e+00, -5.61139191e-01,  6.52753380e-01,\n",
       "         3.10243156e-02,  7.20293764e-02, -2.78973711e-01,\n",
       "         1.62253113e-01,  8.44117628e-01, -5.95300283e-01,\n",
       "        -1.14723696e-01, -3.97326779e-01],\n",
       "       [ 6.24465676e-01, -1.28656479e+00,  1.47170655e+00,\n",
       "         1.70374973e-01, -1.71313540e-01, -9.57960157e-01,\n",
       "        -9.00637149e-01, -2.01582845e-01, -1.04997725e+00,\n",
       "         1.48952660e+00,  1.21820873e+00],\n",
       "       [ 4.42741900e-02,  1.19662284e+00, -8.31599242e-01,\n",
       "        -4.56702985e-01,  3.14722237e-02,  1.20204793e-02,\n",
       "         4.96304338e-01, -1.47680759e-01, -7.90161842e-01,\n",
       "         9.16580068e-01, -7.77452782e-01]])"
      ]
     },
     "execution_count": 31,
     "metadata": {},
     "output_type": "execute_result"
    }
   ],
   "source": [
    "# Print the first 20 variables of X-test rfc\n",
    "\n",
    "X_test[:20]"
   ]
  },
  {
   "cell_type": "code",
   "execution_count": 32,
   "id": "b4f56992",
   "metadata": {},
   "outputs": [
    {
     "name": "stdout",
     "output_type": "stream",
     "text": [
      "              precision    recall  f1-score   support\n",
      "\n",
      "           0       0.93      0.96      0.94       273\n",
      "           1       0.68      0.55      0.61        47\n",
      "\n",
      "    accuracy                           0.90       320\n",
      "   macro avg       0.80      0.75      0.78       320\n",
      "weighted avg       0.89      0.90      0.89       320\n",
      "\n"
     ]
    }
   ],
   "source": [
    "# Lets see how well our model performed\n",
    "\n",
    "print(classification_report(y_test, pred_rfc))"
   ]
  },
  {
   "cell_type": "code",
   "execution_count": 33,
   "id": "996e89a1",
   "metadata": {},
   "outputs": [],
   "source": [
    "# The precision of low quality trees is 0.92(92%)\n",
    "# The precision of high quality trees is 0.73(73%)"
   ]
  },
  {
   "cell_type": "code",
   "execution_count": 34,
   "id": "bdcb495d",
   "metadata": {},
   "outputs": [
    {
     "name": "stdout",
     "output_type": "stream",
     "text": [
      "[[261  12]\n",
      " [ 21  26]]\n"
     ]
    }
   ],
   "source": [
    "# Print the confusion matrix of the rfc model \n",
    "\n",
    "print(confusion_matrix(y_test, pred_rfc))"
   ]
  },
  {
   "cell_type": "markdown",
   "id": "ec23b58c",
   "metadata": {},
   "source": [
    "### (B) Support Vector Machine Classifier"
   ]
  },
  {
   "cell_type": "code",
   "execution_count": 35,
   "id": "4f8ad4a3",
   "metadata": {},
   "outputs": [],
   "source": [
    "clf=svm.SVC()\n",
    "clf.fit(X_train, y_train) # train the data\n",
    "pred_clf=clf.predict(X_test) # pred the test data"
   ]
  },
  {
   "cell_type": "code",
   "execution_count": 36,
   "id": "b56e13ef",
   "metadata": {},
   "outputs": [
    {
     "name": "stdout",
     "output_type": "stream",
     "text": [
      "              precision    recall  f1-score   support\n",
      "\n",
      "           0       0.88      0.98      0.93       273\n",
      "           1       0.71      0.26      0.37        47\n",
      "\n",
      "    accuracy                           0.88       320\n",
      "   macro avg       0.80      0.62      0.65       320\n",
      "weighted avg       0.86      0.88      0.85       320\n",
      "\n",
      "[[268   5]\n",
      " [ 35  12]]\n"
     ]
    }
   ],
   "source": [
    "# Lets see how well our model performed\n",
    "\n",
    "print(classification_report(y_test, pred_clf))\n",
    "print(confusion_matrix(y_test, pred_clf))"
   ]
  },
  {
   "cell_type": "code",
   "execution_count": 37,
   "id": "62092869",
   "metadata": {},
   "outputs": [],
   "source": [
    "# The precision of low quality trees is 0.88(88%)\n",
    "# The precision of high quality trees is 0.71(71%)"
   ]
  },
  {
   "cell_type": "markdown",
   "id": "9f6ae6d8",
   "metadata": {},
   "source": [
    "### (C)Neural Network Classifier"
   ]
  },
  {
   "cell_type": "code",
   "execution_count": 38,
   "id": "11f1b216",
   "metadata": {},
   "outputs": [],
   "source": [
    "# Example, picture processing involves much of neural networks"
   ]
  },
  {
   "cell_type": "code",
   "execution_count": 39,
   "id": "294ed970",
   "metadata": {},
   "outputs": [
    {
     "name": "stderr",
     "output_type": "stream",
     "text": [
      "C:\\DATA ANALYTICS COURSE-QUANTUM ANALYTICS\\New folder\\lib\\site-packages\\sklearn\\neural_network\\_multilayer_perceptron.py:684: ConvergenceWarning: Stochastic Optimizer: Maximum iterations (500) reached and the optimization hasn't converged yet.\n",
      "  warnings.warn(\n"
     ]
    }
   ],
   "source": [
    "mlpc=MLPClassifier(hidden_layer_sizes=(11,11,11), max_iter=500)\n",
    "\n",
    "# Train the model\n",
    "mlpc.fit(X_train, y_train)\n",
    "\n",
    "# predict the test model\n",
    "pred_mlpc=mlpc.predict(X_test)"
   ]
  },
  {
   "cell_type": "code",
   "execution_count": 40,
   "id": "f98bc9b9",
   "metadata": {},
   "outputs": [
    {
     "name": "stdout",
     "output_type": "stream",
     "text": [
      "              precision    recall  f1-score   support\n",
      "\n",
      "           0       0.90      0.95      0.93       273\n",
      "           1       0.59      0.40      0.48        47\n",
      "\n",
      "    accuracy                           0.87       320\n",
      "   macro avg       0.75      0.68      0.70       320\n",
      "weighted avg       0.86      0.87      0.86       320\n",
      "\n",
      "[[260  13]\n",
      " [ 28  19]]\n"
     ]
    }
   ],
   "source": [
    "# Lets see how our model performed\n",
    "print(classification_report(y_test, pred_mlpc))\n",
    "print(confusion_matrix(y_test, pred_mlpc))"
   ]
  },
  {
   "cell_type": "code",
   "execution_count": 41,
   "id": "1d5aa3dc",
   "metadata": {},
   "outputs": [],
   "source": [
    "# The precision of low quality trees is 0.93(93%)\n",
    "# The precision of high quality trees is 0.65(65%)"
   ]
  },
  {
   "cell_type": "code",
   "execution_count": 42,
   "id": "37f6396c",
   "metadata": {},
   "outputs": [],
   "source": [
    "# Confusion Matrix\n",
    "\n",
    "# Here's what each number represents: \n",
    "# [[259  14]\n",
    "# [ 21  26]]\n",
    "\n",
    "\n",
    "\n",
    "# 259 (True Positives - TP): This represents the number of correct positive predictions. \n",
    "# In this case, the model correctly predicted 259 positive cases.\n",
    "\n",
    "# 14 (False Positives - FP): These are cases where the model incorrectly predicted the positive class, \n",
    "# but the actual class was negative. The model falsely identified 14 instances as positive.\n",
    "\n",
    "# 21 (False Negatives - FN): These are cases where the model incorrectly predicted the negative class, \n",
    "# but the actual class was positive. The model failed to identify 21 positive instances.\n",
    "\n",
    "# 26 (True Negatives - TN): This represents the number of correct negative predictions. \n",
    "# The model correctly predicted 26 negative cases."
   ]
  },
  {
   "cell_type": "code",
   "execution_count": 43,
   "id": "26a9a396",
   "metadata": {},
   "outputs": [],
   "source": [
    "# Comparatively, the Random Forest Classifier had the best average precision score of 0.91(91%)\n",
    "# Neural network classifier had an average precision score of 0.88(88%)\n",
    "# Support Vector Machine Classifier had the least average precision of 0.86(86%)"
   ]
  },
  {
   "cell_type": "code",
   "execution_count": 44,
   "id": "e70dd681",
   "metadata": {},
   "outputs": [
    {
     "data": {
      "text/plain": [
       "0.896875"
      ]
     },
     "execution_count": 44,
     "metadata": {},
     "output_type": "execute_result"
    }
   ],
   "source": [
    "# Checking for the accuracy score of Random Forest Classifier\n",
    "\n",
    "from sklearn.metrics import accuracy_score\n",
    "cm=accuracy_score(y_test, pred_rfc)\n",
    "cm"
   ]
  },
  {
   "cell_type": "code",
   "execution_count": 45,
   "id": "5b8b668a",
   "metadata": {},
   "outputs": [],
   "source": [
    "# Therefore, the accuracy score of Random Forest Classifier is 0.90625 0r 90%"
   ]
  },
  {
   "cell_type": "code",
   "execution_count": 46,
   "id": "55e9cd0e",
   "metadata": {},
   "outputs": [
    {
     "data": {
      "text/html": [
       "<div>\n",
       "<style scoped>\n",
       "    .dataframe tbody tr th:only-of-type {\n",
       "        vertical-align: middle;\n",
       "    }\n",
       "\n",
       "    .dataframe tbody tr th {\n",
       "        vertical-align: top;\n",
       "    }\n",
       "\n",
       "    .dataframe thead th {\n",
       "        text-align: right;\n",
       "    }\n",
       "</style>\n",
       "<table border=\"1\" class=\"dataframe\">\n",
       "  <thead>\n",
       "    <tr style=\"text-align: right;\">\n",
       "      <th></th>\n",
       "      <th>fixed acidity</th>\n",
       "      <th>volatile acidity</th>\n",
       "      <th>citric acid</th>\n",
       "      <th>residual sugar</th>\n",
       "      <th>chlorides</th>\n",
       "      <th>free sulfur dioxide</th>\n",
       "      <th>total sulfur dioxide</th>\n",
       "      <th>density</th>\n",
       "      <th>pH</th>\n",
       "      <th>sulphates</th>\n",
       "      <th>alcohol</th>\n",
       "      <th>quality</th>\n",
       "    </tr>\n",
       "  </thead>\n",
       "  <tbody>\n",
       "    <tr>\n",
       "      <th>0</th>\n",
       "      <td>7.4</td>\n",
       "      <td>0.70</td>\n",
       "      <td>0.00</td>\n",
       "      <td>1.9</td>\n",
       "      <td>0.076</td>\n",
       "      <td>11.0</td>\n",
       "      <td>34.0</td>\n",
       "      <td>0.9978</td>\n",
       "      <td>3.51</td>\n",
       "      <td>0.56</td>\n",
       "      <td>9.4</td>\n",
       "      <td>0</td>\n",
       "    </tr>\n",
       "    <tr>\n",
       "      <th>1</th>\n",
       "      <td>7.8</td>\n",
       "      <td>0.88</td>\n",
       "      <td>0.00</td>\n",
       "      <td>2.6</td>\n",
       "      <td>0.098</td>\n",
       "      <td>25.0</td>\n",
       "      <td>67.0</td>\n",
       "      <td>0.9968</td>\n",
       "      <td>3.20</td>\n",
       "      <td>0.68</td>\n",
       "      <td>9.8</td>\n",
       "      <td>0</td>\n",
       "    </tr>\n",
       "    <tr>\n",
       "      <th>2</th>\n",
       "      <td>7.8</td>\n",
       "      <td>0.76</td>\n",
       "      <td>0.04</td>\n",
       "      <td>2.3</td>\n",
       "      <td>0.092</td>\n",
       "      <td>15.0</td>\n",
       "      <td>54.0</td>\n",
       "      <td>0.9970</td>\n",
       "      <td>3.26</td>\n",
       "      <td>0.65</td>\n",
       "      <td>9.8</td>\n",
       "      <td>0</td>\n",
       "    </tr>\n",
       "    <tr>\n",
       "      <th>3</th>\n",
       "      <td>11.2</td>\n",
       "      <td>0.28</td>\n",
       "      <td>0.56</td>\n",
       "      <td>1.9</td>\n",
       "      <td>0.075</td>\n",
       "      <td>17.0</td>\n",
       "      <td>60.0</td>\n",
       "      <td>0.9980</td>\n",
       "      <td>3.16</td>\n",
       "      <td>0.58</td>\n",
       "      <td>9.8</td>\n",
       "      <td>0</td>\n",
       "    </tr>\n",
       "    <tr>\n",
       "      <th>4</th>\n",
       "      <td>7.4</td>\n",
       "      <td>0.70</td>\n",
       "      <td>0.00</td>\n",
       "      <td>1.9</td>\n",
       "      <td>0.076</td>\n",
       "      <td>11.0</td>\n",
       "      <td>34.0</td>\n",
       "      <td>0.9978</td>\n",
       "      <td>3.51</td>\n",
       "      <td>0.56</td>\n",
       "      <td>9.4</td>\n",
       "      <td>0</td>\n",
       "    </tr>\n",
       "    <tr>\n",
       "      <th>5</th>\n",
       "      <td>7.4</td>\n",
       "      <td>0.66</td>\n",
       "      <td>0.00</td>\n",
       "      <td>1.8</td>\n",
       "      <td>0.075</td>\n",
       "      <td>13.0</td>\n",
       "      <td>40.0</td>\n",
       "      <td>0.9978</td>\n",
       "      <td>3.51</td>\n",
       "      <td>0.56</td>\n",
       "      <td>9.4</td>\n",
       "      <td>0</td>\n",
       "    </tr>\n",
       "    <tr>\n",
       "      <th>6</th>\n",
       "      <td>7.9</td>\n",
       "      <td>0.60</td>\n",
       "      <td>0.06</td>\n",
       "      <td>1.6</td>\n",
       "      <td>0.069</td>\n",
       "      <td>15.0</td>\n",
       "      <td>59.0</td>\n",
       "      <td>0.9964</td>\n",
       "      <td>3.30</td>\n",
       "      <td>0.46</td>\n",
       "      <td>9.4</td>\n",
       "      <td>0</td>\n",
       "    </tr>\n",
       "    <tr>\n",
       "      <th>7</th>\n",
       "      <td>7.3</td>\n",
       "      <td>0.65</td>\n",
       "      <td>0.00</td>\n",
       "      <td>1.2</td>\n",
       "      <td>0.065</td>\n",
       "      <td>15.0</td>\n",
       "      <td>21.0</td>\n",
       "      <td>0.9946</td>\n",
       "      <td>3.39</td>\n",
       "      <td>0.47</td>\n",
       "      <td>10.0</td>\n",
       "      <td>1</td>\n",
       "    </tr>\n",
       "    <tr>\n",
       "      <th>8</th>\n",
       "      <td>7.8</td>\n",
       "      <td>0.58</td>\n",
       "      <td>0.02</td>\n",
       "      <td>2.0</td>\n",
       "      <td>0.073</td>\n",
       "      <td>9.0</td>\n",
       "      <td>18.0</td>\n",
       "      <td>0.9968</td>\n",
       "      <td>3.36</td>\n",
       "      <td>0.57</td>\n",
       "      <td>9.5</td>\n",
       "      <td>1</td>\n",
       "    </tr>\n",
       "    <tr>\n",
       "      <th>9</th>\n",
       "      <td>7.5</td>\n",
       "      <td>0.50</td>\n",
       "      <td>0.36</td>\n",
       "      <td>6.1</td>\n",
       "      <td>0.071</td>\n",
       "      <td>17.0</td>\n",
       "      <td>102.0</td>\n",
       "      <td>0.9978</td>\n",
       "      <td>3.35</td>\n",
       "      <td>0.80</td>\n",
       "      <td>10.5</td>\n",
       "      <td>0</td>\n",
       "    </tr>\n",
       "  </tbody>\n",
       "</table>\n",
       "</div>"
      ],
      "text/plain": [
       "   fixed acidity  volatile acidity  citric acid  residual sugar  chlorides  \\\n",
       "0            7.4              0.70         0.00             1.9      0.076   \n",
       "1            7.8              0.88         0.00             2.6      0.098   \n",
       "2            7.8              0.76         0.04             2.3      0.092   \n",
       "3           11.2              0.28         0.56             1.9      0.075   \n",
       "4            7.4              0.70         0.00             1.9      0.076   \n",
       "5            7.4              0.66         0.00             1.8      0.075   \n",
       "6            7.9              0.60         0.06             1.6      0.069   \n",
       "7            7.3              0.65         0.00             1.2      0.065   \n",
       "8            7.8              0.58         0.02             2.0      0.073   \n",
       "9            7.5              0.50         0.36             6.1      0.071   \n",
       "\n",
       "   free sulfur dioxide  total sulfur dioxide  density    pH  sulphates  \\\n",
       "0                 11.0                  34.0   0.9978  3.51       0.56   \n",
       "1                 25.0                  67.0   0.9968  3.20       0.68   \n",
       "2                 15.0                  54.0   0.9970  3.26       0.65   \n",
       "3                 17.0                  60.0   0.9980  3.16       0.58   \n",
       "4                 11.0                  34.0   0.9978  3.51       0.56   \n",
       "5                 13.0                  40.0   0.9978  3.51       0.56   \n",
       "6                 15.0                  59.0   0.9964  3.30       0.46   \n",
       "7                 15.0                  21.0   0.9946  3.39       0.47   \n",
       "8                  9.0                  18.0   0.9968  3.36       0.57   \n",
       "9                 17.0                 102.0   0.9978  3.35       0.80   \n",
       "\n",
       "   alcohol  quality  \n",
       "0      9.4        0  \n",
       "1      9.8        0  \n",
       "2      9.8        0  \n",
       "3      9.8        0  \n",
       "4      9.4        0  \n",
       "5      9.4        0  \n",
       "6      9.4        0  \n",
       "7     10.0        1  \n",
       "8      9.5        1  \n",
       "9     10.5        0  "
      ]
     },
     "execution_count": 46,
     "metadata": {},
     "output_type": "execute_result"
    }
   ],
   "source": [
    "# Print the first top 10 of wine data\n",
    "\n",
    "wine.head(10)"
   ]
  },
  {
   "cell_type": "code",
   "execution_count": 47,
   "id": "0f2965a3",
   "metadata": {},
   "outputs": [],
   "source": [
    "# Out of the above displayed wines, only 2 of those wines are of high quality.\n",
    "# The rest of the wines are of low quality"
   ]
  },
  {
   "cell_type": "code",
   "execution_count": 48,
   "id": "c9fbd468",
   "metadata": {},
   "outputs": [
    {
     "name": "stderr",
     "output_type": "stream",
     "text": [
      "C:\\DATA ANALYTICS COURSE-QUANTUM ANALYTICS\\New folder\\lib\\site-packages\\sklearn\\base.py:420: UserWarning: X does not have valid feature names, but StandardScaler was fitted with feature names\n",
      "  warnings.warn(\n"
     ]
    },
    {
     "data": {
      "text/plain": [
       "array([0])"
      ]
     },
     "execution_count": 48,
     "metadata": {},
     "output_type": "execute_result"
    }
   ],
   "source": [
    "# Create new data\n",
    "\n",
    "Xnew=[[7.3, 0.58, 0.00, 2.0, 0.065, 15.0, 21.0, 0.9946, 3.36, 0.47, 10.0]]\n",
    "Xnew=sc.transform(Xnew) # transform the new data\n",
    "ynew=rfc.predict(Xnew)  # predict the new data\n",
    "\n",
    "# print new data\n",
    "ynew"
   ]
  },
  {
   "cell_type": "code",
   "execution_count": 49,
   "id": "06c33428",
   "metadata": {},
   "outputs": [],
   "source": [
    "# The above results shows a bad wine or wine of low quality"
   ]
  }
 ],
 "metadata": {
  "kernelspec": {
   "display_name": "Python 3 (ipykernel)",
   "language": "python",
   "name": "python3"
  },
  "language_info": {
   "codemirror_mode": {
    "name": "ipython",
    "version": 3
   },
   "file_extension": ".py",
   "mimetype": "text/x-python",
   "name": "python",
   "nbconvert_exporter": "python",
   "pygments_lexer": "ipython3",
   "version": "3.10.9"
  }
 },
 "nbformat": 4,
 "nbformat_minor": 5
}
