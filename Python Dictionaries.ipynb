{
 "cells": [
  {
   "cell_type": "markdown",
   "id": "c7c2c9a1",
   "metadata": {},
   "source": [
    "# Python Dictionaries and Sets"
   ]
  },
  {
   "cell_type": "markdown",
   "id": "7c268f27",
   "metadata": {},
   "source": [
    "### Dictionary is an unordered collection of data stored as a pair of key and value.\n",
    "\n",
    "### Syntax: \n",
    "### Variable_name={key1:value1,key2:value2,..}"
   ]
  },
  {
   "cell_type": "code",
   "execution_count": 1,
   "id": "5af19b55",
   "metadata": {},
   "outputs": [],
   "source": [
    "# Key is basically like an index in a list or tuple\n",
    "\n",
    "# In dictionaries, keys are not just indegenous but also strings\n",
    "\n",
    "# value1 is assigned to key1\n",
    "# value2 is assigned to key2"
   ]
  },
  {
   "cell_type": "markdown",
   "id": "1913d429",
   "metadata": {},
   "source": [
    "## Creating Dictionaries"
   ]
  },
  {
   "cell_type": "code",
   "execution_count": 2,
   "id": "1f26ef88",
   "metadata": {},
   "outputs": [
    {
     "name": "stdout",
     "output_type": "stream",
     "text": [
      "{}\n"
     ]
    }
   ],
   "source": [
    "#Create an empty dictionary\n",
    "\n",
    "d1={}\n",
    "\n",
    "print(d1)"
   ]
  },
  {
   "cell_type": "code",
   "execution_count": 3,
   "id": "e2689a6f",
   "metadata": {},
   "outputs": [
    {
     "data": {
      "text/plain": [
       "dict"
      ]
     },
     "execution_count": 3,
     "metadata": {},
     "output_type": "execute_result"
    }
   ],
   "source": [
    "type(d1)"
   ]
  },
  {
   "cell_type": "code",
   "execution_count": 4,
   "id": "8b35f036",
   "metadata": {},
   "outputs": [
    {
     "name": "stdout",
     "output_type": "stream",
     "text": [
      "<class 'dict'>\n"
     ]
    }
   ],
   "source": [
    "print(type(d1))"
   ]
  },
  {
   "cell_type": "code",
   "execution_count": 5,
   "id": "40672cb9",
   "metadata": {},
   "outputs": [
    {
     "name": "stdout",
     "output_type": "stream",
     "text": [
      "{1: 'Welcome', 2: 'to', 3: 'Chelsea', 4: 'FC'}\n"
     ]
    }
   ],
   "source": [
    "# Create a dictionary with elements\n",
    "\n",
    "d2={1:\"Welcome\",2:\"to\",3:\"Chelsea\",4:\"FC\"}\n",
    "\n",
    "print(d2)"
   ]
  },
  {
   "cell_type": "markdown",
   "id": "bc7dabc6",
   "metadata": {},
   "source": [
    "#### NOTE: The integers {1,2,3,4} are the keys\n",
    "####       The strings(\"Welcome\", \"to\", \"Chelsea\", \"FC\") are the values"
   ]
  },
  {
   "cell_type": "code",
   "execution_count": 6,
   "id": "14829c97",
   "metadata": {},
   "outputs": [
    {
     "name": "stdout",
     "output_type": "stream",
     "text": [
      "{'name': 'Palmer', 'age': 22, 'profession': 'Footballer'}\n"
     ]
    }
   ],
   "source": [
    "#Create a dictionary with the keys being strings\n",
    "\n",
    "d3={\"name\":\"Palmer\", \"age\":22, \"profession\":\"Footballer\"}\n",
    "\n",
    "print(d3)"
   ]
  },
  {
   "cell_type": "code",
   "execution_count": 7,
   "id": "f4fb7eda",
   "metadata": {},
   "outputs": [
    {
     "name": "stdout",
     "output_type": "stream",
     "text": [
      "{1: 'Welcome', 2: 'to', 3: 'Chelsea', 4: 'FC'}\n"
     ]
    }
   ],
   "source": [
    "# Create a dictionary using the dict method\n",
    "\n",
    "d4=dict({1:\"Welcome\", 2:\"to\", 3:\"Chelsea\", 4:\"FC\"})\n",
    "\n",
    "print(d4)"
   ]
  },
  {
   "cell_type": "code",
   "execution_count": 8,
   "id": "50533c54",
   "metadata": {},
   "outputs": [
    {
     "name": "stdout",
     "output_type": "stream",
     "text": [
      "{1: 'Welcome', 2: 'to', 3: 'Chelsea', 4: 'FC'}\n"
     ]
    }
   ],
   "source": [
    "# Create a tuple in a list within a dictionary\n",
    "\n",
    "d5=dict([(1, \"Welcome\"), (2,\"to\"), (3,\"Chelsea\"), (4,\"FC\")])\n",
    "\n",
    "print(d5)"
   ]
  },
  {
   "cell_type": "code",
   "execution_count": 9,
   "id": "6900d913",
   "metadata": {},
   "outputs": [
    {
     "name": "stdout",
     "output_type": "stream",
     "text": [
      "{'name': {'firstname': 'cole', 'lastmame': 'Palmer'}, 'age': 22, 'profession': 'footballer'}\n"
     ]
    }
   ],
   "source": [
    "# Create a dictionary within a dictionary\n",
    "\n",
    "d6={\"name\":{\"firstname\":\"cole\", \"lastmame\":\"Palmer\"},\"age\":22, \"profession\":\"footballer\"}\n",
    "\n",
    "print(d6)"
   ]
  },
  {
   "cell_type": "markdown",
   "id": "ffcd6962",
   "metadata": {},
   "source": [
    "## Adding elements in Dictionary"
   ]
  },
  {
   "cell_type": "code",
   "execution_count": 10,
   "id": "b2485d79",
   "metadata": {},
   "outputs": [
    {
     "name": "stdout",
     "output_type": "stream",
     "text": [
      "{0: 'Welcome'}\n"
     ]
    }
   ],
   "source": [
    "d={}\n",
    "\n",
    "d[0]=\"Welcome\"\n",
    "\n",
    "print(d)"
   ]
  },
  {
   "cell_type": "code",
   "execution_count": 11,
   "id": "d4dd5ae6",
   "metadata": {},
   "outputs": [
    {
     "name": "stdout",
     "output_type": "stream",
     "text": [
      "{0: 'Welcome', 1: ('which', 'position', 'do', 'you', 'play')}\n"
     ]
    }
   ],
   "source": [
    "# Add a tuple element to dictionary\n",
    "\n",
    "d[1]=(\"which\",\"position\",\"do\",\"you\",\"play\")\n",
    "\n",
    "print(d)"
   ]
  },
  {
   "cell_type": "code",
   "execution_count": 12,
   "id": "9eaf5174",
   "metadata": {},
   "outputs": [
    {
     "name": "stdout",
     "output_type": "stream",
     "text": [
      "{0: 'Welcome', 1: ('which', 'position', 'do', 'you', 'play'), 'name': 'Palmer'}\n"
     ]
    }
   ],
   "source": [
    "# Dictionaries can also have keys which are strings\n",
    "\n",
    "d[\"name\"]=\"Palmer\"\n",
    "\n",
    "print(d)"
   ]
  },
  {
   "cell_type": "code",
   "execution_count": 13,
   "id": "d2e6b6e7",
   "metadata": {},
   "outputs": [
    {
     "name": "stdout",
     "output_type": "stream",
     "text": [
      "{0: 'Welcome', 1: ('which', 'position', 'do', 'you', 'play'), 'name': {'firstname': 'Cole', 'lastname': 'Palmer'}}\n"
     ]
    }
   ],
   "source": [
    "# Update the dictionary: Add a dictionary within a dictionary(firstname, and lastnme)\n",
    "\n",
    "\n",
    "d[\"name\"] = {\"firstname\": \"Cole\", \"lastname\": \"Palmer\"}\n",
    "\n",
    "print(d)\n"
   ]
  },
  {
   "cell_type": "markdown",
   "id": "204e1382",
   "metadata": {},
   "source": [
    "## Accessing elements in dictionary"
   ]
  },
  {
   "cell_type": "code",
   "execution_count": 14,
   "id": "abc375c0",
   "metadata": {},
   "outputs": [
    {
     "name": "stdout",
     "output_type": "stream",
     "text": [
      "{0: 'Welcome', 1: ('which', 'position', 'do', 'you', 'play'), 'name': {'firstname': 'Cole', 'lastname': 'Palmer'}}\n"
     ]
    }
   ],
   "source": [
    "print(d)"
   ]
  },
  {
   "cell_type": "code",
   "execution_count": 15,
   "id": "1ab90d2f",
   "metadata": {},
   "outputs": [
    {
     "data": {
      "text/plain": [
       "{'firstname': 'Cole', 'lastname': 'Palmer'}"
      ]
     },
     "execution_count": 15,
     "metadata": {},
     "output_type": "execute_result"
    }
   ],
   "source": [
    "# Print the value of the key \"name\"\n",
    "\n",
    "d[\"name\"]"
   ]
  },
  {
   "cell_type": "code",
   "execution_count": 16,
   "id": "a2d9cdac",
   "metadata": {},
   "outputs": [
    {
     "data": {
      "text/plain": [
       "{'firstname': 'Cole', 'lastname': 'Palmer'}"
      ]
     },
     "execution_count": 16,
     "metadata": {},
     "output_type": "execute_result"
    }
   ],
   "source": [
    "# OR\n",
    "\n",
    "d.get(\"name\")"
   ]
  },
  {
   "cell_type": "code",
   "execution_count": 17,
   "id": "09150c17",
   "metadata": {},
   "outputs": [
    {
     "name": "stdout",
     "output_type": "stream",
     "text": [
      "Cole\n"
     ]
    }
   ],
   "source": [
    "# Print the first name within the key \"name\"\n",
    "\n",
    "print(d[\"name\"][\"firstname\"])"
   ]
  },
  {
   "cell_type": "code",
   "execution_count": 18,
   "id": "e36ec918",
   "metadata": {},
   "outputs": [
    {
     "data": {
      "text/plain": [
       "'Cole'"
      ]
     },
     "execution_count": 18,
     "metadata": {},
     "output_type": "execute_result"
    }
   ],
   "source": [
    "#OR\n",
    "\n",
    "d[\"name\"][\"firstname\"]"
   ]
  },
  {
   "cell_type": "code",
   "execution_count": 19,
   "id": "134830c5",
   "metadata": {},
   "outputs": [
    {
     "name": "stdout",
     "output_type": "stream",
     "text": [
      "Palmer\n"
     ]
    }
   ],
   "source": [
    "# Print the lastname within the key \"name\"\n",
    "\n",
    "print(d[\"name\"][\"lastname\"])"
   ]
  },
  {
   "cell_type": "code",
   "execution_count": 20,
   "id": "fb5932ec",
   "metadata": {},
   "outputs": [
    {
     "data": {
      "text/plain": [
       "'Palmer'"
      ]
     },
     "execution_count": 20,
     "metadata": {},
     "output_type": "execute_result"
    }
   ],
   "source": [
    "# OR\n",
    "\n",
    "d[\"name\"][\"lastname\"]"
   ]
  },
  {
   "cell_type": "code",
   "execution_count": 21,
   "id": "812b1d3e",
   "metadata": {},
   "outputs": [
    {
     "name": "stdout",
     "output_type": "stream",
     "text": [
      "{0: 'Welcome', 1: ('which', 'position', 'do', 'you', 'play'), 'name': {'firstname': 'Cole', 'lastname': 'Palmer'}}\n"
     ]
    }
   ],
   "source": [
    "# Print or retrieve the value of 1 using get\n",
    "\n",
    "print(d)"
   ]
  },
  {
   "cell_type": "code",
   "execution_count": 22,
   "id": "1e0cbc49",
   "metadata": {},
   "outputs": [
    {
     "data": {
      "text/plain": [
       "('which', 'position', 'do', 'you', 'play')"
      ]
     },
     "execution_count": 22,
     "metadata": {},
     "output_type": "execute_result"
    }
   ],
   "source": [
    "d.get(1)"
   ]
  },
  {
   "cell_type": "markdown",
   "id": "7294771e",
   "metadata": {},
   "source": [
    "## Deleting elements in a dictionary"
   ]
  },
  {
   "cell_type": "code",
   "execution_count": 23,
   "id": "ee019aa6",
   "metadata": {},
   "outputs": [
    {
     "name": "stdout",
     "output_type": "stream",
     "text": [
      "{0: 'Welcome', 1: ('which', 'position', 'do', 'you', 'play'), 'name': {'firstname': 'Cole', 'lastname': 'Palmer'}}\n"
     ]
    }
   ],
   "source": [
    "print(d)"
   ]
  },
  {
   "cell_type": "markdown",
   "id": "8ed81c96",
   "metadata": {},
   "source": [
    "### Deleting elements using pop() in a dictionary"
   ]
  },
  {
   "cell_type": "code",
   "execution_count": 24,
   "id": "21f2fe15",
   "metadata": {},
   "outputs": [
    {
     "data": {
      "text/plain": [
       "'Welcome'"
      ]
     },
     "execution_count": 24,
     "metadata": {},
     "output_type": "execute_result"
    }
   ],
   "source": [
    "# Delete welcome from dictionary\n",
    "\n",
    "d.pop(0)\n"
   ]
  },
  {
   "cell_type": "code",
   "execution_count": 25,
   "id": "22080df9",
   "metadata": {},
   "outputs": [
    {
     "name": "stdout",
     "output_type": "stream",
     "text": [
      "{1: ('which', 'position', 'do', 'you', 'play'), 'name': {'firstname': 'Cole', 'lastname': 'Palmer'}}\n"
     ]
    }
   ],
   "source": [
    "print(d)"
   ]
  },
  {
   "cell_type": "markdown",
   "id": "3e90f015",
   "metadata": {},
   "source": [
    "### Deleting the last element from the dictionary using popitem()"
   ]
  },
  {
   "cell_type": "code",
   "execution_count": 26,
   "id": "805bfd6d",
   "metadata": {},
   "outputs": [],
   "source": [
    "# NOTE: With pop(), we can specify the element we want to delete, \n",
    "# but with popitem(), we cannot specify the element we want to delete\n",
    "# popitem deletes the last element in the dictionary."
   ]
  },
  {
   "cell_type": "code",
   "execution_count": 27,
   "id": "673d8aad",
   "metadata": {},
   "outputs": [
    {
     "name": "stdout",
     "output_type": "stream",
     "text": [
      "{1: ('which', 'position', 'do', 'you', 'play'), 'name': {'firstname': 'Cole', 'lastname': 'Palmer'}}\n"
     ]
    }
   ],
   "source": [
    "print(d)"
   ]
  },
  {
   "cell_type": "code",
   "execution_count": 28,
   "id": "3d361e43",
   "metadata": {},
   "outputs": [
    {
     "data": {
      "text/plain": [
       "('name', {'firstname': 'Cole', 'lastname': 'Palmer'})"
      ]
     },
     "execution_count": 28,
     "metadata": {},
     "output_type": "execute_result"
    }
   ],
   "source": [
    "# Delete the last element using popitem()\n",
    "\n",
    "d.popitem()"
   ]
  },
  {
   "cell_type": "code",
   "execution_count": 29,
   "id": "856b48a3",
   "metadata": {},
   "outputs": [],
   "source": [
    "# The key \"name\" has been deleted because it is the last element of the dictionary"
   ]
  },
  {
   "cell_type": "markdown",
   "id": "1d8e46d8",
   "metadata": {},
   "source": [
    "## Using Built-in Functions in dictionaries"
   ]
  },
  {
   "cell_type": "markdown",
   "id": "e6113566",
   "metadata": {},
   "source": [
    "### values(): It returns all values in the dictionary\n",
    "###           It does not return the keys"
   ]
  },
  {
   "cell_type": "code",
   "execution_count": 31,
   "id": "84530e38",
   "metadata": {},
   "outputs": [
    {
     "data": {
      "text/plain": [
       "dict_values([('which', 'position', 'do', 'you', 'play')])"
      ]
     },
     "execution_count": 31,
     "metadata": {},
     "output_type": "execute_result"
    }
   ],
   "source": [
    "d.values()"
   ]
  },
  {
   "cell_type": "markdown",
   "id": "3eb793dd",
   "metadata": {},
   "source": [
    "### from():It takes two sequences, one for the keys and one for the values. \n",
    "###        It then creates a dictionary using keys and values\n"
   ]
  },
  {
   "cell_type": "code",
   "execution_count": 33,
   "id": "f41ace88",
   "metadata": {},
   "outputs": [],
   "source": [
    "keys={'a','b','c','d'}\n",
    "value=1"
   ]
  },
  {
   "cell_type": "code",
   "execution_count": 34,
   "id": "d72aff36",
   "metadata": {},
   "outputs": [
    {
     "data": {
      "text/plain": [
       "{'d': 1, 'a': 1, 'c': 1, 'b': 1}"
      ]
     },
     "execution_count": 34,
     "metadata": {},
     "output_type": "execute_result"
    }
   ],
   "source": [
    "# We want to each of these keys to have a value of 1 \n",
    "\n",
    "dict.fromkeys(keys,value)"
   ]
  },
  {
   "cell_type": "code",
   "execution_count": 35,
   "id": "be77be75",
   "metadata": {},
   "outputs": [],
   "source": [
    "# 'a' has been assigned with 1, 'b' has been assigned with 1, 'c' has been assigned with 1, 'd' has been assigned with 1"
   ]
  },
  {
   "cell_type": "markdown",
   "id": "bf9b7334",
   "metadata": {},
   "source": [
    "### clear(): It is used to remove the entire dictionary created"
   ]
  },
  {
   "cell_type": "code",
   "execution_count": null,
   "id": "bbc65472",
   "metadata": {},
   "outputs": [],
   "source": [
    "d.clear()"
   ]
  }
 ],
 "metadata": {
  "kernelspec": {
   "display_name": "Python 3 (ipykernel)",
   "language": "python",
   "name": "python3"
  },
  "language_info": {
   "codemirror_mode": {
    "name": "ipython",
    "version": 3
   },
   "file_extension": ".py",
   "mimetype": "text/x-python",
   "name": "python",
   "nbconvert_exporter": "python",
   "pygments_lexer": "ipython3",
   "version": "3.10.9"
  }
 },
 "nbformat": 4,
 "nbformat_minor": 5
}
