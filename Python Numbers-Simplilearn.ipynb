{
 "cells": [
  {
   "cell_type": "markdown",
   "id": "b83ba4b6",
   "metadata": {},
   "source": [
    "# Numbers in Python"
   ]
  },
  {
   "cell_type": "markdown",
   "id": "f3772a54",
   "metadata": {},
   "source": [
    "### Integers(int)"
   ]
  },
  {
   "cell_type": "code",
   "execution_count": 1,
   "id": "ba04c904",
   "metadata": {},
   "outputs": [],
   "source": [
    "num=5"
   ]
  },
  {
   "cell_type": "code",
   "execution_count": 2,
   "id": "1a0342df",
   "metadata": {},
   "outputs": [
    {
     "data": {
      "text/plain": [
       "int"
      ]
     },
     "execution_count": 2,
     "metadata": {},
     "output_type": "execute_result"
    }
   ],
   "source": [
    "type(num)"
   ]
  },
  {
   "cell_type": "code",
   "execution_count": 3,
   "id": "7094f2cd",
   "metadata": {},
   "outputs": [],
   "source": [
    "num=23575406471"
   ]
  },
  {
   "cell_type": "code",
   "execution_count": 4,
   "id": "1bc64e5b",
   "metadata": {},
   "outputs": [
    {
     "data": {
      "text/plain": [
       "int"
      ]
     },
     "execution_count": 4,
     "metadata": {},
     "output_type": "execute_result"
    }
   ],
   "source": [
    "type(num)"
   ]
  },
  {
   "cell_type": "markdown",
   "id": "55f4d1a8",
   "metadata": {},
   "source": [
    "###  Float"
   ]
  },
  {
   "cell_type": "code",
   "execution_count": 5,
   "id": "8d1b0172",
   "metadata": {},
   "outputs": [],
   "source": [
    "num=5.4"
   ]
  },
  {
   "cell_type": "code",
   "execution_count": 6,
   "id": "a41b1a4d",
   "metadata": {},
   "outputs": [
    {
     "data": {
      "text/plain": [
       "float"
      ]
     },
     "execution_count": 6,
     "metadata": {},
     "output_type": "execute_result"
    }
   ],
   "source": [
    "type(num)"
   ]
  },
  {
   "cell_type": "markdown",
   "id": "2395de1b",
   "metadata": {},
   "source": [
    "### Complex Numbers"
   ]
  },
  {
   "cell_type": "code",
   "execution_count": 7,
   "id": "8cb1f90f",
   "metadata": {},
   "outputs": [],
   "source": [
    "#Complex numbers has two parts. They incude;\n",
    "#Real complex numbers \n",
    "#Imaginary complex numbers\n",
    "#Complex numbers are stored in floating points"
   ]
  },
  {
   "cell_type": "code",
   "execution_count": 8,
   "id": "dd3e8a80",
   "metadata": {},
   "outputs": [],
   "source": [
    "num=2+5j"
   ]
  },
  {
   "cell_type": "code",
   "execution_count": 9,
   "id": "45a3de72",
   "metadata": {},
   "outputs": [
    {
     "data": {
      "text/plain": [
       "complex"
      ]
     },
     "execution_count": 9,
     "metadata": {},
     "output_type": "execute_result"
    }
   ],
   "source": [
    "type(num)"
   ]
  },
  {
   "cell_type": "code",
   "execution_count": 10,
   "id": "0996c469",
   "metadata": {},
   "outputs": [],
   "source": [
    "#Real Complex numbers"
   ]
  },
  {
   "cell_type": "code",
   "execution_count": 11,
   "id": "b516dc59",
   "metadata": {},
   "outputs": [
    {
     "data": {
      "text/plain": [
       "2.0"
      ]
     },
     "execution_count": 11,
     "metadata": {},
     "output_type": "execute_result"
    }
   ],
   "source": [
    "num.real"
   ]
  },
  {
   "cell_type": "code",
   "execution_count": 12,
   "id": "c6b2800d",
   "metadata": {},
   "outputs": [],
   "source": [
    "#Imaginary complex numbers"
   ]
  },
  {
   "cell_type": "code",
   "execution_count": 13,
   "id": "86f7ec57",
   "metadata": {},
   "outputs": [
    {
     "data": {
      "text/plain": [
       "5.0"
      ]
     },
     "execution_count": 13,
     "metadata": {},
     "output_type": "execute_result"
    }
   ],
   "source": [
    "num.imag"
   ]
  },
  {
   "cell_type": "markdown",
   "id": "44d1e870",
   "metadata": {},
   "source": [
    "### Numbers can also be negative"
   ]
  },
  {
   "cell_type": "code",
   "execution_count": 14,
   "id": "3a883724",
   "metadata": {},
   "outputs": [],
   "source": [
    "num=5647.675"
   ]
  },
  {
   "cell_type": "code",
   "execution_count": 15,
   "id": "657bc498",
   "metadata": {},
   "outputs": [
    {
     "name": "stdout",
     "output_type": "stream",
     "text": [
      "5647.675\n"
     ]
    }
   ],
   "source": [
    "print(num)"
   ]
  },
  {
   "cell_type": "code",
   "execution_count": 16,
   "id": "6206bf41",
   "metadata": {},
   "outputs": [
    {
     "data": {
      "text/plain": [
       "5647.675"
      ]
     },
     "execution_count": 16,
     "metadata": {},
     "output_type": "execute_result"
    }
   ],
   "source": [
    "num"
   ]
  },
  {
   "cell_type": "code",
   "execution_count": 17,
   "id": "cee14553",
   "metadata": {},
   "outputs": [
    {
     "data": {
      "text/plain": [
       "float"
      ]
     },
     "execution_count": 17,
     "metadata": {},
     "output_type": "execute_result"
    }
   ],
   "source": [
    "type(num)"
   ]
  },
  {
   "cell_type": "markdown",
   "id": "b55aef12",
   "metadata": {},
   "source": [
    "## Performing Arithmetic Operations on Python Numbers"
   ]
  },
  {
   "cell_type": "markdown",
   "id": "dc62fb0f",
   "metadata": {},
   "source": [
    "### Addition"
   ]
  },
  {
   "cell_type": "code",
   "execution_count": 18,
   "id": "2dd55d7f",
   "metadata": {},
   "outputs": [],
   "source": [
    "num1=10\n",
    "num2=2"
   ]
  },
  {
   "cell_type": "code",
   "execution_count": 19,
   "id": "37892771",
   "metadata": {},
   "outputs": [
    {
     "name": "stdout",
     "output_type": "stream",
     "text": [
      "12\n"
     ]
    }
   ],
   "source": [
    "print(num1+num2)"
   ]
  },
  {
   "cell_type": "markdown",
   "id": "51fabdd1",
   "metadata": {},
   "source": [
    "### Subtraction"
   ]
  },
  {
   "cell_type": "code",
   "execution_count": 20,
   "id": "b5793930",
   "metadata": {},
   "outputs": [],
   "source": [
    "num1=10\n",
    "num2=2"
   ]
  },
  {
   "cell_type": "code",
   "execution_count": 21,
   "id": "a28c289f",
   "metadata": {},
   "outputs": [
    {
     "name": "stdout",
     "output_type": "stream",
     "text": [
      "8\n"
     ]
    }
   ],
   "source": [
    "print(num1-num2)"
   ]
  },
  {
   "cell_type": "markdown",
   "id": "53647d18",
   "metadata": {},
   "source": [
    "### Multiplication"
   ]
  },
  {
   "cell_type": "code",
   "execution_count": 22,
   "id": "0186ab58",
   "metadata": {},
   "outputs": [],
   "source": [
    "num1=10\n",
    "num2=2"
   ]
  },
  {
   "cell_type": "code",
   "execution_count": 23,
   "id": "a5878272",
   "metadata": {},
   "outputs": [
    {
     "name": "stdout",
     "output_type": "stream",
     "text": [
      "20\n"
     ]
    }
   ],
   "source": [
    "print(num1*num2)"
   ]
  },
  {
   "cell_type": "markdown",
   "id": "cc0e5737",
   "metadata": {},
   "source": [
    "### Division"
   ]
  },
  {
   "cell_type": "code",
   "execution_count": 24,
   "id": "d1cb8036",
   "metadata": {},
   "outputs": [],
   "source": [
    "num1=10\n",
    "num2=2"
   ]
  },
  {
   "cell_type": "code",
   "execution_count": 25,
   "id": "1ea04d94",
   "metadata": {},
   "outputs": [
    {
     "name": "stdout",
     "output_type": "stream",
     "text": [
      "5.0\n"
     ]
    }
   ],
   "source": [
    "print(num1/num2)"
   ]
  },
  {
   "cell_type": "code",
   "execution_count": 26,
   "id": "a2dc3479",
   "metadata": {},
   "outputs": [],
   "source": [
    "#In case you do not want the results to be in a floating point, use two slash(//) signs "
   ]
  },
  {
   "cell_type": "code",
   "execution_count": 27,
   "id": "c0a9ee33",
   "metadata": {},
   "outputs": [],
   "source": [
    "num1=10\n",
    "num2=2"
   ]
  },
  {
   "cell_type": "code",
   "execution_count": 28,
   "id": "dd15fff9",
   "metadata": {},
   "outputs": [
    {
     "name": "stdout",
     "output_type": "stream",
     "text": [
      "5\n"
     ]
    }
   ],
   "source": [
    "print(num1//num2)"
   ]
  },
  {
   "cell_type": "code",
   "execution_count": 29,
   "id": "bace53d6",
   "metadata": {},
   "outputs": [],
   "source": [
    "num1=10\n",
    "num2=3"
   ]
  },
  {
   "cell_type": "code",
   "execution_count": 30,
   "id": "8789b098",
   "metadata": {},
   "outputs": [
    {
     "name": "stdout",
     "output_type": "stream",
     "text": [
      "3.3333333333333335\n"
     ]
    }
   ],
   "source": [
    "print(num1/num2)"
   ]
  },
  {
   "cell_type": "code",
   "execution_count": 31,
   "id": "226c8e18",
   "metadata": {},
   "outputs": [],
   "source": [
    "#Elinating the floating point"
   ]
  },
  {
   "cell_type": "code",
   "execution_count": 32,
   "id": "5257ce95",
   "metadata": {},
   "outputs": [],
   "source": [
    "num1=10\n",
    "num2=3"
   ]
  },
  {
   "cell_type": "code",
   "execution_count": 33,
   "id": "f6a5de61",
   "metadata": {},
   "outputs": [
    {
     "name": "stdout",
     "output_type": "stream",
     "text": [
      "3\n"
     ]
    }
   ],
   "source": [
    "print(num1//num2)"
   ]
  },
  {
   "cell_type": "markdown",
   "id": "f12b3b42",
   "metadata": {},
   "source": [
    "### Raising number to the power of another number in python"
   ]
  },
  {
   "cell_type": "code",
   "execution_count": 34,
   "id": "65619f8c",
   "metadata": {},
   "outputs": [],
   "source": [
    "#Example, 10 raised to the power 2 is written as 10**2 in python"
   ]
  },
  {
   "cell_type": "code",
   "execution_count": 35,
   "id": "7e8efe00",
   "metadata": {},
   "outputs": [],
   "source": [
    "num1=10\n",
    "num2=2"
   ]
  },
  {
   "cell_type": "code",
   "execution_count": 36,
   "id": "d42a19b3",
   "metadata": {},
   "outputs": [
    {
     "name": "stdout",
     "output_type": "stream",
     "text": [
      "100\n"
     ]
    }
   ],
   "source": [
    "print(num1**num2)"
   ]
  },
  {
   "cell_type": "markdown",
   "id": "ba821a36",
   "metadata": {},
   "source": [
    "### Finding the Remainder of a Number"
   ]
  },
  {
   "cell_type": "code",
   "execution_count": 37,
   "id": "d9acd210",
   "metadata": {},
   "outputs": [],
   "source": [
    "num1=10\n",
    "num2=2"
   ]
  },
  {
   "cell_type": "code",
   "execution_count": 38,
   "id": "8ed31445",
   "metadata": {},
   "outputs": [
    {
     "name": "stdout",
     "output_type": "stream",
     "text": [
      "0\n"
     ]
    }
   ],
   "source": [
    "print(num1%num2)"
   ]
  },
  {
   "cell_type": "code",
   "execution_count": 39,
   "id": "3d7ae82d",
   "metadata": {},
   "outputs": [],
   "source": [
    "num1=33\n",
    "num2=15"
   ]
  },
  {
   "cell_type": "code",
   "execution_count": 40,
   "id": "bd7115bb",
   "metadata": {},
   "outputs": [
    {
     "name": "stdout",
     "output_type": "stream",
     "text": [
      "3\n"
     ]
    }
   ],
   "source": [
    "print(num1%num2)"
   ]
  },
  {
   "cell_type": "code",
   "execution_count": 41,
   "id": "3a2565c7",
   "metadata": {},
   "outputs": [],
   "source": [
    "num1=10\n",
    "num2=3"
   ]
  },
  {
   "cell_type": "code",
   "execution_count": 42,
   "id": "ceba87a9",
   "metadata": {},
   "outputs": [
    {
     "name": "stdout",
     "output_type": "stream",
     "text": [
      "1\n"
     ]
    }
   ],
   "source": [
    "print(num1%num2)"
   ]
  },
  {
   "cell_type": "markdown",
   "id": "b09fdfea",
   "metadata": {},
   "source": [
    "## Python Conversions in Numbers"
   ]
  },
  {
   "cell_type": "markdown",
   "id": "38dd31b0",
   "metadata": {},
   "source": [
    "### Converting String numbers to integers\n",
    "#### For Example, convert \"192\" to an integer"
   ]
  },
  {
   "cell_type": "code",
   "execution_count": 43,
   "id": "8486cf1a",
   "metadata": {},
   "outputs": [],
   "source": [
    "x=\"192\""
   ]
  },
  {
   "cell_type": "code",
   "execution_count": 44,
   "id": "21ad5966",
   "metadata": {},
   "outputs": [
    {
     "data": {
      "text/plain": [
       "str"
      ]
     },
     "execution_count": 44,
     "metadata": {},
     "output_type": "execute_result"
    }
   ],
   "source": [
    "type(x)"
   ]
  },
  {
   "cell_type": "code",
   "execution_count": 45,
   "id": "e160a3b9",
   "metadata": {},
   "outputs": [],
   "source": [
    "#\"192\" is a string number because of the double quotation marks around it\n",
    "#To convert it to an integer, we apply int to the x value"
   ]
  },
  {
   "cell_type": "code",
   "execution_count": 46,
   "id": "b33b2439",
   "metadata": {},
   "outputs": [
    {
     "data": {
      "text/plain": [
       "192"
      ]
     },
     "execution_count": 46,
     "metadata": {},
     "output_type": "execute_result"
    }
   ],
   "source": [
    "int(x)"
   ]
  },
  {
   "cell_type": "code",
   "execution_count": 47,
   "id": "161541d2",
   "metadata": {},
   "outputs": [
    {
     "data": {
      "text/plain": [
       "int"
      ]
     },
     "execution_count": 47,
     "metadata": {},
     "output_type": "execute_result"
    }
   ],
   "source": [
    "type(int(x))"
   ]
  },
  {
   "cell_type": "markdown",
   "id": "d07460c7",
   "metadata": {},
   "source": [
    "### Converting the int number to a float number"
   ]
  },
  {
   "cell_type": "code",
   "execution_count": 48,
   "id": "c78ab0bf",
   "metadata": {},
   "outputs": [
    {
     "data": {
      "text/plain": [
       "192.0"
      ]
     },
     "execution_count": 48,
     "metadata": {},
     "output_type": "execute_result"
    }
   ],
   "source": [
    "float(int(x))"
   ]
  },
  {
   "cell_type": "code",
   "execution_count": 49,
   "id": "3fa53f7f",
   "metadata": {},
   "outputs": [],
   "source": [
    "x=float(x)"
   ]
  },
  {
   "cell_type": "code",
   "execution_count": 50,
   "id": "2450736e",
   "metadata": {},
   "outputs": [
    {
     "name": "stdout",
     "output_type": "stream",
     "text": [
      "192.0\n"
     ]
    }
   ],
   "source": [
    "print(x)"
   ]
  },
  {
   "cell_type": "markdown",
   "id": "d3233b27",
   "metadata": {},
   "source": [
    "### Converting integers and float to complex numbers"
   ]
  },
  {
   "cell_type": "code",
   "execution_count": 51,
   "id": "8ae86aa6",
   "metadata": {},
   "outputs": [],
   "source": [
    "x=192.0"
   ]
  },
  {
   "cell_type": "code",
   "execution_count": 52,
   "id": "c5b10703",
   "metadata": {},
   "outputs": [
    {
     "name": "stdout",
     "output_type": "stream",
     "text": [
      "(192+0j)\n"
     ]
    }
   ],
   "source": [
    "x=complex(x)\n",
    "print(x)"
   ]
  },
  {
   "cell_type": "code",
   "execution_count": 3,
   "id": "02f5a232",
   "metadata": {},
   "outputs": [],
   "source": [
    "#OR\n",
    "\n",
    "X=100"
   ]
  },
  {
   "cell_type": "code",
   "execution_count": 4,
   "id": "5c78f289",
   "metadata": {},
   "outputs": [
    {
     "data": {
      "text/plain": [
       "(100+0j)"
      ]
     },
     "execution_count": 4,
     "metadata": {},
     "output_type": "execute_result"
    }
   ],
   "source": [
    "x=100\n",
    "\n",
    "complex(int(x))"
   ]
  },
  {
   "cell_type": "code",
   "execution_count": 7,
   "id": "d49afe60",
   "metadata": {},
   "outputs": [],
   "source": [
    "#Converting float number to complex\n",
    "x=100.00"
   ]
  },
  {
   "cell_type": "code",
   "execution_count": 8,
   "id": "b84d6f68",
   "metadata": {},
   "outputs": [
    {
     "data": {
      "text/plain": [
       "(100+0j)"
      ]
     },
     "execution_count": 8,
     "metadata": {},
     "output_type": "execute_result"
    }
   ],
   "source": [
    "complex(float(x))"
   ]
  },
  {
   "cell_type": "code",
   "execution_count": 54,
   "id": "fdf9d1d6",
   "metadata": {},
   "outputs": [
    {
     "name": "stdout",
     "output_type": "stream",
     "text": [
      "(100+0j)\n"
     ]
    }
   ],
   "source": [
    "x=complex(x)\n",
    "print(x)"
   ]
  },
  {
   "cell_type": "code",
   "execution_count": 55,
   "id": "cd69c7ce",
   "metadata": {},
   "outputs": [],
   "source": [
    "#Functions to create complex numbers\n",
    "#Within the complex number, we create real and imaginary numbers\n",
    "#Example, complex(2,6), where 2 is a real number and 6 is an imaginary number"
   ]
  },
  {
   "cell_type": "code",
   "execution_count": 56,
   "id": "9a69bfa8",
   "metadata": {},
   "outputs": [
    {
     "name": "stdout",
     "output_type": "stream",
     "text": [
      "(2+6j)\n"
     ]
    }
   ],
   "source": [
    "print(complex(2, 6))"
   ]
  },
  {
   "cell_type": "markdown",
   "id": "6d42bf35",
   "metadata": {},
   "source": [
    "## In-built Functions that work with Numbers"
   ]
  },
  {
   "cell_type": "markdown",
   "id": "26077854",
   "metadata": {},
   "source": [
    "### 1. Absolute(abs) Function: Returns absolute value of a number"
   ]
  },
  {
   "cell_type": "code",
   "execution_count": 57,
   "id": "aadab71e",
   "metadata": {},
   "outputs": [],
   "source": [
    "#When real number is positive or negative, the return value is always positive\n",
    "#For Example, x=-7.5, will return a  positive number when the abs() function is applied."
   ]
  },
  {
   "cell_type": "code",
   "execution_count": 58,
   "id": "03aee73b",
   "metadata": {},
   "outputs": [
    {
     "name": "stdout",
     "output_type": "stream",
     "text": [
      "7.5\n"
     ]
    }
   ],
   "source": [
    "x=-7.5\n",
    "print(abs(x))"
   ]
  },
  {
   "cell_type": "code",
   "execution_count": 59,
   "id": "8f39b541",
   "metadata": {},
   "outputs": [
    {
     "name": "stdout",
     "output_type": "stream",
     "text": [
      "5934\n"
     ]
    }
   ],
   "source": [
    "y=-5934\n",
    "print(abs(y))"
   ]
  },
  {
   "cell_type": "markdown",
   "id": "16c676de",
   "metadata": {},
   "source": [
    "### 2.Exponent(e) Function: This takes a single parameter and returns that parameter as the power of e"
   ]
  },
  {
   "cell_type": "code",
   "execution_count": 60,
   "id": "42f62579",
   "metadata": {},
   "outputs": [],
   "source": [
    "# e raised to the power of the parameter you pass to exponent\n",
    "# ie, e10(e raised to the power 10)\n",
    "# We import the math library\n",
    "#Find the value of e raised to the power 10"
   ]
  },
  {
   "cell_type": "code",
   "execution_count": 61,
   "id": "8704a470",
   "metadata": {},
   "outputs": [
    {
     "name": "stdout",
     "output_type": "stream",
     "text": [
      "22026.465794806718\n"
     ]
    }
   ],
   "source": [
    "import math\n",
    "x=10\n",
    "print(math.exp(x))"
   ]
  },
  {
   "cell_type": "code",
   "execution_count": 9,
   "id": "2df370c6",
   "metadata": {},
   "outputs": [
    {
     "name": "stdout",
     "output_type": "stream",
     "text": [
      "6.129141417012625e+111\n"
     ]
    }
   ],
   "source": [
    "import math\n",
    "x=257.4\n",
    "print(math.exp(x))"
   ]
  },
  {
   "cell_type": "code",
   "execution_count": 62,
   "id": "32da8558",
   "metadata": {},
   "outputs": [],
   "source": [
    "#The value of e\n",
    "# math.e\n",
    "#This has a constant value of 2.71"
   ]
  },
  {
   "cell_type": "code",
   "execution_count": 63,
   "id": "6ee79de3",
   "metadata": {},
   "outputs": [
    {
     "data": {
      "text/plain": [
       "2.718281828459045"
      ]
     },
     "execution_count": 63,
     "metadata": {},
     "output_type": "execute_result"
    }
   ],
   "source": [
    "math.e"
   ]
  },
  {
   "cell_type": "code",
   "execution_count": 64,
   "id": "badbd0b5",
   "metadata": {},
   "outputs": [],
   "source": [
    "#The value of pi\n",
    "# math.pi\n",
    "#This has a constant value of 3.14"
   ]
  },
  {
   "cell_type": "code",
   "execution_count": 65,
   "id": "d6610469",
   "metadata": {},
   "outputs": [
    {
     "data": {
      "text/plain": [
       "3.141592653589793"
      ]
     },
     "execution_count": 65,
     "metadata": {},
     "output_type": "execute_result"
    }
   ],
   "source": [
    "math.pi"
   ]
  },
  {
   "cell_type": "markdown",
   "id": "e9801567",
   "metadata": {},
   "source": [
    "### 3. Square Root(sqrt) Function: When you pass a value to a function, it returns the square root(sqrt) of that value"
   ]
  },
  {
   "cell_type": "code",
   "execution_count": 66,
   "id": "dd8ad4e4",
   "metadata": {},
   "outputs": [],
   "source": [
    "# Print the square root of 9"
   ]
  },
  {
   "cell_type": "code",
   "execution_count": 67,
   "id": "b83e209e",
   "metadata": {},
   "outputs": [
    {
     "name": "stdout",
     "output_type": "stream",
     "text": [
      "3.0\n"
     ]
    }
   ],
   "source": [
    "print(math.sqrt(9))"
   ]
  },
  {
   "cell_type": "code",
   "execution_count": 68,
   "id": "531807f1",
   "metadata": {},
   "outputs": [],
   "source": [
    "# Print the square root of 289"
   ]
  },
  {
   "cell_type": "code",
   "execution_count": 69,
   "id": "0778c687",
   "metadata": {},
   "outputs": [
    {
     "name": "stdout",
     "output_type": "stream",
     "text": [
      "17.0\n"
     ]
    }
   ],
   "source": [
    "print(math.sqrt(289))"
   ]
  },
  {
   "cell_type": "code",
   "execution_count": 10,
   "id": "35a6a770",
   "metadata": {},
   "outputs": [
    {
     "name": "stdout",
     "output_type": "stream",
     "text": [
      "5.196152422706632\n"
     ]
    }
   ],
   "source": [
    "#print the square root of 27\n",
    "x=27\n",
    "\n",
    "print(math.sqrt(x))"
   ]
  },
  {
   "cell_type": "markdown",
   "id": "2c63b947",
   "metadata": {},
   "source": [
    "### 4. Max() Function: This returns the maximum value of all numbers displayed"
   ]
  },
  {
   "cell_type": "code",
   "execution_count": 70,
   "id": "7251009b",
   "metadata": {},
   "outputs": [],
   "source": [
    "#Print the maximum value of these numbers (1,34,489)"
   ]
  },
  {
   "cell_type": "code",
   "execution_count": 71,
   "id": "6dc6ed7a",
   "metadata": {},
   "outputs": [
    {
     "data": {
      "text/plain": [
       "489"
      ]
     },
     "execution_count": 71,
     "metadata": {},
     "output_type": "execute_result"
    }
   ],
   "source": [
    "max(1,34,489)"
   ]
  },
  {
   "cell_type": "code",
   "execution_count": 72,
   "id": "6b34d35c",
   "metadata": {},
   "outputs": [],
   "source": [
    "#Print the maximum value of these numbers (100,350,489,1100)"
   ]
  },
  {
   "cell_type": "code",
   "execution_count": 73,
   "id": "c154af85",
   "metadata": {},
   "outputs": [
    {
     "data": {
      "text/plain": [
       "1100"
      ]
     },
     "execution_count": 73,
     "metadata": {},
     "output_type": "execute_result"
    }
   ],
   "source": [
    "max(100,350,489,1100)"
   ]
  },
  {
   "cell_type": "markdown",
   "id": "a194633f",
   "metadata": {},
   "source": [
    "### 5. Min() Function: This returns the minimum value of all numbers displayed"
   ]
  },
  {
   "cell_type": "code",
   "execution_count": 74,
   "id": "1733f385",
   "metadata": {},
   "outputs": [],
   "source": [
    "# Print the minimum number of these values(1,34,4986,3254,687)"
   ]
  },
  {
   "cell_type": "code",
   "execution_count": 75,
   "id": "b308ee06",
   "metadata": {},
   "outputs": [
    {
     "data": {
      "text/plain": [
       "1"
      ]
     },
     "execution_count": 75,
     "metadata": {},
     "output_type": "execute_result"
    }
   ],
   "source": [
    "min(1,34,4986,3254,687)"
   ]
  },
  {
   "cell_type": "code",
   "execution_count": 76,
   "id": "bce39386",
   "metadata": {},
   "outputs": [],
   "source": [
    "# Print the minimum number of these values(1234,3443,4986,3254,8687)"
   ]
  },
  {
   "cell_type": "code",
   "execution_count": 77,
   "id": "e5a9fa6f",
   "metadata": {},
   "outputs": [
    {
     "data": {
      "text/plain": [
       "1234"
      ]
     },
     "execution_count": 77,
     "metadata": {},
     "output_type": "execute_result"
    }
   ],
   "source": [
    "min(1234,3443,4986,3254,8687)"
   ]
  },
  {
   "cell_type": "markdown",
   "id": "b64a273d",
   "metadata": {},
   "source": [
    "## What are Lists?"
   ]
  },
  {
   "cell_type": "markdown",
   "id": "182ed96d",
   "metadata": {},
   "source": [
    "### A List is a collection of data. It can hold values of multiple data types\n",
    "### Example list x can contain, 1,89,A,Hey,0, B \n",
    "### X=[1,89,A,Hey,0,B]"
   ]
  },
  {
   "cell_type": "code",
   "execution_count": 78,
   "id": "f6364863",
   "metadata": {},
   "outputs": [],
   "source": [
    "#All Lists have positional indexes, the positional index of 1 ia 0, 89 is 1, A is 2, Hey is 3, 0 is 4 and B is 5"
   ]
  },
  {
   "cell_type": "markdown",
   "id": "097fb71b",
   "metadata": {},
   "source": [
    "#### Creating Lists of Integers"
   ]
  },
  {
   "cell_type": "code",
   "execution_count": 79,
   "id": "f8f3ce37",
   "metadata": {},
   "outputs": [
    {
     "name": "stdout",
     "output_type": "stream",
     "text": [
      "[1, 2, 3, 4]\n"
     ]
    }
   ],
   "source": [
    "num=[1,2,3,4]\n",
    "print(num)"
   ]
  },
  {
   "cell_type": "markdown",
   "id": "b3f0dbdc",
   "metadata": {},
   "source": [
    "#### Creating lists for single characters"
   ]
  },
  {
   "cell_type": "code",
   "execution_count": 80,
   "id": "5a1ff2d4",
   "metadata": {},
   "outputs": [],
   "source": [
    "letter=[\"a\",\"b\",\"c\",\"d\"]"
   ]
  },
  {
   "cell_type": "code",
   "execution_count": 81,
   "id": "f6f047b5",
   "metadata": {},
   "outputs": [
    {
     "name": "stdout",
     "output_type": "stream",
     "text": [
      "['a', 'b', 'c', 'd']\n"
     ]
    }
   ],
   "source": [
    "print(letter)"
   ]
  },
  {
   "cell_type": "markdown",
   "id": "8befaba6",
   "metadata": {},
   "source": [
    "#### Creating a list for strings"
   ]
  },
  {
   "cell_type": "code",
   "execution_count": 82,
   "id": "53013de7",
   "metadata": {},
   "outputs": [],
   "source": [
    "stg=[\"get\",\"your\",\"Chelsea\",\"jersey\", \"now\"]"
   ]
  },
  {
   "cell_type": "code",
   "execution_count": 83,
   "id": "938fa8dc",
   "metadata": {},
   "outputs": [
    {
     "name": "stdout",
     "output_type": "stream",
     "text": [
      "['get', 'your', 'Chelsea', 'jersey', 'now']\n"
     ]
    }
   ],
   "source": [
    "print(stg)"
   ]
  },
  {
   "cell_type": "markdown",
   "id": "589550ba",
   "metadata": {},
   "source": [
    "#### Creating a list containing a combination of different datatypes"
   ]
  },
  {
   "cell_type": "code",
   "execution_count": 84,
   "id": "43f8e2f5",
   "metadata": {},
   "outputs": [],
   "source": [
    "mix=[1,6,\"get\",\"your\",\"chelsea\",\"jersey\",\"now\"]"
   ]
  },
  {
   "cell_type": "code",
   "execution_count": 85,
   "id": "af30892c",
   "metadata": {},
   "outputs": [
    {
     "name": "stdout",
     "output_type": "stream",
     "text": [
      "[1, 6, 'get', 'your', 'chelsea', 'jersey', 'now']\n"
     ]
    }
   ],
   "source": [
    "print(mix)"
   ]
  },
  {
   "cell_type": "markdown",
   "id": "5149e33f",
   "metadata": {},
   "source": [
    "#### Creating a list containing two or more lists(matrices)"
   ]
  },
  {
   "cell_type": "code",
   "execution_count": 86,
   "id": "f8ae66ee",
   "metadata": {},
   "outputs": [],
   "source": [
    "mat=[[1,2],[\"a\",\"b\"]]"
   ]
  },
  {
   "cell_type": "code",
   "execution_count": 87,
   "id": "58229266",
   "metadata": {},
   "outputs": [
    {
     "name": "stdout",
     "output_type": "stream",
     "text": [
      "[[1, 2], ['a', 'b']]\n"
     ]
    }
   ],
   "source": [
    "print(mat)"
   ]
  },
  {
   "cell_type": "code",
   "execution_count": 88,
   "id": "af8dbac9",
   "metadata": {},
   "outputs": [],
   "source": [
    "mat=[[1,2],[\"a\",\"b\"],[\"chelsea\",\"football\",\"club\"]]"
   ]
  },
  {
   "cell_type": "code",
   "execution_count": 89,
   "id": "af9c5f11",
   "metadata": {},
   "outputs": [
    {
     "name": "stdout",
     "output_type": "stream",
     "text": [
      "[[1, 2], ['a', 'b'], ['chelsea', 'football', 'club']]\n"
     ]
    }
   ],
   "source": [
    "print(mat)"
   ]
  },
  {
   "cell_type": "markdown",
   "id": "7e43c070",
   "metadata": {},
   "source": [
    "## Accessing Elements in Lists"
   ]
  },
  {
   "cell_type": "code",
   "execution_count": 90,
   "id": "e82fc529",
   "metadata": {},
   "outputs": [],
   "source": [
    "#In accessing elements in lists, we use positional index of the element\n",
    "#Extract \"chelsea\" from the lists"
   ]
  },
  {
   "cell_type": "code",
   "execution_count": 91,
   "id": "dfd27c5d",
   "metadata": {},
   "outputs": [
    {
     "name": "stdout",
     "output_type": "stream",
     "text": [
      "[1, 6, 'get', 'your', 'chelsea', 'jersey', 'now']\n"
     ]
    }
   ],
   "source": [
    "print(mix)"
   ]
  },
  {
   "cell_type": "code",
   "execution_count": 92,
   "id": "fc4b884b",
   "metadata": {},
   "outputs": [
    {
     "data": {
      "text/plain": [
       "'chelsea'"
      ]
     },
     "execution_count": 92,
     "metadata": {},
     "output_type": "execute_result"
    }
   ],
   "source": [
    "mix[4]"
   ]
  },
  {
   "cell_type": "code",
   "execution_count": 93,
   "id": "b024798f",
   "metadata": {},
   "outputs": [],
   "source": [
    "#Extract \"jersey\" from the list"
   ]
  },
  {
   "cell_type": "code",
   "execution_count": 94,
   "id": "af92d2f8",
   "metadata": {},
   "outputs": [
    {
     "data": {
      "text/plain": [
       "'jersey'"
      ]
     },
     "execution_count": 94,
     "metadata": {},
     "output_type": "execute_result"
    }
   ],
   "source": [
    "mix[5]"
   ]
  },
  {
   "cell_type": "markdown",
   "id": "415a30da",
   "metadata": {},
   "source": [
    "#### Similarly, we can use negative(-) indices to access the elements in the list"
   ]
  },
  {
   "cell_type": "code",
   "execution_count": 95,
   "id": "2a70ceb6",
   "metadata": {},
   "outputs": [],
   "source": [
    "#The negative sign allow us to count the elements from backwards\n",
    "#Extract \"jersey\" from the list using the negativ(-) sign "
   ]
  },
  {
   "cell_type": "code",
   "execution_count": 96,
   "id": "a7a0e270",
   "metadata": {},
   "outputs": [
    {
     "data": {
      "text/plain": [
       "'jersey'"
      ]
     },
     "execution_count": 96,
     "metadata": {},
     "output_type": "execute_result"
    }
   ],
   "source": [
    "mix[-2]"
   ]
  },
  {
   "cell_type": "code",
   "execution_count": 97,
   "id": "56551bdb",
   "metadata": {},
   "outputs": [],
   "source": [
    "#In this case, we have been able to access \"jersey\" by counting from backwards from \"now\", which is -2"
   ]
  },
  {
   "cell_type": "code",
   "execution_count": 98,
   "id": "8afd9914",
   "metadata": {},
   "outputs": [],
   "source": [
    "#NOTE: If we count list from the beginning (front), it starts with 0,\n",
    "#However, if we count a list from backwards, it starts with -1"
   ]
  },
  {
   "cell_type": "markdown",
   "id": "3eb63544",
   "metadata": {},
   "source": [
    "### Accessing a Range of Elements"
   ]
  },
  {
   "cell_type": "code",
   "execution_count": 99,
   "id": "f1e41d06",
   "metadata": {},
   "outputs": [
    {
     "name": "stdout",
     "output_type": "stream",
     "text": [
      "[1, 6, 'get', 'your', 'chelsea', 'jersey', 'now']\n"
     ]
    }
   ],
   "source": [
    "print(mix)"
   ]
  },
  {
   "cell_type": "code",
   "execution_count": 100,
   "id": "0284dfe9",
   "metadata": {},
   "outputs": [],
   "source": [
    "#Extract the first four elements from mix"
   ]
  },
  {
   "cell_type": "code",
   "execution_count": 101,
   "id": "186ce9b4",
   "metadata": {},
   "outputs": [
    {
     "data": {
      "text/plain": [
       "[1, 6, 'get', 'your']"
      ]
     },
     "execution_count": 101,
     "metadata": {},
     "output_type": "execute_result"
    }
   ],
   "source": [
    "mix[0:4]"
   ]
  },
  {
   "cell_type": "code",
   "execution_count": 102,
   "id": "64046c8c",
   "metadata": {},
   "outputs": [],
   "source": [
    "#Extract the first two elements from mix"
   ]
  },
  {
   "cell_type": "code",
   "execution_count": 103,
   "id": "da678c22",
   "metadata": {},
   "outputs": [
    {
     "data": {
      "text/plain": [
       "[1, 6]"
      ]
     },
     "execution_count": 103,
     "metadata": {},
     "output_type": "execute_result"
    }
   ],
   "source": [
    "mix[:2]"
   ]
  },
  {
   "cell_type": "code",
   "execution_count": 104,
   "id": "df10560d",
   "metadata": {},
   "outputs": [],
   "source": [
    "#Extract the all elements from mix"
   ]
  },
  {
   "cell_type": "code",
   "execution_count": 105,
   "id": "6ce3a1fc",
   "metadata": {},
   "outputs": [
    {
     "data": {
      "text/plain": [
       "[1, 6, 'get', 'your', 'chelsea', 'jersey', 'now']"
      ]
     },
     "execution_count": 105,
     "metadata": {},
     "output_type": "execute_result"
    }
   ],
   "source": [
    "mix[:7]"
   ]
  },
  {
   "cell_type": "code",
   "execution_count": 106,
   "id": "ea763588",
   "metadata": {},
   "outputs": [
    {
     "data": {
      "text/plain": [
       "['your', 'chelsea', 'jersey', 'now']"
      ]
     },
     "execution_count": 106,
     "metadata": {},
     "output_type": "execute_result"
    }
   ],
   "source": [
    "#Extract all elements from the starting position of the list \"your\"\n",
    "\n",
    "mix[3:]"
   ]
  },
  {
   "cell_type": "code",
   "execution_count": 107,
   "id": "0abfb982",
   "metadata": {},
   "outputs": [
    {
     "data": {
      "text/plain": [
       "['get', 'your', 'chelsea', 'jersey']"
      ]
     },
     "execution_count": 107,
     "metadata": {},
     "output_type": "execute_result"
    }
   ],
   "source": [
    "#Extract all elements from the starting position of the list \"get\" and end at \"jersey\"\n",
    "\n",
    "mix[2:6]"
   ]
  },
  {
   "cell_type": "code",
   "execution_count": 108,
   "id": "9a5b7912",
   "metadata": {},
   "outputs": [
    {
     "data": {
      "text/plain": [
       "['get', 'your', 'chelsea', 'jersey']"
      ]
     },
     "execution_count": 108,
     "metadata": {},
     "output_type": "execute_result"
    }
   ],
   "source": [
    "#OR you can count it from backwards\n",
    "\n",
    "mix[2:-1]"
   ]
  },
  {
   "cell_type": "code",
   "execution_count": 109,
   "id": "a33719e6",
   "metadata": {},
   "outputs": [
    {
     "data": {
      "text/plain": [
       "['chelsea', 'jersey']"
      ]
     },
     "execution_count": 109,
     "metadata": {},
     "output_type": "execute_result"
    }
   ],
   "source": [
    "#Extract \"chelsea\" and \"jersey\"\n",
    "\n",
    "mix[4:-1]"
   ]
  },
  {
   "cell_type": "code",
   "execution_count": 110,
   "id": "9e7b70ca",
   "metadata": {},
   "outputs": [
    {
     "data": {
      "text/plain": [
       "['chelsea', 'jersey']"
      ]
     },
     "execution_count": 110,
     "metadata": {},
     "output_type": "execute_result"
    }
   ],
   "source": [
    "mix[4:6]"
   ]
  },
  {
   "cell_type": "markdown",
   "id": "32e773fc",
   "metadata": {},
   "source": [
    "### Extracting every second element of list"
   ]
  },
  {
   "cell_type": "code",
   "execution_count": 111,
   "id": "8f727201",
   "metadata": {},
   "outputs": [
    {
     "name": "stdout",
     "output_type": "stream",
     "text": [
      "[1, 6, 'get', 'your', 'chelsea', 'jersey', 'now']\n"
     ]
    }
   ],
   "source": [
    "print(mix)"
   ]
  },
  {
   "cell_type": "code",
   "execution_count": 112,
   "id": "3784bc17",
   "metadata": {},
   "outputs": [],
   "source": [
    "#Extract every second element of the list"
   ]
  },
  {
   "cell_type": "code",
   "execution_count": 113,
   "id": "8d405b23",
   "metadata": {},
   "outputs": [
    {
     "data": {
      "text/plain": [
       "[1, 'get', 'chelsea', 'now']"
      ]
     },
     "execution_count": 113,
     "metadata": {},
     "output_type": "execute_result"
    }
   ],
   "source": [
    "mix[::2]"
   ]
  },
  {
   "cell_type": "code",
   "execution_count": 114,
   "id": "2a757722",
   "metadata": {},
   "outputs": [
    {
     "data": {
      "text/plain": [
       "[1, 6, 'get', 'your', 'chelsea', 'jersey', 'now']"
      ]
     },
     "execution_count": 114,
     "metadata": {},
     "output_type": "execute_result"
    }
   ],
   "source": [
    "#Extract every first element of the list\n",
    "\n",
    "mix[::1]"
   ]
  },
  {
   "cell_type": "code",
   "execution_count": 115,
   "id": "0e5edaf0",
   "metadata": {},
   "outputs": [
    {
     "data": {
      "text/plain": [
       "[1, 'your', 'now']"
      ]
     },
     "execution_count": 115,
     "metadata": {},
     "output_type": "execute_result"
    }
   ],
   "source": [
    "#Extract every third element of the list\n",
    "\n",
    "mix[::3]"
   ]
  },
  {
   "cell_type": "markdown",
   "id": "90d4827a",
   "metadata": {},
   "source": [
    "### Printing lists in reverse order"
   ]
  },
  {
   "cell_type": "code",
   "execution_count": 116,
   "id": "ba6b4f8b",
   "metadata": {},
   "outputs": [
    {
     "name": "stdout",
     "output_type": "stream",
     "text": [
      "[1, 6, 'get', 'your', 'chelsea', 'jersey', 'now']\n"
     ]
    }
   ],
   "source": [
    "print(mix)"
   ]
  },
  {
   "cell_type": "code",
   "execution_count": 117,
   "id": "7cdd339e",
   "metadata": {},
   "outputs": [
    {
     "data": {
      "text/plain": [
       "['now', 'jersey', 'chelsea', 'your', 'get', 6, 1]"
      ]
     },
     "execution_count": 117,
     "metadata": {},
     "output_type": "execute_result"
    }
   ],
   "source": [
    "#Print a reverse version of mix\n",
    "\n",
    "mix[::-1]"
   ]
  },
  {
   "cell_type": "markdown",
   "id": "7bae2a50",
   "metadata": {},
   "source": [
    "## Operations on Lists"
   ]
  },
  {
   "cell_type": "markdown",
   "id": "4ffde44f",
   "metadata": {},
   "source": [
    "### Multiplication"
   ]
  },
  {
   "cell_type": "code",
   "execution_count": 118,
   "id": "504f5c75",
   "metadata": {},
   "outputs": [
    {
     "name": "stdout",
     "output_type": "stream",
     "text": [
      "[0, 0, 0, 0, 0, 0, 0, 0, 0, 0, 0, 0, 0, 0, 0, 0, 0, 0, 0, 0, 0, 0, 0, 0, 0, 0, 0, 0, 0, 0, 0, 0, 0, 0, 0, 0, 0, 0, 0, 0, 0, 0, 0, 0, 0, 0, 0, 0, 0, 0, 0, 0, 0, 0, 0, 0, 0, 0, 0, 0, 0, 0, 0, 0, 0, 0, 0, 0, 0, 0, 0, 0, 0, 0, 0, 0, 0, 0, 0, 0, 0, 0, 0, 0, 0, 0, 0, 0, 0, 0, 0, 0, 0, 0, 0, 0, 0, 0, 0, 0]\n"
     ]
    }
   ],
   "source": [
    "#Create a list of 100 zeros\n",
    "\n",
    "z=[0]*100\n",
    "print(z)"
   ]
  },
  {
   "cell_type": "code",
   "execution_count": 119,
   "id": "fbbd5a60",
   "metadata": {},
   "outputs": [
    {
     "name": "stdout",
     "output_type": "stream",
     "text": [
      "[[0, 0, 0, 0, 0, 0, 0, 0, 0, 0, 0, 0, 0, 0, 0, 0, 0, 0, 0, 0, 0, 0, 0, 0, 0, 0, 0, 0, 0, 0, 0, 0, 0, 0, 0, 0, 0, 0, 0, 0, 0, 0, 0, 0, 0, 0, 0, 0, 0, 0, 0, 0, 0, 0, 0, 0, 0, 0, 0, 0, 0, 0, 0, 0, 0, 0, 0, 0, 0, 0, 0, 0, 0, 0, 0, 0, 0, 0, 0, 0, 0, 0, 0, 0, 0, 0, 0, 0, 0, 0, 0, 0, 0, 0, 0, 0, 0, 0, 0, 0], [1, 1, 1, 1, 1, 1, 1, 1, 1, 1, 1, 1, 1, 1, 1, 1, 1, 1, 1, 1, 1, 1, 1, 1, 1, 1, 1, 1, 1, 1, 1, 1, 1, 1, 1, 1, 1, 1, 1, 1, 1, 1, 1, 1, 1, 1, 1, 1, 1, 1, 1, 1, 1, 1, 1, 1, 1, 1, 1, 1, 1, 1, 1, 1, 1, 1, 1, 1, 1, 1, 1, 1, 1, 1, 1, 1, 1, 1, 1, 1, 1, 1, 1, 1, 1, 1, 1, 1, 1, 1, 1, 1, 1, 1, 1, 1, 1, 1, 1, 1, 1, 1, 1, 1, 1, 1, 1, 1, 1, 1, 1, 1, 1, 1, 1, 1, 1, 1, 1, 1, 1, 1, 1, 1, 1, 1, 1, 1, 1, 1, 1, 1, 1, 1, 1, 1, 1, 1, 1, 1, 1, 1, 1, 1, 1, 1, 1, 1, 1, 1, 1, 1, 1, 1, 1, 1, 1, 1, 1, 1, 1, 1, 1, 1, 1, 1, 1, 1, 1, 1, 1, 1, 1, 1, 1, 1, 1, 1, 1, 1, 1, 1, 1, 1, 1, 1, 1, 1, 1, 1, 1, 1, 1, 1, 1, 1, 1, 1, 1, 1], [5, 5, 5, 5, 5, 5, 5, 5, 5, 5, 5, 5, 5, 5, 5, 5, 5, 5, 5, 5, 5, 5, 5, 5, 5, 5, 5, 5, 5, 5, 5, 5, 5, 5, 5, 5, 5, 5, 5, 5, 5, 5, 5, 5, 5, 5, 5, 5, 5, 5, 5, 5, 5, 5, 5, 5, 5, 5, 5, 5, 5, 5, 5, 5, 5, 5, 5, 5, 5, 5, 5, 5, 5, 5, 5, 5, 5, 5, 5, 5, 5, 5, 5, 5, 5, 5, 5, 5, 5, 5, 5, 5, 5, 5, 5, 5, 5, 5, 5, 5, 5, 5, 5, 5, 5, 5, 5, 5, 5, 5, 5, 5, 5, 5, 5, 5, 5, 5, 5, 5, 5, 5, 5, 5, 5, 5, 5, 5, 5, 5, 5, 5, 5, 5, 5, 5, 5, 5, 5, 5, 5, 5, 5, 5, 5, 5, 5, 5, 5, 5, 5, 5, 5, 5, 5, 5, 5, 5, 5, 5, 5, 5, 5, 5, 5, 5, 5, 5, 5, 5, 5, 5, 5, 5, 5, 5, 5, 5, 5, 5, 5, 5, 5, 5, 5, 5, 5, 5, 5, 5, 5, 5, 5, 5, 5, 5, 5, 5, 5, 5, 5, 5, 5, 5, 5, 5, 5, 5, 5, 5, 5, 5, 5, 5, 5, 5, 5, 5, 5, 5, 5, 5, 5, 5, 5, 5, 5, 5, 5, 5, 5, 5, 5, 5, 5, 5, 5, 5, 5, 5, 5, 5, 5, 5, 5, 5, 5, 5, 5, 5, 5, 5, 5, 5, 5, 5, 5, 5, 5, 5, 5, 5, 5, 5, 5, 5, 5, 5, 5, 5, 5, 5, 5, 5, 5, 5, 5, 5, 5, 5, 5, 5, 5, 5, 5, 5, 5, 5, 5, 5, 5, 5, 5, 5, 5, 5, 5, 5, 5, 5]]\n"
     ]
    }
   ],
   "source": [
    "#Create a list of 100 zeros,200 ones, and 300 fives\n",
    "\n",
    "k=[[0]*100,[1]*200,[5]*300]\n",
    "print(k)"
   ]
  },
  {
   "cell_type": "markdown",
   "id": "4b757928",
   "metadata": {},
   "source": [
    "### Concatenating(Addition)"
   ]
  },
  {
   "cell_type": "code",
   "execution_count": 120,
   "id": "c3873e55",
   "metadata": {},
   "outputs": [
    {
     "name": "stdout",
     "output_type": "stream",
     "text": [
      "['a', 'b', 'c', 'd']\n"
     ]
    }
   ],
   "source": [
    "#Create a list to concatenate the two list that we previously created (ie letter, and stg(string))\n",
    "\n",
    "print(letter)"
   ]
  },
  {
   "cell_type": "code",
   "execution_count": 121,
   "id": "c7c52ad0",
   "metadata": {},
   "outputs": [
    {
     "name": "stdout",
     "output_type": "stream",
     "text": [
      "['get', 'your', 'Chelsea', 'jersey', 'now']\n"
     ]
    }
   ],
   "source": [
    "print(stg)"
   ]
  },
  {
   "cell_type": "code",
   "execution_count": 122,
   "id": "d69c9365",
   "metadata": {},
   "outputs": [
    {
     "name": "stdout",
     "output_type": "stream",
     "text": [
      "['a', 'b', 'c', 'd', 'get', 'your', 'Chelsea', 'jersey', 'now']\n"
     ]
    }
   ],
   "source": [
    "#Concatenate letter and stg\n",
    "\n",
    "conc=letter+stg\n",
    "print(conc)"
   ]
  },
  {
   "cell_type": "markdown",
   "id": "40cfea52",
   "metadata": {},
   "source": [
    "### Giving a string as in an argument to this function list and make each element of the string as saparate element in a list"
   ]
  },
  {
   "cell_type": "code",
   "execution_count": 123,
   "id": "ecadeffe",
   "metadata": {},
   "outputs": [
    {
     "name": "stdout",
     "output_type": "stream",
     "text": [
      "['h', 'e', 'y', ' ', 't', 'h', 'e', 'r', 'e']\n"
     ]
    }
   ],
   "source": [
    "# Every letter string in the list becomes a single element in the list var\n",
    "\n",
    "var=list(\"hey there\")\n",
    "print(var)"
   ]
  },
  {
   "cell_type": "markdown",
   "id": "a6a82ca5",
   "metadata": {},
   "source": [
    "### Picking one or more elements in a list and storing them in different variable"
   ]
  },
  {
   "cell_type": "code",
   "execution_count": 124,
   "id": "08f3def2",
   "metadata": {},
   "outputs": [
    {
     "name": "stdout",
     "output_type": "stream",
     "text": [
      "[1, 2, 3, 4]\n"
     ]
    }
   ],
   "source": [
    "#Using the list num previously created\n",
    "\n",
    "print(num)"
   ]
  },
  {
   "cell_type": "code",
   "execution_count": 125,
   "id": "a48a64fb",
   "metadata": {},
   "outputs": [
    {
     "name": "stdout",
     "output_type": "stream",
     "text": [
      "1\n",
      "[2, 3, 4]\n"
     ]
    }
   ],
   "source": [
    "#We want the first element[1] of list num to be in a variable \"one\" and \n",
    "#want the rest of the elements [2,3,4] to be stored in another list called \"other\"\n",
    "\n",
    "one,*other=num\n",
    "print(one)\n",
    "print(other)"
   ]
  },
  {
   "cell_type": "code",
   "execution_count": 126,
   "id": "ba9afc30",
   "metadata": {},
   "outputs": [],
   "source": [
    "#In this case, element [1] has been stored as one, and elements[2,3,4] has been stored as other"
   ]
  },
  {
   "cell_type": "markdown",
   "id": "72f7b948",
   "metadata": {},
   "source": [
    "## Methods in Lists"
   ]
  },
  {
   "cell_type": "markdown",
   "id": "99e554e9",
   "metadata": {},
   "source": [
    "### Append():  Assigning or adding an element to a list"
   ]
  },
  {
   "cell_type": "code",
   "execution_count": 127,
   "id": "9fd61182",
   "metadata": {},
   "outputs": [
    {
     "name": "stdout",
     "output_type": "stream",
     "text": [
      "[1, 2, 3, 4, 6]\n"
     ]
    }
   ],
   "source": [
    "#Append 6 to the num list\n",
    "\n",
    "num.append(6)\n",
    "print(num)"
   ]
  },
  {
   "cell_type": "markdown",
   "id": "8e21ac54",
   "metadata": {},
   "source": [
    "### Extend(): Adding multiple elements to a list"
   ]
  },
  {
   "cell_type": "code",
   "execution_count": 128,
   "id": "98fdb50b",
   "metadata": {},
   "outputs": [
    {
     "name": "stdout",
     "output_type": "stream",
     "text": [
      "[1, 2, 3, 4, 6]\n"
     ]
    }
   ],
   "source": [
    "print(num)"
   ]
  },
  {
   "cell_type": "code",
   "execution_count": 129,
   "id": "44347b17",
   "metadata": {},
   "outputs": [],
   "source": [
    "#Add stg(string) to the num list\n",
    "num.extend(stg)"
   ]
  },
  {
   "cell_type": "code",
   "execution_count": 130,
   "id": "d7dd04b0",
   "metadata": {},
   "outputs": [
    {
     "name": "stdout",
     "output_type": "stream",
     "text": [
      "['get', 'your', 'Chelsea', 'jersey', 'now']\n"
     ]
    }
   ],
   "source": [
    "print(stg)"
   ]
  },
  {
   "cell_type": "code",
   "execution_count": 131,
   "id": "b23a7100",
   "metadata": {},
   "outputs": [
    {
     "name": "stdout",
     "output_type": "stream",
     "text": [
      "[1, 2, 3, 4, 6, 'get', 'your', 'Chelsea', 'jersey', 'now']\n"
     ]
    }
   ],
   "source": [
    "print(num)"
   ]
  },
  {
   "cell_type": "markdown",
   "id": "aee07e0c",
   "metadata": {},
   "source": [
    "### Insert(): Inserting elements in between the list"
   ]
  },
  {
   "cell_type": "code",
   "execution_count": 132,
   "id": "79ed49f6",
   "metadata": {},
   "outputs": [
    {
     "name": "stdout",
     "output_type": "stream",
     "text": [
      "[1, 2, 3, 4, 6, 'get', 'your', 'Cole Palmer', 'Chelsea', 'jersey', 'now']\n"
     ]
    }
   ],
   "source": [
    "#Insert \"Cole Palmer\" in between the codes\n",
    "\n",
    "num.insert(7, \"Cole Palmer\")\n",
    "\n",
    "print(num)"
   ]
  },
  {
   "cell_type": "markdown",
   "id": "78e0bf03",
   "metadata": {},
   "source": [
    "### Remove(): This removes an element from a list"
   ]
  },
  {
   "cell_type": "code",
   "execution_count": 134,
   "id": "0f0c7fe7",
   "metadata": {},
   "outputs": [
    {
     "name": "stdout",
     "output_type": "stream",
     "text": [
      "[1, 2, 3, 4, 6, 'get', 'your', 'Cole Palmer', 'jersey', 'now']\n"
     ]
    }
   ],
   "source": [
    "#Remove Chelsea from the list\n",
    "\n",
    "num.remove(\"Chelsea\")\n",
    "\n",
    "print(num)"
   ]
  },
  {
   "cell_type": "markdown",
   "id": "47edcbd6",
   "metadata": {},
   "source": [
    "### Sort(): Sorting elements in such a way that it is arranged in order"
   ]
  },
  {
   "cell_type": "code",
   "execution_count": 140,
   "id": "f48a1557",
   "metadata": {},
   "outputs": [
    {
     "name": "stdout",
     "output_type": "stream",
     "text": [
      "['b', 'f', 'a', 'q', 'r']\n"
     ]
    }
   ],
   "source": [
    "#Lets create a variable called char1\n",
    "#var1=['b','f','a','q','r']\n",
    "\n",
    "var1=['b','f','a','q','r']\n",
    "\n",
    "print(var1)\n"
   ]
  },
  {
   "cell_type": "code",
   "execution_count": 141,
   "id": "3fe11060",
   "metadata": {},
   "outputs": [
    {
     "name": "stdout",
     "output_type": "stream",
     "text": [
      "['a', 'b', 'f', 'q', 'r']\n"
     ]
    }
   ],
   "source": [
    "#Sort Var1\n",
    "\n",
    "var1.sort()\n",
    "\n",
    "print(var1)"
   ]
  },
  {
   "cell_type": "markdown",
   "id": "8283ec3e",
   "metadata": {},
   "source": [
    "## Build-in Functions with lists"
   ]
  },
  {
   "cell_type": "code",
   "execution_count": 142,
   "id": "79b2b70d",
   "metadata": {},
   "outputs": [],
   "source": [
    "#Lets create a new list\n",
    "\n",
    "x=[9,17,14,4,90,55]"
   ]
  },
  {
   "cell_type": "markdown",
   "id": "0bf8edf8",
   "metadata": {},
   "source": [
    "### len():Finding the length of your list"
   ]
  },
  {
   "cell_type": "code",
   "execution_count": 143,
   "id": "b0aef1d8",
   "metadata": {},
   "outputs": [
    {
     "data": {
      "text/plain": [
       "6"
      ]
     },
     "execution_count": 143,
     "metadata": {},
     "output_type": "execute_result"
    }
   ],
   "source": [
    "#Find the len() of x=[9,17,14,4,90,55]\n",
    "\n",
    "len(x)"
   ]
  },
  {
   "cell_type": "markdown",
   "id": "6048c99a",
   "metadata": {},
   "source": [
    "### min(): Finding the minimum number of all elements in the list"
   ]
  },
  {
   "cell_type": "code",
   "execution_count": 144,
   "id": "074a3916",
   "metadata": {},
   "outputs": [
    {
     "data": {
      "text/plain": [
       "4"
      ]
     },
     "execution_count": 144,
     "metadata": {},
     "output_type": "execute_result"
    }
   ],
   "source": [
    "#Find the minimum number of all elements\n",
    "\n",
    "min(x)"
   ]
  },
  {
   "cell_type": "markdown",
   "id": "30515818",
   "metadata": {},
   "source": [
    "### max(): Finding the maximum number of all elements in the list"
   ]
  },
  {
   "cell_type": "code",
   "execution_count": 145,
   "id": "f5b4b5f3",
   "metadata": {},
   "outputs": [
    {
     "data": {
      "text/plain": [
       "90"
      ]
     },
     "execution_count": 145,
     "metadata": {},
     "output_type": "execute_result"
    }
   ],
   "source": [
    "#Find the maximum number of all elements\n",
    "\n",
    "max(x)"
   ]
  },
  {
   "cell_type": "markdown",
   "id": "89dfee0a",
   "metadata": {},
   "source": [
    "### sum(): Finding the sum of all elements present in a list"
   ]
  },
  {
   "cell_type": "code",
   "execution_count": 146,
   "id": "5c2e9dac",
   "metadata": {},
   "outputs": [
    {
     "data": {
      "text/plain": [
       "189"
      ]
     },
     "execution_count": 146,
     "metadata": {},
     "output_type": "execute_result"
    }
   ],
   "source": [
    "#Find the sum of all elements in the list\n",
    "\n",
    "sum(x)"
   ]
  },
  {
   "cell_type": "markdown",
   "id": "04bb6259",
   "metadata": {},
   "source": [
    "### Finding the average number of elements in a list"
   ]
  },
  {
   "cell_type": "code",
   "execution_count": 147,
   "id": "2c92ffc3",
   "metadata": {},
   "outputs": [],
   "source": [
    "average=sum(x)/len(x)"
   ]
  },
  {
   "cell_type": "code",
   "execution_count": 148,
   "id": "27e3188a",
   "metadata": {},
   "outputs": [
    {
     "name": "stdout",
     "output_type": "stream",
     "text": [
      "31.5\n"
     ]
    }
   ],
   "source": [
    "print(average)"
   ]
  },
  {
   "cell_type": "code",
   "execution_count": null,
   "id": "1c58183a",
   "metadata": {},
   "outputs": [],
   "source": []
  }
 ],
 "metadata": {
  "kernelspec": {
   "display_name": "Python 3 (ipykernel)",
   "language": "python",
   "name": "python3"
  },
  "language_info": {
   "codemirror_mode": {
    "name": "ipython",
    "version": 3
   },
   "file_extension": ".py",
   "mimetype": "text/x-python",
   "name": "python",
   "nbconvert_exporter": "python",
   "pygments_lexer": "ipython3",
   "version": "3.10.9"
  }
 },
 "nbformat": 4,
 "nbformat_minor": 5
}
