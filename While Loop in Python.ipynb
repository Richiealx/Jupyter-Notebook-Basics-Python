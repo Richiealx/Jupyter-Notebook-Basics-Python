{
 "cells": [
  {
   "cell_type": "markdown",
   "id": "b9828eef",
   "metadata": {},
   "source": [
    "# While Loop in Python"
   ]
  },
  {
   "cell_type": "markdown",
   "id": "cb63fab1",
   "metadata": {},
   "source": [
    "### While loop is used to repeat a section of code unknown number of times until a condition is met"
   ]
  },
  {
   "cell_type": "code",
   "execution_count": 1,
   "id": "457d2f19",
   "metadata": {},
   "outputs": [],
   "source": [
    "# Syntax:\n",
    "#        while expression\n",
    "#                statement(s)"
   ]
  },
  {
   "cell_type": "code",
   "execution_count": 2,
   "id": "caaf49ae",
   "metadata": {},
   "outputs": [
    {
     "name": "stdout",
     "output_type": "stream",
     "text": [
      "Data Science\n"
     ]
    }
   ],
   "source": [
    "# Print Data Science\n",
    "\n",
    "subject=\"Data Science\"\n",
    "print(subject)"
   ]
  },
  {
   "cell_type": "code",
   "execution_count": 3,
   "id": "e4e950f2",
   "metadata": {},
   "outputs": [
    {
     "name": "stdout",
     "output_type": "stream",
     "text": [
      "Data Science\n",
      "Data Science\n",
      "Data Science\n",
      "Data Science\n",
      "Data Science\n",
      "Data Science\n",
      "Data Science\n",
      "Data Science\n",
      "Data Science\n",
      "Data Science\n"
     ]
    }
   ],
   "source": [
    "# Print Data Science 10x\n",
    "\n",
    "subject=\"Data Science\"\n",
    "\n",
    "i=1\n",
    "while i<=10:\n",
    "    print(subject)\n",
    "    i+=1"
   ]
  },
  {
   "cell_type": "code",
   "execution_count": 4,
   "id": "993baaba",
   "metadata": {},
   "outputs": [
    {
     "name": "stdout",
     "output_type": "stream",
     "text": [
      "Data Science\n",
      "Data Science\n",
      "Data Science\n",
      "Data Science\n",
      "Data Science\n",
      "Data Science\n",
      "Data Science\n",
      "Data Science\n",
      "Data Science\n",
      "Data Science\n"
     ]
    }
   ],
   "source": [
    "# We want to print Data Science 9x by decreasing the counter, counting from 10 to 1\n",
    "\n",
    "subject=\"Data Science\"\n",
    "i=10\n",
    "while i>=1:\n",
    "    print(subject)\n",
    "    i-=1"
   ]
  },
  {
   "cell_type": "code",
   "execution_count": 5,
   "id": "73fa7222",
   "metadata": {},
   "outputs": [
    {
     "name": "stdout",
     "output_type": "stream",
     "text": [
      "Data Science\n",
      "Data Science\n",
      "Data Science\n",
      "Data Science\n",
      "Data Science\n"
     ]
    }
   ],
   "source": [
    "subject=\"Data Science\"\n",
    "i=10\n",
    "while i>=1:\n",
    "    print(subject)\n",
    "    i-=2"
   ]
  },
  {
   "cell_type": "code",
   "execution_count": 6,
   "id": "9be92cc0",
   "metadata": {},
   "outputs": [
    {
     "name": "stdout",
     "output_type": "stream",
     "text": [
      "55\n"
     ]
    }
   ],
   "source": [
    "# Find the sum of first 10 natural numbers\n",
    "\n",
    "i=1\n",
    "sum=0\n",
    "while i<=10:\n",
    "    sum=sum+i\n",
    "    i+=1\n",
    "print(sum)    "
   ]
  },
  {
   "cell_type": "code",
   "execution_count": 7,
   "id": "54a9cb27",
   "metadata": {},
   "outputs": [],
   "source": [
    "# This means that (1+2+3+4+5+6+7+8+9+10) are all natural numbers which sums up to 55"
   ]
  },
  {
   "cell_type": "code",
   "execution_count": 8,
   "id": "bbfb320e",
   "metadata": {},
   "outputs": [
    {
     "name": "stdout",
     "output_type": "stream",
     "text": [
      "30\n"
     ]
    }
   ],
   "source": [
    "# Find the sum of even numbers between 1 and 10\n",
    "\n",
    "i=1\n",
    "sum=0\n",
    "while i<=10:\n",
    "    if i%2==0:\n",
    "        sum=sum+i\n",
    "    i+=1\n",
    "print(sum)    "
   ]
  },
  {
   "cell_type": "code",
   "execution_count": 9,
   "id": "596045e1",
   "metadata": {},
   "outputs": [
    {
     "name": "stdout",
     "output_type": "stream",
     "text": [
      "Enter a number100\n",
      "0\n"
     ]
    }
   ],
   "source": [
    "# Repeat or run a code in an unknown number of times\n",
    "\n",
    "n=int(input(\"Enter a number\")) #where n= number of elements, nr=reverse of n\n",
    "nr=0\n",
    "while n%10!=0:\n",
    "    C=n%10\n",
    "    nr=nr*10+c                     #assuming n=5678 and nr=8765\n",
    "    n=n//10\n",
    "print(nr)    "
   ]
  },
  {
   "cell_type": "code",
   "execution_count": 10,
   "id": "7b466174",
   "metadata": {},
   "outputs": [
    {
     "name": "stdout",
     "output_type": "stream",
     "text": [
      "3\n"
     ]
    }
   ],
   "source": [
    "# Calculate the length of a list without using the len function  but use while function\n",
    "\n",
    "x=[1,2.3, \"Chelsea\"]\n",
    "length=0\n",
    "i=0\n",
    "try:\n",
    "    while x[i]:\n",
    "        length+=1\n",
    "        i+=1\n",
    "except IndexError:\n",
    "    print(length)"
   ]
  },
  {
   "cell_type": "code",
   "execution_count": 11,
   "id": "c9171623",
   "metadata": {},
   "outputs": [
    {
     "name": "stdout",
     "output_type": "stream",
     "text": [
      "6\n"
     ]
    }
   ],
   "source": [
    "# Another way of Calculating the length of a list without using the len function  but use while function\n",
    "\n",
    "def find_length(my_list):\n",
    "    count=0\n",
    "    index=0\n",
    "    \n",
    "    while index<len(my_list):   #loop until we reach the end of the list\n",
    "        count+=1\n",
    "        index+=1\n",
    "        \n",
    "    return count\n",
    "\n",
    "\n",
    "# Example of the list used\n",
    "my_list=[8,\"Enzo Fernandes\",7,\"Raheem Sterling\", 20, \"Cole Palmer\"]\n",
    "length=find_length(my_list)\n",
    "print(length)\n",
    "        "
   ]
  },
  {
   "cell_type": "code",
   "execution_count": 12,
   "id": "667e8f68",
   "metadata": {},
   "outputs": [],
   "source": [
    "# Therefore, the length of the list is 6"
   ]
  },
  {
   "cell_type": "code",
   "execution_count": 13,
   "id": "cd433bf0",
   "metadata": {},
   "outputs": [],
   "source": [
    "# Explanation of the code above\n",
    "# 1. Initialize counters: Set 'count' to 0 and the index to 0\n",
    "#   Count will keep trade of the number of elements, while 'index' will help us to traverse the list\n",
    "\n",
    "# 2.Loop until end: The 'while' loop runs as long as index is less than the length of my_list\n",
    "#   The condition index<len(my_list) helps to avoid going out of range\n",
    "    \n",
    "# 3. Update Counters: Inside the loop, increment count by 1 for each element and index by 1 to move to the next element\n",
    "\n",
    "# 4. Return the count: After the loop terminates, count will hold the number of elements in the list, which is then returned"
   ]
  },
  {
   "cell_type": "markdown",
   "id": "640c2b2f",
   "metadata": {},
   "source": [
    "## Nesting while loop within another while loop"
   ]
  },
  {
   "cell_type": "code",
   "execution_count": 14,
   "id": "04724c3b",
   "metadata": {},
   "outputs": [
    {
     "name": "stdout",
     "output_type": "stream",
     "text": [
      "Enter a number7\n",
      "1\n",
      "22\n",
      "333\n",
      "4444\n",
      "55555\n",
      "666666\n"
     ]
    }
   ],
   "source": [
    "# We are going to print these python numbers\n",
    "#1\n",
    "#22\n",
    "#333\n",
    "#4444\n",
    "#55555\n",
    "\n",
    "# In our python code, while loop will count #1 only once, count #2 twice, count #3 thrice, count #4 four times\n",
    "# count #5 five times.\n",
    "\n",
    "n=int(input(\"Enter a number\"))\n",
    "i=1\n",
    "while i<n:\n",
    "    j=1\n",
    "    while j<=i:\n",
    "        print(i, end='')\n",
    "        j+=1\n",
    "    i+=1\n",
    "    print()"
   ]
  },
  {
   "cell_type": "markdown",
   "id": "e38ef96b",
   "metadata": {},
   "source": [
    "## Generating 4 digit number using the random function"
   ]
  },
  {
   "cell_type": "code",
   "execution_count": 15,
   "id": "a55d9fd8",
   "metadata": {},
   "outputs": [
    {
     "name": "stdout",
     "output_type": "stream",
     "text": [
      "5142\n",
      "Enter a 4 digit number55\n",
      "Congrats, you guessed right\n"
     ]
    }
   ],
   "source": [
    "import random\n",
    "\n",
    "nump=random.randint(1000,9999)       #where nump with p as permanent number\n",
    "print(nump)\n",
    "n=int(input(\"Enter a 4 digit number\"))\n",
    "while n!=10:\n",
    "    num=nump\n",
    "    cor=0                            #where cor means correct\n",
    "    while num%10:\n",
    "        numc=n%10\n",
    "        nc=n%10\n",
    "        num=num//10\n",
    "        n=n//10\n",
    "        if numc==nc:\n",
    "            cor=cor+1\n",
    "    if cor==4:\n",
    "        print(\"Congrats, you guessed right\")\n",
    "        break\n",
    "    else:\n",
    "        print(\"%d digits were guessed right\"%cor)\n",
    "        n=int(input(\"Enter a 4 digit number\"))\n",
    "else:\n",
    "    print(\"You quit the game\")"
   ]
  },
  {
   "cell_type": "code",
   "execution_count": 16,
   "id": "b3523335",
   "metadata": {},
   "outputs": [
    {
     "name": "stdout",
     "output_type": "stream",
     "text": [
      "Generate 4-digit numbers: [6282, 7284, 4613, 4884, 3958, 1984, 8906, 9922, 6464, 7477]\n"
     ]
    }
   ],
   "source": [
    "# Example 2:\n",
    "# Generate 10 random 4-digit numbers and print them import random\n",
    "\n",
    "import random\n",
    "\n",
    "def generate_random_4_digit_numbers(count):\n",
    "    numbers=[]\n",
    "    while len(numbers)<count:\n",
    "        number=random.randint(1000,9999)   #Generate a random 4-digit number\n",
    "        numbers.append(number)             #Add it to the list\n",
    "        \n",
    "    return numbers\n",
    "\n",
    "\n",
    "#Generate 10 random 4 digit numbers\n",
    "count=10\n",
    "random_numbers=generate_random_4_digit_numbers(count)\n",
    "print(\"Generate 4-digit numbers:\", random_numbers)"
   ]
  },
  {
   "cell_type": "code",
   "execution_count": 17,
   "id": "14641592",
   "metadata": {},
   "outputs": [],
   "source": [
    "# Explanation of the code above\n",
    "\n",
    "# 1. Import random allows you to use functions from the random\n",
    "# 2. Count: generates a list of random  4-digit numbers \n",
    "# 3. Initialize empty list: numbers is an empty list that will store the generated numbers\n",
    "# 4. While loop: The loop runs until the list contains the specified number of 4-digit numbers\n",
    "#    random.randit(1000,9999): generates a random number between 1000 and 9999 inclusive\n",
    "# 5. Append and continue: each generated number is added to the 'numbers' list\n",
    "# 6. Print the result: After generating the numbers the list is printed out"
   ]
  }
 ],
 "metadata": {
  "kernelspec": {
   "display_name": "Python 3 (ipykernel)",
   "language": "python",
   "name": "python3"
  },
  "language_info": {
   "codemirror_mode": {
    "name": "ipython",
    "version": 3
   },
   "file_extension": ".py",
   "mimetype": "text/x-python",
   "name": "python",
   "nbconvert_exporter": "python",
   "pygments_lexer": "ipython3",
   "version": "3.10.9"
  }
 },
 "nbformat": 4,
 "nbformat_minor": 5
}
