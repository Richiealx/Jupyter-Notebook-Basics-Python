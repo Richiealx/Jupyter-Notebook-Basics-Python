{
 "cells": [
  {
   "cell_type": "markdown",
   "id": "eb9dcfdf",
   "metadata": {},
   "source": [
    "# Strings in Python"
   ]
  },
  {
   "cell_type": "markdown",
   "id": "55fbd671",
   "metadata": {},
   "source": [
    "### A String is a datatype in python, composed of a collection of characters.\n",
    "### For Example, \"Chelsea\", \"2024/2025 Season\"\n",
    "### Characters include numbers, letters, and special characters\n",
    "### Stg=\"Chelsea\" OR\n",
    "### stg='Chelsea'"
   ]
  },
  {
   "cell_type": "markdown",
   "id": "3735edd2",
   "metadata": {},
   "source": [
    "## Creating a String"
   ]
  },
  {
   "cell_type": "code",
   "execution_count": 1,
   "id": "da5ebf4f",
   "metadata": {},
   "outputs": [
    {
     "name": "stdout",
     "output_type": "stream",
     "text": [
      "chelsea\n"
     ]
    }
   ],
   "source": [
    "stg=\"chelsea\"\n",
    "\n",
    "print(stg)"
   ]
  },
  {
   "cell_type": "code",
   "execution_count": 2,
   "id": "2d8a40dd",
   "metadata": {},
   "outputs": [
    {
     "ename": "SyntaxError",
     "evalue": "unterminated string literal (detected at line 1) (383747944.py, line 1)",
     "output_type": "error",
     "traceback": [
      "\u001b[1;36m  Cell \u001b[1;32mIn[2], line 1\u001b[1;36m\u001b[0m\n\u001b[1;33m    stg='Cole Palmer's Jersey'\u001b[0m\n\u001b[1;37m                             ^\u001b[0m\n\u001b[1;31mSyntaxError\u001b[0m\u001b[1;31m:\u001b[0m unterminated string literal (detected at line 1)\n"
     ]
    }
   ],
   "source": [
    "stg='Cole Palmer's Jersey'\n",
    "\n",
    "print(stg)"
   ]
  },
  {
   "cell_type": "code",
   "execution_count": 3,
   "id": "c17b1c82",
   "metadata": {},
   "outputs": [],
   "source": [
    "#SyntaxError is generated because a single quote('') cannot work with an apostrophe(Palmer's)"
   ]
  },
  {
   "cell_type": "code",
   "execution_count": 4,
   "id": "820f452f",
   "metadata": {},
   "outputs": [
    {
     "name": "stdout",
     "output_type": "stream",
     "text": [
      "Cole Palmer's Jersey\n"
     ]
    }
   ],
   "source": [
    "# To correct this error, we must use a double quote(\"\") instead of a single quote due to the apostrophe(Palmer's)\n",
    "\n",
    "stg=\"Cole Palmer's Jersey\"\n",
    "\n",
    "print(stg)"
   ]
  },
  {
   "cell_type": "markdown",
   "id": "429076a1",
   "metadata": {},
   "source": [
    "## When a String has both single quote('') and double quotes(\"\")"
   ]
  },
  {
   "cell_type": "code",
   "execution_count": 5,
   "id": "1466fce9",
   "metadata": {},
   "outputs": [
    {
     "ename": "SyntaxError",
     "evalue": "unterminated string literal (detected at line 1) (2229522955.py, line 1)",
     "output_type": "error",
     "traceback": [
      "\u001b[1;36m  Cell \u001b[1;32mIn[5], line 1\u001b[1;36m\u001b[0m\n\u001b[1;33m    stg='Cole Palmer said, \"I'm playing football today\"'\u001b[0m\n\u001b[1;37m                                                      ^\u001b[0m\n\u001b[1;31mSyntaxError\u001b[0m\u001b[1;31m:\u001b[0m unterminated string literal (detected at line 1)\n"
     ]
    }
   ],
   "source": [
    "stg='Cole Palmer said, \"I'm playing football today\"'\n",
    "\n",
    "print(stg)"
   ]
  },
  {
   "cell_type": "code",
   "execution_count": 6,
   "id": "b8619366",
   "metadata": {},
   "outputs": [],
   "source": [
    "#SyntaxError is generated because we cannot print both single quote('') and double quotes(\"\")\n",
    "# at the same time, unless we do something about it"
   ]
  },
  {
   "cell_type": "code",
   "execution_count": 7,
   "id": "39915a22",
   "metadata": {},
   "outputs": [
    {
     "name": "stdout",
     "output_type": "stream",
     "text": [
      "Cole Palmer said, \"I'm playing football today\"\n"
     ]
    }
   ],
   "source": [
    "# In this case, we can simply escape the single quote(I'm) and insert a backward slash(\\) in between I and 'm.\n",
    "\n",
    "# It will now be 'Cole Palmer said, \"I\\'m playing football today\"'\n",
    "\n",
    "\n",
    "stg='Cole Palmer said, \"I\\'m playing football today\"'\n",
    "\n",
    "print(stg)"
   ]
  },
  {
   "cell_type": "markdown",
   "id": "43162c71",
   "metadata": {},
   "source": [
    "## Printing Strings in Multiple Lines"
   ]
  },
  {
   "cell_type": "code",
   "execution_count": 8,
   "id": "1ba093c5",
   "metadata": {},
   "outputs": [
    {
     "ename": "SyntaxError",
     "evalue": "unterminated string literal (detected at line 1) (3661558435.py, line 1)",
     "output_type": "error",
     "traceback": [
      "\u001b[1;36m  Cell \u001b[1;32mIn[8], line 1\u001b[1;36m\u001b[0m\n\u001b[1;33m    stg='hey Dewsbury Hall!\u001b[0m\n\u001b[1;37m        ^\u001b[0m\n\u001b[1;31mSyntaxError\u001b[0m\u001b[1;31m:\u001b[0m unterminated string literal (detected at line 1)\n"
     ]
    }
   ],
   "source": [
    "stg='hey Dewsbury Hall!\n",
    "Welcome to Chelsea'\n",
    "\n",
    "print(stg)"
   ]
  },
  {
   "cell_type": "code",
   "execution_count": 9,
   "id": "676b6049",
   "metadata": {},
   "outputs": [],
   "source": [
    "#SyntaxError is generated becuase, the single quote at the beginning of 'hey cannot affect the next line Welcome to Chelsea"
   ]
  },
  {
   "cell_type": "code",
   "execution_count": 10,
   "id": "fac7578d",
   "metadata": {},
   "outputs": [
    {
     "name": "stdout",
     "output_type": "stream",
     "text": [
      "hey Dewbury Hall!\n",
      "Welcome to Chelsea\n"
     ]
    }
   ],
   "source": [
    "#How do we correct this error?\n",
    "\n",
    "#We can correct this error by adding 3 double quotes(\"\"\" \"\"\") at the beginning of the first line and at the end of the last line\n",
    "\n",
    "stg=\"\"\"hey Dewbury Hall!\n",
    "Welcome to Chelsea\"\"\"\n",
    "\n",
    "print(stg)"
   ]
  },
  {
   "cell_type": "markdown",
   "id": "8553e887",
   "metadata": {},
   "source": [
    "## Built-in Functions in Strings"
   ]
  },
  {
   "cell_type": "markdown",
   "id": "641a76c7",
   "metadata": {},
   "source": [
    "### len()"
   ]
  },
  {
   "cell_type": "code",
   "execution_count": 11,
   "id": "93d9e191",
   "metadata": {},
   "outputs": [
    {
     "name": "stdout",
     "output_type": "stream",
     "text": [
      "Chelsea\n"
     ]
    }
   ],
   "source": [
    "stg=\"Chelsea\"\n",
    "\n",
    "print(stg)"
   ]
  },
  {
   "cell_type": "code",
   "execution_count": 12,
   "id": "a9b86e9c",
   "metadata": {},
   "outputs": [
    {
     "data": {
      "text/plain": [
       "7"
      ]
     },
     "execution_count": 12,
     "metadata": {},
     "output_type": "execute_result"
    }
   ],
   "source": [
    "#Find the length of stg\n",
    "\n",
    "len(stg)"
   ]
  },
  {
   "cell_type": "code",
   "execution_count": 13,
   "id": "000bf4f1",
   "metadata": {},
   "outputs": [
    {
     "name": "stdout",
     "output_type": "stream",
     "text": [
      "Chelsea Football Club\n"
     ]
    }
   ],
   "source": [
    "stg=\"Chelsea Football Club\"\n",
    "\n",
    "print(stg)"
   ]
  },
  {
   "cell_type": "code",
   "execution_count": 14,
   "id": "d4424c93",
   "metadata": {},
   "outputs": [
    {
     "data": {
      "text/plain": [
       "21"
      ]
     },
     "execution_count": 14,
     "metadata": {},
     "output_type": "execute_result"
    }
   ],
   "source": [
    "#Find the len of stg\n",
    "\n",
    "len(stg)"
   ]
  },
  {
   "cell_type": "code",
   "execution_count": 20,
   "id": "f4aa27d0",
   "metadata": {},
   "outputs": [],
   "source": [
    "#Why is the length of stg 21?\n",
    "#The length of stg is 21 because python counts spacees as characters. \n",
    "#The length was supposed to be 19, but python counted the 2 spaces as part of the varaible Chelsea Football Club, making it 21"
   ]
  },
  {
   "cell_type": "markdown",
   "id": "f10caddc",
   "metadata": {},
   "source": [
    "## Extracting each character of a string"
   ]
  },
  {
   "cell_type": "code",
   "execution_count": 16,
   "id": "acae54e9",
   "metadata": {},
   "outputs": [
    {
     "name": "stdout",
     "output_type": "stream",
     "text": [
      "Chelsea Football Club\n"
     ]
    }
   ],
   "source": [
    "#Extract the 5th character of stg\n",
    "\n",
    "print(stg)"
   ]
  },
  {
   "cell_type": "code",
   "execution_count": 17,
   "id": "4ec0aa5b",
   "metadata": {},
   "outputs": [
    {
     "data": {
      "text/plain": [
       "'e'"
      ]
     },
     "execution_count": 17,
     "metadata": {},
     "output_type": "execute_result"
    }
   ],
   "source": [
    "stg[5]"
   ]
  },
  {
   "cell_type": "code",
   "execution_count": 18,
   "id": "c0e5fd5a",
   "metadata": {},
   "outputs": [
    {
     "name": "stdout",
     "output_type": "stream",
     "text": [
      "Chelsea Football Club\n"
     ]
    }
   ],
   "source": [
    "#Extract the 8th character of stg\n",
    "\n",
    "print(stg)"
   ]
  },
  {
   "cell_type": "code",
   "execution_count": 19,
   "id": "9267cbb4",
   "metadata": {},
   "outputs": [
    {
     "data": {
      "text/plain": [
       "'F'"
      ]
     },
     "execution_count": 19,
     "metadata": {},
     "output_type": "execute_result"
    }
   ],
   "source": [
    "stg[8]"
   ]
  },
  {
   "cell_type": "markdown",
   "id": "2d384da3",
   "metadata": {},
   "source": [
    "## Accessing every character of string one by one"
   ]
  },
  {
   "cell_type": "code",
   "execution_count": 21,
   "id": "76124163",
   "metadata": {},
   "outputs": [],
   "source": [
    "#We can do this by using  for loop"
   ]
  },
  {
   "cell_type": "markdown",
   "id": "a65e9331",
   "metadata": {},
   "source": [
    "#### What is for loop?\n",
    "\n",
    "#### for loop is used to repeat a set of instructions for each item in a list\n",
    "\n",
    "#### for loop is used to automate repetitive tasks"
   ]
  },
  {
   "cell_type": "code",
   "execution_count": 30,
   "id": "2ff630a2",
   "metadata": {},
   "outputs": [
    {
     "name": "stdout",
     "output_type": "stream",
     "text": [
      "C\n",
      "h\n",
      "e\n",
      "l\n",
      "s\n",
      "e\n",
      "a\n",
      " \n",
      "F\n",
      "o\n",
      "o\n",
      "t\n",
      "b\n",
      "a\n",
      "l\n",
      "l\n",
      " \n",
      "C\n",
      "l\n",
      "u\n",
      "b\n"
     ]
    }
   ],
   "source": [
    "stg=\"Chelsea Football Club\"\n",
    "for i in stg:\n",
    "    print(i)"
   ]
  },
  {
   "cell_type": "code",
   "execution_count": 35,
   "id": "76c84246",
   "metadata": {},
   "outputs": [
    {
     "name": "stdout",
     "output_type": "stream",
     "text": [
      "Chelsea Football Club"
     ]
    }
   ],
   "source": [
    "# If we want characters to be printed on the same line\n",
    "\n",
    "stg=\"Chelsea Football Club\"\n",
    "for i in stg:\n",
    "    print(i,end=\"\")"
   ]
  },
  {
   "cell_type": "markdown",
   "id": "e083df02",
   "metadata": {},
   "source": [
    "## Slicing: It involves extracting a part of the string"
   ]
  },
  {
   "cell_type": "code",
   "execution_count": 36,
   "id": "c1731bc6",
   "metadata": {},
   "outputs": [
    {
     "name": "stdout",
     "output_type": "stream",
     "text": [
      "Chelsea Football Club\n"
     ]
    }
   ],
   "source": [
    "#Extract the first 5 characters of stg\n",
    "\n",
    "print(stg)"
   ]
  },
  {
   "cell_type": "code",
   "execution_count": 37,
   "id": "9cc4eba4",
   "metadata": {},
   "outputs": [
    {
     "data": {
      "text/plain": [
       "'Chels'"
      ]
     },
     "execution_count": 37,
     "metadata": {},
     "output_type": "execute_result"
    }
   ],
   "source": [
    "stg[:5]"
   ]
  },
  {
   "cell_type": "code",
   "execution_count": 38,
   "id": "88e1882f",
   "metadata": {},
   "outputs": [
    {
     "name": "stdout",
     "output_type": "stream",
     "text": [
      "Chelsea Football Club\n"
     ]
    }
   ],
   "source": [
    "#Extract all the characters from the 5th index to the end of the stg\n",
    "\n",
    "print(stg)"
   ]
  },
  {
   "cell_type": "code",
   "execution_count": 40,
   "id": "b1f08a77",
   "metadata": {},
   "outputs": [
    {
     "data": {
      "text/plain": [
       "'ea Football Club'"
      ]
     },
     "execution_count": 40,
     "metadata": {},
     "output_type": "execute_result"
    }
   ],
   "source": [
    "stg[5:]"
   ]
  },
  {
   "cell_type": "code",
   "execution_count": 41,
   "id": "97d7bb8a",
   "metadata": {},
   "outputs": [
    {
     "data": {
      "text/plain": [
       "'ea Football Club'"
      ]
     },
     "execution_count": 41,
     "metadata": {},
     "output_type": "execute_result"
    }
   ],
   "source": [
    "#OR\n",
    "\n",
    "stg[5:21]"
   ]
  },
  {
   "cell_type": "code",
   "execution_count": 42,
   "id": "8fc7ab0a",
   "metadata": {},
   "outputs": [
    {
     "name": "stdout",
     "output_type": "stream",
     "text": [
      "Chelsea Football Club\n"
     ]
    }
   ],
   "source": [
    "# Extrating some elements in between the stg\n",
    "\n",
    "#Print stg of all characters from 2nd index to 4th index\n",
    "\n",
    "print(stg)"
   ]
  },
  {
   "cell_type": "code",
   "execution_count": 43,
   "id": "a71440dd",
   "metadata": {},
   "outputs": [
    {
     "data": {
      "text/plain": [
       "'els'"
      ]
     },
     "execution_count": 43,
     "metadata": {},
     "output_type": "execute_result"
    }
   ],
   "source": [
    "stg[2:5]"
   ]
  },
  {
   "cell_type": "markdown",
   "id": "fffd26bb",
   "metadata": {},
   "source": [
    "## Commonly used in-built methods in String"
   ]
  },
  {
   "cell_type": "markdown",
   "id": "bedc4732",
   "metadata": {},
   "source": [
    "### Uppercase()"
   ]
  },
  {
   "cell_type": "code",
   "execution_count": 46,
   "id": "31ade707",
   "metadata": {},
   "outputs": [
    {
     "name": "stdout",
     "output_type": "stream",
     "text": [
      "Welcome to Chelsea Football Club\n"
     ]
    }
   ],
   "source": [
    "#Print the entire stg in uppercase()\n",
    "\n",
    "stg=\"Welcome to Chelsea Football Club\"\n",
    "\n",
    "print(stg)"
   ]
  },
  {
   "cell_type": "code",
   "execution_count": 47,
   "id": "3e523283",
   "metadata": {},
   "outputs": [
    {
     "data": {
      "text/plain": [
       "'WELCOME TO CHELSEA FOOTBALL CLUB'"
      ]
     },
     "execution_count": 47,
     "metadata": {},
     "output_type": "execute_result"
    }
   ],
   "source": [
    "stg.upper()"
   ]
  },
  {
   "cell_type": "code",
   "execution_count": 48,
   "id": "64790e17",
   "metadata": {},
   "outputs": [
    {
     "name": "stdout",
     "output_type": "stream",
     "text": [
      "Welcome to Chelsea Football Club\n"
     ]
    }
   ],
   "source": [
    "#Print the entire stg in lowercase()\n",
    "\n",
    "print(stg)"
   ]
  },
  {
   "cell_type": "code",
   "execution_count": 49,
   "id": "db0c6460",
   "metadata": {},
   "outputs": [
    {
     "data": {
      "text/plain": [
       "'welcome to chelsea football club'"
      ]
     },
     "execution_count": 49,
     "metadata": {},
     "output_type": "execute_result"
    }
   ],
   "source": [
    "stg.lower()"
   ]
  },
  {
   "cell_type": "markdown",
   "id": "0ab06adb",
   "metadata": {},
   "source": [
    "### find()"
   ]
  },
  {
   "cell_type": "code",
   "execution_count": 50,
   "id": "c539ef0c",
   "metadata": {},
   "outputs": [
    {
     "name": "stdout",
     "output_type": "stream",
     "text": [
      "Welcome to Chelsea Football Club\n"
     ]
    }
   ],
   "source": [
    "#Finding out the index of a character in stg\n",
    "\n",
    "#Find the index of capital C in Welcome to Chelsea Football Club\n",
    "\n",
    "print(stg)"
   ]
  },
  {
   "cell_type": "code",
   "execution_count": 52,
   "id": "cb88b4e6",
   "metadata": {},
   "outputs": [
    {
     "data": {
      "text/plain": [
       "11"
      ]
     },
     "execution_count": 52,
     "metadata": {},
     "output_type": "execute_result"
    }
   ],
   "source": [
    "stg.find('C')"
   ]
  },
  {
   "cell_type": "code",
   "execution_count": 53,
   "id": "ed5d15d3",
   "metadata": {},
   "outputs": [
    {
     "data": {
      "text/plain": [
       "11"
      ]
     },
     "execution_count": 53,
     "metadata": {},
     "output_type": "execute_result"
    }
   ],
   "source": [
    "#OR\n",
    "\n",
    "stg.index('C')"
   ]
  },
  {
   "cell_type": "markdown",
   "id": "3b8dafea",
   "metadata": {},
   "source": [
    "### Split():Converts string to a list"
   ]
  },
  {
   "cell_type": "code",
   "execution_count": 54,
   "id": "ee2a3256",
   "metadata": {},
   "outputs": [
    {
     "name": "stdout",
     "output_type": "stream",
     "text": [
      "Welcome to Chelsea Football Club\n"
     ]
    }
   ],
   "source": [
    "# Use the split funtion to convert stg to a list\n",
    "\n",
    "print(stg)"
   ]
  },
  {
   "cell_type": "code",
   "execution_count": 58,
   "id": "8b05d767",
   "metadata": {},
   "outputs": [
    {
     "data": {
      "text/plain": [
       "['Welcome', 'to', 'Chelsea', 'Football', 'Club']"
      ]
     },
     "execution_count": 58,
     "metadata": {},
     "output_type": "execute_result"
    }
   ],
   "source": [
    "stg.split()"
   ]
  },
  {
   "cell_type": "code",
   "execution_count": 61,
   "id": "74047761",
   "metadata": {},
   "outputs": [
    {
     "name": "stdout",
     "output_type": "stream",
     "text": [
      "['Welcome', 'to', 'Chelsea', 'Football', 'Club']\n"
     ]
    }
   ],
   "source": [
    "# Use the return value of split method in a variable\n",
    "\n",
    "x=stg.split()\n",
    "\n",
    "print(x)"
   ]
  },
  {
   "cell_type": "markdown",
   "id": "536cb134",
   "metadata": {},
   "source": [
    "### Replace()"
   ]
  },
  {
   "cell_type": "code",
   "execution_count": 62,
   "id": "4802b7b0",
   "metadata": {},
   "outputs": [
    {
     "name": "stdout",
     "output_type": "stream",
     "text": [
      "Welcome to Chelsea Football Club\n"
     ]
    }
   ],
   "source": [
    "#Replace chelsea Football Club with \"the English Premier League\"\n",
    "\n",
    "print(stg)"
   ]
  },
  {
   "cell_type": "code",
   "execution_count": 63,
   "id": "af6a6590",
   "metadata": {},
   "outputs": [
    {
     "data": {
      "text/plain": [
       "'Welcome to the English Premier League'"
      ]
     },
     "execution_count": 63,
     "metadata": {},
     "output_type": "execute_result"
    }
   ],
   "source": [
    "stg.replace(\"Chelsea Football Club\", \"the English Premier League\")"
   ]
  },
  {
   "cell_type": "markdown",
   "id": "b4351096",
   "metadata": {},
   "source": [
    "### rpartitiion(): This creates tuples"
   ]
  },
  {
   "cell_type": "code",
   "execution_count": 65,
   "id": "c88792f0",
   "metadata": {},
   "outputs": [
    {
     "name": "stdout",
     "output_type": "stream",
     "text": [
      "Welcome to Chelsea Football Club\n"
     ]
    }
   ],
   "source": [
    "#Create a partition of \"to\" which is between \"Welcome\" and \"Chelsea\" \"Football\" \"Club\"\n",
    "\n",
    "print(stg)"
   ]
  },
  {
   "cell_type": "code",
   "execution_count": 66,
   "id": "adaeee7e",
   "metadata": {},
   "outputs": [
    {
     "data": {
      "text/plain": [
       "('Welcome ', 'to', ' Chelsea Football Club')"
      ]
     },
     "execution_count": 66,
     "metadata": {},
     "output_type": "execute_result"
    }
   ],
   "source": [
    "stg.rpartition(\"to\")"
   ]
  },
  {
   "cell_type": "code",
   "execution_count": 67,
   "id": "779ada4a",
   "metadata": {},
   "outputs": [],
   "source": [
    "# A tuple has been created using rpartition"
   ]
  },
  {
   "cell_type": "markdown",
   "id": "2640ca0a",
   "metadata": {},
   "source": [
    "### Concatenate(): Adding a string to another string"
   ]
  },
  {
   "cell_type": "code",
   "execution_count": 75,
   "id": "6e9e5877",
   "metadata": {},
   "outputs": [
    {
     "name": "stdout",
     "output_type": "stream",
     "text": [
      "Good Coach\n"
     ]
    }
   ],
   "source": [
    "#Print Good Coach\n",
    "\n",
    "Enzo=\"Good\"\n",
    "\n",
    "Maresca=\"Coach\"\n",
    "\n",
    "conc=Enzo+ \" \"+Maresca\n",
    "\n",
    "print(conc)"
   ]
  },
  {
   "cell_type": "code",
   "execution_count": 88,
   "id": "ce1435bf",
   "metadata": {},
   "outputs": [
    {
     "name": "stdout",
     "output_type": "stream",
     "text": [
      "Enzo Maresca is a good coach\n"
     ]
    }
   ],
   "source": [
    "#Print Enzo Maresca is a good coach\n",
    "Todd=\"Enzo Maresca is a\"\n",
    "\n",
    "Boehly=\"good coach\"\n",
    "\n",
    "conc=Todd+ \" \"+Boehly\n",
    "\n",
    "print(conc)"
   ]
  },
  {
   "cell_type": "code",
   "execution_count": 87,
   "id": "3889e844",
   "metadata": {},
   "outputs": [
    {
     "name": "stdout",
     "output_type": "stream",
     "text": [
      "We will start training tommorrow!\n"
     ]
    }
   ],
   "source": [
    "# In case we have 3 different strings to concatenate\n",
    "\n",
    "Maresca1=\"We will\"\n",
    "\n",
    "Maresca2=\"start training\"\n",
    "\n",
    "Maresca3=\"tommorrow\"\n",
    "\n",
    "stg=\"{} {} {}!\".format(Maresca1,Maresca2,Maresca3)\n",
    "\n",
    "print(stg)"
   ]
  },
  {
   "cell_type": "code",
   "execution_count": 86,
   "id": "198ccaf4",
   "metadata": {},
   "outputs": [],
   "source": [
    "#NOTE: The curly brackets{} are known as place holders.\n",
    "# These place holders({},{},{}) will exactly hold the respective strings(ie Maresca1, Maresca2, Maresca3)"
   ]
  },
  {
   "cell_type": "code",
   "execution_count": 90,
   "id": "c6669005",
   "metadata": {},
   "outputs": [
    {
     "name": "stdout",
     "output_type": "stream",
     "text": [
      "We will start training tommorrow!\n"
     ]
    }
   ],
   "source": [
    "#OR Use this method\n",
    "\n",
    "Maresca1=\"We will\"\n",
    "\n",
    "Maresca2=\"start training\"\n",
    "\n",
    "Maresca3=\"tommorrow!\"\n",
    "\n",
    "conc=Maresca1+\" \"+Maresca2+\" \"+Maresca3\n",
    "\n",
    "print(conc)"
   ]
  },
  {
   "cell_type": "code",
   "execution_count": null,
   "id": "6f7904b2",
   "metadata": {},
   "outputs": [],
   "source": []
  }
 ],
 "metadata": {
  "kernelspec": {
   "display_name": "Python 3 (ipykernel)",
   "language": "python",
   "name": "python3"
  },
  "language_info": {
   "codemirror_mode": {
    "name": "ipython",
    "version": 3
   },
   "file_extension": ".py",
   "mimetype": "text/x-python",
   "name": "python",
   "nbconvert_exporter": "python",
   "pygments_lexer": "ipython3",
   "version": "3.10.9"
  }
 },
 "nbformat": 4,
 "nbformat_minor": 5
}
