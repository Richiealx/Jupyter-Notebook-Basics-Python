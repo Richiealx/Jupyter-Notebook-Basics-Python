{
 "cells": [
  {
   "cell_type": "markdown",
   "id": "3dfb57a9",
   "metadata": {},
   "source": [
    "# Sets in Python"
   ]
  },
  {
   "cell_type": "markdown",
   "id": "014b8cf0",
   "metadata": {},
   "source": [
    "### Set is an unordered collection of unique elements\n",
    "\n",
    "### Syntax: set(['a','b','c','d'])\n",
    "\n",
    "### Every element of the set is unique"
   ]
  },
  {
   "cell_type": "markdown",
   "id": "45fbc970",
   "metadata": {},
   "source": [
    "## Creating a Set"
   ]
  },
  {
   "cell_type": "code",
   "execution_count": 1,
   "id": "34d5e619",
   "metadata": {},
   "outputs": [
    {
     "name": "stdout",
     "output_type": "stream",
     "text": [
      "{1, 2, 3, 4}\n"
     ]
    }
   ],
   "source": [
    "s=set([1,2,3,4])\n",
    "\n",
    "print(s)"
   ]
  },
  {
   "cell_type": "code",
   "execution_count": 2,
   "id": "f2ccc521",
   "metadata": {},
   "outputs": [
    {
     "name": "stdout",
     "output_type": "stream",
     "text": [
      "<class 'set'>\n"
     ]
    }
   ],
   "source": [
    "print(type(s))"
   ]
  },
  {
   "cell_type": "code",
   "execution_count": 3,
   "id": "820e0b8d",
   "metadata": {},
   "outputs": [],
   "source": [
    "# Sets can have a mixture of integers and strings\n",
    "\n",
    "#Adding elements  to a set"
   ]
  },
  {
   "cell_type": "code",
   "execution_count": 4,
   "id": "ad10959c",
   "metadata": {},
   "outputs": [
    {
     "name": "stdout",
     "output_type": "stream",
     "text": [
      "{1, 2, 3, 4, 'a'}\n"
     ]
    }
   ],
   "source": [
    "#Add 'a' to the set\n",
    "\n",
    "s.add('a')\n",
    "\n",
    "print(s)"
   ]
  },
  {
   "cell_type": "markdown",
   "id": "544ee344",
   "metadata": {},
   "source": [
    "## Frozen Sets: They immutable(meaning their elements cannot be altered)"
   ]
  },
  {
   "cell_type": "code",
   "execution_count": 5,
   "id": "d3ccda21",
   "metadata": {},
   "outputs": [
    {
     "name": "stdout",
     "output_type": "stream",
     "text": [
      "frozenset({1, 2, 3, 4})\n"
     ]
    }
   ],
   "source": [
    "fs=frozenset([1,2,3,4])\n",
    "\n",
    "print(fs)"
   ]
  },
  {
   "cell_type": "code",
   "execution_count": 6,
   "id": "5831d352",
   "metadata": {},
   "outputs": [
    {
     "ename": "AttributeError",
     "evalue": "'frozenset' object has no attribute 'add'",
     "output_type": "error",
     "traceback": [
      "\u001b[1;31m---------------------------------------------------------------------------\u001b[0m",
      "\u001b[1;31mAttributeError\u001b[0m                            Traceback (most recent call last)",
      "Cell \u001b[1;32mIn[6], line 3\u001b[0m\n\u001b[0;32m      1\u001b[0m \u001b[38;5;66;03m# Lets try adding 'a' to the frozen set to see if it will work\u001b[39;00m\n\u001b[1;32m----> 3\u001b[0m \u001b[43mfs\u001b[49m\u001b[38;5;241;43m.\u001b[39;49m\u001b[43madd\u001b[49m(\u001b[38;5;124m'\u001b[39m\u001b[38;5;124ma\u001b[39m\u001b[38;5;124m'\u001b[39m)\n\u001b[0;32m      5\u001b[0m \u001b[38;5;28mprint\u001b[39m(fs)\n",
      "\u001b[1;31mAttributeError\u001b[0m: 'frozenset' object has no attribute 'add'"
     ]
    }
   ],
   "source": [
    "# Lets try adding 'a' to the frozen set to see if it will work\n",
    "\n",
    "fs.add('a')\n",
    "\n",
    "print(fs)"
   ]
  },
  {
   "cell_type": "code",
   "execution_count": 7,
   "id": "83463856",
   "metadata": {},
   "outputs": [],
   "source": [
    "# An attributeError has been displayed because  we cannot add elements to frozen sets(they cannot be altered in any way)"
   ]
  },
  {
   "cell_type": "markdown",
   "id": "5092f2fb",
   "metadata": {},
   "source": [
    "## Union of Sets"
   ]
  },
  {
   "cell_type": "code",
   "execution_count": 8,
   "id": "b30ed127",
   "metadata": {},
   "outputs": [
    {
     "data": {
      "text/plain": [
       "{1, 2, 3, 7, 8, 9}"
      ]
     },
     "execution_count": 8,
     "metadata": {},
     "output_type": "execute_result"
    }
   ],
   "source": [
    "s1=set([1,3,7,2])\n",
    "\n",
    "s2=set([3,2,8,9])\n",
    "\n",
    "s1.union(s2)"
   ]
  },
  {
   "cell_type": "code",
   "execution_count": 9,
   "id": "898e25a8",
   "metadata": {},
   "outputs": [],
   "source": [
    "# Therefore the union between s1 and s2 is {1,2,3,7,8,9}"
   ]
  },
  {
   "cell_type": "markdown",
   "id": "2dd83144",
   "metadata": {},
   "source": [
    "## Intersection of Sets"
   ]
  },
  {
   "cell_type": "code",
   "execution_count": 12,
   "id": "e44d70b9",
   "metadata": {},
   "outputs": [
    {
     "data": {
      "text/plain": [
       "{2, 3}"
      ]
     },
     "execution_count": 12,
     "metadata": {},
     "output_type": "execute_result"
    }
   ],
   "source": [
    "s1=set([1,3,7,2])\n",
    "\n",
    "s2=set([3,2,8,9])\n",
    "\n",
    "s1.intersection(s2)"
   ]
  },
  {
   "cell_type": "code",
   "execution_count": 13,
   "id": "b1b35923",
   "metadata": {},
   "outputs": [],
   "source": [
    "# The sets of numbers that appears in both set1 and set2 is {2, 3}"
   ]
  },
  {
   "cell_type": "markdown",
   "id": "cece04a1",
   "metadata": {},
   "source": [
    "## Difference of Sets"
   ]
  },
  {
   "cell_type": "code",
   "execution_count": 14,
   "id": "9ffb0f50",
   "metadata": {},
   "outputs": [
    {
     "data": {
      "text/plain": [
       "{1, 7}"
      ]
     },
     "execution_count": 14,
     "metadata": {},
     "output_type": "execute_result"
    }
   ],
   "source": [
    "s1=set([1,3,7,2])\n",
    "\n",
    "s2=set([3,2,8,9])\n",
    "\n",
    "s1.difference(s2)"
   ]
  },
  {
   "cell_type": "code",
   "execution_count": 15,
   "id": "0359077b",
   "metadata": {},
   "outputs": [],
   "source": [
    "#Therefore, the sets of numbers that does not appear in both s1 and s2 is {1,7}"
   ]
  },
  {
   "cell_type": "code",
   "execution_count": null,
   "id": "b1bf3cd3",
   "metadata": {},
   "outputs": [],
   "source": []
  }
 ],
 "metadata": {
  "kernelspec": {
   "display_name": "Python 3 (ipykernel)",
   "language": "python",
   "name": "python3"
  },
  "language_info": {
   "codemirror_mode": {
    "name": "ipython",
    "version": 3
   },
   "file_extension": ".py",
   "mimetype": "text/x-python",
   "name": "python",
   "nbconvert_exporter": "python",
   "pygments_lexer": "ipython3",
   "version": "3.10.9"
  }
 },
 "nbformat": 4,
 "nbformat_minor": 5
}
