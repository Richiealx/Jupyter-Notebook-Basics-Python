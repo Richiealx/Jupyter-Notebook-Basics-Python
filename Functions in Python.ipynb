{
 "cells": [
  {
   "cell_type": "markdown",
   "id": "b497b08c",
   "metadata": {},
   "source": [
    "# Functions in Python"
   ]
  },
  {
   "cell_type": "markdown",
   "id": "0bc656a3",
   "metadata": {},
   "source": [
    "## A Function is a set of code that performs some task"
   ]
  },
  {
   "cell_type": "code",
   "execution_count": 1,
   "id": "05b153dc",
   "metadata": {},
   "outputs": [],
   "source": [
    "# Syntax:\n",
    "#       def function_name:\n",
    "#        statement(s)"
   ]
  },
  {
   "cell_type": "code",
   "execution_count": 2,
   "id": "c5f41f9d",
   "metadata": {},
   "outputs": [],
   "source": [
    "# def: Is the definition of a function\n",
    "\n",
    "#function_name: Is the name you give to the function"
   ]
  },
  {
   "cell_type": "markdown",
   "id": "2a7f74f5",
   "metadata": {},
   "source": [
    "## Creating a definition of a function"
   ]
  },
  {
   "cell_type": "code",
   "execution_count": 3,
   "id": "ca6498a9",
   "metadata": {},
   "outputs": [
    {
     "name": "stdout",
     "output_type": "stream",
     "text": [
      "Good morning\n"
     ]
    }
   ],
   "source": [
    "# Create a definition of a function that prints \"Good Morning\"\n",
    "\n",
    "def welcome():\n",
    "    print(\"Good morning\")\n",
    "    \n",
    "welcome()    "
   ]
  },
  {
   "cell_type": "code",
   "execution_count": 4,
   "id": "558c7abc",
   "metadata": {},
   "outputs": [
    {
     "name": "stdout",
     "output_type": "stream",
     "text": [
      "The sum 30\n"
     ]
    }
   ],
   "source": [
    "# Find the sum of a and b using the def function\n",
    "\n",
    "def add(a,b):\n",
    "    total=a+b\n",
    "    print(\"The sum\",total)\n",
    "    \n",
    "add(10,20)    "
   ]
  },
  {
   "cell_type": "code",
   "execution_count": 5,
   "id": "a31ebd46",
   "metadata": {},
   "outputs": [
    {
     "name": "stdout",
     "output_type": "stream",
     "text": [
      "The sum 30\n"
     ]
    }
   ],
   "source": [
    "# OR use this method to get the same results\n",
    "\n",
    "def add(a,b):\n",
    "    total=a+b\n",
    "    print(\"The sum\",total)\n",
    "    \n",
    "\n",
    "x=20\n",
    "y=10\n",
    "\n",
    "add(x, y)"
   ]
  },
  {
   "cell_type": "code",
   "execution_count": 6,
   "id": "10f48f32",
   "metadata": {},
   "outputs": [
    {
     "name": "stdout",
     "output_type": "stream",
     "text": [
      "The Sum 30\n",
      "The Sum 8\n"
     ]
    }
   ],
   "source": [
    "# Print the sum of a,b and x,y values respectively using def function\n",
    "\n",
    "def add(a,b):\n",
    "    total=a+b\n",
    "    print(\"The Sum\", total)\n",
    "    \n",
    "add(20,10)\n",
    "\n",
    "x=5\n",
    "y=3\n",
    "add(x,y)"
   ]
  },
  {
   "cell_type": "code",
   "execution_count": 7,
   "id": "76fee73f",
   "metadata": {},
   "outputs": [],
   "source": [
    "# The sum total of a and b is 30, while the sum total of x and y is 8"
   ]
  },
  {
   "cell_type": "code",
   "execution_count": 8,
   "id": "45c1e749",
   "metadata": {},
   "outputs": [
    {
     "name": "stdout",
     "output_type": "stream",
     "text": [
      "The result is 200\n"
     ]
    }
   ],
   "source": [
    "# Print the a and b values by multiplying the values in def function\n",
    "\n",
    "# OR use this method to get the same results\n",
    "\n",
    "def multiply(a,b):\n",
    "    total=a*b\n",
    "    print(\"The result is\",total)\n",
    "    \n",
    "\n",
    "x=20\n",
    "y=10\n",
    "\n",
    "multiply(x, y)"
   ]
  },
  {
   "cell_type": "code",
   "execution_count": 9,
   "id": "0c15fd0b",
   "metadata": {},
   "outputs": [
    {
     "name": "stdout",
     "output_type": "stream",
     "text": [
      "The result is 10\n"
     ]
    }
   ],
   "source": [
    "# Print the a and b values by substracting b from a in def function\n",
    "\n",
    "def substract(a,b):\n",
    "    total=a-b\n",
    "    print(\"The result is\",total)\n",
    "    \n",
    "\n",
    "\n",
    "substract(20, 10)"
   ]
  },
  {
   "cell_type": "code",
   "execution_count": 10,
   "id": "e6cfc6f5",
   "metadata": {},
   "outputs": [
    {
     "name": "stdout",
     "output_type": "stream",
     "text": [
      "The result is 2.0\n"
     ]
    }
   ],
   "source": [
    "# Print the a and b values by  dividing a by b in def function\n",
    "\n",
    "def divide(a,b):\n",
    "    total=a/b\n",
    "    print(\"The result is\",total)\n",
    "    \n",
    "\n",
    "\n",
    "divide(20, 10)"
   ]
  },
  {
   "cell_type": "markdown",
   "id": "51bd55ef",
   "metadata": {},
   "source": [
    "## Applying a keyword to a function"
   ]
  },
  {
   "cell_type": "code",
   "execution_count": 11,
   "id": "63c40483",
   "metadata": {},
   "outputs": [
    {
     "name": "stdout",
     "output_type": "stream",
     "text": [
      "The sum is 30\n"
     ]
    }
   ],
   "source": [
    "# Assuming you have b,a instead of a,b\n",
    "# We assign 10 to a, and assign 20 to b\n",
    "\n",
    "def add(b,a):\n",
    "    total=a+b\n",
    "    print(\"The sum is\",total)\n",
    "    \n",
    "add(a=10,b=20)    "
   ]
  },
  {
   "cell_type": "code",
   "execution_count": 12,
   "id": "aabb3482",
   "metadata": {},
   "outputs": [
    {
     "name": "stdout",
     "output_type": "stream",
     "text": [
      "The sum is 10\n"
     ]
    }
   ],
   "source": [
    "# Setting a default value to a and b which is 0\n",
    "\n",
    "def add(a=0,b=0):\n",
    "    total=a+b\n",
    "    print(\"The sum is\",total)\n",
    "\n",
    "add(10)    "
   ]
  },
  {
   "cell_type": "code",
   "execution_count": 13,
   "id": "97d943fe",
   "metadata": {},
   "outputs": [],
   "source": [
    "# Because we assigned a default 0 to values a and b, we can print the sum of 10"
   ]
  },
  {
   "cell_type": "code",
   "execution_count": 14,
   "id": "8f55c1b7",
   "metadata": {},
   "outputs": [
    {
     "name": "stdout",
     "output_type": "stream",
     "text": [
      "The sum is 10\n",
      "The sum is 30\n",
      "The sum is 60\n",
      "The sum is 100\n"
     ]
    }
   ],
   "source": [
    "# Passing or Printing 4 numbers in def function\n",
    "\n",
    "def add(*a):\n",
    "    total=0\n",
    "    for i in a:\n",
    "        total=total+i\n",
    "        print(\"The sum is\",total)\n",
    "        \n",
    "add(10,20,30,40)        "
   ]
  },
  {
   "cell_type": "code",
   "execution_count": 16,
   "id": "d320efe7",
   "metadata": {},
   "outputs": [
    {
     "name": "stdout",
     "output_type": "stream",
     "text": [
      "1755178074640 1755178074960\n",
      "1755178074640 1755178074960\n",
      "1755178074384 1755178074416\n",
      "The sum is 5\n",
      "The sum is 30\n"
     ]
    }
   ],
   "source": [
    "# Print the addresses of a and b in def function\n",
    "\n",
    "def add(a,b):\n",
    "    print(id(a),id(b))\n",
    "    a=2\n",
    "    b=3\n",
    "    print(id(a),id(b))\n",
    "    total=a+b\n",
    "    print(\"The sum is\",total)\n",
    "    \n",
    "x=10\n",
    "y=20\n",
    "print(id(x),id(y))\n",
    "add(x,y)\n",
    "print(\"The sum is\",x+y)"
   ]
  },
  {
   "cell_type": "code",
   "execution_count": 20,
   "id": "c338cdb7",
   "metadata": {},
   "outputs": [],
   "source": [
    "# The address of a is 1755178074640 and the address of b is 1755178074960\n",
    "# The address of x is 1755178074384 and the address of y is 1755178074416"
   ]
  },
  {
   "cell_type": "code",
   "execution_count": 19,
   "id": "c7226e2f",
   "metadata": {},
   "outputs": [
    {
     "name": "stdout",
     "output_type": "stream",
     "text": [
      "1755178074384 1755178074416\n",
      "1755178074384 1755178074416\n",
      "The sum is 5\n"
     ]
    }
   ],
   "source": [
    "def add(a,b):\n",
    "    print(id(a),id(b))\n",
    "    a=2\n",
    "    b=3\n",
    "    print(id(a),id(b))\n",
    "    total=a+b\n",
    "    print(\"The sum is\",total)\n",
    "    \n",
    "add(2,3)    "
   ]
  },
  {
   "cell_type": "markdown",
   "id": "88f310bf",
   "metadata": {},
   "source": [
    "## Changing mutable elemnts in a list"
   ]
  },
  {
   "cell_type": "code",
   "execution_count": 21,
   "id": "f842f682",
   "metadata": {},
   "outputs": [
    {
     "name": "stdout",
     "output_type": "stream",
     "text": [
      "[0, 1, 2]\n",
      "[0, 1, 0]\n"
     ]
    }
   ],
   "source": [
    "# list=[0,1,2]\n",
    "# Change the second element in the list ie 2 to 0\n",
    "\n",
    "def add(list):\n",
    "    list[2]=0\n",
    "\n",
    "list=[0,1,2]\n",
    "print(list)\n",
    "add(list)\n",
    "print(list)\n",
    "\n",
    "\n"
   ]
  },
  {
   "cell_type": "code",
   "execution_count": 22,
   "id": "55e3b5c4",
   "metadata": {},
   "outputs": [],
   "source": [
    "# The zero(0) in the second list has replaced the value 2 in the first list"
   ]
  },
  {
   "cell_type": "code",
   "execution_count": 24,
   "id": "f2780191",
   "metadata": {},
   "outputs": [
    {
     "name": "stdout",
     "output_type": "stream",
     "text": [
      "The sum is 30\n"
     ]
    }
   ],
   "source": [
    "# Another way of summing up values a, and b \n",
    "\n",
    "def add(a,b):\n",
    "    total=a+b\n",
    "    return total\n",
    "\n",
    "result=add(10,20)\n",
    "print(\"The sum is\",result)"
   ]
  },
  {
   "cell_type": "code",
   "execution_count": null,
   "id": "3eab8cf8",
   "metadata": {},
   "outputs": [],
   "source": []
  }
 ],
 "metadata": {
  "kernelspec": {
   "display_name": "Python 3 (ipykernel)",
   "language": "python",
   "name": "python3"
  },
  "language_info": {
   "codemirror_mode": {
    "name": "ipython",
    "version": 3
   },
   "file_extension": ".py",
   "mimetype": "text/x-python",
   "name": "python",
   "nbconvert_exporter": "python",
   "pygments_lexer": "ipython3",
   "version": "3.10.9"
  }
 },
 "nbformat": 4,
 "nbformat_minor": 5
}
