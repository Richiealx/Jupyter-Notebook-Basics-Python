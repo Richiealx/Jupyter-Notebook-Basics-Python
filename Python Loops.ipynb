{
 "cells": [
  {
   "cell_type": "markdown",
   "id": "2656d9f5",
   "metadata": {},
   "source": [
    "# Python Loops"
   ]
  },
  {
   "cell_type": "markdown",
   "id": "1b0ee979",
   "metadata": {},
   "source": [
    "### What are loops?"
   ]
  },
  {
   "cell_type": "code",
   "execution_count": 1,
   "id": "9f062c29",
   "metadata": {},
   "outputs": [],
   "source": [
    "# A loop is an instruction that repeats multiple lines as long as some conditions are met\n",
    "\n",
    "#Example, Jake want to print his name 10 times ie print(Jake)\n",
    "#                                                  print(Jake)\n",
    "#                                                  print(Jake)\n",
    "#                                                  print(Jake)\n",
    "#                                                  print(Jake)\n",
    "#                                                  print(Jake)\n",
    "#                                                  print(Jake)\n",
    "#                                                  print(Jake)\n",
    "#                                                  print(Jake)\n",
    "#                                                  print(Jake)"
   ]
  },
  {
   "cell_type": "markdown",
   "id": "1b6e2382",
   "metadata": {},
   "source": [
    "## Types of Loops"
   ]
  },
  {
   "cell_type": "markdown",
   "id": "275b9aa0",
   "metadata": {},
   "source": [
    "### 1. While Loop\n",
    "###  2. For Loop\n",
    "###  3. Nested Loop  "
   ]
  },
  {
   "cell_type": "code",
   "execution_count": 2,
   "id": "bedd048b",
   "metadata": {},
   "outputs": [],
   "source": [
    "# The loop continues as long as the condition is satisfied\n",
    "# The moment the condition fails, the program control exits out of the loop"
   ]
  },
  {
   "cell_type": "markdown",
   "id": "93403860",
   "metadata": {},
   "source": [
    "### while loop: It is used to repeat a section of a code an unknown number of times until a specific condition is met"
   ]
  },
  {
   "cell_type": "code",
   "execution_count": 3,
   "id": "071a4390",
   "metadata": {},
   "outputs": [],
   "source": [
    "# Syntax:\n",
    "#        While Expression:\n",
    "#               Statement(s)"
   ]
  },
  {
   "cell_type": "code",
   "execution_count": 4,
   "id": "661597f2",
   "metadata": {},
   "outputs": [],
   "source": [
    "# Write a simple program that ask the user to enter a multiple of 7. \n",
    "\n",
    "# The program continue doing this until a multiple of 7 is correctly entered by the user\n",
    "\n",
    "# For example, if the user enters 14 or 21, you simply print yes this is a multiple 7.\n",
    "\n",
    "# On the other, if the user enters 10 or 12 or a number which is not a multiple of 7, you to take the input again."
   ]
  },
  {
   "cell_type": "code",
   "execution_count": 5,
   "id": "640b10dc",
   "metadata": {},
   "outputs": [
    {
     "name": "stdout",
     "output_type": "stream",
     "text": [
      "Enter a multiple of 7: 10\n",
      "This is not a multiple of 7. Please try again\n",
      "Enter a multiple of 7: 15\n",
      "This is not a multiple of 7. Please try again\n",
      "Enter a multiple of 7: 36\n",
      "This is not a multiple of 7. Please try again\n",
      "Enter a multiple of 7: 48\n",
      "This is not a multiple of 7. Please try again\n",
      "Enter a multiple of 7: 50\n",
      "This is not a multiple of 7. Please try again\n",
      "Enter a multiple of 7: 78\n",
      "This is not a multiple of 7. Please try again\n",
      "Enter a multiple of 7: 89\n",
      "This is not a multiple of 7. Please try again\n",
      "Enter a multiple of 7: 99\n",
      "This is not a multiple of 7. Please try again\n",
      "Enter a multiple of 7: 21\n",
      "Thank you!\n"
     ]
    }
   ],
   "source": [
    " while True:\n",
    "        number=int(input(\"Enter a multiple of 7: \"))\n",
    "        if number %7==0:\n",
    "            print(\"Thank you!\")\n",
    "            break\n",
    "        else:\n",
    "            print(\"This is not a multiple of 7. Please try again\")"
   ]
  },
  {
   "cell_type": "markdown",
   "id": "71ad7431",
   "metadata": {},
   "source": [
    "### Explanation of the code above"
   ]
  },
  {
   "cell_type": "code",
   "execution_count": 6,
   "id": "9e1101ea",
   "metadata": {},
   "outputs": [],
   "source": [
    "# 1. The 'while True' creates an infinite loop\n",
    "# 2. Inside the loop, the user is prompted to enter a number \n",
    "# 3. The program checks if the entered number is a multiple of 7 using the module indicator '%'\n",
    "# -  If number %7==0, it means number is a multiple of 7 \n",
    "# -  In this case, it prints a message indicating that the entered number is not a multiple of 7 \n",
    "#    and prompts the user to try again."
   ]
  },
  {
   "cell_type": "markdown",
   "id": "4ca1070c",
   "metadata": {},
   "source": [
    "### Example Run:"
   ]
  },
  {
   "cell_type": "code",
   "execution_count": 7,
   "id": "4f1cfe0d",
   "metadata": {},
   "outputs": [],
   "source": [
    "# Enter a multiple of 7:10\n",
    "\n",
    "# RUN: That is not a multiple of 7. Please try again\n",
    "\n",
    "# Enter a multiple of 7:14\n",
    "\n",
    "# RUN: Thank you!"
   ]
  },
  {
   "cell_type": "code",
   "execution_count": 8,
   "id": "c3c30cfe",
   "metadata": {},
   "outputs": [
    {
     "name": "stdout",
     "output_type": "stream",
     "text": [
      "Enter a multiple of 5: 2\n",
      "This is not a multiple of 5. Try again later\n",
      "Enter a multiple of 5: 12\n",
      "This is not a multiple of 5. Try again later\n",
      "Enter a multiple of 5: 46\n",
      "This is not a multiple of 5. Try again later\n",
      "Enter a multiple of 5: 76\n",
      "This is not a multiple of 5. Try again later\n",
      "Enter a multiple of 5: 88\n",
      "This is not a multiple of 5. Try again later\n",
      "Enter a multiple of 5: 99\n",
      "This is not a multiple of 5. Try again later\n",
      "Enter a multiple of 5: 7\n",
      "This is not a multiple of 5. Try again later\n",
      "Enter a multiple of 5: 3\n",
      "This is not a multiple of 5. Try again later\n",
      "Enter a multiple of 5: 6\n",
      "This is not a multiple of 5. Try again later\n",
      "Enter a multiple of 5: 22\n",
      "This is not a multiple of 5. Try again later\n",
      "Enter a multiple of 5: 100\n",
      "Thank you!\n"
     ]
    }
   ],
   "source": [
    "while True:\n",
    "    multiple_of_5 = int(input(\"Enter a multiple of 5: \"))\n",
    "    if multiple_of_5 % 5 == 0:\n",
    "        print(\"Thank you!\")\n",
    "        break\n",
    "    else:\n",
    "        print(\"This is not a multiple of 5. Try again later\")\n"
   ]
  },
  {
   "cell_type": "code",
   "execution_count": 9,
   "id": "c4310a34",
   "metadata": {},
   "outputs": [
    {
     "name": "stdout",
     "output_type": "stream",
     "text": [
      "1\n",
      "2\n",
      "3\n",
      "4\n",
      "5\n"
     ]
    }
   ],
   "source": [
    "# Print numbers from 1 to 5\n",
    "\n",
    "count=1\n",
    "while count<=5:\n",
    "    print(count)\n",
    "    count+=1"
   ]
  },
  {
   "cell_type": "markdown",
   "id": "bce92c5e",
   "metadata": {},
   "source": [
    "### Explanation of the code above"
   ]
  },
  {
   "cell_type": "code",
   "execution_count": 10,
   "id": "9ca0a921",
   "metadata": {},
   "outputs": [],
   "source": [
    "# 1. The 'count' is initialized to 1\n",
    "# 2. The 'while loop' checks if count is less than or equal to 5\n",
    "# 3. If the condition is 'True', it prints the current value of 'count'\n",
    "#    and then increment it by 1.\n",
    "# 4. This continues until 'count' is greater than 5"
   ]
  },
  {
   "cell_type": "code",
   "execution_count": 11,
   "id": "31fcfb2e",
   "metadata": {},
   "outputs": [
    {
     "name": "stdout",
     "output_type": "stream",
     "text": [
      "6\n",
      "7\n",
      "8\n",
      "9\n",
      "10\n"
     ]
    }
   ],
   "source": [
    "# Print numbers from 6 to 10\n",
    "\n",
    "count=6\n",
    "while count<=10:\n",
    "    print(count)\n",
    "    count+=1"
   ]
  },
  {
   "cell_type": "code",
   "execution_count": 12,
   "id": "1e8adb81",
   "metadata": {},
   "outputs": [],
   "source": [
    "# The above code shows the counting of numbers from 6 to 10"
   ]
  },
  {
   "cell_type": "markdown",
   "id": "f5b69ba3",
   "metadata": {},
   "source": [
    "### While Loop Example with user input"
   ]
  },
  {
   "cell_type": "code",
   "execution_count": 13,
   "id": "28384ebf",
   "metadata": {},
   "outputs": [
    {
     "name": "stdout",
     "output_type": "stream",
     "text": [
      "Enter a number(0 to stop): 1\n",
      "You entered:1\n",
      "Enter a number(0 to stop): 2\n",
      "You entered:2\n",
      "Enter a number(0 to stop): 3\n",
      "You entered:3\n",
      "Enter a number(0 to stop): 4\n",
      "You entered:4\n",
      "Enter a number(0 to stop): 5\n",
      "You entered:5\n",
      "Enter a number(0 to stop): 6\n",
      "You entered:6\n",
      "Enter a number(0 to stop): 7\n",
      "You entered:7\n",
      "Enter a number(0 to stop): 8\n",
      "You entered:8\n",
      "Enter a number(0 to stop): 9\n",
      "You entered:9\n",
      "Enter a number(0 to stop): 10\n",
      "You entered:10\n",
      "Enter a number(0 to stop): 2\n",
      "You entered:2\n",
      "Enter a number(0 to stop): 20\n",
      "You entered:20\n",
      "Enter a number(0 to stop): 30\n",
      "You entered:30\n",
      "Enter a number(0 to stop): 50\n",
      "You entered:50\n",
      "Enter a number(0 to stop): 60\n",
      "You entered:60\n",
      "Enter a number(0 to stop): 70\n",
      "You entered:70\n",
      "Enter a number(0 to stop): 80\n",
      "You entered:80\n",
      "Enter a number(0 to stop): 90\n",
      "You entered:90\n",
      "Enter a number(0 to stop): 100\n",
      "You entered:100\n",
      "Enter a number(0 to stop): 0\n",
      "Program ended\n"
     ]
    }
   ],
   "source": [
    "# Prompt a user to enter a number, and stops when the user enters 0\n",
    "\n",
    "number=int(input(\"Enter a number(0 to stop): \"))\n",
    "while number !=0:\n",
    "    print(f\"You entered:{number}\")\n",
    "    number=int(input(\"Enter a number(0 to stop): \"))\n",
    "print(\"Program ended\")    "
   ]
  },
  {
   "cell_type": "markdown",
   "id": "36292873",
   "metadata": {},
   "source": [
    "### Explanation of the code above"
   ]
  },
  {
   "cell_type": "code",
   "execution_count": 14,
   "id": "0b751b2d",
   "metadata": {},
   "outputs": [],
   "source": [
    "# 1. The user is prompted to to enter a number\n",
    "# 2. The loop runs as long as the entered number is not 0\n",
    "# 3. Inside the loop, it prints the entered number and then prompts the user again.\n",
    "# 4. When the user enters 0, the loop exits, and the program ends."
   ]
  },
  {
   "cell_type": "markdown",
   "id": "12802317",
   "metadata": {},
   "source": [
    "### Example with infinite loop and break"
   ]
  },
  {
   "cell_type": "code",
   "execution_count": 15,
   "id": "0f8641de",
   "metadata": {},
   "outputs": [
    {
     "name": "stdout",
     "output_type": "stream",
     "text": [
      "Enter a number (0 to stop): 0\n",
      "You entered: 0\n",
      "Program ended\n"
     ]
    }
   ],
   "source": [
    "# Print an infinite loop that breaks when a certain condition is met\n",
    "\n",
    "while True:\n",
    "    number = int(input(\"Enter a number (0 to stop): \"))\n",
    "    if number == 0:\n",
    "        print(f\"You entered: {number}\")\n",
    "        break\n",
    "print(\"Program ended\")           "
   ]
  },
  {
   "cell_type": "markdown",
   "id": "aeac97f4",
   "metadata": {},
   "source": [
    "### Example with a Countdown Timer"
   ]
  },
  {
   "cell_type": "code",
   "execution_count": 16,
   "id": "3991c3fa",
   "metadata": {},
   "outputs": [
    {
     "name": "stdout",
     "output_type": "stream",
     "text": [
      "10\n",
      "9\n",
      "8\n",
      "7\n",
      "6\n",
      "5\n",
      "4\n",
      "3\n",
      "2\n",
      "1\n",
      "countdown finished\n"
     ]
    }
   ],
   "source": [
    "import time\n",
    "\n",
    "countdown=10\n",
    "while countdown>0:\n",
    "    print(countdown)\n",
    "    time.sleep(1) # wait for 1 second\n",
    "    countdown-=1\n",
    "print(\"countdown finished\")    "
   ]
  },
  {
   "cell_type": "markdown",
   "id": "5b6c998a",
   "metadata": {},
   "source": [
    "### Explanation of the code above"
   ]
  },
  {
   "cell_type": "code",
   "execution_count": 17,
   "id": "9bc9777d",
   "metadata": {},
   "outputs": [],
   "source": [
    "# 1. The 'countdown' variable is initialized to 10\n",
    "# 2. The 'while loop' checks if the countdown is greater than 0\n",
    "# 3. It prints the current value of countdown, waits for 1 second, then decrements countdown by 1\n",
    "#  ie  coundown-=1 means thqt the countdown is being decreased by 1 (from 10-0)\n",
    "# 4. This contines until coundown reaches 0, after which the loop exits and prints \"countdown finished\""
   ]
  },
  {
   "cell_type": "markdown",
   "id": "00c305c2",
   "metadata": {},
   "source": [
    "### Example with list processing"
   ]
  },
  {
   "cell_type": "code",
   "execution_count": 19,
   "id": "ff7887e2",
   "metadata": {},
   "outputs": [
    {
     "name": "stdout",
     "output_type": "stream",
     "text": [
      "1\n",
      "2\n",
      "3\n",
      "4\n",
      "5\n"
     ]
    }
   ],
   "source": [
    "numbers=[1,2,3,4,5]\n",
    "index=0\n",
    "\n",
    "while index<len(numbers):\n",
    "    print(numbers[index])\n",
    "    index+=1"
   ]
  },
  {
   "cell_type": "markdown",
   "id": "e90ba08c",
   "metadata": {},
   "source": [
    "### Explanation of the code above"
   ]
  },
  {
   "cell_type": "code",
   "execution_count": 20,
   "id": "54bc2444",
   "metadata": {},
   "outputs": [],
   "source": [
    "# 1. The 'numbers' list contains 5 elements\n",
    "# 2. The 'index' varaible is initialized to 0\n",
    "# 3. The 'while' loop checks if 'index' is less than the length of the numbers list\n",
    "# 4. It prints the element at the current index and then increments by 1"
   ]
  },
  {
   "cell_type": "markdown",
   "id": "c529893a",
   "metadata": {},
   "source": [
    "## For Loop: It is used to iterate over a sequence, which could be a list, tuple, array or a string"
   ]
  },
  {
   "cell_type": "code",
   "execution_count": 21,
   "id": "1637cacd",
   "metadata": {},
   "outputs": [],
   "source": [
    "# Syntax:\n",
    "#    FOR COUNTER IN SEQUENCE:\n",
    "#        STATEMENT(S)\n",
    "\n",
    "# The COUNTER keeps track of the position you are in the sequence"
   ]
  },
  {
   "cell_type": "code",
   "execution_count": 22,
   "id": "a495bf0d",
   "metadata": {},
   "outputs": [
    {
     "name": "stdout",
     "output_type": "stream",
     "text": [
      "1\n",
      "6\n",
      "Enzo Fernandes\n"
     ]
    }
   ],
   "source": [
    "# Example 1\n",
    "\n",
    "Chelsea=[1, 6, \"Enzo Fernandes\"]\n",
    "\n",
    "for i in Chelsea:\n",
    "    print(i)"
   ]
  },
  {
   "cell_type": "code",
   "execution_count": 23,
   "id": "6f0ccf47",
   "metadata": {},
   "outputs": [],
   "source": [
    "# NOTE: i holds the values in Chelsea. ie i holds 1,6 and \"Enzo Fernandes\""
   ]
  },
  {
   "cell_type": "code",
   "execution_count": 27,
   "id": "363473a9",
   "metadata": {},
   "outputs": [
    {
     "name": "stdout",
     "output_type": "stream",
     "text": [
      "M\n",
      "o\n",
      "h\n",
      "a\n",
      "m\n",
      "m\n",
      "e\n",
      "d\n",
      " \n",
      "K\n",
      "u\n",
      "d\n",
      "u\n",
      "s\n"
     ]
    }
   ],
   "source": [
    "# Example 2\n",
    "\n",
    "Westham_United=\"Mohammed Kudus\"\n",
    "for i in Westham_United:\n",
    "    print(i)"
   ]
  },
  {
   "cell_type": "code",
   "execution_count": 31,
   "id": "4257875b",
   "metadata": {},
   "outputs": [
    {
     "name": "stdout",
     "output_type": "stream",
     "text": [
      "Mohammed Kudus\n",
      "Cole Palmer\n",
      "Phil Foden\n"
     ]
    }
   ],
   "source": [
    "# Example 3: Print 3 Best Players in the EPL\n",
    "\n",
    "EPL_Best_Players=[\"Mohammed Kudus\", \"Cole Palmer\", \"Phil Foden\"]\n",
    "\n",
    "for i in EPL_Best_Players:\n",
    "    print(i)\n",
    "\n"
   ]
  },
  {
   "cell_type": "code",
   "execution_count": 32,
   "id": "634b2739",
   "metadata": {},
   "outputs": [
    {
     "name": "stdout",
     "output_type": "stream",
     "text": [
      "{'name': 'Mohammed Kudus', 'age': 23, 'position': 'Attacking Midfielder'}\n",
      "{'name': 'Mohammed Kudus', 'age': 23, 'position': 'Attacking Midfielder'}\n",
      "{'name': 'Mohammed Kudus', 'age': 23, 'position': 'Attacking Midfielder'}\n"
     ]
    }
   ],
   "source": [
    "# Print the name, age, and position of the best player of EPL\n",
    "\n",
    "EPL_Best_Player={\"name\": \"Mohammed Kudus\", \"age\":23, \"position\":\"Attacking Midfielder\"}\n",
    "\n",
    "for i in EPL_Best_Player:\n",
    "    print(EPL_Best_Player)"
   ]
  },
  {
   "cell_type": "markdown",
   "id": "240acc0e",
   "metadata": {},
   "source": [
    "## Nested Loops: Python allows loops to be nested in loops"
   ]
  },
  {
   "cell_type": "markdown",
   "id": "f87275ea",
   "metadata": {},
   "source": [
    "### Types on Nested Loops"
   ]
  },
  {
   "cell_type": "code",
   "execution_count": 33,
   "id": "c9753104",
   "metadata": {},
   "outputs": [],
   "source": [
    "# A. for loop within for loop\n",
    "# Syntax:\n",
    "#      for in for\n",
    "#       for var1 in seq1\n",
    "#        for var2 in seq2\n",
    "#            statement(s)"
   ]
  },
  {
   "cell_type": "code",
   "execution_count": 34,
   "id": "70fef132",
   "metadata": {},
   "outputs": [],
   "source": [
    "# B. While loop within while loop\n",
    "# Syntax:\n",
    "#        while condition1\n",
    "#         while condition2\n",
    "#             statement(s)"
   ]
  },
  {
   "cell_type": "code",
   "execution_count": 35,
   "id": "80e7a81d",
   "metadata": {},
   "outputs": [],
   "source": [
    "# C. for loop within while loop\n",
    "# Syntax:\n",
    "#        while condition1\n",
    "#         for var1 in seq1\n",
    "#             statement(s)"
   ]
  },
  {
   "cell_type": "code",
   "execution_count": 36,
   "id": "7fff6950",
   "metadata": {},
   "outputs": [],
   "source": [
    "# D. While loop within for loop\n",
    "# Syntax:\n",
    "#        for var1 in seq1\n",
    "#         while condition1\n",
    "#             statement(s)"
   ]
  },
  {
   "cell_type": "markdown",
   "id": "3399ec9f",
   "metadata": {},
   "source": [
    "### Accessing elements in a matrix"
   ]
  },
  {
   "cell_type": "code",
   "execution_count": 37,
   "id": "ebe7610e",
   "metadata": {},
   "outputs": [
    {
     "name": "stdout",
     "output_type": "stream",
     "text": [
      "1\n",
      "2\n",
      "3\n",
      "a\n",
      "b\n",
      "c\n"
     ]
    }
   ],
   "source": [
    "# Example 1. Creating A Matrix\n",
    "\n",
    "x=[[1,2,3],[\"a\",\"b\",\"c\"]]\n",
    "\n",
    "for i in x:\n",
    "    for j in i:\n",
    "        print(j)"
   ]
  },
  {
   "cell_type": "code",
   "execution_count": 42,
   "id": "78ea2f32",
   "metadata": {},
   "outputs": [
    {
     "name": "stdout",
     "output_type": "stream",
     "text": [
      "1 2 3 a b c "
     ]
    }
   ],
   "source": [
    "# Example 2. If we want [1,2,3] to be printed on one line and [\"a\",\"b\".\"c\"] to be printed on another line\n",
    "\n",
    "x=[[1,2,3],[\"a\",\"b\",\"c\"]]\n",
    "\n",
    "for i in x:\n",
    "    for j in i:\n",
    "        print(j,end=\" \")"
   ]
  },
  {
   "cell_type": "code",
   "execution_count": 43,
   "id": "4a5d4db0",
   "metadata": {},
   "outputs": [],
   "source": [
    "# NOTE: i shows the first list[1,2,3] and j shows the first element in the first list, which is 1"
   ]
  },
  {
   "cell_type": "code",
   "execution_count": 47,
   "id": "9c38113c",
   "metadata": {},
   "outputs": [
    {
     "name": "stdout",
     "output_type": "stream",
     "text": [
      "1 2 3 4 5 6 7 8 9 "
     ]
    }
   ],
   "source": [
    "# Example 3. Nested for loop\n",
    "\n",
    "list=[\n",
    "\n",
    "[1,2,3],\n",
    "[4,5,6],\n",
    "[7,8,9]\n",
    "]    \n",
    "\n",
    "for i in list:\n",
    "    for j in i:\n",
    "        print(j, end=\" \")"
   ]
  },
  {
   "cell_type": "markdown",
   "id": "2ba04db5",
   "metadata": {},
   "source": [
    "## Loop Control Statements             "
   ]
  },
  {
   "cell_type": "code",
   "execution_count": 55,
   "id": "4cfdbcbe",
   "metadata": {},
   "outputs": [],
   "source": [
    "# They alter the regular flow of a loop"
   ]
  },
  {
   "cell_type": "markdown",
   "id": "2a563082",
   "metadata": {},
   "source": [
    "### A. Break\n",
    "### Break: Transfer control to the statement right after the loop"
   ]
  },
  {
   "cell_type": "code",
   "execution_count": 56,
   "id": "a150a9f4",
   "metadata": {},
   "outputs": [
    {
     "name": "stdout",
     "output_type": "stream",
     "text": [
      "H\n",
      "e\n",
      "y\n",
      " \n",
      "R\n",
      "a\n",
      "h\n",
      "e\n",
      "e\n",
      "m\n",
      " \n",
      "S\n",
      "t\n",
      "e\n",
      "r\n",
      "l\n",
      "i\n",
      "n\n",
      "g\n",
      ".\n",
      " \n",
      "h\n",
      "o\n",
      "w\n",
      " \n",
      "a\n",
      "r\n",
      "e\n",
      " \n",
      "y\n",
      "o\n",
      "u\n",
      "?\n"
     ]
    }
   ],
   "source": [
    "Enzo_Maresca=\"Hey Raheem Sterling. how are you?\"\n",
    "\n",
    "for i in Enzo_Maresca:\n",
    "    if i in Enzo_Maresca ==\".\":\n",
    "        break\n",
    "    print(i)    "
   ]
  },
  {
   "cell_type": "code",
   "execution_count": 62,
   "id": "8e058307",
   "metadata": {},
   "outputs": [
    {
     "name": "stdout",
     "output_type": "stream",
     "text": [
      "Hey Raheem Sterling"
     ]
    }
   ],
   "source": [
    "# If we want the satement to break and print \"Hey Raheem Sterling\"\n",
    "\n",
    "Enzo_Maresca=\"Hey Raheem Sterling. how are you?\"\n",
    "\n",
    "for i in Enzo_Maresca:\n",
    "    if i==\".\":\n",
    "        break\n",
    "    print(i, end=\"\")"
   ]
  },
  {
   "cell_type": "markdown",
   "id": "82e63aab",
   "metadata": {},
   "source": [
    "### B, Continue: Continue skips the statements following it and returns control to the beginning of the loops."
   ]
  },
  {
   "cell_type": "code",
   "execution_count": 70,
   "id": "f29c5eec",
   "metadata": {},
   "outputs": [
    {
     "name": "stdout",
     "output_type": "stream",
     "text": [
      "1\n",
      "4\n",
      "6\n"
     ]
    }
   ],
   "source": [
    "# Print all the numbers in the list which are less than 10\n",
    "list=[1,13,56,4,6]\n",
    "\n",
    "for i in list:\n",
    "    if i>10:\n",
    "        continue\n",
    "    print(i)"
   ]
  },
  {
   "cell_type": "markdown",
   "id": "fb43fd4d",
   "metadata": {},
   "source": [
    "#### Explanation of the results above\n"
   ]
  },
  {
   "cell_type": "code",
   "execution_count": 71,
   "id": "d3d27b7f",
   "metadata": {},
   "outputs": [],
   "source": [
    "# If i is greater than 10, then i contnues\n",
    "# If i is less than 10, it prints the results\n",
    "\n",
    "# Out of the list=[1,13,56,4,6], the numbers that are less than 10 are 1, 4 and 6"
   ]
  }
 ],
 "metadata": {
  "kernelspec": {
   "display_name": "Python 3 (ipykernel)",
   "language": "python",
   "name": "python3"
  },
  "language_info": {
   "codemirror_mode": {
    "name": "ipython",
    "version": 3
   },
   "file_extension": ".py",
   "mimetype": "text/x-python",
   "name": "python",
   "nbconvert_exporter": "python",
   "pygments_lexer": "ipython3",
   "version": "3.10.9"
  }
 },
 "nbformat": 4,
 "nbformat_minor": 5
}
