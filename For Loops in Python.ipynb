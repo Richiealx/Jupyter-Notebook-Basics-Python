{
 "cells": [
  {
   "cell_type": "markdown",
   "id": "5393b7b0",
   "metadata": {},
   "source": [
    "# For Loop in Python"
   ]
  },
  {
   "cell_type": "markdown",
   "id": "9c2693c3",
   "metadata": {},
   "source": [
    "### For Loop is used to iterate over a sequence, which could be a list, tuple, array or a string"
   ]
  },
  {
   "cell_type": "code",
   "execution_count": 1,
   "id": "4ac2e7b4",
   "metadata": {},
   "outputs": [],
   "source": [
    "# Syntax:\n",
    "#      For Counter in Sequence:\n",
    "#        statement(s)"
   ]
  },
  {
   "cell_type": "code",
   "execution_count": 2,
   "id": "f2eca6a0",
   "metadata": {},
   "outputs": [],
   "source": [
    "#Counter: The variable that keep track of the position of the element you are accessing now\n",
    "\n",
    "#IN: For the best sequence\n",
    "\n",
    "#Sequence: The name of list,tuple,array,or string, array of integers"
   ]
  },
  {
   "cell_type": "code",
   "execution_count": 3,
   "id": "dcf4de6f",
   "metadata": {},
   "outputs": [
    {
     "name": "stdout",
     "output_type": "stream",
     "text": [
      "1 4.2 Chelsea\n"
     ]
    }
   ],
   "source": [
    "x=[1,4.2,\"Chelsea\"]\n",
    "\n",
    "print(x[0],x[1],x[2])"
   ]
  },
  {
   "cell_type": "code",
   "execution_count": 4,
   "id": "3fd09442",
   "metadata": {},
   "outputs": [],
   "source": [
    "# What if the list have 100 element"
   ]
  },
  {
   "cell_type": "code",
   "execution_count": 5,
   "id": "13d67964",
   "metadata": {},
   "outputs": [
    {
     "name": "stdout",
     "output_type": "stream",
     "text": [
      "1\n",
      "4.2\n",
      "Chelsea\n"
     ]
    }
   ],
   "source": [
    "x=[1,4.2,\"Chelsea\"]\n",
    "\n",
    "for i in x:\n",
    "    print(i)"
   ]
  },
  {
   "cell_type": "code",
   "execution_count": 6,
   "id": "fbb846e5",
   "metadata": {},
   "outputs": [
    {
     "name": "stdout",
     "output_type": "stream",
     "text": [
      "1 4.2 Chelsea "
     ]
    }
   ],
   "source": [
    "# What if we want all the statement (ie 1,4.2,\"Chelsea\") to printed on one line\n",
    "\n",
    "x=[1, 4.2,\"Chelsea\"]\n",
    "\n",
    "for i in x:\n",
    "    print(i,end=' ')"
   ]
  },
  {
   "cell_type": "code",
   "execution_count": 7,
   "id": "688f8064",
   "metadata": {},
   "outputs": [
    {
     "name": "stdout",
     "output_type": "stream",
     "text": [
      "C\n",
      "h\n",
      "e\n",
      "l\n",
      "s\n",
      "e\n",
      "a\n"
     ]
    }
   ],
   "source": [
    "# Forking is also used to print every character in your string separately\n",
    "\n",
    "Team=\"Chelsea\"\n",
    "\n",
    "for i in Team:\n",
    "    print(i)"
   ]
  },
  {
   "cell_type": "code",
   "execution_count": 8,
   "id": "1983579f",
   "metadata": {},
   "outputs": [
    {
     "name": "stdout",
     "output_type": "stream",
     "text": [
      "C h e l s e a "
     ]
    }
   ],
   "source": [
    "# What if we want all the statement (ie \"Chelsea\") to printed on one line\n",
    "\n",
    "Team=\"Chelsea\"\n",
    "\n",
    "for i in Team:\n",
    "    print(i, end=' ')"
   ]
  },
  {
   "cell_type": "code",
   "execution_count": 9,
   "id": "e3c3c302",
   "metadata": {},
   "outputs": [],
   "source": [
    "# Print all the even numbers in the range of 0 to 20\n",
    "\n",
    "# NOTE: In trying to print even numbers from 0 to 20, if we write i in range (0,20), \n",
    "# the even numbers will only count from 0 to 19. \n",
    "# Therefore, to include 20 to the elements, we write for i in range (0,21)"
   ]
  },
  {
   "cell_type": "code",
   "execution_count": 10,
   "id": "d145abdc",
   "metadata": {},
   "outputs": [
    {
     "name": "stdout",
     "output_type": "stream",
     "text": [
      "0\n",
      "1\n",
      "2\n",
      "3\n",
      "4\n",
      "5\n",
      "6\n",
      "7\n",
      "8\n",
      "9\n",
      "10\n",
      "11\n",
      "12\n",
      "13\n",
      "14\n",
      "15\n",
      "16\n",
      "17\n",
      "18\n",
      "19\n",
      "20\n"
     ]
    }
   ],
   "source": [
    "# Print the numbers from 0 to 20\n",
    "\n",
    "for i in range(0,21):\n",
    "    print(i)"
   ]
  },
  {
   "cell_type": "code",
   "execution_count": 11,
   "id": "596944ad",
   "metadata": {},
   "outputs": [
    {
     "name": "stdout",
     "output_type": "stream",
     "text": [
      "0\n",
      "2\n",
      "4\n",
      "6\n",
      "8\n",
      "10\n",
      "12\n",
      "14\n",
      "16\n",
      "18\n",
      "20\n"
     ]
    }
   ],
   "source": [
    "# Print even numbers between 0 to 20\n",
    "\n",
    "# NOTE: Make sure to add 2 to the end of  0,21. ie (0,21,2)\n",
    "\n",
    "for i in range(0,21,2):\n",
    "    print(i)"
   ]
  },
  {
   "cell_type": "code",
   "execution_count": 12,
   "id": "b452d62a",
   "metadata": {},
   "outputs": [
    {
     "name": "stdout",
     "output_type": "stream",
     "text": [
      "110\n"
     ]
    }
   ],
   "source": [
    "# Print the sum of all even numbers\n",
    "\n",
    "sum_even = 0\n",
    "\n",
    "for i in range(0, 21):\n",
    "    if i % 2 == 0:\n",
    "        sum_even += i\n",
    "\n",
    "print(sum_even)\n"
   ]
  },
  {
   "cell_type": "markdown",
   "id": "b1b0594f",
   "metadata": {},
   "source": [
    "## Printing Factors in For loop using Asterisks"
   ]
  },
  {
   "cell_type": "code",
   "execution_count": null,
   "id": "d5928723",
   "metadata": {},
   "outputs": [],
   "source": [
    "# 1\n",
    "# 12\n",
    "# 123\n",
    "# 1234\n",
    "# 12345\n",
    "\n",
    "# The input variable used for this coding is n\n",
    "\n",
    "n=int(input(\"Enter a number\"))\n",
    "for i in range(1,n+1):\n",
    "    for j in range(1,i+1):\n",
    "        print(j, end='')\n",
    "    print() "
   ]
  },
  {
   "cell_type": "code",
   "execution_count": 14,
   "id": "ee3fc501",
   "metadata": {},
   "outputs": [
    {
     "name": "stdout",
     "output_type": "stream",
     "text": [
      "Enter a number10\n",
      "1\n",
      "12\n",
      "123\n",
      "1234\n",
      "12345\n",
      "123456\n",
      "1234567\n",
      "12345678\n",
      "123456789\n",
      "12345678910\n"
     ]
    }
   ],
   "source": [
    "# The input variable used for this coding is n\n",
    "\n",
    "n=int(input(\"Enter a number\"))\n",
    "for i in range(1,n+1):\n",
    "    for j in range(1,i+1):\n",
    "        print(j, end='')\n",
    "    print() "
   ]
  },
  {
   "cell_type": "markdown",
   "id": "525c1912",
   "metadata": {},
   "source": [
    "## Application of Nested for loop: Adding a single element for the matrix"
   ]
  },
  {
   "cell_type": "markdown",
   "id": "69567631",
   "metadata": {},
   "source": [
    "### We take the number of rows and columns from the user"
   ]
  },
  {
   "cell_type": "code",
   "execution_count": 26,
   "id": "b264b150",
   "metadata": {},
   "outputs": [
    {
     "ename": "SyntaxError",
     "evalue": "invalid syntax. Perhaps you forgot a comma? (792125589.py, line 14)",
     "output_type": "error",
     "traceback": [
      "\u001b[1;36m  Cell \u001b[1;32mIn[26], line 14\u001b[1;36m\u001b[0m\n\u001b[1;33m    val.insert(j,int(input(\"Enter the %d, * %d element\" %(i,j)))\u001b[0m\n\u001b[1;37m                 ^\u001b[0m\n\u001b[1;31mSyntaxError\u001b[0m\u001b[1;31m:\u001b[0m invalid syntax. Perhaps you forgot a comma?\n"
     ]
    }
   ],
   "source": [
    "# NOTE: The number of rows is represented by r, the number of columns is represented by c\n",
    "\n",
    "r=int(input(\"Enter number of rows \"))\n",
    "\n",
    "c=int(input(\"Enter number of columns \"))\n",
    "\n",
    "# We now create a first list\n",
    "\n",
    "x=[]\n",
    "\n",
    "# 1st for loop\n",
    "for i in r:\n",
    "    for j in c:\n",
    "        val.insert(j,int(input(\"Enter the %d * %d element\" %(i,j)))\n",
    "    x.insert(i,val)\n",
    "    val=[]\n",
    "        \n",
    "   # We now create our 2nd list\n",
    "y=[]\n",
    "\n",
    "#2nd for loop\n",
    "for i in r:\n",
    "    for j in c:\n",
    "        val.insert(j,int(input(\"Enter the %d * %d element\" %(i,j)))\n",
    "    y.insert(i,val)\n",
    "    val=[]\n",
    "sum[]  \n",
    "                 \n",
    "for i in range(0,r):\n",
    "    for j in range(0,c):\n",
    "        val.insert(j,x[i][j]+y[i][j])           \n",
    "    sum.insert(i.val)\n",
    "    val=[]               \n",
    "\n",
    "print(sum)                   \n",
    "                   "
   ]
  },
  {
   "cell_type": "code",
   "execution_count": 28,
   "id": "20a24e1e",
   "metadata": {},
   "outputs": [
    {
     "name": "stdout",
     "output_type": "stream",
     "text": [
      "Enter number of rows: 2\n",
      "Enter number of columns: 2\n",
      "Enter the 1 * 1 element for the first matrix: 1\n",
      "Enter the 1 * 2 element for the first matrix: 2\n",
      "Enter the 2 * 1 element for the first matrix: 3\n",
      "Enter the 2 * 2 element for the first matrix: 4\n",
      "Enter the 1 * 1 element for the second matrix: 1\n",
      "Enter the 1 * 2 element for the second matrix: 2\n",
      "Enter the 2 * 1 element for the second matrix: 3\n",
      "Enter the 2 * 2 element for the second matrix: 4\n",
      "Sum of the two matrices:\n",
      "[2, 4]\n",
      "[6, 8]\n"
     ]
    }
   ],
   "source": [
    "# Get the number of rows and columns from the user\n",
    "r = int(input(\"Enter number of rows: \"))\n",
    "c = int(input(\"Enter number of columns: \"))\n",
    "\n",
    "# Create the first list\n",
    "x = []\n",
    "\n",
    "for i in range(r):\n",
    "    val = []\n",
    "    for j in range(c):\n",
    "        element = int(input(f\"Enter the {i+1} * {j+1} element for the first matrix: \"))\n",
    "        val.append(element)\n",
    "    x.append(val)\n",
    "\n",
    "# Create the second list\n",
    "y = []\n",
    "\n",
    "for i in range(r):\n",
    "    val = []\n",
    "    for j in range(c):\n",
    "        element = int(input(f\"Enter the {i+1} * {j+1} element for the second matrix: \"))\n",
    "        val.append(element)\n",
    "    y.append(val)\n",
    "\n",
    "# Initialize the sum list\n",
    "sum_matrix = []\n",
    "\n",
    "for i in range(r):\n",
    "    val = []\n",
    "    for j in range(c):\n",
    "        val.append(x[i][j] + y[i][j])\n",
    "    sum_matrix.append(val)\n",
    "\n",
    "# Print the sum matrix\n",
    "print(\"Sum of the two matrices:\")\n",
    "for row in sum_matrix:\n",
    "    print(row)\n"
   ]
  },
  {
   "cell_type": "code",
   "execution_count": null,
   "id": "fec6311f",
   "metadata": {},
   "outputs": [],
   "source": []
  }
 ],
 "metadata": {
  "kernelspec": {
   "display_name": "Python 3 (ipykernel)",
   "language": "python",
   "name": "python3"
  },
  "language_info": {
   "codemirror_mode": {
    "name": "ipython",
    "version": 3
   },
   "file_extension": ".py",
   "mimetype": "text/x-python",
   "name": "python",
   "nbconvert_exporter": "python",
   "pygments_lexer": "ipython3",
   "version": "3.10.9"
  }
 },
 "nbformat": 4,
 "nbformat_minor": 5
}
