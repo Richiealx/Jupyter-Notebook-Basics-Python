{
 "cells": [
  {
   "cell_type": "markdown",
   "id": "072667a7",
   "metadata": {},
   "source": [
    "# Python Libraries"
   ]
  },
  {
   "cell_type": "markdown",
   "id": "09af45e2",
   "metadata": {},
   "source": [
    "## TensorFlow\n",
    "\n",
    "### TensorFlow is a python library used for high performance numerical computation"
   ]
  },
  {
   "cell_type": "code",
   "execution_count": 1,
   "id": "56cec9a3",
   "metadata": {
    "scrolled": true
   },
   "outputs": [
    {
     "ename": "ModuleNotFoundError",
     "evalue": "No module named 'tensorflow'",
     "output_type": "error",
     "traceback": [
      "\u001b[1;31m---------------------------------------------------------------------------\u001b[0m",
      "\u001b[1;31mModuleNotFoundError\u001b[0m                       Traceback (most recent call last)",
      "Cell \u001b[1;32mIn[1], line 3\u001b[0m\n\u001b[0;32m      1\u001b[0m \u001b[38;5;66;03m# A simple example of using TensorFlow to perform linear regression.\u001b[39;00m\n\u001b[1;32m----> 3\u001b[0m \u001b[38;5;28;01mimport\u001b[39;00m \u001b[38;5;21;01mtensorflow\u001b[39;00m \u001b[38;5;28;01mas\u001b[39;00m \u001b[38;5;21;01mtf\u001b[39;00m\n\u001b[0;32m      4\u001b[0m \u001b[38;5;28;01mimport\u001b[39;00m \u001b[38;5;21;01mnumpy\u001b[39;00m \u001b[38;5;28;01mas\u001b[39;00m \u001b[38;5;21;01mnp\u001b[39;00m\n\u001b[0;32m      5\u001b[0m \u001b[38;5;28;01mimport\u001b[39;00m \u001b[38;5;21;01mmatplotlib\u001b[39;00m\u001b[38;5;21;01m.\u001b[39;00m\u001b[38;5;21;01mpyplot\u001b[39;00m \u001b[38;5;28;01mas\u001b[39;00m \u001b[38;5;21;01mplt\u001b[39;00m\n",
      "\u001b[1;31mModuleNotFoundError\u001b[0m: No module named 'tensorflow'"
     ]
    }
   ],
   "source": [
    "# A simple example of using TensorFlow to perform linear regression.\n",
    "\n",
    "import tensorflow as tf\n",
    "import numpy as np\n",
    "import matplotlib.pyplot as plt\n",
    "\n",
    "# Generate synthetic data\n",
    "np.random.seed(42)\n",
    "X = np.random.rand(100).astype(np.float32)\n",
    "Y = 3.0 * X + 2.0 + np.random.normal(scale=0.1, size=100)\n",
    "\n",
    "# Build the linear regression model\n",
    "class LinearModel(tf.Module):\n",
    "    def __init__(self):\n",
    "        self.W = tf.Variable(0.0)\n",
    "        self.b = tf.Variable(0.0)\n",
    "\n",
    "    def __call__(self, x):\n",
    "        return self.W * x + self.b\n",
    "\n",
    "model = LinearModel()\n",
    "\n",
    "# Define loss function (Mean Squared Error)\n",
    "def loss(y_true, y_pred):\n",
    "    return tf.reduce_mean(tf.square(y_true - y_pred))\n",
    "\n",
    "# Define training step\n",
    "def train_step(model, inputs, outputs, learning_rate):\n",
    "    with tf.GradientTape() as tape:\n",
    "        current_loss = loss(outputs, model(inputs))\n",
    "    dW, db = tape.gradient(current_loss, [model.W, model.b])\n",
    "    model.W.assign_sub(learning_rate * dW)\n",
    "    model.b.assign_sub(learning_rate * db)\n",
    "\n",
    "# Training loop\n",
    "epochs = 1000\n",
    "learning_rate = 0.1\n",
    "\n",
    "for epoch in range(epochs):\n",
    "    train_step(model, X, Y, learning_rate)\n",
    "    if epoch % 100 == 0:\n",
    "        current_loss = loss(Y, model(X))\n",
    "        print(f\"Epoch {epoch}: Loss: {current_loss.numpy()}\")\n",
    "\n",
    "# Plotting the results\n",
    "plt.scatter(X, Y, label='Data')\n",
    "plt.plot(X, model(X), color='red', label='Fitted Line')\n",
    "plt.legend()\n",
    "plt.show()\n",
    "\n",
    "print(f\"Final parameters: W = {model.W.numpy()}, b = {model.b.numpy()}\")\n"
   ]
  },
  {
   "cell_type": "markdown",
   "id": "a1810505",
   "metadata": {},
   "source": [
    "## Numpy(Numerical Python)\n",
    "\n",
    "### Numpy is a fundamental package for numerical computation in python"
   ]
  },
  {
   "cell_type": "code",
   "execution_count": 4,
   "id": "ccf39421",
   "metadata": {},
   "outputs": [
    {
     "name": "stdout",
     "output_type": "stream",
     "text": [
      "<class 'numpy.ndarray'>\n"
     ]
    }
   ],
   "source": [
    "# Example of Numpy\n",
    "\n",
    "# Create a basic array\n",
    "import numpy as np\n",
    "\n",
    "array1=np.array([1,2,3])\n",
    "\n",
    "# Print the type of array\n",
    "print(type(array1))"
   ]
  },
  {
   "cell_type": "code",
   "execution_count": 6,
   "id": "dde48738",
   "metadata": {},
   "outputs": [
    {
     "data": {
      "text/plain": [
       "array([[ 0,  1,  2,  3],\n",
       "       [ 4,  5,  6,  7],\n",
       "       [ 8,  9, 10, 11]])"
      ]
     },
     "execution_count": 6,
     "metadata": {},
     "output_type": "execute_result"
    }
   ],
   "source": [
    "# create arrays using arrange functions and reshape functions\n",
    "\n",
    "b=np.arange(12).reshape(3,4)\n",
    "b"
   ]
  },
  {
   "cell_type": "code",
   "execution_count": 8,
   "id": "8d57273b",
   "metadata": {},
   "outputs": [
    {
     "data": {
      "text/plain": [
       "array([[ 0,  1,  2,  3],\n",
       "       [ 4,  5,  6,  7],\n",
       "       [ 8,  9, 10, 11]])"
      ]
     },
     "execution_count": 8,
     "metadata": {},
     "output_type": "execute_result"
    }
   ],
   "source": [
    "# print the reshape\n",
    "b.reshape(3,4)"
   ]
  },
  {
   "cell_type": "markdown",
   "id": "e184ef7e",
   "metadata": {},
   "source": [
    "## Scipy(Scientific python)\n",
    "\n",
    "### Scipy is used for high level computations"
   ]
  },
  {
   "cell_type": "code",
   "execution_count": 9,
   "id": "54df0ab9",
   "metadata": {},
   "outputs": [
    {
     "name": "stdout",
     "output_type": "stream",
     "text": [
      "299792458.0\n",
      "6.62607015e-34\n",
      "6.02214076e+23\n"
     ]
    }
   ],
   "source": [
    "# Example of scipy library\n",
    "\n",
    "from scipy import constants\n",
    "\n",
    "print(constants.c) #speed of light\n",
    "print(constants.h)#planks constant\n",
    "print(constants.N_A)#Avogadro's number"
   ]
  },
  {
   "cell_type": "markdown",
   "id": "d19a5cbe",
   "metadata": {},
   "source": [
    "## Pandas(Python Data Analysis Library)\n",
    "\n",
    "### Pandas is widely used for data wrangling and data cleaning by data scientists"
   ]
  },
  {
   "cell_type": "code",
   "execution_count": 10,
   "id": "661ff85f",
   "metadata": {},
   "outputs": [],
   "source": [
    "# Example of pandas\n",
    "\n",
    "# Create a dataframe\n",
    "\n",
    "import pandas as pd"
   ]
  },
  {
   "cell_type": "code",
   "execution_count": 11,
   "id": "14bf18b2",
   "metadata": {},
   "outputs": [
    {
     "data": {
      "text/html": [
       "<div>\n",
       "<style scoped>\n",
       "    .dataframe tbody tr th:only-of-type {\n",
       "        vertical-align: middle;\n",
       "    }\n",
       "\n",
       "    .dataframe tbody tr th {\n",
       "        vertical-align: top;\n",
       "    }\n",
       "\n",
       "    .dataframe thead th {\n",
       "        text-align: right;\n",
       "    }\n",
       "</style>\n",
       "<table border=\"1\" class=\"dataframe\">\n",
       "  <thead>\n",
       "    <tr style=\"text-align: right;\">\n",
       "      <th></th>\n",
       "      <th>A</th>\n",
       "      <th>B</th>\n",
       "      <th>C</th>\n",
       "      <th>D</th>\n",
       "    </tr>\n",
       "  </thead>\n",
       "  <tbody>\n",
       "    <tr>\n",
       "      <th>0</th>\n",
       "      <td>-1.033878</td>\n",
       "      <td>0.007483</td>\n",
       "      <td>0.451156</td>\n",
       "      <td>-0.038584</td>\n",
       "    </tr>\n",
       "    <tr>\n",
       "      <th>1</th>\n",
       "      <td>0.216453</td>\n",
       "      <td>-0.789320</td>\n",
       "      <td>-1.352119</td>\n",
       "      <td>1.412998</td>\n",
       "    </tr>\n",
       "    <tr>\n",
       "      <th>2</th>\n",
       "      <td>-0.632252</td>\n",
       "      <td>-0.549785</td>\n",
       "      <td>0.009574</td>\n",
       "      <td>0.985536</td>\n",
       "    </tr>\n",
       "    <tr>\n",
       "      <th>3</th>\n",
       "      <td>-0.481169</td>\n",
       "      <td>0.070008</td>\n",
       "      <td>0.574701</td>\n",
       "      <td>1.325516</td>\n",
       "    </tr>\n",
       "    <tr>\n",
       "      <th>4</th>\n",
       "      <td>0.078438</td>\n",
       "      <td>0.568594</td>\n",
       "      <td>0.384252</td>\n",
       "      <td>-0.725800</td>\n",
       "    </tr>\n",
       "    <tr>\n",
       "      <th>5</th>\n",
       "      <td>-0.957080</td>\n",
       "      <td>-1.682709</td>\n",
       "      <td>-0.311535</td>\n",
       "      <td>0.201756</td>\n",
       "    </tr>\n",
       "  </tbody>\n",
       "</table>\n",
       "</div>"
      ],
      "text/plain": [
       "          A         B         C         D\n",
       "0 -1.033878  0.007483  0.451156 -0.038584\n",
       "1  0.216453 -0.789320 -1.352119  1.412998\n",
       "2 -0.632252 -0.549785  0.009574  0.985536\n",
       "3 -0.481169  0.070008  0.574701  1.325516\n",
       "4  0.078438  0.568594  0.384252 -0.725800\n",
       "5 -0.957080 -1.682709 -0.311535  0.201756"
      ]
     },
     "execution_count": 11,
     "metadata": {},
     "output_type": "execute_result"
    }
   ],
   "source": [
    "df=pd.DataFrame(np.random.randn(6,4),index=list(range(6)),columns=list('ABCD'))\n",
    "df"
   ]
  },
  {
   "cell_type": "code",
   "execution_count": null,
   "id": "92870d70",
   "metadata": {},
   "outputs": [],
   "source": []
  },
  {
   "cell_type": "code",
   "execution_count": 12,
   "id": "0aff042b",
   "metadata": {},
   "outputs": [
    {
     "data": {
      "text/html": [
       "<div>\n",
       "<style scoped>\n",
       "    .dataframe tbody tr th:only-of-type {\n",
       "        vertical-align: middle;\n",
       "    }\n",
       "\n",
       "    .dataframe tbody tr th {\n",
       "        vertical-align: top;\n",
       "    }\n",
       "\n",
       "    .dataframe thead th {\n",
       "        text-align: right;\n",
       "    }\n",
       "</style>\n",
       "<table border=\"1\" class=\"dataframe\">\n",
       "  <thead>\n",
       "    <tr style=\"text-align: right;\">\n",
       "      <th></th>\n",
       "      <th>A</th>\n",
       "      <th>B</th>\n",
       "      <th>C</th>\n",
       "      <th>D</th>\n",
       "    </tr>\n",
       "  </thead>\n",
       "  <tbody>\n",
       "    <tr>\n",
       "      <th>count</th>\n",
       "      <td>6.000000</td>\n",
       "      <td>6.000000</td>\n",
       "      <td>6.000000</td>\n",
       "      <td>6.000000</td>\n",
       "    </tr>\n",
       "    <tr>\n",
       "      <th>mean</th>\n",
       "      <td>-0.468248</td>\n",
       "      <td>-0.395955</td>\n",
       "      <td>-0.040662</td>\n",
       "      <td>0.526904</td>\n",
       "    </tr>\n",
       "    <tr>\n",
       "      <th>std</th>\n",
       "      <td>0.520315</td>\n",
       "      <td>0.793016</td>\n",
       "      <td>0.720684</td>\n",
       "      <td>0.851828</td>\n",
       "    </tr>\n",
       "    <tr>\n",
       "      <th>min</th>\n",
       "      <td>-1.033878</td>\n",
       "      <td>-1.682709</td>\n",
       "      <td>-1.352119</td>\n",
       "      <td>-0.725800</td>\n",
       "    </tr>\n",
       "    <tr>\n",
       "      <th>25%</th>\n",
       "      <td>-0.875873</td>\n",
       "      <td>-0.729437</td>\n",
       "      <td>-0.231258</td>\n",
       "      <td>0.021501</td>\n",
       "    </tr>\n",
       "    <tr>\n",
       "      <th>50%</th>\n",
       "      <td>-0.556710</td>\n",
       "      <td>-0.271151</td>\n",
       "      <td>0.196913</td>\n",
       "      <td>0.593646</td>\n",
       "    </tr>\n",
       "    <tr>\n",
       "      <th>75%</th>\n",
       "      <td>-0.061463</td>\n",
       "      <td>0.054377</td>\n",
       "      <td>0.434430</td>\n",
       "      <td>1.240521</td>\n",
       "    </tr>\n",
       "    <tr>\n",
       "      <th>max</th>\n",
       "      <td>0.216453</td>\n",
       "      <td>0.568594</td>\n",
       "      <td>0.574701</td>\n",
       "      <td>1.412998</td>\n",
       "    </tr>\n",
       "  </tbody>\n",
       "</table>\n",
       "</div>"
      ],
      "text/plain": [
       "              A         B         C         D\n",
       "count  6.000000  6.000000  6.000000  6.000000\n",
       "mean  -0.468248 -0.395955 -0.040662  0.526904\n",
       "std    0.520315  0.793016  0.720684  0.851828\n",
       "min   -1.033878 -1.682709 -1.352119 -0.725800\n",
       "25%   -0.875873 -0.729437 -0.231258  0.021501\n",
       "50%   -0.556710 -0.271151  0.196913  0.593646\n",
       "75%   -0.061463  0.054377  0.434430  1.240521\n",
       "max    0.216453  0.568594  0.574701  1.412998"
      ]
     },
     "execution_count": 12,
     "metadata": {},
     "output_type": "execute_result"
    }
   ],
   "source": [
    "# describe the dataframe\n",
    "\n",
    "df.describe()"
   ]
  },
  {
   "cell_type": "markdown",
   "id": "3c880466",
   "metadata": {},
   "source": [
    "## Matplotlib\n",
    "\n",
    "### Matplotlib refers to plotting library for python\n",
    "### Matplotlib is used for visualizing distributions to gain instant insights"
   ]
  },
  {
   "cell_type": "code",
   "execution_count": 15,
   "id": "625ad468",
   "metadata": {},
   "outputs": [],
   "source": [
    "# Matplotlib example\n",
    "\n",
    "import numpy as np\n",
    "import matplotlib.pyplot as plt\n",
    "%matplotlib inline\n",
    "\n",
    "np.random.seed(10)"
   ]
  },
  {
   "cell_type": "code",
   "execution_count": 22,
   "id": "b5cb2123",
   "metadata": {},
   "outputs": [
    {
     "data": {
      "image/png": "[encoded data removed]",
      "text/plain": [
       "<Figure size 640x480 with 1 Axes>"
      ]
     },
     "metadata": {},
     "output_type": "display_data"
    }
   ],
   "source": [
    "N=30\n",
    "x=np.random.rand(N)\n",
    "y=np.random.rand(N)\n",
    "colors=np.random.rand(N)\n",
    "\n",
    "# Draw a scatterplot\n",
    "area=(30*np.random.rand(N))**2    #Adding **2 makesthe scatterplott more colourful\n",
    "      \n",
    "plt.scatter(x,y,s=area,c=colors,alpha=0.4)\n",
    "plt.show()      "
   ]
  },
  {
   "cell_type": "code",
   "execution_count": 32,
   "id": "12f30e69",
   "metadata": {
    "scrolled": true
   },
   "outputs": [
    {
     "data": {
      "image/png": "[encoded data removed]",
      "text/plain": [
       "<Figure size 640x480 with 1 Axes>"
      ]
     },
     "metadata": {},
     "output_type": "display_data"
    }
   ],
   "source": [
    "import matplotlib.pyplot as plt\n",
    "from matplotlib import style\n",
    "\n",
    "# Use the ggplot style for the plots\n",
    "style.use('ggplot')\n",
    "\n",
    "x = [2, 4, 6]\n",
    "y = [12, 14, 16]\n",
    "\n",
    "x2 = [3, 3, 4]\n",
    "y2 = [7, 14, 5]\n",
    "\n",
    "# Assigning bars, alignment, and colors to the plot\n",
    "plt.bar(x, y, color='r', align='center')\n",
    "plt.bar(x2, y2, color='b', align='center')\n",
    "\n",
    "# Adding title and labels\n",
    "plt.title('info')\n",
    "plt.ylabel('y axis')\n",
    "plt.xlabel('x axis')\n",
    "\n",
    "# Display the plot\n",
    "plt.show()\n"
   ]
  },
  {
   "cell_type": "code",
   "execution_count": null,
   "id": "8b1f1b9d",
   "metadata": {},
   "outputs": [],
   "source": []
  }
 ],
 "metadata": {
  "kernelspec": {
   "display_name": "Python 3 (ipykernel)",
   "language": "python",
   "name": "python3"
  },
  "language_info": {
   "codemirror_mode": {
    "name": "ipython",
    "version": 3
   },
   "file_extension": ".py",
   "mimetype": "text/x-python",
   "name": "python",
   "nbconvert_exporter": "python",
   "pygments_lexer": "ipython3",
   "version": "3.10.9"
  }
 },
 "nbformat": 4,
 "nbformat_minor": 5
}
