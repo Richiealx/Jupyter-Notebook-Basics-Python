{
 "cells": [
  {
   "cell_type": "markdown",
   "id": "2419b2b4",
   "metadata": {},
   "source": [
    "# Objects and Classes"
   ]
  },
  {
   "cell_type": "markdown",
   "id": "63d6a4a5",
   "metadata": {},
   "source": [
    "## Objects"
   ]
  },
  {
   "cell_type": "markdown",
   "id": "99cb2f25",
   "metadata": {},
   "source": [
    "### In real world, every tangible thing is an object.\n",
    "### Example of an object is Human, Animal, TV, Mobile Phone, Chair etc\n",
    "### Similarly objects in python works the same way"
   ]
  },
  {
   "cell_type": "markdown",
   "id": "52fe5cf1",
   "metadata": {},
   "source": [
    "## Classes"
   ]
  },
  {
   "cell_type": "markdown",
   "id": "1252bc11",
   "metadata": {},
   "source": [
    "### A Class is a blueprint for similar objects together and give them a common definition\n",
    "### For example, we consider a Person as a Class\n",
    "\n",
    "### Characteristics of a Class\n",
    "### A. Features: Features are the data. They include name, gender and age of a person.\n",
    "### B. Behaviour: Behaviour are the functions. They include Talk, and vote"
   ]
  },
  {
   "cell_type": "code",
   "execution_count": 1,
   "id": "f679a84d",
   "metadata": {},
   "outputs": [],
   "source": [
    "# Two objects of a class:Person\n",
    "# Object 1               Object2\n",
    "# Name:Cole Palmer       Name:Patricia\n",
    "# Gender:Male            Gender:Female\n",
    "# Age:22                 Age:16\n",
    "# Talk                   Talk\n",
    "# Vote                   Vote"
   ]
  },
  {
   "cell_type": "code",
   "execution_count": 2,
   "id": "309d087a",
   "metadata": {},
   "outputs": [
    {
     "name": "stdout",
     "output_type": "stream",
     "text": [
      "Hi I'm  Cole Palmer\n",
      "I am eligible to vote\n"
     ]
    }
   ],
   "source": [
    "# Print the names,genders,and ages of object 1 and indicate whether they are eligible to vote or not\n",
    "\n",
    "class Person:\n",
    "\n",
    "    def __init__(self):               #Self is the object that is being created. Example talk or vote\n",
    "        self.name=\"Cole Palmer\"\n",
    "        self.gender=\"Male\"\n",
    "        self.age=22\n",
    "        \n",
    "#Lets define the methods/Behaviour(ie talk and vote)\n",
    "#1st behaviour:talk\n",
    "    def talk(self):\n",
    "        print(\"Hi I'm \", self.name)\n",
    "        \n",
    "#2nd behaviour:vote\n",
    "    def vote(self):\n",
    "        if self.age<=18:\n",
    "            print(\"I am not eligible to vote\")\n",
    "        else:\n",
    "            print(\"I am eligible to vote\")\n",
    "            \n",
    "            \n",
    "#Create the actual object\n",
    "obj=Person()\n",
    "obj.talk()\n",
    "obj.vote()\n",
    "\n"
   ]
  },
  {
   "cell_type": "code",
   "execution_count": 3,
   "id": "c5d39ba0",
   "metadata": {},
   "outputs": [
    {
     "name": "stdout",
     "output_type": "stream",
     "text": [
      "Hi I'm Patricia\n",
      "I am not eligible to vote\n"
     ]
    }
   ],
   "source": [
    "# Print the names,genders,and ages of object 2 and indicate whether they are eligible to vote or not\n",
    "\n",
    "class Person:\n",
    "    \n",
    "    def __init__(self):\n",
    "        self.name=\"Patricia\"\n",
    "        self.gender=\"Female\"\n",
    "        self.age=16\n",
    "\n",
    "#Lets define the methods/behaviour\n",
    "#Method/Behaviour 1:talk\n",
    "    def talk(self):\n",
    "        print(\"Hi I'm\", self.name)\n",
    "        \n",
    "#Method/Behaviour 2:vote\n",
    "    def vote(self):\n",
    "        if self.age<=18:\n",
    "            print(\"I am not eligible to vote\")\n",
    "        else:\n",
    "            print(\"I am eligible to vote\")\n",
    "            \n",
    "#Creating the octual object\n",
    "obj=Person()\n",
    "obj.talk()\n",
    "obj.vote()\n",
    "        "
   ]
  },
  {
   "cell_type": "code",
   "execution_count": 4,
   "id": "9fec01aa",
   "metadata": {},
   "outputs": [
    {
     "name": "stdout",
     "output_type": "stream",
     "text": [
      "Hi I'm Cole Palmer\n",
      "I am eligible to vote\n",
      "Hi I'm Patricia\n",
      "I am not eligible to vote\n"
     ]
    }
   ],
   "source": [
    "# Creating two separate objects and indicating whether they can vote or not\n",
    "\n",
    "class Person:\n",
    "    \n",
    "    def __init__(self,n,g,a):\n",
    "        self.name=n\n",
    "        self.gender=g\n",
    "        self.age=a\n",
    "        \n",
    "        \n",
    "#Lets define the two behaviour methods:talk,vote\n",
    "#1st Behaviour/method\n",
    "    def talk(self):\n",
    "        print(\"Hi I'm\", self.name)\n",
    "        \n",
    "#2nd Behaviour/method\n",
    "    def vote(self):\n",
    "        if self.age<=18:\n",
    "            print(\"I am not eligible to vote\")\n",
    "        else:\n",
    "            print(\"I am eligible to vote\")\n",
    "            \n",
    "#Creating the two target objects\n",
    "#1st target object\n",
    "obj1=Person(\"Cole Palmer\",\"Male\",22)\n",
    "obj1.talk()\n",
    "obj1.vote()\n",
    "\n",
    "#2nd target object\n",
    "obj2=Person(\"Patricia\",\"Female\",16)\n",
    "obj2.talk()\n",
    "obj2.vote()"
   ]
  },
  {
   "cell_type": "markdown",
   "id": "57d071fc",
   "metadata": {},
   "source": [
    "## What is OOPs(Object Oriented Programming?\n",
    "### Programming paradigm focuses on objects\n",
    "### Every instance in python is an object\n",
    "\n",
    "### An object has two different things:\n",
    "### A. Attributes: Data describing objects\n",
    "### B. Behaviour: Methods on the attributes\n",
    "\n",
    "### For example, BMW(car) as an object has attributes and behaviour\n",
    "### Example of Attribute:Year of manufacture, maximum speed\n",
    "### Example of Behaviour: Display speed, change speed"
   ]
  },
  {
   "cell_type": "markdown",
   "id": "c6b72db0",
   "metadata": {},
   "source": [
    "## Class: Class is a collection of similar objects \n",
    "### Example a car has similar objects, which may include; BMW,FORD, AND AUDI"
   ]
  },
  {
   "cell_type": "code",
   "execution_count": 5,
   "id": "b5b5f7bc",
   "metadata": {},
   "outputs": [
    {
     "name": "stdout",
     "output_type": "stream",
     "text": [
      "155 mph\n",
      "155 mph\n"
     ]
    }
   ],
   "source": [
    "# Creating a class car in python which include BMW and FORD\n",
    "\n",
    "class Car:\n",
    "    \n",
    "    def getspeed(self):\n",
    "        print(\"155 mph\")\n",
    "        \n",
    "        \n",
    "BMW=Car()\n",
    "BMW.getspeed()\n",
    "\n",
    "FORD=Car()\n",
    "FORD.getspeed()"
   ]
  },
  {
   "cell_type": "code",
   "execution_count": 6,
   "id": "f74d1b0c",
   "metadata": {},
   "outputs": [],
   "source": [
    "# Therefore, the speed of BMW is 155 mph, and\n",
    "# the speed of FORD is 155 mph"
   ]
  },
  {
   "cell_type": "code",
   "execution_count": 7,
   "id": "a088fda9",
   "metadata": {},
   "outputs": [
    {
     "name": "stdout",
     "output_type": "stream",
     "text": [
      "Maximum speed is: 155\n",
      "Maximum speed is: 140\n"
     ]
    }
   ],
   "source": [
    "# Create a class Car(with BMW and FORD) using the __init__ function\n",
    "\n",
    "class Car():\n",
    "    \n",
    "    def __init__(self,year,speed):\n",
    "        self.year=year\n",
    "        self.speed=speed\n",
    "        \n",
    "    def getspeed(self):\n",
    "        print(\"Maximum speed is:\", self.speed)\n",
    "        \n",
    "BMW=Car(2018,155)\n",
    "BMW.getspeed()\n",
    "\n",
    "FORD=Car(2016,140)\n",
    "FORD.getspeed()\n",
    "\n"
   ]
  },
  {
   "cell_type": "code",
   "execution_count": 8,
   "id": "8706bb9c",
   "metadata": {},
   "outputs": [],
   "source": [
    "# Therefore, the maximum speed of BMW is 155mph,whiles\n",
    "# the maximum speed of FORD is 140mph"
   ]
  },
  {
   "cell_type": "code",
   "execution_count": 9,
   "id": "8d092813",
   "metadata": {},
   "outputs": [
    {
     "name": "stdout",
     "output_type": "stream",
     "text": [
      "Maximum speed is: 155\n",
      "Was manufactured in: 2018\n",
      "Maximum speed is: 140\n",
      "Was manufactured in: 2016\n"
     ]
    }
   ],
   "source": [
    "# Create a class Car(with BMW and FORD) using the __init__ function\n",
    "\n",
    "class Car():\n",
    "    \n",
    "    def __init__(self,year,speed):\n",
    "        self.year=year\n",
    "        self.speed=speed\n",
    "        \n",
    "    def getspeed(self):\n",
    "        print(\"Maximum speed is:\", self.speed)\n",
    "        \n",
    "    def getyear(self):    \n",
    "        print(\"Was manufactured in:\", self.year)\n",
    "        \n",
    "BMW=Car(2018,155)\n",
    "BMW.getspeed()\n",
    "BMW.getyear()\n",
    "\n",
    "FORD=Car(2016,140)\n",
    "FORD.getspeed()\n",
    "FORD.getyear()\n",
    "\n"
   ]
  },
  {
   "cell_type": "code",
   "execution_count": 10,
   "id": "c57239b7",
   "metadata": {},
   "outputs": [],
   "source": [
    "# Therefore, the maximum speed of BMW is 155mph and it was manufactured in 2018,whiles\n",
    "# the maximum speed of FORD is 140mph and it was manufactured in 2016"
   ]
  },
  {
   "cell_type": "code",
   "execution_count": 11,
   "id": "5fcde605",
   "metadata": {},
   "outputs": [
    {
     "name": "stdout",
     "output_type": "stream",
     "text": [
      "Maximum speed is: 155\n",
      "The new speed is: 143\n",
      "Maximum speed is: 143\n",
      "Maximum speed is: 140\n"
     ]
    }
   ],
   "source": [
    "# Setting a new speed for BMW\n",
    "\n",
    "class Car():\n",
    "    \n",
    "    def __init__(self,year,speed):\n",
    "        self.year=year\n",
    "        self.speed=speed\n",
    "        \n",
    "    def getspeed(self):\n",
    "        print(\"Maximum speed is:\",self.speed)\n",
    "        \n",
    "    def setspeed(self,speed):\n",
    "        self.speed=speed\n",
    "        print(\"The new speed is:\",self.speed)\n",
    "        \n",
    "        \n",
    "BMW=Car(2018,155)\n",
    "BMW.getspeed()\n",
    "BMW.setspeed(143)\n",
    "BMW.getspeed() #Added to check if the speed has been set correctly\n",
    "    \n",
    "FORD=Car(2016,140)\n",
    "FORD.getspeed()\n"
   ]
  },
  {
   "cell_type": "code",
   "execution_count": 12,
   "id": "80a99de4",
   "metadata": {},
   "outputs": [
    {
     "name": "stdout",
     "output_type": "stream",
     "text": [
      "Maximum speed is: 155\n",
      "The new speed is: 143\n",
      "Maximum speed is: 143\n",
      "Maximum speed is: 140\n",
      "The new speed is: 100\n"
     ]
    }
   ],
   "source": [
    "# Setting a new speed for BMW and FORD\n",
    "\n",
    "class Car():\n",
    "    \n",
    "    def __init__(self,year,speed):\n",
    "        self.year=year\n",
    "        self.speed=speed\n",
    "        \n",
    "    def getspeed(self):\n",
    "        print(\"Maximum speed is:\",self.speed)\n",
    "        \n",
    "    def setspeed(self,speed):\n",
    "        self.speed=speed\n",
    "        print(\"The new speed is:\",self.speed)\n",
    "        \n",
    "        \n",
    "BMW=Car(2018,155)\n",
    "BMW.getspeed()\n",
    "BMW.setspeed(143)\n",
    "BMW.getspeed() #Added to check if the speed has been set correctly\n",
    "    \n",
    "FORD=Car(2016,140)\n",
    "FORD.getspeed()\n",
    "FORD.setspeed(100)"
   ]
  },
  {
   "cell_type": "code",
   "execution_count": 13,
   "id": "3c253c3b",
   "metadata": {},
   "outputs": [],
   "source": [
    "# The maximum speed for BMW in 2018 before setting a new speed is 155mph\n",
    "# The new speed for the BMW in 2018 is 143mph\n",
    "# The maximum speed for FORD in 2016 is 140mph\n",
    "# The new speed of FORD is 100mph"
   ]
  },
  {
   "cell_type": "code",
   "execution_count": 14,
   "id": "ec9bbc8b",
   "metadata": {},
   "outputs": [
    {
     "name": "stdout",
     "output_type": "stream",
     "text": [
      "Maximum speed is: 155\n",
      "Was manufactured in: 2018\n",
      "The new speed is: 143\n",
      "Maximum speed is: 143\n",
      "Maximum speed is: 140\n",
      "Was manufactured in: 2016\n",
      "The new speed is: 100\n"
     ]
    }
   ],
   "source": [
    "# Setting a new speed for BMW and FORD and print their year of manufacture\n",
    "\n",
    "class Car():\n",
    "    \n",
    "    def __init__(self,year,speed):\n",
    "        self.year=year\n",
    "        self.speed=speed\n",
    "        \n",
    "    def getspeed(self):\n",
    "        print(\"Maximum speed is:\",self.speed)\n",
    "        \n",
    "    def getyear(self):\n",
    "        print(\"Was manufactured in:\", self.year)\n",
    "        \n",
    "    def setspeed(self,speed):\n",
    "        self.speed=speed\n",
    "        print(\"The new speed is:\",self.speed)\n",
    "            \n",
    "        \n",
    "        \n",
    "BMW=Car(2018,155)\n",
    "BMW.getspeed()\n",
    "BMW.getyear()\n",
    "BMW.setspeed(143)\n",
    "BMW.getspeed() #Added to check if the speed has been set correctly\n",
    "    \n",
    "FORD=Car(2016,140)\n",
    "FORD.getspeed()\n",
    "FORD.getyear()\n",
    "FORD.setspeed(100)"
   ]
  },
  {
   "cell_type": "markdown",
   "id": "330e4e72",
   "metadata": {},
   "source": [
    "## Inheritance in objects and Classes"
   ]
  },
  {
   "cell_type": "markdown",
   "id": "1bad6feb",
   "metadata": {},
   "source": [
    "### Inheritance is the mechanism for a new class to use the features of another class"
   ]
  },
  {
   "cell_type": "code",
   "execution_count": 15,
   "id": "0f02f512",
   "metadata": {},
   "outputs": [
    {
     "name": "stdout",
     "output_type": "stream",
     "text": [
      "The Maximum speed is 150\n",
      "The Maximum speed is 155\n",
      "The trunk is now opened\n",
      "137\n"
     ]
    }
   ],
   "source": [
    "# Bringing the features of the class 'Car' into a new class\n",
    "\n",
    "class Car():  # This is the parent class\n",
    "    \n",
    "    def __init__(self, year, speed):\n",
    "        self.year = year\n",
    "        self.speed = speed\n",
    "        \n",
    "    def getspeed(self):\n",
    "        print(\"The Maximum speed is\", self.speed)\n",
    "        \n",
    "    def setspeed(self, speed):\n",
    "        self.speed = speed\n",
    "        \n",
    "BMW = Car(2018, 155)\n",
    "FORD = Car(2016, 140)\n",
    "\n",
    "# Setting Sedan to inherit 'Car'\n",
    "class Sedan(Car):  # This is a child class\n",
    "    \n",
    "    def accelerate(self):\n",
    "        print(\"137\")\n",
    "        \n",
    "    def opentrunk(self):\n",
    "        print(\"The trunk is now opened\")\n",
    "        \n",
    "# Setting SUV to inherit 'Car'\n",
    "class SUV(Car):  # This is a child class\n",
    "    \n",
    "    def accelerate(self):\n",
    "        print(\"127\")\n",
    "\n",
    "Honda = Sedan(2018, 150)\n",
    "Honda.getspeed()\n",
    "BMW.getspeed()\n",
    "Honda.opentrunk()\n",
    "Honda.accelerate()\n"
   ]
  },
  {
   "cell_type": "code",
   "execution_count": 16,
   "id": "2d87cccb",
   "metadata": {},
   "outputs": [
    {
     "name": "stdout",
     "output_type": "stream",
     "text": [
      "The Maximum speed is 128\n",
      "The Maximum speed is 155\n",
      "127\n"
     ]
    }
   ],
   "source": [
    "# Lets print SUV 'Car' Inheritance\n",
    "\n",
    "AUDI=SUV(2015,128)\n",
    "AUDI.getspeed()\n",
    "BMW.getspeed()\n",
    "AUDI.accelerate()"
   ]
  },
  {
   "cell_type": "code",
   "execution_count": 17,
   "id": "76c18e48",
   "metadata": {},
   "outputs": [],
   "source": [
    "# Therefore, the speed of AUDI is 128mph\n",
    "# The speed of BMW is 155mph\n",
    "# AUDI accelerate at the speed of 127mph"
   ]
  },
  {
   "cell_type": "code",
   "execution_count": 18,
   "id": "cd403d4b",
   "metadata": {},
   "outputs": [
    {
     "name": "stdout",
     "output_type": "stream",
     "text": [
      "Maximum speed is: 220\n",
      "Year is: 2020\n",
      "This sports car has a turbo.\n",
      "Maximum speed is: 150\n",
      "Year is: 2021\n",
      "Battery range is: 300 miles\n"
     ]
    }
   ],
   "source": [
    "class Car:\n",
    "    \n",
    "    def __init__(self, year, speed):\n",
    "        self.year = year\n",
    "        self.speed = speed\n",
    "        \n",
    "    def getspeed(self):\n",
    "        print(\"Maximum speed is:\", self.speed)\n",
    "        \n",
    "    def getyear(self):\n",
    "        print(\"Year is:\", self.year)\n",
    "\n",
    "# Define a subclass SportsCar that inherits from Car\n",
    "class SportsCar(Car):\n",
    "    \n",
    "    def __init__(self, year, speed, turbo):\n",
    "        super().__init__(year, speed)  # Call the initializer of the base class\n",
    "        self.turbo = turbo\n",
    "        \n",
    "    def hasturbo(self):\n",
    "        if self.turbo:\n",
    "            print(\"This sports car has a turbo.\")\n",
    "        else:\n",
    "            print(\"This sports car does not have a turbo.\")\n",
    "            \n",
    "# Define another subclass ElectricCar that inherits from Car\n",
    "class ElectricCar(Car):\n",
    "    \n",
    "    def __init__(self, year, speed, battery_range):\n",
    "        super().__init__(year, speed)  # Call the initializer of the base class\n",
    "        self.battery_range = battery_range\n",
    "        \n",
    "    def getbatteryrange(self):\n",
    "        print(\"Battery range is:\", self.battery_range, \"miles\")\n",
    "        \n",
    "# Create instances of the subclasses\n",
    "ferrari = SportsCar(2020, 220, True)\n",
    "tesla = ElectricCar(2021, 150, 300)\n",
    "\n",
    "# Use methods from the base class\n",
    "ferrari.getspeed()  \n",
    "ferrari.getyear()   \n",
    "\n",
    "# Use method from the subclass SportsCar\n",
    "ferrari.hasturbo()  \n",
    "\n",
    "# Use methods from the base class\n",
    "tesla.getspeed()  \n",
    "tesla.getyear()   \n",
    "\n",
    "# Use method from the subclass ElectricCar\n",
    "tesla.getbatteryrange() \n"
   ]
  },
  {
   "cell_type": "code",
   "execution_count": 19,
   "id": "9d3b5e27",
   "metadata": {},
   "outputs": [],
   "source": [
    "# The maximum speed for Ferrari manufactured in 2020 is 220mph\n",
    "# This Ferrari sportscar has a turbo\n",
    "# The maximum speed of Tesla manufactured in 2021 is 150mph\n",
    "# Tesla has a battery range of 300 miles"
   ]
  },
  {
   "cell_type": "code",
   "execution_count": 20,
   "id": "85e9f1ed",
   "metadata": {},
   "outputs": [],
   "source": [
    "# Explanation:\n",
    "# Base Class Car: This is the parent class with attributes year and speed, and methods getspeed and getyear.\n",
    "# Subclass SportsCar: This class inherits from Car and adds a new attribute turbo and a method hasturbo.\n",
    "# Subclass ElectricCar: This class inherits from Car and adds a new attribute battery_range and a method getbatteryrange."
   ]
  },
  {
   "cell_type": "markdown",
   "id": "b08d7973",
   "metadata": {},
   "source": [
    "## Encapsulation"
   ]
  },
  {
   "cell_type": "markdown",
   "id": "63388e82",
   "metadata": {},
   "source": [
    "### Encapsulation is the feature of preventing data from direct access. \n",
    "### It also involves restricting direct access to some of the object's components, which is a means of preventing accidental or unauthorized manipulation of data.\n",
    "### For example, the class 'Car' cannot be changed, despite changing the speed of BMW \n",
    "### from 155 to 143\n"
   ]
  },
  {
   "cell_type": "code",
   "execution_count": 21,
   "id": "02ebaa81",
   "metadata": {},
   "outputs": [],
   "source": [
    "# class Car: encapsulation\n",
    "\n",
    "class Car():\n",
    "    \n",
    "    def __init_(self,year,speed):\n",
    "        self.year=year\n",
    "        self.speed.speed\n",
    "        \n",
    "    def getspeed(self):\n",
    "        print(\"The maximum speed is:\",self.speed)\n",
    "        \n",
    "    def setspeed(self,speed):\n",
    "        self.speed=speed\n",
    "\n",
    "        \n",
    "        \n",
    "# The above entire class 'Car' is an encapsulation       "
   ]
  },
  {
   "cell_type": "markdown",
   "id": "5aea809b",
   "metadata": {},
   "source": [
    "## Polymorphism"
   ]
  },
  {
   "cell_type": "markdown",
   "id": "798d788f",
   "metadata": {},
   "source": [
    "### Polymorphism is the feature of using the function in multiple ways"
   ]
  },
  {
   "cell_type": "code",
   "execution_count": 22,
   "id": "4f3be2b3",
   "metadata": {},
   "outputs": [
    {
     "name": "stdout",
     "output_type": "stream",
     "text": [
      "Camry:150\n",
      "Scorpio:180\n"
     ]
    }
   ],
   "source": [
    "#For example,\n",
    "class Car:  # Parent class\n",
    "    \n",
    "    def __init__(self, name, year, speed):\n",
    "        self.name = name\n",
    "        self.year = year\n",
    "        self.speed = speed\n",
    "    \n",
    "class Sedan(Car):  # Child class\n",
    "    \n",
    "    def accelerate(self):\n",
    "        print(\"150\")\n",
    "        \n",
    "class SUV(Car):  # Child class\n",
    "    \n",
    "    def accelerate(self):\n",
    "        print(\"180\")\n",
    "        \n",
    "objL = [Sedan(\"Camry\", 2020, 150), SUV(\"Scorpio\", 2019, 180)]\n",
    "for obj in objL:\n",
    "    print(obj.name + \":\", end=\"\")\n",
    "    obj.accelerate()\n",
    "\n",
    "    "
   ]
  },
  {
   "cell_type": "code",
   "execution_count": 23,
   "id": "c73e5cc7",
   "metadata": {},
   "outputs": [],
   "source": [
    "# Here, the class 'Car' function is used in multiple ways.\n",
    "\n",
    "# The class 'Car' has a child class which is Sedan with 150 acceleration\n",
    "\n",
    "# The class 'Car' has another child class which is SUV with 180 acceleration printed\n",
    "\n",
    "# Polymormial class 1 is Sedan\n",
    "# Polymormial class 2 is SUV"
   ]
  },
  {
   "cell_type": "markdown",
   "id": "45b1dedb",
   "metadata": {},
   "source": [
    "### Key Aspects of Polymorphism:\n",
    "### Method Overriding: This allows a subclass to provide a specific implementation of a method \n",
    "### that is already defined in its superclass.\n",
    "\n",
    "### Duck Typing: In Python, polymorphism is often achieved through duck typing, \n",
    "### which means that the type of the object is determined by its behavior (methods and properties), \n",
    "### rather than its class inheritance."
   ]
  },
  {
   "cell_type": "code",
   "execution_count": 24,
   "id": "29132cfd",
   "metadata": {},
   "outputs": [
    {
     "name": "stdout",
     "output_type": "stream",
     "text": [
      "Bark\n",
      "Meow\n",
      "Moo\n"
     ]
    }
   ],
   "source": [
    "# Example of Polymorphism with Method Overriding\n",
    "\n",
    "class Animal:\n",
    "    def sound(self):\n",
    "        raise NotImplementedError(\"Subclass must implement abstract method\")\n",
    "\n",
    "class Dog(Animal):\n",
    "    def sound(self):\n",
    "        return \"Bark\"\n",
    "\n",
    "class Cat(Animal):\n",
    "    def sound(self):\n",
    "        return \"Meow\"\n",
    "\n",
    "class Cow(Animal):\n",
    "    def sound(self):\n",
    "        return \"Moo\"\n",
    "\n",
    "# Function that demonstrates polymorphism\n",
    "def make_sound(animal):\n",
    "    print(animal.sound())\n",
    "\n",
    "# Creating instances of different classes\n",
    "dog = Dog()\n",
    "cat = Cat()\n",
    "cow = Cow()\n",
    "\n",
    "# Using polymorphism\n",
    "make_sound(dog) \n",
    "make_sound(cat)  \n",
    "make_sound(cow)  \n"
   ]
  },
  {
   "cell_type": "code",
   "execution_count": 25,
   "id": "dbb410a3",
   "metadata": {},
   "outputs": [],
   "source": [
    "# Explanation:\n",
    "\n",
    "# Base Class Animal: This class defines an abstract method sound that must be overridden by subclasses.\n",
    "# Subclasses Dog, Cat, Cow: Each subclass provides its own implementation of the sound method.\n",
    "# Polymorphic Behavior: The make_sound function takes an object of type Animal and calls the sound method. \n",
    "# Depending on the type of object passed (Dog, Cat, or Cow), the appropriate sound method is called."
   ]
  },
  {
   "cell_type": "code",
   "execution_count": 26,
   "id": "8bb6ae16",
   "metadata": {},
   "outputs": [
    {
     "name": "stdout",
     "output_type": "stream",
     "text": [
      "Bark\n",
      "Meow\n",
      "Moo\n"
     ]
    }
   ],
   "source": [
    "# Example of Polymorphism with Duck Typing\n",
    "\n",
    "\n",
    "class Dog:\n",
    "    def sound(self):\n",
    "        return \"Bark\"\n",
    "\n",
    "class Cat:\n",
    "    def sound(self):\n",
    "        return \"Meow\"\n",
    "\n",
    "class Cow:\n",
    "    def sound(self):\n",
    "        return \"Moo\"\n",
    "\n",
    "# Function that demonstrates polymorphism\n",
    "def make_sound(animal):\n",
    "    print(animal.sound())\n",
    "\n",
    "# Creating instances of different classes\n",
    "dog = Dog()\n",
    "cat = Cat()\n",
    "cow = Cow()\n",
    "\n",
    "# Using polymorphism with duck typing\n",
    "make_sound(dog) \n",
    "make_sound(cat)  \n",
    "make_sound(cow)  \n"
   ]
  },
  {
   "cell_type": "code",
   "execution_count": 27,
   "id": "061a94ce",
   "metadata": {},
   "outputs": [],
   "source": [
    "# Explanation:\n",
    "# No Common Base Class: In this example, Dog, Cat, and Cow do not inherit from a common base class.\n",
    "# Duck Typing: The make_sound function works with any object that has a sound method. \n",
    "# This is an example of duck typing: \"If it looks like a duck and quacks like a duck, it's a duck.\""
   ]
  }
 ],
 "metadata": {
  "kernelspec": {
   "display_name": "Python 3 (ipykernel)",
   "language": "python",
   "name": "python3"
  },
  "language_info": {
   "codemirror_mode": {
    "name": "ipython",
    "version": 3
   },
   "file_extension": ".py",
   "mimetype": "text/x-python",
   "name": "python",
   "nbconvert_exporter": "python",
   "pygments_lexer": "ipython3",
   "version": "3.10.9"
  }
 },
 "nbformat": 4,
 "nbformat_minor": 5
}
