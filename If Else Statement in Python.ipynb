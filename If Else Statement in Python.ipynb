{
 "cells": [
  {
   "cell_type": "markdown",
   "id": "f7a619d1",
   "metadata": {},
   "source": [
    "# If-Else Statement in Python\n"
   ]
  },
  {
   "cell_type": "markdown",
   "id": "f6e85593",
   "metadata": {},
   "source": [
    "### If-else is a decision making statement"
   ]
  },
  {
   "cell_type": "markdown",
   "id": "7c368ef4",
   "metadata": {},
   "source": [
    "## Various Formats of If-Else Statements"
   ]
  },
  {
   "cell_type": "markdown",
   "id": "ea69190a",
   "metadata": {},
   "source": [
    "### A. If Statement"
   ]
  },
  {
   "cell_type": "code",
   "execution_count": 2,
   "id": "7a536f8b",
   "metadata": {},
   "outputs": [],
   "source": [
    "# Syntax = if condition\n",
    "           # statements to execute\n",
    "           # conditions is true"
   ]
  },
  {
   "cell_type": "code",
   "execution_count": 7,
   "id": "2caf944d",
   "metadata": {},
   "outputs": [
    {
     "name": "stdout",
     "output_type": "stream",
     "text": [
      "This is not a Cole Palmer's jersey\n"
     ]
    }
   ],
   "source": [
    "# All these statements are indented towards the right. For example,\n",
    "# We want to find out if the jersey number greater than 50 is a Cole Palmer's jersey or not\n",
    "\n",
    "jersey_number=20\n",
    "\n",
    "if jersey_number>50:\n",
    "    print(\"This is a Cole Palmer's jersey\")\n",
    "print(\"This is not a Cole Palmer's jersey\")   "
   ]
  },
  {
   "cell_type": "code",
   "execution_count": 12,
   "id": "dbfadf0a",
   "metadata": {},
   "outputs": [
    {
     "name": "stdout",
     "output_type": "stream",
     "text": [
      "This is a Cole Palmer's jersey\n",
      "This is not a cole Palmer's jersey\n"
     ]
    }
   ],
   "source": [
    "# We want to find out if the jersey number is a Cole Palmer's jersey or not\n",
    "\n",
    "jersey_number=20\n",
    "\n",
    "if jersey_number<=20:\n",
    "    print(\"This is a Cole Palmer's jersey\")\n",
    "print(\"This is not a cole Palmer's jersey\")    "
   ]
  },
  {
   "cell_type": "code",
   "execution_count": 16,
   "id": "2f756a2e",
   "metadata": {},
   "outputs": [
    {
     "name": "stdout",
     "output_type": "stream",
     "text": [
      "Chelsea was founded on this date\n"
     ]
    }
   ],
   "source": [
    "# We want to find out which year was Chelsea Football Club funded\n",
    "\n",
    "chelsea_founded_year=1905\n",
    "\n",
    "if chelsea_founded_year==1905:\n",
    "    print(\"Chelsea was founded on this date\")"
   ]
  },
  {
   "cell_type": "code",
   "execution_count": 20,
   "id": "50c32bc2",
   "metadata": {},
   "outputs": [
    {
     "name": "stdout",
     "output_type": "stream",
     "text": [
      "Chelsea was not founded on this date\n"
     ]
    }
   ],
   "source": [
    "chelsea_founded_year=1905\n",
    "\n",
    "if chelsea_founded_year>1905:\n",
    "    print(\"Chelsea was founded on this date\")\n",
    "print(\"Chelsea was not founded on this date\")\n",
    "    "
   ]
  },
  {
   "cell_type": "markdown",
   "id": "76f3b1d4",
   "metadata": {},
   "source": [
    "### B. If Else Statement"
   ]
  },
  {
   "cell_type": "code",
   "execution_count": 22,
   "id": "6a4f4b98",
   "metadata": {},
   "outputs": [],
   "source": [
    "# Syntax= if(condition)\n",
    "          #Executes this block if\n",
    "          #condition is true\n",
    "#      else:\n",
    "          #Executes the block if\n",
    "          #condition is false"
   ]
  },
  {
   "cell_type": "code",
   "execution_count": 23,
   "id": "3c89c103",
   "metadata": {},
   "outputs": [
    {
     "name": "stdout",
     "output_type": "stream",
     "text": [
      "This is the if block\n",
      "This jersey_number is a Cole Palmer's Jersey\n"
     ]
    }
   ],
   "source": [
    "# Example of if else statement\n",
    "\n",
    "jersey_number=20\n",
    "\n",
    "if jersey_number%2==0:\n",
    "    print(\"This is the if block\")\n",
    "    print(\"This jersey_number is a Cole Palmer's Jersey\")\n",
    "else:\n",
    "    print(\"This is the else block\")\n",
    "    print(\"This jersey_number is not a Cole Palmer's jersey\")"
   ]
  },
  {
   "cell_type": "code",
   "execution_count": 24,
   "id": "cdd3faeb",
   "metadata": {},
   "outputs": [
    {
     "name": "stdout",
     "output_type": "stream",
     "text": [
      "This is the else block\n",
      "This is a Nicholas Jackson's jersey\n"
     ]
    }
   ],
   "source": [
    "# Use if-else statement to find out if the jersey number is a Cole Palmer's jersey number or not\n",
    "\n",
    "jersey_number=15\n",
    "\n",
    "if jersey_number%2==0:\n",
    "    print(\"This is the if block\")\n",
    "    print(\"This is a Cole Palmer's jersey\")\n",
    "else:\n",
    "    print(\"This is the else block\")\n",
    "    print(\"This is a Nicholas Jackson's jersey\")"
   ]
  },
  {
   "cell_type": "code",
   "execution_count": 25,
   "id": "029d09a7",
   "metadata": {},
   "outputs": [
    {
     "name": "stdout",
     "output_type": "stream",
     "text": [
      "This is a Nicholas Jackson's jersey\n"
     ]
    }
   ],
   "source": [
    "# OR\n",
    "jersey_number=15\n",
    "\n",
    "if jersey_number%2==0:\n",
    "    print(\"This is a Cole Palmer's jersey\")\n",
    "else:\n",
    "    print(\"This is a Nicholas Jackson's jersey\")"
   ]
  },
  {
   "cell_type": "markdown",
   "id": "2b0c7b90",
   "metadata": {},
   "source": [
    "### C. Nested If Statement: When you you have a statement within an if statement"
   ]
  },
  {
   "cell_type": "code",
   "execution_count": null,
   "id": "bd6476b6",
   "metadata": {},
   "outputs": [],
   "source": [
    "# Syntax:\n",
    "    if(condition1):\n",
    "      #Executes if condition1 is true\n",
    "      if(condition2):\n",
    "     #condition2 ends here\n",
    " #condition1 ends here"
   ]
  },
  {
   "cell_type": "code",
   "execution_count": 32,
   "id": "671206c1",
   "metadata": {},
   "outputs": [
    {
     "name": "stdout",
     "output_type": "stream",
     "text": [
      "Moesis Caseido is older than 15\n",
      "Cole Palmer is also older than 20\n"
     ]
    }
   ],
   "source": [
    "# Example 1 of Nested if\n",
    "\n",
    "Moeises_Caseido_age=20\n",
    "Cole_Palmer_age=22\n",
    "\n",
    "if Moeises_Caseido_age>15:\n",
    "    print(\"Moesis Caseido is older than 15\")\n",
    "    if Cole_Palmer_age>20:\n",
    "        print(\"Cole Palmer is also older than 20\")\n",
    "    else:\n",
    "        print(\"Moesis Caseido is not older than 15\")"
   ]
  },
  {
   "cell_type": "code",
   "execution_count": 42,
   "id": "d495abfe",
   "metadata": {},
   "outputs": [],
   "source": [
    "# Example 2 of Nested if\n",
    "\n",
    "Moeises_Caseido_age=25\n",
    "Cole_Palmer_age=27\n",
    "\n",
    "if Moeises_Caseido_age<15:\n",
    "    print(\"Moesis Caseido is older than 15\")\n",
    "    if Cole_Palmer_age<20:\n",
    "        print(\"Cole Palmer is also older than 20\")\n",
    "    else:\n",
    "        print(\"Moesis Caseido is not older than 15\")"
   ]
  },
  {
   "cell_type": "code",
   "execution_count": 43,
   "id": "ef8c1c3b",
   "metadata": {},
   "outputs": [
    {
     "name": "stdout",
     "output_type": "stream",
     "text": [
      "Reece James is older than 12\n",
      "Enzo Fernandes is older than 13\n",
      "Raheem Sterling is older than 20\n"
     ]
    }
   ],
   "source": [
    "# Example 3 of Nested If\n",
    "\n",
    "Reece_James_age=24\n",
    "Enzo_Fernandes_age=27\n",
    "Raheem_Sterling_age=30\n",
    "\n",
    "if Reece_James_age>12:\n",
    "    print(\"Reece James is older than 12\")\n",
    "    if Enzo_Fernandes_age>13:\n",
    "        print(\"Enzo Fernandes is older than 13\")\n",
    "        if Raheem_Sterling_age>20:\n",
    "            print(\"Raheem Sterling is older than 20\")\n",
    "        else:\n",
    "            print(\"Raheem Sterling is not older than 20\")\n",
    "    else:\n",
    "        print(\"Enzo_Fernandes is not older than 13\")\n",
    "        \n",
    "else:\n",
    "    print(\"Reece James is not older than 12\")"
   ]
  },
  {
   "cell_type": "code",
   "execution_count": 44,
   "id": "0c539bdd",
   "metadata": {},
   "outputs": [],
   "source": [
    "#NOTE: In this example, there are three(3) levels of if statements. \n",
    "# The program checks if 'Reece James' is older than 12, then checks if Enzo Fernandes is older than 13\n",
    "# and finally checks if Raheem Sterling is older than 20"
   ]
  },
  {
   "cell_type": "code",
   "execution_count": 51,
   "id": "9d2a11e8",
   "metadata": {},
   "outputs": [
    {
     "name": "stdout",
     "output_type": "stream",
     "text": [
      "Reece James is not older than 25\n"
     ]
    }
   ],
   "source": [
    "Reece_James_age=24\n",
    "Enzo_Fernandes_age=27\n",
    "Raheem_Sterling_age=30\n",
    "\n",
    "if Reece_James_age>25:\n",
    "    print(\"Reece James is older than 25\")\n",
    "    if Enzo_Fernandes_age>30:\n",
    "        print(\"Enzo Fernandes is older than 30\")\n",
    "        if Raheem_Sterling_age>33:\n",
    "            print(\"Raheem Sterling is older than 33\")\n",
    "        else:\n",
    "            print(\"Raheem Sterling is not older than 33\")\n",
    "    else:\n",
    "        print(\"Enzo_Fernandes is not older than 30\")\n",
    "        \n",
    "else:\n",
    "    print(\"Reece James is not older than 25\")"
   ]
  },
  {
   "cell_type": "markdown",
   "id": "f5ddcabc",
   "metadata": {},
   "source": [
    "### Logical Operators in Nested If Statement"
   ]
  },
  {
   "cell_type": "code",
   "execution_count": 55,
   "id": "dc8ceace",
   "metadata": {},
   "outputs": [
    {
     "name": "stdout",
     "output_type": "stream",
     "text": [
      "All Players are older than 12, 13, and 20\n"
     ]
    }
   ],
   "source": [
    "# Sometimes you can avoid nesting by using logical operators\n",
    "# Example;\n",
    "\n",
    "if Reece_James_age>12 and Enzo_Fernandes_age>13 and Raheem_Sterling_age>20:\n",
    "    print(\"All Players are older than 12, 13, and 20\")"
   ]
  },
  {
   "cell_type": "markdown",
   "id": "ba008326",
   "metadata": {},
   "source": [
    "### Practical Example of Nested if statement"
   ]
  },
  {
   "cell_type": "code",
   "execution_count": 57,
   "id": "f75914e9",
   "metadata": {},
   "outputs": [
    {
     "name": "stdout",
     "output_type": "stream",
     "text": [
      "Access granted\n"
     ]
    }
   ],
   "source": [
    "#Example 1\n",
    "age=20\n",
    "\n",
    "has_permission=True\n",
    "if age>=18:\n",
    "    if has_permission:\n",
    "        print(\"Access granted\")\n",
    "    else:\n",
    "        print(\"Access denied: Permission required\")\n",
    "else:\n",
    "    print(\"Access denied: Must be at least 18 years old\")"
   ]
  },
  {
   "cell_type": "code",
   "execution_count": 72,
   "id": "28628a75",
   "metadata": {},
   "outputs": [],
   "source": [
    "# In the example 1 above, the program checks if the user is at least 18 years old.\n",
    "#If so, it then checks if the user has permission. \n",
    "#If both conditions are met, access is granted; Otherwise, it is denied"
   ]
  },
  {
   "cell_type": "code",
   "execution_count": 64,
   "id": "6683c7f3",
   "metadata": {},
   "outputs": [
    {
     "name": "stdout",
     "output_type": "stream",
     "text": [
      "Automatic Qualification\n"
     ]
    }
   ],
   "source": [
    "#Example 2\n",
    "Premier_League_Promotion_Position= 2\n",
    "\n",
    "has_qualification=True\n",
    "if Premier_League_Promotion_Position<3:\n",
    "    if has_qualification:\n",
    "        print(\"Automatic Qualification\")\n",
    "    else:\n",
    "        print(\"Not Qualified: Playoffs required\")"
   ]
  },
  {
   "cell_type": "code",
   "execution_count": 71,
   "id": "e5947f14",
   "metadata": {},
   "outputs": [],
   "source": [
    "#Example 2\n",
    "\n",
    "Premier_League_Promotion_Position= 1\n",
    "\n",
    "has_qualification=True\n",
    "if Premier_League_Promotion_Position>3:\n",
    "    if has_qualification:\n",
    "        print(\"Automatic Qualification\")\n",
    "    else:\n",
    "        print(\"Not Qualified: Playoffs required\")"
   ]
  },
  {
   "cell_type": "markdown",
   "id": "f36ce4b7",
   "metadata": {},
   "source": [
    "### D. If-Elif-Else Statement"
   ]
  },
  {
   "cell_type": "code",
   "execution_count": 76,
   "id": "7316735a",
   "metadata": {},
   "outputs": [],
   "source": [
    "# Syntax: if(condition):\n",
    "#             statement\n",
    " #         elif(condition)\n",
    "#               statement\n",
    " #           .\n",
    " #           .\n",
    "#            else:\n",
    " #               statement"
   ]
  },
  {
   "cell_type": "code",
   "execution_count": 80,
   "id": "11b9e4d4",
   "metadata": {},
   "outputs": [
    {
     "name": "stdout",
     "output_type": "stream",
     "text": [
      "This player is not a Chelsea Player\n"
     ]
    }
   ],
   "source": [
    "# if-elif-else ladder \n",
    "# Example,\n",
    "\n",
    "player='Ben Chilwell'\n",
    "if player=='Cole Palmer':\n",
    "    print(\"This is a Chelsea player\")\n",
    "elif player=='Enzo Fernandes':\n",
    "    print(\"This is a Chelsea player\")\n",
    "elif player=='Raheem Sterling':\n",
    "    print(\"This is a Chelsea Player\")\n",
    "elif player=='Nicholas Jackson':\n",
    "    print(\"This is a Chelsea player\")\n",
    "elif player=='Christopher Nkunku':\n",
    "    print(\"This is a Chelsea player\")\n",
    "    \n",
    "else:\n",
    "    print(\"This player is not a Chelsea Player\")\n",
    "    \n",
    "    "
   ]
  },
  {
   "cell_type": "code",
   "execution_count": null,
   "id": "d8d58e18",
   "metadata": {},
   "outputs": [],
   "source": [
    "# Ben Chilwell is not found in the elif statement. Thats why His name is identified as not a Chelsea player"
   ]
  },
  {
   "cell_type": "code",
   "execution_count": 79,
   "id": "083d0635",
   "metadata": {},
   "outputs": [
    {
     "name": "stdout",
     "output_type": "stream",
     "text": [
      "This is a Chelsea player\n"
     ]
    }
   ],
   "source": [
    "# Example 2\n",
    "\n",
    "player='Ben Chilwell'\n",
    "if player=='Cole Palmer':\n",
    "    print(\"This is a Chelsea player\")\n",
    "elif player=='Enzo Fernandes':\n",
    "    print(\"This is a Chelsea player\")\n",
    "elif player=='Raheem Sterling':\n",
    "    print(\"This is a Chelsea Player\")\n",
    "elif player=='Nicholas Jackson':\n",
    "    print(\"This is a Chelsea player\")\n",
    "elif player=='Christopher Nkunku':\n",
    "    print(\"This is a Chelsea player\")\n",
    "elif player=='Ben Chilwell':\n",
    "    print(\"This is a Chelsea player\")\n",
    "    \n",
    "else:\n",
    "    print(\"This player is not a Chelsea Player\")\n",
    "    "
   ]
  },
  {
   "cell_type": "code",
   "execution_count": 81,
   "id": "08b25ea9",
   "metadata": {},
   "outputs": [],
   "source": [
    "# Ben Chilwell is found in the elif statement. Thats why His name is identified as a Chelsea player"
   ]
  },
  {
   "cell_type": "code",
   "execution_count": null,
   "id": "65f95b5f",
   "metadata": {},
   "outputs": [],
   "source": []
  }
 ],
 "metadata": {
  "kernelspec": {
   "display_name": "Python 3 (ipykernel)",
   "language": "python",
   "name": "python3"
  },
  "language_info": {
   "codemirror_mode": {
    "name": "ipython",
    "version": 3
   },
   "file_extension": ".py",
   "mimetype": "text/x-python",
   "name": "python",
   "nbconvert_exporter": "python",
   "pygments_lexer": "ipython3",
   "version": "3.10.9"
  }
 },
 "nbformat": 4,
 "nbformat_minor": 5
}
