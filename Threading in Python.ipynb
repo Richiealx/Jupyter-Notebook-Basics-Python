{
 "cells": [
  {
   "cell_type": "markdown",
   "id": "737f313a",
   "metadata": {},
   "source": [
    "# Threading in Python"
   ]
  },
  {
   "cell_type": "markdown",
   "id": "a96fc2ef",
   "metadata": {},
   "source": [
    "## Process: \n",
    "A process is is an executable instance of a computer program. Example; word pad you are opening, an email you are sending, or anything you run on the computer."
   ]
  },
  {
   "cell_type": "markdown",
   "id": "3ec6b26f",
   "metadata": {},
   "source": [
    "## Thread: \n",
    "A thread is a sequence of instructions in a program that can be executed independently of the remaining program\n",
    "Thread exist within a process"
   ]
  },
  {
   "cell_type": "markdown",
   "id": "32015f66",
   "metadata": {},
   "source": [
    "### Why do we need a thread?\n",
    "There are multiple codes in our system. \n",
    "If one program will run on a single thread, that means that it will utilize just one CPU or code.\n",
    "If a program is divided into a multiple threads, that means that it will utilize different CPU or codes. This will make the \n",
    "program highly efficient"
   ]
  },
  {
   "cell_type": "markdown",
   "id": "2d151477",
   "metadata": {},
   "source": [
    "### Creating a Thread"
   ]
  },
  {
   "cell_type": "code",
   "execution_count": 1,
   "id": "0780c50d",
   "metadata": {},
   "outputs": [
    {
     "name": "stdout",
     "output_type": "stream",
     "text": [
      "This is a child thread\n",
      "This is a parent thread\n"
     ]
    }
   ],
   "source": [
    "# 1st way of creating a thread\n",
    "\n",
    "# Importing the threading package\n",
    "import threading\n",
    "\n",
    "def show():\n",
    "    print(\"This is a child thread\")\n",
    "    \n",
    "# using the thread method to create a thread\n",
    "t=threading.Thread(target=show())\n",
    "\n",
    "# run the thread\n",
    "t.start()\n",
    "print(\"This is a parent thread\")"
   ]
  },
  {
   "cell_type": "code",
   "execution_count": 2,
   "id": "7c9bb0eb",
   "metadata": {},
   "outputs": [
    {
     "name": "stdout",
     "output_type": "stream",
     "text": [
      "This is a child thread\n",
      "This is a parent thread\n"
     ]
    }
   ],
   "source": [
    "# OR\n",
    "\n",
    "# Importing the threading package\n",
    "from threading import *\n",
    "\n",
    "def show():\n",
    "    print(\"This is a child thread\")\n",
    "    \n",
    "# using the thread method to create a thread\n",
    "t=Thread(target=show())\n",
    "\n",
    "# run the thread\n",
    "t.start()\n",
    "print(\"This is a parent thread\")"
   ]
  },
  {
   "cell_type": "code",
   "execution_count": 3,
   "id": "2917e408",
   "metadata": {},
   "outputs": [
    {
     "name": "stdout",
     "output_type": "stream",
     "text": [
      "This is a child class\n",
      "This is a child class\n",
      "This is a child class\n",
      "This is a child class\n",
      "This is a child class\n",
      "This is the main thread\n",
      "This is the main thread\n",
      "This is the main thread\n",
      "This is the main thread\n",
      "This is the main thread\n"
     ]
    }
   ],
   "source": [
    "# 2nd way of creating a thread\n",
    "\n",
    "# Importing the thread class\n",
    "import threading\n",
    "\n",
    "class myThread(Thread):\n",
    "    def run(self):\n",
    "        for i in range(5):\n",
    "            print(\"This is a child class\")\n",
    "            \n",
    "t=myThread()\n",
    "t.start()\n",
    "for i in range(5):\n",
    "    print(\"This is the main thread\")"
   ]
  },
  {
   "cell_type": "code",
   "execution_count": 4,
   "id": "e5dc5673",
   "metadata": {},
   "outputs": [
    {
     "name": "stdout",
     "output_type": "stream",
     "text": [
      "\n",
      "This is a child class\n",
      "\n",
      "This is a child class\n",
      "\n",
      "This is a child class\n",
      "\n",
      "This is a child class\n",
      "\n",
      "This is a child class\n",
      "\n",
      "This is the main thread\n",
      "\n",
      "This is the main thread\n",
      "\n",
      "This is the main thread\n",
      "\n",
      "This is the main thread\n",
      "\n",
      "This is the main thread\n"
     ]
    }
   ],
   "source": [
    "# To create a space in between the list of classes in the output,\n",
    "# Add backwards slash(\\)n to the print statement\n",
    "\n",
    "# Importing the thread class\n",
    "import threading\n",
    "\n",
    "class myThread(Thread):\n",
    "    def run(self):\n",
    "        for i in range(5):\n",
    "            print(\"\\nThis is a child class\")\n",
    "            \n",
    "t=myThread()\n",
    "t.start()\n",
    "for i in range(5):\n",
    "    print(\"\\nThis is the main thread\")"
   ]
  },
  {
   "cell_type": "code",
   "execution_count": 5,
   "id": "fc593e77",
   "metadata": {},
   "outputs": [
    {
     "name": "stdout",
     "output_type": "stream",
     "text": [
      "This is the chiild thread\n",
      "This is the chiild thread\n",
      "This is the chiild thread\n",
      "This is the chiild thread\n",
      "This is the chiild thread\n",
      "This is the parent thread\n",
      "This is the parent thread\n",
      "This is the parent thread\n",
      "This is the parent thread\n",
      "This is the parent thread\n"
     ]
    }
   ],
   "source": [
    "# 3rd way of creating a thread\n",
    "\n",
    "# Importing the threading package\n",
    "\n",
    "import threading\n",
    "\n",
    "class Demo:\n",
    "    def show(self):\n",
    "        for i in range(5):\n",
    "            print(\"This is the chiild thread\")\n",
    "            \n",
    "# create the object demo\n",
    "obj=Demo()\n",
    "\n",
    "# create the thread\n",
    "t=Thread(target=obj.show())\n",
    "\n",
    "# run the thread\n",
    "t.start()\n",
    "for i in range(5):\n",
    "    print(\"This is the parent thread\")"
   ]
  },
  {
   "cell_type": "code",
   "execution_count": 6,
   "id": "be32e0da",
   "metadata": {},
   "outputs": [
    {
     "name": "stdout",
     "output_type": "stream",
     "text": [
      "\n",
      "This is the chiild thread\n",
      "\n",
      "This is the chiild thread\n",
      "\n",
      "This is the chiild thread\n",
      "\n",
      "This is the chiild thread\n",
      "\n",
      "This is the chiild thread\n",
      "\n",
      "This is the parent thread\n",
      "\n",
      "This is the parent thread\n",
      "\n",
      "This is the parent thread\n",
      "\n",
      "This is the parent thread\n",
      "\n",
      "This is the parent thread\n"
     ]
    }
   ],
   "source": [
    "#  To create a space in between the list of classes in the output,\n",
    "# Add backwards slash(\\)n to the print statement\n",
    "\n",
    "# 3rd way of creating a thread\n",
    "\n",
    "# Importing the threading package\n",
    "\n",
    "import threading\n",
    "\n",
    "class Demo:\n",
    "    def show(self):\n",
    "        for i in range(5):\n",
    "            print(\"\\nThis is the chiild thread\")\n",
    "            \n",
    "# create the object demo\n",
    "obj=Demo()\n",
    "\n",
    "# create the thread\n",
    "t=Thread(target=obj.show())\n",
    "\n",
    "# run the thread\n",
    "t.start()\n",
    "for i in range(5):\n",
    "    print(\"\\nThis is the parent thread\")"
   ]
  },
  {
   "cell_type": "markdown",
   "id": "dafd3965",
   "metadata": {},
   "source": [
    "## Content Switching\n",
    "Storing the state of a process or thread and resuming its execution at a later time is called content switching"
   ]
  },
  {
   "cell_type": "markdown",
   "id": "692e2aa7",
   "metadata": {},
   "source": [
    "## Multithreading\n",
    "A model where multiple threads within the process execute independently while sharing the same resources is \n",
    "called multithreading\n"
   ]
  },
  {
   "cell_type": "code",
   "execution_count": 7,
   "id": "1421614b",
   "metadata": {},
   "outputs": [
    {
     "name": "stdout",
     "output_type": "stream",
     "text": [
      "The number is 1\n",
      "The number is 2\n",
      "The number is 3\n",
      "The number is 4\n",
      "The number is 5\n",
      "The double of the number is 2\n",
      "The double of the number is 4\n",
      "The double of the number is 6\n",
      "The double of the number is 8\n",
      "The double of the number is 10\n",
      "The square of the number is 1\n",
      "The square of the number is 4\n",
      "The square of the number is 9\n",
      "The square of the number is 16\n",
      "The square of the number is 25\n"
     ]
    }
   ],
   "source": [
    "# Print numbers from 1 to 5, double of numbers 1 to 5, and square of numbers 1 to 5\n",
    "\n",
    "# Import the thread package\n",
    "\n",
    "import threading\n",
    "\n",
    "class Demo:\n",
    "    def num(self):\n",
    "        for i in range(1,6):\n",
    "            print(\"The number is\", i)\n",
    "            \n",
    "    def double(self):\n",
    "        for i in range(1,6):\n",
    "            print(\"The double of the number is\", i*2)\n",
    "            \n",
    "    def square(self):\n",
    "        for i in range(1,6):\n",
    "            print(\"The square of the number is\", i*i)\n",
    "            \n",
    "# create object of the class Demo()\n",
    "obj=Demo()\n",
    "\n",
    "# create the thread\n",
    "t1=Thread(target=obj.num)\n",
    "t2=Thread(target=obj.double)\n",
    "t3=Thread(target=obj.square)\n",
    "\n",
    "# run the thread\n",
    "t1.start()\n",
    "t2.start()\n",
    "t3.start()\n",
    "\n",
    "# making sure the proggram does not terminates until these threads have completed their work\n",
    "t1.join()\n",
    "t2.join()\n",
    "t3.join()"
   ]
  },
  {
   "cell_type": "code",
   "execution_count": 8,
   "id": "b563fc4b",
   "metadata": {},
   "outputs": [
    {
     "name": "stdout",
     "output_type": "stream",
     "text": [
      "The number is 1\n",
      "The double of the number is 2\n",
      "The square of the number is 1\n",
      "The square of the number is 4\n",
      "The double of the number is 4\n",
      "The number is 2\n",
      "The number isThe double of the number is 6\n",
      "The square of the number is 9\n",
      " 3\n",
      "The number isThe square of the number is 16\n",
      " 4\n",
      "The double of the number is 8\n",
      "The double of the number is 10\n",
      "The square of the number is 25\n",
      "The number is 5\n"
     ]
    }
   ],
   "source": [
    "# Import the threading package\n",
    "\n",
    "from threading import *\n",
    "\n",
    "import time\n",
    "\n",
    "class Demo:\n",
    "    \n",
    "    def num(self):\n",
    "        for i in range(1,6):\n",
    "            print(\"The number is\", i)\n",
    "            time.sleep(1)\n",
    "            \n",
    "    def double(self):\n",
    "        for i in range(1,6):\n",
    "            print(\"The double of the number is\", i*2)\n",
    "            time.sleep(1)\n",
    "            \n",
    "    def square(self):\n",
    "        for i in range(1,6):\n",
    "            print(\"The square of the number is\", i*i)\n",
    "            time.sleep(1)\n",
    "            \n",
    "            \n",
    "# create the object Demo\n",
    "obj=Demo()\n",
    "\n",
    "# create the thread\n",
    "t1=Thread(target=obj.num)\n",
    "t2=Thread(target=obj.double)\n",
    "t3=Thread(target=obj.square)\n",
    "\n",
    "# run the thread\n",
    "t1.start()\n",
    "t2.start()\n",
    "t3.start()\n",
    "\n",
    "# making sure the program does not terminates until these threads have completed their work\n",
    "t1.join()\n",
    "t2.join()\n",
    "t3.join()"
   ]
  },
  {
   "cell_type": "code",
   "execution_count": 9,
   "id": "bb6a5562",
   "metadata": {},
   "outputs": [],
   "source": [
    "# There is an error with this code. These errors\n",
    "# There is a mix-up between the blocks. ie blocks num, double, and square\n",
    "#  Double numbers are printed within the square numbers\n",
    "\n",
    "# How do we fix this?"
   ]
  },
  {
   "cell_type": "code",
   "execution_count": 10,
   "id": "9f0c2f6c",
   "metadata": {},
   "outputs": [
    {
     "name": "stdout",
     "output_type": "stream",
     "text": [
      "The number is 1\n",
      "The double of the number is 2\n",
      "The square of the number is 1\n",
      "The number is 2\n",
      "The double of the number is 4\n",
      "The square of the number is 4\n",
      "The number is 3\n",
      "The double of the number is 6\n",
      "The square of the number is 9\n",
      "The number is 4\n",
      "The double of the number is 8\n",
      "The square of the number is 16\n",
      "The number is 5\n",
      "The double of the number is 10\n",
      "The square of the number is 25\n"
     ]
    }
   ],
   "source": [
    "#  To fix the errors, we do the following\n",
    "\n",
    "import threading\n",
    "\n",
    "import time\n",
    "\n",
    "class Demo:\n",
    " \n",
    "    def num(self):\n",
    "        for i in range(1,6):\n",
    "            print(\"The number is\", i)\n",
    "            time.sleep(1)\n",
    "            \n",
    "    def double(self):\n",
    "        for i in range(1,6):\n",
    "            print(\"The double of the number is\", i*2)\n",
    "            time.sleep(1)\n",
    "            \n",
    "    def square(self):\n",
    "        for i in range(1,6):\n",
    "            print(\"The square of the number is\", i*i)\n",
    "            time.sleep(1)\n",
    "            \n",
    "            \n",
    "# create the object of Demo\n",
    "obj=Demo()\n",
    "\n",
    "# create the thread\n",
    "t1=Thread(target=obj.num)\n",
    "t2=Thread(target=obj.double)\n",
    "t3=Thread(target=obj.square)\n",
    "\n",
    "# run the threads\n",
    "t1.start()\n",
    "time.sleep(0.2)\n",
    "\n",
    "t2.start()\n",
    "time.sleep(0.2)\n",
    "\n",
    "t3.start()\n",
    "time.sleep(0.2)\n",
    "\n",
    "\n",
    "\n",
    "# make sure the program does not terminate until the threads have completed their work\n",
    "t1.join()\n",
    "t2.join()\n",
    "t3.join()"
   ]
  },
  {
   "cell_type": "code",
   "execution_count": 11,
   "id": "abaf448c",
   "metadata": {},
   "outputs": [],
   "source": [
    "# Therefore the double of number 1 is 2, the square of number 1 is 1,\n",
    "# The double of number 2 is 4, the square of number 2 is 4,\n",
    "# The double of number 3 is 6, and the square of number 3 is 9,\n",
    "# The double of number 4 is 8, the square of number 4 is 16,\n",
    "# The double of number 5 is 10, and the square of number 5 is 25."
   ]
  },
  {
   "cell_type": "code",
   "execution_count": 12,
   "id": "e8aaf6c5",
   "metadata": {
    "scrolled": true
   },
   "outputs": [
    {
     "name": "stdout",
     "output_type": "stream",
     "text": [
      "This number is 1\n",
      "This letter is a\n",
      "This number is 2\n",
      "This letter is b\n",
      "This number is 3\n",
      "This number is 4\n",
      "This letter is c\n",
      "This number is 5\n",
      "This letter is d\n",
      "This letter is e\n",
      "Both threads have finished execution.\n"
     ]
    }
   ],
   "source": [
    "import threading\n",
    "import time\n",
    "\n",
    "# Define a function for the thread to execute\n",
    "def print_numbers():\n",
    "    for i in range(1, 6):\n",
    "        print(\"This number is\", i)\n",
    "        time.sleep(1)\n",
    "\n",
    "def print_letters():\n",
    "    for letter in 'abcde':\n",
    "        print(\"This letter is\", letter)\n",
    "        time.sleep(1.5)\n",
    "\n",
    "# Create two threads\n",
    "thread1 = threading.Thread(target=print_numbers)\n",
    "thread2 = threading.Thread(target=print_letters)\n",
    "\n",
    "# Start the threads\n",
    "thread1.start()\n",
    "time.sleep(0.2)\n",
    "\n",
    "thread2.start()\n",
    "time.sleep(0.2)\n",
    "\n",
    "# Wait for both threads to complete\n",
    "thread1.join()\n",
    "thread2.join()\n",
    "\n",
    "print(\"Both threads have finished execution.\")\n"
   ]
  },
  {
   "cell_type": "code",
   "execution_count": 13,
   "id": "20604cf1",
   "metadata": {},
   "outputs": [],
   "source": [
    "# *Explanation\n",
    "\n",
    "# Import threading and time Modules:\n",
    "\n",
    "# The threading module is used to create and manage threads.\n",
    "# The time module is used to add delays, simulating time-consuming tasks.\n",
    "# Define Functions for Threads:\n",
    "\n",
    "# print_numbers: Prints numbers from 1 to 5 with a 1-second delay between each print.\n",
    "# print_letters: Prints letters from 'a' to 'e' with a 1.5-second delay between each print.\n",
    "# Create Thread Objects:\n",
    "\n",
    "# thread1 and thread2 are instances of threading.Thread, with their target parameter set to the respective functions to be executed in the threads.\n",
    "# Start the Threads:\n",
    "\n",
    "# thread1.start() and thread2.start() begin the execution of the threads.\n",
    "# Wait for Threads to Complete:\n",
    "\n",
    "# thread1.join() and thread2.join() ensure that the main program waits for both threads to complete before continuing.\n",
    "# Print Completion Message:\n",
    "\n",
    "# Once both threads have finished executing, the main program prints a message."
   ]
  },
  {
   "cell_type": "code",
   "execution_count": 14,
   "id": "cff7a78b",
   "metadata": {},
   "outputs": [
    {
     "name": "stdout",
     "output_type": "stream",
     "text": [
      "This number is 1\n",
      "This letter is a\n",
      "Main program exits.\n"
     ]
    }
   ],
   "source": [
    "# Example with Daemon Threads\n",
    "\n",
    "import threading\n",
    "import time\n",
    "\n",
    "# Define a function for the thread to execute\n",
    "def print_numbers():\n",
    "    for i in range(1, 6):\n",
    "        print(\"This number is\", i)\n",
    "        time.sleep(1)\n",
    "\n",
    "def print_letters():\n",
    "    for letter in 'abcde':\n",
    "        print(\"This letter is\", letter)\n",
    "        time.sleep(1.5)\n",
    "\n",
    "# Create two threads\n",
    "thread1 = threading.Thread(target=print_numbers)\n",
    "thread2 = threading.Thread(target=print_letters)\n",
    "\n",
    "# Set the threads as daemon threads\n",
    "thread1.daemon = True\n",
    "thread2.daemon = True\n",
    "\n",
    "# Start the threads\n",
    "thread1.start()\n",
    "thread2.start()\n",
    "\n",
    "# Main program exits immediately, daemon threads are terminated\n",
    "print(\"Main program exits.\")\n"
   ]
  },
  {
   "cell_type": "code",
   "execution_count": 15,
   "id": "2c870930",
   "metadata": {},
   "outputs": [
    {
     "name": "stdout",
     "output_type": "stream",
     "text": [
      "The name of the fruit is P\n",
      "The price of the fruit is 1\n",
      "This number is 2\n",
      "The price of the fruit is 2\n",
      "This letter is b\n",
      "The name of the fruit is O\n",
      "This number is 3\n",
      "The price of the fruit is 3\n",
      "This letter is c\n",
      "This number is 4\n",
      "The name of the fruit is A\n",
      "The price of the fruit is 4\n",
      "This number is 5\n",
      "The price of the fruit is 5\n",
      "This letter is d\n",
      "The name of the fruit is M\n",
      "This letter is e\n",
      "The name of the fruit is B\n"
     ]
    }
   ],
   "source": [
    "# Print 5 fruits and their respective classes using threading\n",
    "\n",
    "import threading\n",
    "\n",
    "import time\n",
    "\n",
    "class Fruits:\n",
    "    \n",
    "    def fruitname(self):\n",
    "        for name in 'POAMB': # where P=Pinneaple, O=Orange, A=Apple, M=Mango and B=Banana\n",
    "            print(\"The name of the fruit is\", name)\n",
    "            time.sleep(1.5)\n",
    "            \n",
    "    def fruitprice(self):\n",
    "        for price in range(1,6):\n",
    "            print(\"The price of the fruit is\", price)\n",
    "            time.sleep(1)\n",
    "            \n",
    "            \n",
    "# create the object Fruits\n",
    "obj=Fruits()\n",
    "\n",
    "# create the threads\n",
    "t1=Thread(target=obj.fruitname)\n",
    "t2=Thread(target=obj.fruitprice)\n",
    "\n",
    "# run the thread\n",
    "t1.start()\n",
    "time.sleep(0.2)\n",
    "\n",
    "t2.start()\n",
    "time.sleep(0.2)\n",
    "\n",
    "# make sure the program does not terminates until threads are executed\n",
    "t1.join()\n",
    "t2.join()\n"
   ]
  },
  {
   "cell_type": "code",
   "execution_count": 16,
   "id": "2778a5a1",
   "metadata": {},
   "outputs": [],
   "source": [
    "# This means that the price of Fruits(Pinneapple, Orange, Apple, Mango, and Banana) ranges between £1 to £5"
   ]
  },
  {
   "cell_type": "code",
   "execution_count": null,
   "id": "3d0d4ad4",
   "metadata": {},
   "outputs": [],
   "source": []
  }
 ],
 "metadata": {
  "kernelspec": {
   "display_name": "Python 3 (ipykernel)",
   "language": "python",
   "name": "python3"
  },
  "language_info": {
   "codemirror_mode": {
    "name": "ipython",
    "version": 3
   },
   "file_extension": ".py",
   "mimetype": "text/x-python",
   "name": "python",
   "nbconvert_exporter": "python",
   "pygments_lexer": "ipython3",
   "version": "3.10.9"
  }
 },
 "nbformat": 4,
 "nbformat_minor": 5
}
