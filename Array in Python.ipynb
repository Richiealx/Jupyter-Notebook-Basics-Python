{
 "cells": [
  {
   "cell_type": "markdown",
   "id": "3e59162b",
   "metadata": {},
   "source": [
    "# Array in Python"
   ]
  },
  {
   "cell_type": "markdown",
   "id": "d36b9511",
   "metadata": {},
   "source": [
    "### Array is a container that holds multiple values of the same type"
   ]
  },
  {
   "cell_type": "code",
   "execution_count": 1,
   "id": "6cd8e1c0",
   "metadata": {},
   "outputs": [],
   "source": [
    "# Syntax:\n",
    "#    var=Array(Type Code,[Elements])"
   ]
  },
  {
   "cell_type": "code",
   "execution_count": 2,
   "id": "fa51cb08",
   "metadata": {},
   "outputs": [
    {
     "name": "stdout",
     "output_type": "stream",
     "text": [
      "array('i', [1, 2, 3, 4, 5])\n"
     ]
    }
   ],
   "source": [
    "# Creating an Array using a signed integer(i)\n",
    "\n",
    "from array import*\n",
    "\n",
    "my_array=array(\"i\",[1,2,3,4,5])\n",
    "print(my_array)"
   ]
  },
  {
   "cell_type": "code",
   "execution_count": 3,
   "id": "4781db68",
   "metadata": {},
   "outputs": [
    {
     "name": "stdout",
     "output_type": "stream",
     "text": [
      "array('i', [-1, 2, 3, 4, 5])\n"
     ]
    }
   ],
   "source": [
    "# Now we assign a negative value ie -1 to the array\n",
    "\n",
    "my_array=array(\"i\",[-1,2,3,4,5])\n",
    "print(my_array)"
   ]
  },
  {
   "cell_type": "code",
   "execution_count": 4,
   "id": "be402ad6",
   "metadata": {},
   "outputs": [
    {
     "name": "stdout",
     "output_type": "stream",
     "text": [
      "array('I', [1, 2, 3, 4, 5])\n"
     ]
    }
   ],
   "source": [
    "# Creating an Array using an unsigned integer(I)\n",
    "\n",
    "my_array=array(\"I\",[1,2,3,4,5])\n",
    "print(my_array)"
   ]
  },
  {
   "cell_type": "code",
   "execution_count": 5,
   "id": "3b1d9613",
   "metadata": {},
   "outputs": [
    {
     "ename": "OverflowError",
     "evalue": "can't convert negative value to unsigned int",
     "output_type": "error",
     "traceback": [
      "\u001b[1;31m---------------------------------------------------------------------------\u001b[0m",
      "\u001b[1;31mOverflowError\u001b[0m                             Traceback (most recent call last)",
      "Cell \u001b[1;32mIn[5], line 3\u001b[0m\n\u001b[0;32m      1\u001b[0m \u001b[38;5;66;03m# Lets now assign a negative value ie -1 to the the unsigned array(I)\u001b[39;00m\n\u001b[1;32m----> 3\u001b[0m my_array\u001b[38;5;241m=\u001b[39m\u001b[43marray\u001b[49m\u001b[43m(\u001b[49m\u001b[38;5;124;43m\"\u001b[39;49m\u001b[38;5;124;43mI\u001b[39;49m\u001b[38;5;124;43m\"\u001b[39;49m\u001b[43m,\u001b[49m\u001b[43m[\u001b[49m\u001b[38;5;241;43m-\u001b[39;49m\u001b[38;5;241;43m1\u001b[39;49m\u001b[43m,\u001b[49m\u001b[38;5;241;43m2\u001b[39;49m\u001b[43m,\u001b[49m\u001b[38;5;241;43m3\u001b[39;49m\u001b[43m,\u001b[49m\u001b[38;5;241;43m4\u001b[39;49m\u001b[43m,\u001b[49m\u001b[38;5;241;43m5\u001b[39;49m\u001b[43m]\u001b[49m\u001b[43m)\u001b[49m\n\u001b[0;32m      4\u001b[0m \u001b[38;5;28mprint\u001b[39m(my_array)\n",
      "\u001b[1;31mOverflowError\u001b[0m: can't convert negative value to unsigned int"
     ]
    }
   ],
   "source": [
    "# Lets now assign a negative value ie -1 to the the unsigned array(I)\n",
    "\n",
    "my_array=array(\"I\",[-1,2,3,4,5])\n",
    "print(my_array)"
   ]
  },
  {
   "cell_type": "code",
   "execution_count": 6,
   "id": "c1342759",
   "metadata": {},
   "outputs": [],
   "source": [
    "# An OverflowError has been displayed because we cannot convert or assign negative values to unsigned integers(I)\n",
    "# We can assign negative values to signed integers(i)"
   ]
  },
  {
   "cell_type": "markdown",
   "id": "c956f4b2",
   "metadata": {},
   "source": [
    "## Buffering in Array"
   ]
  },
  {
   "cell_type": "markdown",
   "id": "5bbc7bff",
   "metadata": {},
   "source": [
    "### Buffering in array is the practice of temporarily storing data in a region of memory, known as buffer, before it is transferred\n",
    "\n",
    "### Buffering can be used for performance optimization. Eg, instead of reading or writing data byte or byte, large chunks of data are processed at once.\n",
    "\n",
    "### Bufferring can be used for synchronizing data exchange. Synchronization is the process of coordinating events to operate simultaneosly."
   ]
  },
  {
   "cell_type": "code",
   "execution_count": 7,
   "id": "8913db1b",
   "metadata": {},
   "outputs": [
    {
     "name": "stdout",
     "output_type": "stream",
     "text": [
      "array('I', [1, 2, 3, 4, 5])\n"
     ]
    }
   ],
   "source": [
    "\n",
    "print(my_array)"
   ]
  },
  {
   "cell_type": "code",
   "execution_count": 8,
   "id": "c4b06c1b",
   "metadata": {},
   "outputs": [
    {
     "name": "stdout",
     "output_type": "stream",
     "text": [
      "array('i', [-1, 2, 3, 4, 5])\n"
     ]
    }
   ],
   "source": [
    "my_array=array(\"i\",[-1,2,3,4,5])\n",
    "print(my_array)"
   ]
  },
  {
   "cell_type": "code",
   "execution_count": 9,
   "id": "f1b36b98",
   "metadata": {},
   "outputs": [
    {
     "name": "stdout",
     "output_type": "stream",
     "text": [
      "(2028836385936, 5)\n"
     ]
    }
   ],
   "source": [
    "# Finding the size of the buffer\n",
    "\n",
    "print(my_array.buffer_info())"
   ]
  },
  {
   "cell_type": "code",
   "execution_count": 10,
   "id": "140374ad",
   "metadata": {},
   "outputs": [],
   "source": [
    "# The buffer above has the size of 5"
   ]
  },
  {
   "cell_type": "markdown",
   "id": "f8630860",
   "metadata": {},
   "source": [
    "### Manipulating the Array"
   ]
  },
  {
   "cell_type": "code",
   "execution_count": 11,
   "id": "fcd822ba",
   "metadata": {},
   "outputs": [
    {
     "name": "stdout",
     "output_type": "stream",
     "text": [
      "array('i', [-1, 2, 3, 4, 5])\n"
     ]
    }
   ],
   "source": [
    "print(my_array)"
   ]
  },
  {
   "cell_type": "code",
   "execution_count": 12,
   "id": "88fffc85",
   "metadata": {},
   "outputs": [
    {
     "name": "stdout",
     "output_type": "stream",
     "text": [
      "3\n"
     ]
    }
   ],
   "source": [
    "# Print the positional index of the array 2\n",
    "\n",
    "print(my_array[2])"
   ]
  },
  {
   "cell_type": "code",
   "execution_count": 13,
   "id": "28d82285",
   "metadata": {},
   "outputs": [],
   "source": [
    "# The postional index of array 2 is 3"
   ]
  },
  {
   "cell_type": "code",
   "execution_count": 14,
   "id": "b588f980",
   "metadata": {},
   "outputs": [
    {
     "name": "stdout",
     "output_type": "stream",
     "text": [
      "-1\n",
      "2\n",
      "3\n",
      "4\n",
      "5\n"
     ]
    }
   ],
   "source": [
    "# Print individual values in array i\n",
    "\n",
    "for i in my_array:\n",
    "    print(i)"
   ]
  },
  {
   "cell_type": "code",
   "execution_count": 15,
   "id": "a6745aba",
   "metadata": {},
   "outputs": [
    {
     "name": "stdout",
     "output_type": "stream",
     "text": [
      "0 -1\n",
      "1 2\n",
      "2 3\n",
      "3 4\n",
      "4 5\n"
     ]
    }
   ],
   "source": [
    "# Print the pointer(index) -1 to 5 of the array\n",
    "\n",
    "for pnt in range(5):\n",
    "    print(pnt, my_array[pnt])     #Note: pnt is a pointer"
   ]
  },
  {
   "cell_type": "code",
   "execution_count": 16,
   "id": "a67c04c0",
   "metadata": {},
   "outputs": [],
   "source": [
    "# The pointer index -1 is 0, 2 is 1, 3 is 2, 4 is 3, and 5 is 4"
   ]
  },
  {
   "cell_type": "code",
   "execution_count": 17,
   "id": "d1e6113a",
   "metadata": {},
   "outputs": [
    {
     "name": "stdout",
     "output_type": "stream",
     "text": [
      "0 -1\n",
      "1 2\n",
      "2 3\n",
      "3 4\n"
     ]
    }
   ],
   "source": [
    "# Change the pointer index to -1 to 4 of the array\n",
    "\n",
    "for pnt in range(4):\n",
    "    print(pnt,my_array[pnt])"
   ]
  },
  {
   "cell_type": "code",
   "execution_count": 18,
   "id": "a6425d9d",
   "metadata": {},
   "outputs": [],
   "source": [
    "# The pointer index -1 is 0, 2 is 1, 3 is 2, and 4 is 3"
   ]
  },
  {
   "cell_type": "markdown",
   "id": "073f12cb",
   "metadata": {},
   "source": [
    "### Reversing the entire array"
   ]
  },
  {
   "cell_type": "code",
   "execution_count": 19,
   "id": "0e08ed87",
   "metadata": {},
   "outputs": [
    {
     "name": "stdout",
     "output_type": "stream",
     "text": [
      "array('i', [5, 4, 3, 2, -1])\n"
     ]
    }
   ],
   "source": [
    "my_array.reverse()\n",
    "\n",
    "print(my_array)"
   ]
  },
  {
   "cell_type": "code",
   "execution_count": 20,
   "id": "ce949dd9",
   "metadata": {},
   "outputs": [],
   "source": [
    "# The array has been reversed "
   ]
  },
  {
   "cell_type": "markdown",
   "id": "63f110b9",
   "metadata": {},
   "source": [
    "### Adding a value to the array. append()"
   ]
  },
  {
   "cell_type": "code",
   "execution_count": 21,
   "id": "798c7606",
   "metadata": {},
   "outputs": [
    {
     "name": "stdout",
     "output_type": "stream",
     "text": [
      "array('i', [5, 4, 3, 2, -1, 10])\n"
     ]
    }
   ],
   "source": [
    "# Add 10 to the array\n",
    "\n",
    "my_array.append(10)\n",
    "print(my_array)"
   ]
  },
  {
   "cell_type": "code",
   "execution_count": 22,
   "id": "9ad7a29d",
   "metadata": {},
   "outputs": [],
   "source": [
    "# 10 has been added to the array"
   ]
  },
  {
   "cell_type": "markdown",
   "id": "aa6260c8",
   "metadata": {},
   "source": [
    "### Removing a value from the array. remove()"
   ]
  },
  {
   "cell_type": "code",
   "execution_count": 23,
   "id": "6a6cb292",
   "metadata": {},
   "outputs": [
    {
     "name": "stdout",
     "output_type": "stream",
     "text": [
      "array('i', [5, 4, 3, -1, 10])\n"
     ]
    }
   ],
   "source": [
    "# Remove the value 2 from the array\n",
    "\n",
    "my_array.remove(2)\n",
    "print(my_array)"
   ]
  },
  {
   "cell_type": "code",
   "execution_count": 24,
   "id": "d68127e7",
   "metadata": {},
   "outputs": [],
   "source": [
    "# Value 2 has neen removed from the array"
   ]
  },
  {
   "cell_type": "code",
   "execution_count": 25,
   "id": "767db65a",
   "metadata": {},
   "outputs": [
    {
     "name": "stdout",
     "output_type": "stream",
     "text": [
      "array('i', [-1, 2, 2, 3, 4, 5])\n"
     ]
    }
   ],
   "source": [
    "# What if we have double 2,2 in the array and we want to remove 2 from thw array\n",
    "\n",
    "my_array=array(\"i\",[-1,2,2,3,4,5])\n",
    "\n",
    "print(my_array)"
   ]
  },
  {
   "cell_type": "code",
   "execution_count": 26,
   "id": "8b40e318",
   "metadata": {},
   "outputs": [
    {
     "name": "stdout",
     "output_type": "stream",
     "text": [
      "array('i', [-1, 2, 3, 4, 5])\n"
     ]
    }
   ],
   "source": [
    "# Remove value 2 from the array\n",
    "\n",
    "my_array.remove(2)\n",
    "print(my_array)"
   ]
  },
  {
   "cell_type": "code",
   "execution_count": 27,
   "id": "8cb22fb6",
   "metadata": {},
   "outputs": [],
   "source": [
    "# In the above printed array, only the first 2 is removed, leaving the second 2 in the array\n",
    "\n",
    "# NOTE: To remove the second 2, we have to run my_array.remove(2) again."
   ]
  },
  {
   "cell_type": "code",
   "execution_count": 28,
   "id": "2e1b4579",
   "metadata": {},
   "outputs": [
    {
     "name": "stdout",
     "output_type": "stream",
     "text": [
      "array('i', [-1, 2, 2, 3, 4, 5])\n"
     ]
    }
   ],
   "source": [
    "my_array=array(\"i\",[-1,2,2,3,4,5])\n",
    "print(my_array)"
   ]
  },
  {
   "cell_type": "code",
   "execution_count": 29,
   "id": "9b702be4",
   "metadata": {},
   "outputs": [
    {
     "name": "stdout",
     "output_type": "stream",
     "text": [
      "3\n"
     ]
    }
   ],
   "source": [
    "# Print the positional value of 3 in the array\n",
    "\n",
    "print(my_array[3])"
   ]
  },
  {
   "cell_type": "code",
   "execution_count": 30,
   "id": "056261a0",
   "metadata": {},
   "outputs": [
    {
     "name": "stdout",
     "output_type": "stream",
     "text": [
      "3\n",
      "4\n"
     ]
    }
   ],
   "source": [
    "# Print the reverse of the positional index value 4\n",
    "\n",
    "print(my_array[3])\n",
    "print(my_array[4])"
   ]
  },
  {
   "cell_type": "code",
   "execution_count": 31,
   "id": "41115ccb",
   "metadata": {},
   "outputs": [],
   "source": [
    "# The positional index 4 has printed the value 3"
   ]
  },
  {
   "cell_type": "code",
   "execution_count": 32,
   "id": "51367416",
   "metadata": {},
   "outputs": [
    {
     "name": "stdout",
     "output_type": "stream",
     "text": [
      "2\n",
      "1\n"
     ]
    }
   ],
   "source": [
    "# Lets Print the value of the positional index 2\n",
    "\n",
    "print(my_array[2])\n",
    "print(my_array.index(2))"
   ]
  },
  {
   "cell_type": "code",
   "execution_count": 33,
   "id": "c73302ca",
   "metadata": {},
   "outputs": [],
   "source": [
    "# Index 2(1st index) has positional value of 2 whiles index 2(2nd index) has a positional value of 1.\n",
    "# Why?\n",
    "# Because, python is able to pick the first 2 value"
   ]
  },
  {
   "cell_type": "markdown",
   "id": "681c90b7",
   "metadata": {},
   "source": [
    "### Creating an empty array and enter its elements"
   ]
  },
  {
   "cell_type": "code",
   "execution_count": 34,
   "id": "428aee07",
   "metadata": {},
   "outputs": [
    {
     "name": "stdout",
     "output_type": "stream",
     "text": [
      "Enter size of array4\n",
      "Enter 4 elements\n",
      "1\n",
      "2\n",
      "3\n",
      "4\n",
      "array('i', [1, 2, 3, 4])\n"
     ]
    }
   ],
   "source": [
    "from array import*\n",
    "\n",
    "my_array=array(\"i\", [])   #creating empty array\n",
    "x=int(input(\"Enter size of array\")) #Command to enter size of array\n",
    "print(\"Enter %d elements\"%x)\n",
    "for i in range(x):\n",
    "    n=int(input())\n",
    "    my_array.append(n)\n",
    "print(my_array)    "
   ]
  },
  {
   "cell_type": "code",
   "execution_count": null,
   "id": "0fa5a1ad",
   "metadata": {},
   "outputs": [],
   "source": [
    "# New array has been created which is array('i',[1,2,3,4])"
   ]
  }
 ],
 "metadata": {
  "kernelspec": {
   "display_name": "Python 3 (ipykernel)",
   "language": "python",
   "name": "python3"
  },
  "language_info": {
   "codemirror_mode": {
    "name": "ipython",
    "version": 3
   },
   "file_extension": ".py",
   "mimetype": "text/x-python",
   "name": "python",
   "nbconvert_exporter": "python",
   "pygments_lexer": "ipython3",
   "version": "3.10.9"
  }
 },
 "nbformat": 4,
 "nbformat_minor": 5
}
