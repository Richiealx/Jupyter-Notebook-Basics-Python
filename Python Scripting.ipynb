{
 "cells": [
  {
   "cell_type": "markdown",
   "id": "446e1f90",
   "metadata": {},
   "source": [
    "# Python Scripting"
   ]
  },
  {
   "cell_type": "markdown",
   "id": "d2a2be9a",
   "metadata": {},
   "source": [
    "### Scripting involves writing programs to automate tasks"
   ]
  },
  {
   "cell_type": "code",
   "execution_count": 1,
   "id": "ba8b8428",
   "metadata": {},
   "outputs": [
    {
     "name": "stdout",
     "output_type": "stream",
     "text": [
      "C:\\Users\\richa\n"
     ]
    }
   ],
   "source": [
    "# OS Operating System Library\n",
    "\n",
    "# Import OS library\n",
    "\n",
    "import os \n",
    "\n",
    "# Create the 1st function\n",
    "def current_directory():\n",
    "    cwd=os.getcwd()\n",
    "    print(cwd)\n",
    "    \n",
    "    \n",
    "# Print the function(working_directory)    #Absolute filepath is the path that connects to the CD-drive\n",
    "current_directory()"
   ]
  },
  {
   "cell_type": "code",
   "execution_count": 2,
   "id": "aa4632e3",
   "metadata": {},
   "outputs": [
    {
     "name": "stdout",
     "output_type": "stream",
     "text": [
      "C:\\Users\\richa\\sample.txt\n"
     ]
    }
   ],
   "source": [
    "# Create the second function(file path)\n",
    "import os\n",
    "\n",
    "def file_path(filename):\n",
    "    path = os.path.abspath(filename)  # Absolute filepath\n",
    "    print(path)                                          #Absolute filepath is the path that connects to the CD-drive\n",
    "\n",
    "# Define current_directory function if needed\n",
    "def current_directory():\n",
    "    print(os.getcwd())\n",
    "\n",
    "# Remove or call current_directory if needed\n",
    "# current_directory()\n",
    "\n",
    "filename = 'sample.txt'\n",
    "file_path(filename)\n"
   ]
  },
  {
   "cell_type": "code",
   "execution_count": 3,
   "id": "4c35c64b",
   "metadata": {},
   "outputs": [],
   "source": [
    "#Absolute filepath is the path that connects to the CD-drive\n",
    "#Relative filepath is the path that connects to current working directory"
   ]
  },
  {
   "cell_type": "markdown",
   "id": "27481dd7",
   "metadata": {},
   "source": [
    "## Basic Python Scripting Example"
   ]
  },
  {
   "cell_type": "code",
   "execution_count": 4,
   "id": "3b09d43e",
   "metadata": {},
   "outputs": [],
   "source": [
    "# Below is an example of a simple Python script that performs some common scripting tasks:\n",
    "\n",
    "# Read from a file\n",
    "# Process data\n",
    "# Write to a file\n",
    "# Fetch data from the web\n",
    "# Automate tasks"
   ]
  },
  {
   "cell_type": "code",
   "execution_count": 5,
   "id": "ccb35a29",
   "metadata": {},
   "outputs": [
    {
     "name": "stdout",
     "output_type": "stream",
     "text": [
      "Input file 'input.txt' does not exist.\n"
     ]
    }
   ],
   "source": [
    "#Example Script\n",
    "#Script: example_script.py\n",
    "\n",
    "\n",
    "import os\n",
    "import requests\n",
    "\n",
    "def read_file(file_path):\n",
    "    \"\"\"Read the contents of a file.\"\"\"\n",
    "    with open(file_path, 'r') as file:\n",
    "        data = file.read()\n",
    "    return data\n",
    "\n",
    "def write_file(file_path, data):\n",
    "    \"\"\"Write data to a file.\"\"\"\n",
    "    with open(file_path, 'w') as file:\n",
    "        file.write(data)\n",
    "\n",
    "def fetch_web_content(url):\n",
    "    \"\"\"Fetch content from a web URL.\"\"\"\n",
    "    response = requests.get(url)\n",
    "    return response.text\n",
    "\n",
    "def main():\n",
    "    # Define file paths\n",
    "    input_file = 'input.txt'\n",
    "    output_file = 'output.txt'\n",
    "\n",
    "    # Ensure the input file exists\n",
    "    if not os.path.exists(input_file):\n",
    "        print(f\"Input file '{input_file}' does not exist.\")\n",
    "        return\n",
    "\n",
    "    # Read data from input file\n",
    "    data = read_file(input_file)\n",
    "    print(\"Data read from file:\")\n",
    "    print(data)\n",
    "\n",
    "    # Process data (for this example, we'll just convert it to uppercase)\n",
    "    processed_data = data.upper()\n",
    "\n",
    "    # Write processed data to output file\n",
    "    write_file(output_file, processed_data)\n",
    "    print(f\"Processed data written to '{output_file}'.\")\n",
    "\n",
    "    # Fetch content from a web URL\n",
    "    url = 'https://jsonplaceholder.typicode.com/todos/1'\n",
    "    web_content = fetch_web_content(url)\n",
    "    print(\"Content fetched from web:\")\n",
    "    print(web_content)\n",
    "\n",
    "if __name__ == \"__main__\":\n",
    "    main()\n"
   ]
  },
  {
   "cell_type": "code",
   "execution_count": 6,
   "id": "c8f97026",
   "metadata": {},
   "outputs": [],
   "source": [
    "# Explanation:\n",
    "# Import Required Modules: The script imports the os and requests modules. The os module is used for interacting with the operating system, and the requests module is used for making HTTP requests.\n",
    "\n",
    "# Define Functions:\n",
    "\n",
    "# read_file(file_path): Reads and returns the contents of a file.\n",
    "# write_file(file_path, data): Writes data to a file.\n",
    "# fetch_web_content(url): Fetches and returns the content from the specified URL.\n",
    "\n",
    "# Main Function:\n",
    "\n",
    "# Defines input and output file paths.\n",
    "# Checks if the input file exists.\n",
    "# Reads data from the input file.\n",
    "# Processes the data (converts to uppercase).\n",
    "# Writes the processed data to the output file.\n",
    "# Fetches content from a web URL and prints it.\n",
    "# Run the Script: The script runs the main function if the script is executed directly (i.e., not imported as a module)."
   ]
  },
  {
   "cell_type": "markdown",
   "id": "a86cd8c8",
   "metadata": {},
   "source": [
    "## Time Module in Python Scripting"
   ]
  },
  {
   "cell_type": "code",
   "execution_count": 7,
   "id": "81baa7b6",
   "metadata": {},
   "outputs": [
    {
     "name": "stdout",
     "output_type": "stream",
     "text": [
      "1722719688.6987507\n"
     ]
    }
   ],
   "source": [
    "# Import time module\n",
    "# Example Scenario: 3rd August 2024 is the starting point of a certain timeline and import time is the \n",
    "# number of seconds that pass since 3rd August 2024\n",
    "\n",
    "import time\n",
    "\n",
    "epc=time.time()\n",
    "print(epc)\n",
    "\n"
   ]
  },
  {
   "cell_type": "code",
   "execution_count": 8,
   "id": "f27ea569",
   "metadata": {},
   "outputs": [
    {
     "name": "stdout",
     "output_type": "stream",
     "text": [
      "1722719688.710296\n",
      "time.struct_time(tm_year=2024, tm_mon=8, tm_mday=3, tm_hour=22, tm_min=14, tm_sec=48, tm_wday=5, tm_yday=216, tm_isdst=1)\n"
     ]
    }
   ],
   "source": [
    "# NOTE: As observed, the time format above has no meaning. \n",
    "# We therefore have to create a format that has a meaning.\n",
    "\n",
    "\n",
    "import time\n",
    "\n",
    "epc=time.time()\n",
    "print(epc)\n",
    "localtime=time.localtime(epc)\n",
    "print(localtime)"
   ]
  },
  {
   "cell_type": "code",
   "execution_count": 9,
   "id": "f20a53e5",
   "metadata": {},
   "outputs": [
    {
     "name": "stdout",
     "output_type": "stream",
     "text": [
      "2024\n"
     ]
    }
   ],
   "source": [
    "# Lets extract the year from time module\n",
    "\n",
    "print(localtime.tm_year)"
   ]
  },
  {
   "cell_type": "code",
   "execution_count": 10,
   "id": "90869869",
   "metadata": {},
   "outputs": [
    {
     "name": "stdout",
     "output_type": "stream",
     "text": [
      "8\n"
     ]
    }
   ],
   "source": [
    "# Lets extract the month from time module\n",
    "\n",
    "print(localtime.tm_mon)"
   ]
  },
  {
   "cell_type": "code",
   "execution_count": 11,
   "id": "e68ef695",
   "metadata": {},
   "outputs": [
    {
     "name": "stdout",
     "output_type": "stream",
     "text": [
      "2024\n",
      "8\n",
      "3\n",
      "22\n",
      "14\n",
      "48\n"
     ]
    }
   ],
   "source": [
    "# Lets extract the year,month,day,hour,minutes and seconds from time module\n",
    "\n",
    "print(localtime.tm_year)\n",
    "print(localtime.tm_mon)\n",
    "print(localtime.tm_mday)\n",
    "print(localtime.tm_hour)\n",
    "print(localtime.tm_min)\n",
    "print(localtime.tm_sec)"
   ]
  },
  {
   "cell_type": "code",
   "execution_count": 12,
   "id": "147f7732",
   "metadata": {},
   "outputs": [
    {
     "name": "stdout",
     "output_type": "stream",
     "text": [
      "Sat Aug  3 22:14:48 2024\n"
     ]
    }
   ],
   "source": [
    "# Lets print the time on the same line in a more understanding format\n",
    "# We use ctime\n",
    "\n",
    "print(time.ctime(epc))"
   ]
  },
  {
   "cell_type": "markdown",
   "id": "54119980",
   "metadata": {},
   "source": [
    "## Simple Mail Transfer Protocol(SMTP) Module in python scripting"
   ]
  },
  {
   "cell_type": "code",
   "execution_count": 13,
   "id": "b294afa5",
   "metadata": {},
   "outputs": [],
   "source": [
    "# SMTP Module is a ptotcol for sending emails"
   ]
  },
  {
   "cell_type": "code",
   "execution_count": 14,
   "id": "4453591e",
   "metadata": {},
   "outputs": [
    {
     "ename": "NameError",
     "evalue": "name 'smtplib' is not defined",
     "output_type": "error",
     "traceback": [
      "\u001b[1;31m---------------------------------------------------------------------------\u001b[0m",
      "\u001b[1;31mNameError\u001b[0m                                 Traceback (most recent call last)",
      "Cell \u001b[1;32mIn[14], line 3\u001b[0m\n\u001b[0;32m      1\u001b[0m \u001b[38;5;66;03m# import SMTP library\u001b[39;00m\n\u001b[1;32m----> 3\u001b[0m \u001b[43msmtplib\u001b[49m\u001b[38;5;241m.\u001b[39mSMTP(\u001b[38;5;124m'\u001b[39m\u001b[38;5;124msmtp.gmail.com\u001b[39m\u001b[38;5;124m'\u001b[39m, \u001b[38;5;241m587\u001b[39m)   \u001b[38;5;66;03m#smtp.gmail.com is a domain name. 587 is the standard code number\u001b[39;00m\n\u001b[0;32m      5\u001b[0m \u001b[38;5;66;03m# Make servers communicate with one another(sender server and receiver server)\u001b[39;00m\n\u001b[0;32m      6\u001b[0m smtobj\u001b[38;5;241m=\u001b[39msmtplib\u001b[38;5;241m.\u001b[39mSMTP(\u001b[38;5;124m'\u001b[39m\u001b[38;5;124msmtp.gmail.com\u001b[39m\u001b[38;5;124m'\u001b[39m, \u001b[38;5;241m587\u001b[39m)\n",
      "\u001b[1;31mNameError\u001b[0m: name 'smtplib' is not defined"
     ]
    }
   ],
   "source": [
    "# import SMTP library\n",
    "\n",
    "smtplib.SMTP('smtp.gmail.com', 587)   #smtp.gmail.com is a domain name. 587 is the standard code number\n",
    "\n",
    "# Make servers communicate with one another(sender server and receiver server)\n",
    "smtobj=smtplib.SMTP('smtp.gmail.com', 587)\n",
    "smtobj,ehlo()\n",
    "\n",
    "# Put smtp in TLS mode\n",
    "smtobj.starttls()\n",
    "smtobj.login('kwabenazeleber@gmail.com','Zebra2020')  #where Zebra2020 is the password\n",
    "\n",
    "# Send the email\n",
    "smtobj.sendmail(\"kwabenazeleber@gmail.com\",\"richiefrimps6@gmail.com\")\n",
    "\n",
    "\n",
    "#Quit the smt connection\n",
    "smtobj.quit()\n",
    "\n",
    "\n",
    "# Lets create a file first\n",
    "# We need to import the os package\n",
    "\n",
    "from os import path\n",
    "\n",
    "def CreateFile(dest):    # dest means destination\n",
    "    if not path(path.isfle(dest)):\n",
    "        f=open(dest,'w')\n",
    "        f.write(\"Welcome to python scripting\")\n",
    "        f.close()        # close the file\n",
    "        \n",
    "# Assign to the path destination\n",
    "dest=\"C:\\\\Learning Python on Simplilearn\\\\sample.txt\"\n",
    "CreateFile(dest)\n",
    "print(\"File created\")"
   ]
  },
  {
   "cell_type": "code",
   "execution_count": null,
   "id": "f51d8b30",
   "metadata": {},
   "outputs": [],
   "source": [
    "# Lets create a file first\n",
    "# We need to import the os package\n",
    "\n",
    "from os import path\n",
    "\n",
    "def CreateFile(dest):    # dest means destination\n",
    "    if not path(path.isfile(dest)):\n",
    "        f=open(dest,'w')\n",
    "        f.write(\"Welcome to python scripting\")\n",
    "        f.close()        # close the file\n",
    "        \n",
    "# Assign to the path destination\n",
    "dest=\"C:\\\\Learning Python on Simplilearn\\\\sample.txt\"\n",
    "CreateFile(dest)\n",
    "print(\"File created\")"
   ]
  },
  {
   "cell_type": "code",
   "execution_count": null,
   "id": "3ce343b4",
   "metadata": {},
   "outputs": [],
   "source": [
    "import smtplib\n",
    "from os import path\n",
    "\n",
    "# Corrected email sending code\n",
    "def send_email():\n",
    "    try:\n",
    "        # Make servers communicate with one another(sender server and receiver server)\n",
    "        smtpobj = smtplib.SMTP('smtp.gmail.com', 587)\n",
    "        smtpobj.ehlo()\n",
    "\n",
    "        # Put smtp in TLS mode\n",
    "        smtpobj.starttls()\n",
    "        smtpobj.login('kwabenazeleber@gmail.com', 'Zebra2020')  # where Zebra2020 is the password\n",
    "\n",
    "        # Email content\n",
    "        subject = \"Test Email\"\n",
    "        body = \"This is a test email from Python script.\"\n",
    "        msg = f\"Subject: {subject}\\n\\n{body}\"\n",
    "\n",
    "        # Send the email\n",
    "        smtpobj.sendmail(\"kwabenazeleber@gmail.com\", \"richiefrimps6@gmail.com\", msg)\n",
    "\n",
    "        # Quit the smtp connection\n",
    "        smtpobj.quit()\n",
    "\n",
    "        print(\"Email sent successfully!\")\n",
    "    except Exception as e:\n",
    "        print(f\"Failed to send email: {e}\")\n",
    "\n",
    "# Corrected file creation code\n",
    "def CreateFile(dest):  # dest means destination\n",
    "    if not path.isfile(dest):  # Corrected this line\n",
    "        with open(dest, 'w') as f:  # Use 'with' to handle file\n",
    "            f.write(\"Welcome to python scripting\")\n",
    "        # The file is automatically closed when using 'with'\n",
    "        print(\"File created\")\n",
    "    else:\n",
    "        print(\"File already exists\")\n",
    "\n",
    "# Call the functions\n",
    "send_email()\n",
    "\n",
    "# Assign to the path destination\n",
    "dest = \"C:\\\\Learning Python on Simplilearn\\\\sample.txt\"\n",
    "CreateFile(dest)\n"
   ]
  },
  {
   "cell_type": "code",
   "execution_count": null,
   "id": "fe97fd4e",
   "metadata": {},
   "outputs": [],
   "source": [
    "# Lets create a file first\n",
    "# We need to import the os package\n",
    "\n",
    "from os import path\n",
    "\n",
    "def CreateFile(dest):    # dest means destination\n",
    "    if not path.isfile(dest):  # Corrected this line\n",
    "        with open(dest, 'w') as f:  # Use 'with' to handle file\n",
    "            f.write(\"Welcome to python scripting\")\n",
    "        print(\"File created\")  # Inform that the file is created\n",
    "    else:\n",
    "        print(\"File already exists\")\n",
    "\n",
    "# Assign to the path destination\n",
    "dest = \"C:\\\\Learning Python on Simplilearn\\\\sample.txt\"\n",
    "CreateFile(dest)\n"
   ]
  },
  {
   "cell_type": "markdown",
   "id": "12a966e6",
   "metadata": {},
   "source": [
    "## Programs which determines things at run time"
   ]
  },
  {
   "cell_type": "code",
   "execution_count": 15,
   "id": "acf8d826",
   "metadata": {},
   "outputs": [
    {
     "name": "stdout",
     "output_type": "stream",
     "text": [
      "10\n",
      "20\n",
      "30\n",
      "40\n",
      "50\n",
      "26\n",
      "agfastbd\n"
     ]
    }
   ],
   "source": [
    "# Using argument(*args) function\n",
    "\n",
    "def func1(*args):\n",
    "    for i in args:\n",
    "        print(i)\n",
    "        \n",
    "func1(10,20,30,40,50,26,'agfastbd')        "
   ]
  },
  {
   "cell_type": "code",
   "execution_count": 16,
   "id": "a90b7c50",
   "metadata": {},
   "outputs": [
    {
     "name": "stdout",
     "output_type": "stream",
     "text": [
      "('a', 10)\n",
      "('b', 20)\n",
      "('c', 30)\n",
      "('d', 40)\n"
     ]
    }
   ],
   "source": [
    "# Using arguments called **kwargs\n",
    "\n",
    "# This argument is used when you want to assign values\n",
    "# ie a=10, b=20, c=30\n",
    "\n",
    "def func1(*args,**kwargs):\n",
    "    for i in kwargs.items():\n",
    "        print(i)\n",
    "        \n",
    "func1(a=10, b=20, c=30, d=40)        \n",
    "        "
   ]
  },
  {
   "cell_type": "code",
   "execution_count": 17,
   "id": "e06beb25",
   "metadata": {},
   "outputs": [
    {
     "name": "stdout",
     "output_type": "stream",
     "text": [
      "a: 10\n",
      "b: 20\n",
      "c: 30\n"
     ]
    }
   ],
   "source": [
    "# OR\n",
    "\n",
    "def func1(*args, **kwargs):\n",
    "    for key, value in kwargs.items():\n",
    "        print(f\"{key}: {value}\")\n",
    "\n",
    "func1(a=10, b=20, c=30)\n"
   ]
  },
  {
   "cell_type": "markdown",
   "id": "ecde457c",
   "metadata": {},
   "source": [
    "## Creating a File"
   ]
  },
  {
   "cell_type": "code",
   "execution_count": 18,
   "id": "0852da83",
   "metadata": {},
   "outputs": [
    {
     "name": "stdout",
     "output_type": "stream",
     "text": [
      "11\n"
     ]
    }
   ],
   "source": [
    "# Functions in python can also be nested\n",
    "\n",
    "# Example 1, \n",
    "\n",
    "def func1():\n",
    "    x=10\n",
    "    def func2(x):              #In this case, func2 has been nested in func1\n",
    "        return x+1\n",
    "    return func2(x)\n",
    "\n",
    "result=func1()\n",
    "print(result)\n",
    "\n"
   ]
  },
  {
   "cell_type": "code",
   "execution_count": 19,
   "id": "53208093",
   "metadata": {},
   "outputs": [
    {
     "name": "stdout",
     "output_type": "stream",
     "text": [
      "This is the first function\n",
      "This is the nested function\n",
      "This is the outer function\n"
     ]
    }
   ],
   "source": [
    "# Example 2;\n",
    "# Creating Functions at a Run time\n",
    "\n",
    "def func1(called_func):\n",
    "    print(\"This is the first function\")\n",
    "    def nested_func1():\n",
    "        print(\"This is the nested function\")\n",
    "        called_func()\n",
    "    return nested_func1\n",
    "\n",
    "def outer_func():\n",
    "    print(\"This is the outer function\")\n",
    "    \n",
    "obj = func1(outer_func)\n",
    "obj()  # Call the returned nested function\n",
    "\n"
   ]
  },
  {
   "cell_type": "code",
   "execution_count": 20,
   "id": "6a1ba1f3",
   "metadata": {},
   "outputs": [
    {
     "name": "stdout",
     "output_type": "stream",
     "text": [
      "5\n",
      "10\n"
     ]
    }
   ],
   "source": [
    "# Creating Classes at a Run time\n",
    "# The term  for creating class at Run time is factory\n",
    "\n",
    "# Factory pattern: Creating classes at runtime\n",
    "B = type(\"BaseClass\", (object,), {})\n",
    "C1 = type(\"C1\", (B,), {'val': 5})\n",
    "C2 = type(\"C2\", (B,), {'val': 10})\n",
    "\n",
    "def ClassCreator(bool):\n",
    "    if bool:\n",
    "        return C1()\n",
    "    else:\n",
    "        return C2()\n",
    "\n",
    "# Printing the values\n",
    "print(ClassCreator(True).val)\n",
    "print(ClassCreator(False).val)\n"
   ]
  },
  {
   "cell_type": "code",
   "execution_count": 21,
   "id": "49f0377d",
   "metadata": {},
   "outputs": [
    {
     "name": "stdout",
     "output_type": "stream",
     "text": [
      "This is the first function\n",
      "This is the nested function\n",
      "This is the outer function\n"
     ]
    }
   ],
   "source": [
    "# In case we want to call out the outer function value\n",
    "def func1(called_func):\n",
    "    print(\"This is the first function\")\n",
    "    def nested_func1():\n",
    "        print(\"This is the nested function\")\n",
    "        called_func()\n",
    "    return nested_func1\n",
    "\n",
    "@func1\n",
    "def outer_func():\n",
    "    print(\"This is the outer function\")\n",
    "    \n",
    "outer_func()    \n"
   ]
  },
  {
   "cell_type": "code",
   "execution_count": null,
   "id": "bfaa41a4",
   "metadata": {},
   "outputs": [],
   "source": []
  }
 ],
 "metadata": {
  "kernelspec": {
   "display_name": "Python 3 (ipykernel)",
   "language": "python",
   "name": "python3"
  },
  "language_info": {
   "codemirror_mode": {
    "name": "ipython",
    "version": 3
   },
   "file_extension": ".py",
   "mimetype": "text/x-python",
   "name": "python",
   "nbconvert_exporter": "python",
   "pygments_lexer": "ipython3",
   "version": "3.10.9"
  }
 },
 "nbformat": 4,
 "nbformat_minor": 5
}
